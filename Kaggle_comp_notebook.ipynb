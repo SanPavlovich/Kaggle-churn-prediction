{
  "cells": [
    {
      "cell_type": "markdown",
      "metadata": {
        "id": "IrDNNkNTEEYz"
      },
      "source": [
        "# Первая часть. Исследование"
      ]
    },
    {
      "cell_type": "code",
      "source": [
        "from google.colab import files\n",
        "files.upload()"
      ],
      "metadata": {
        "id": "dfnVWDHwMTvB"
      },
      "execution_count": null,
      "outputs": []
    },
    {
      "cell_type": "code",
      "execution_count": null,
      "metadata": {
        "id": "lzLqEeZKEEYz"
      },
      "outputs": [],
      "source": [
        "import pandas as pd\n",
        "import numpy as np\n",
        "from matplotlib import pyplot as plt"
      ]
    },
    {
      "cell_type": "code",
      "execution_count": null,
      "metadata": {
        "id": "bWpKsNq9MNnU"
      },
      "outputs": [],
      "source": [
        "import seaborn as sns"
      ]
    },
    {
      "cell_type": "markdown",
      "metadata": {
        "id": "LOlxdURSEEY3"
      },
      "source": [
        "## Загрузка данных"
      ]
    },
    {
      "cell_type": "code",
      "execution_count": 80,
      "metadata": {
        "id": "pw-Brue9EEY3"
      },
      "outputs": [],
      "source": [
        "data = pd.read_csv('train.csv')"
      ]
    },
    {
      "cell_type": "code",
      "execution_count": null,
      "metadata": {
        "colab": {
          "base_uri": "https://localhost:8080/"
        },
        "id": "VGzvEPIVMNnW",
        "outputId": "0bf45f71-d218-4989-ec3f-25459d6540ac"
      },
      "outputs": [
        {
          "output_type": "execute_result",
          "data": {
            "text/plain": [
              "Index(['ClientPeriod', 'MonthlySpending', 'TotalSpent', 'Sex',\n",
              "       'IsSeniorCitizen', 'HasPartner', 'HasChild', 'HasPhoneService',\n",
              "       'HasMultiplePhoneNumbers', 'HasInternetService',\n",
              "       'HasOnlineSecurityService', 'HasOnlineBackup', 'HasDeviceProtection',\n",
              "       'HasTechSupportAccess', 'HasOnlineTV', 'HasMovieSubscription',\n",
              "       'HasContractPhone', 'IsBillingPaperless', 'PaymentMethod', 'Churn'],\n",
              "      dtype='object')"
            ]
          },
          "metadata": {},
          "execution_count": 5
        }
      ],
      "source": [
        "data.columns"
      ]
    },
    {
      "cell_type": "code",
      "source": [
        "data.head(2)"
      ],
      "metadata": {
        "id": "m7HjnYQkS_Uq"
      },
      "execution_count": null,
      "outputs": []
    },
    {
      "cell_type": "code",
      "execution_count": null,
      "metadata": {
        "id": "KgnkkF5bEEY9"
      },
      "outputs": [],
      "source": [
        "# Числовые признаки\n",
        "num_cols = [\n",
        "    'ClientPeriod',\n",
        "    'MonthlySpending',\n",
        "    'TotalSpent'\n",
        "]\n",
        "\n",
        "# Категориальные признаки\n",
        "cat_cols = [\n",
        "    'Sex',\n",
        "    'IsSeniorCitizen',\n",
        "    'HasPartner',\n",
        "    'HasChild',\n",
        "    'HasPhoneService',\n",
        "    'HasMultiplePhoneNumbers',\n",
        "    'HasInternetService',\n",
        "    'HasOnlineSecurityService',\n",
        "    'HasOnlineBackup',\n",
        "    'HasDeviceProtection',\n",
        "    'HasTechSupportAccess',\n",
        "    'HasOnlineTV',\n",
        "    'HasMovieSubscription',\n",
        "    'HasContractPhone',\n",
        "    'IsBillingPaperless',\n",
        "    'PaymentMethod'\n",
        "]\n",
        "\n",
        "feature_cols = num_cols + cat_cols\n",
        "target_col = 'Churn'"
      ]
    },
    {
      "cell_type": "code",
      "execution_count": null,
      "metadata": {
        "colab": {
          "base_uri": "https://localhost:8080/"
        },
        "id": "bS7Mt_XSMNnX",
        "outputId": "5b1a4c5b-fc8c-4df8-f2a1-e7e3252193a7"
      },
      "outputs": [
        {
          "output_type": "execute_result",
          "data": {
            "text/plain": [
              "(5282, 20)"
            ]
          },
          "metadata": {},
          "execution_count": 7
        }
      ],
      "source": [
        "data.shape"
      ]
    },
    {
      "cell_type": "code",
      "execution_count": null,
      "metadata": {
        "colab": {
          "base_uri": "https://localhost:8080/",
          "height": 357
        },
        "id": "lM8ln1OCMNnX",
        "outputId": "ad505b71-9531-498f-f626-203c3348ef25"
      },
      "outputs": [
        {
          "output_type": "execute_result",
          "data": {
            "text/plain": [
              "      ClientPeriod  MonthlySpending TotalSpent     Sex  IsSeniorCitizen  \\\n",
              "2294            12            19.30     228.75  Female                0   \n",
              "4676            63           100.55    6215.35  Female                0   \n",
              "4776             5            96.25     512.45  Female                0   \n",
              "3690            34            20.10      682.1  Female                0   \n",
              "946             54           101.50     5373.1  Female                1   \n",
              "\n",
              "     HasPartner HasChild HasPhoneService HasMultiplePhoneNumbers  \\\n",
              "2294         No       No             Yes                      No   \n",
              "4676        Yes      Yes             Yes                     Yes   \n",
              "4776         No       No             Yes                      No   \n",
              "3690        Yes      Yes             Yes                      No   \n",
              "946         Yes       No             Yes                     Yes   \n",
              "\n",
              "     HasInternetService HasOnlineSecurityService      HasOnlineBackup  \\\n",
              "2294                 No      No internet service  No internet service   \n",
              "4676        Fiber optic                      Yes                  Yes   \n",
              "4776        Fiber optic                       No                  Yes   \n",
              "3690                 No      No internet service  No internet service   \n",
              "946         Fiber optic                       No                  Yes   \n",
              "\n",
              "      HasDeviceProtection HasTechSupportAccess          HasOnlineTV  \\\n",
              "2294  No internet service  No internet service  No internet service   \n",
              "4676                  Yes                   No                  Yes   \n",
              "4776                   No                   No                  Yes   \n",
              "3690  No internet service  No internet service  No internet service   \n",
              "946                    No                   No                  Yes   \n",
              "\n",
              "     HasMovieSubscription HasContractPhone IsBillingPaperless  \\\n",
              "2294  No internet service         One year                 No   \n",
              "4676                   No   Month-to-month                Yes   \n",
              "4776                  Yes   Month-to-month                Yes   \n",
              "3690  No internet service         One year                Yes   \n",
              "946                   Yes         One year                Yes   \n",
              "\n",
              "                  PaymentMethod  Churn  \n",
              "2294               Mailed check      0  \n",
              "4676           Electronic check      1  \n",
              "4776           Electronic check      1  \n",
              "3690  Bank transfer (automatic)      0  \n",
              "946     Credit card (automatic)      1  "
            ],
            "text/html": [
              "\n",
              "  <div id=\"df-4c8848de-85a7-45a1-9e13-5d3c06da7fa6\">\n",
              "    <div class=\"colab-df-container\">\n",
              "      <div>\n",
              "<style scoped>\n",
              "    .dataframe tbody tr th:only-of-type {\n",
              "        vertical-align: middle;\n",
              "    }\n",
              "\n",
              "    .dataframe tbody tr th {\n",
              "        vertical-align: top;\n",
              "    }\n",
              "\n",
              "    .dataframe thead th {\n",
              "        text-align: right;\n",
              "    }\n",
              "</style>\n",
              "<table border=\"1\" class=\"dataframe\">\n",
              "  <thead>\n",
              "    <tr style=\"text-align: right;\">\n",
              "      <th></th>\n",
              "      <th>ClientPeriod</th>\n",
              "      <th>MonthlySpending</th>\n",
              "      <th>TotalSpent</th>\n",
              "      <th>Sex</th>\n",
              "      <th>IsSeniorCitizen</th>\n",
              "      <th>HasPartner</th>\n",
              "      <th>HasChild</th>\n",
              "      <th>HasPhoneService</th>\n",
              "      <th>HasMultiplePhoneNumbers</th>\n",
              "      <th>HasInternetService</th>\n",
              "      <th>HasOnlineSecurityService</th>\n",
              "      <th>HasOnlineBackup</th>\n",
              "      <th>HasDeviceProtection</th>\n",
              "      <th>HasTechSupportAccess</th>\n",
              "      <th>HasOnlineTV</th>\n",
              "      <th>HasMovieSubscription</th>\n",
              "      <th>HasContractPhone</th>\n",
              "      <th>IsBillingPaperless</th>\n",
              "      <th>PaymentMethod</th>\n",
              "      <th>Churn</th>\n",
              "    </tr>\n",
              "  </thead>\n",
              "  <tbody>\n",
              "    <tr>\n",
              "      <th>2294</th>\n",
              "      <td>12</td>\n",
              "      <td>19.30</td>\n",
              "      <td>228.75</td>\n",
              "      <td>Female</td>\n",
              "      <td>0</td>\n",
              "      <td>No</td>\n",
              "      <td>No</td>\n",
              "      <td>Yes</td>\n",
              "      <td>No</td>\n",
              "      <td>No</td>\n",
              "      <td>No internet service</td>\n",
              "      <td>No internet service</td>\n",
              "      <td>No internet service</td>\n",
              "      <td>No internet service</td>\n",
              "      <td>No internet service</td>\n",
              "      <td>No internet service</td>\n",
              "      <td>One year</td>\n",
              "      <td>No</td>\n",
              "      <td>Mailed check</td>\n",
              "      <td>0</td>\n",
              "    </tr>\n",
              "    <tr>\n",
              "      <th>4676</th>\n",
              "      <td>63</td>\n",
              "      <td>100.55</td>\n",
              "      <td>6215.35</td>\n",
              "      <td>Female</td>\n",
              "      <td>0</td>\n",
              "      <td>Yes</td>\n",
              "      <td>Yes</td>\n",
              "      <td>Yes</td>\n",
              "      <td>Yes</td>\n",
              "      <td>Fiber optic</td>\n",
              "      <td>Yes</td>\n",
              "      <td>Yes</td>\n",
              "      <td>Yes</td>\n",
              "      <td>No</td>\n",
              "      <td>Yes</td>\n",
              "      <td>No</td>\n",
              "      <td>Month-to-month</td>\n",
              "      <td>Yes</td>\n",
              "      <td>Electronic check</td>\n",
              "      <td>1</td>\n",
              "    </tr>\n",
              "    <tr>\n",
              "      <th>4776</th>\n",
              "      <td>5</td>\n",
              "      <td>96.25</td>\n",
              "      <td>512.45</td>\n",
              "      <td>Female</td>\n",
              "      <td>0</td>\n",
              "      <td>No</td>\n",
              "      <td>No</td>\n",
              "      <td>Yes</td>\n",
              "      <td>No</td>\n",
              "      <td>Fiber optic</td>\n",
              "      <td>No</td>\n",
              "      <td>Yes</td>\n",
              "      <td>No</td>\n",
              "      <td>No</td>\n",
              "      <td>Yes</td>\n",
              "      <td>Yes</td>\n",
              "      <td>Month-to-month</td>\n",
              "      <td>Yes</td>\n",
              "      <td>Electronic check</td>\n",
              "      <td>1</td>\n",
              "    </tr>\n",
              "    <tr>\n",
              "      <th>3690</th>\n",
              "      <td>34</td>\n",
              "      <td>20.10</td>\n",
              "      <td>682.1</td>\n",
              "      <td>Female</td>\n",
              "      <td>0</td>\n",
              "      <td>Yes</td>\n",
              "      <td>Yes</td>\n",
              "      <td>Yes</td>\n",
              "      <td>No</td>\n",
              "      <td>No</td>\n",
              "      <td>No internet service</td>\n",
              "      <td>No internet service</td>\n",
              "      <td>No internet service</td>\n",
              "      <td>No internet service</td>\n",
              "      <td>No internet service</td>\n",
              "      <td>No internet service</td>\n",
              "      <td>One year</td>\n",
              "      <td>Yes</td>\n",
              "      <td>Bank transfer (automatic)</td>\n",
              "      <td>0</td>\n",
              "    </tr>\n",
              "    <tr>\n",
              "      <th>946</th>\n",
              "      <td>54</td>\n",
              "      <td>101.50</td>\n",
              "      <td>5373.1</td>\n",
              "      <td>Female</td>\n",
              "      <td>1</td>\n",
              "      <td>Yes</td>\n",
              "      <td>No</td>\n",
              "      <td>Yes</td>\n",
              "      <td>Yes</td>\n",
              "      <td>Fiber optic</td>\n",
              "      <td>No</td>\n",
              "      <td>Yes</td>\n",
              "      <td>No</td>\n",
              "      <td>No</td>\n",
              "      <td>Yes</td>\n",
              "      <td>Yes</td>\n",
              "      <td>One year</td>\n",
              "      <td>Yes</td>\n",
              "      <td>Credit card (automatic)</td>\n",
              "      <td>1</td>\n",
              "    </tr>\n",
              "  </tbody>\n",
              "</table>\n",
              "</div>\n",
              "      <button class=\"colab-df-convert\" onclick=\"convertToInteractive('df-4c8848de-85a7-45a1-9e13-5d3c06da7fa6')\"\n",
              "              title=\"Convert this dataframe to an interactive table.\"\n",
              "              style=\"display:none;\">\n",
              "        \n",
              "  <svg xmlns=\"http://www.w3.org/2000/svg\" height=\"24px\"viewBox=\"0 0 24 24\"\n",
              "       width=\"24px\">\n",
              "    <path d=\"M0 0h24v24H0V0z\" fill=\"none\"/>\n",
              "    <path d=\"M18.56 5.44l.94 2.06.94-2.06 2.06-.94-2.06-.94-.94-2.06-.94 2.06-2.06.94zm-11 1L8.5 8.5l.94-2.06 2.06-.94-2.06-.94L8.5 2.5l-.94 2.06-2.06.94zm10 10l.94 2.06.94-2.06 2.06-.94-2.06-.94-.94-2.06-.94 2.06-2.06.94z\"/><path d=\"M17.41 7.96l-1.37-1.37c-.4-.4-.92-.59-1.43-.59-.52 0-1.04.2-1.43.59L10.3 9.45l-7.72 7.72c-.78.78-.78 2.05 0 2.83L4 21.41c.39.39.9.59 1.41.59.51 0 1.02-.2 1.41-.59l7.78-7.78 2.81-2.81c.8-.78.8-2.07 0-2.86zM5.41 20L4 18.59l7.72-7.72 1.47 1.35L5.41 20z\"/>\n",
              "  </svg>\n",
              "      </button>\n",
              "      \n",
              "  <style>\n",
              "    .colab-df-container {\n",
              "      display:flex;\n",
              "      flex-wrap:wrap;\n",
              "      gap: 12px;\n",
              "    }\n",
              "\n",
              "    .colab-df-convert {\n",
              "      background-color: #E8F0FE;\n",
              "      border: none;\n",
              "      border-radius: 50%;\n",
              "      cursor: pointer;\n",
              "      display: none;\n",
              "      fill: #1967D2;\n",
              "      height: 32px;\n",
              "      padding: 0 0 0 0;\n",
              "      width: 32px;\n",
              "    }\n",
              "\n",
              "    .colab-df-convert:hover {\n",
              "      background-color: #E2EBFA;\n",
              "      box-shadow: 0px 1px 2px rgba(60, 64, 67, 0.3), 0px 1px 3px 1px rgba(60, 64, 67, 0.15);\n",
              "      fill: #174EA6;\n",
              "    }\n",
              "\n",
              "    [theme=dark] .colab-df-convert {\n",
              "      background-color: #3B4455;\n",
              "      fill: #D2E3FC;\n",
              "    }\n",
              "\n",
              "    [theme=dark] .colab-df-convert:hover {\n",
              "      background-color: #434B5C;\n",
              "      box-shadow: 0px 1px 3px 1px rgba(0, 0, 0, 0.15);\n",
              "      filter: drop-shadow(0px 1px 2px rgba(0, 0, 0, 0.3));\n",
              "      fill: #FFFFFF;\n",
              "    }\n",
              "  </style>\n",
              "\n",
              "      <script>\n",
              "        const buttonEl =\n",
              "          document.querySelector('#df-4c8848de-85a7-45a1-9e13-5d3c06da7fa6 button.colab-df-convert');\n",
              "        buttonEl.style.display =\n",
              "          google.colab.kernel.accessAllowed ? 'block' : 'none';\n",
              "\n",
              "        async function convertToInteractive(key) {\n",
              "          const element = document.querySelector('#df-4c8848de-85a7-45a1-9e13-5d3c06da7fa6');\n",
              "          const dataTable =\n",
              "            await google.colab.kernel.invokeFunction('convertToInteractive',\n",
              "                                                     [key], {});\n",
              "          if (!dataTable) return;\n",
              "\n",
              "          const docLinkHtml = 'Like what you see? Visit the ' +\n",
              "            '<a target=\"_blank\" href=https://colab.research.google.com/notebooks/data_table.ipynb>data table notebook</a>'\n",
              "            + ' to learn more about interactive tables.';\n",
              "          element.innerHTML = '';\n",
              "          dataTable['output_type'] = 'display_data';\n",
              "          await google.colab.output.renderOutput(dataTable, element);\n",
              "          const docLink = document.createElement('div');\n",
              "          docLink.innerHTML = docLinkHtml;\n",
              "          element.appendChild(docLink);\n",
              "        }\n",
              "      </script>\n",
              "    </div>\n",
              "  </div>\n",
              "  "
            ]
          },
          "metadata": {},
          "execution_count": 8
        }
      ],
      "source": [
        "data.sample(5)"
      ]
    },
    {
      "cell_type": "markdown",
      "source": [
        "Ищу пропуски в данных:"
      ],
      "metadata": {
        "id": "ifLINEtdO4vQ"
      }
    },
    {
      "cell_type": "code",
      "execution_count": null,
      "metadata": {
        "id": "tHC6gWabEEZA",
        "colab": {
          "base_uri": "https://localhost:8080/"
        },
        "outputId": "dd50f185-55ec-4e54-ca12-7d7522690b00"
      },
      "outputs": [
        {
          "output_type": "stream",
          "name": "stdout",
          "text": [
            "<class 'pandas.core.frame.DataFrame'>\n",
            "RangeIndex: 5282 entries, 0 to 5281\n",
            "Data columns (total 20 columns):\n",
            " #   Column                    Non-Null Count  Dtype  \n",
            "---  ------                    --------------  -----  \n",
            " 0   ClientPeriod              5282 non-null   int64  \n",
            " 1   MonthlySpending           5282 non-null   float64\n",
            " 2   TotalSpent                5282 non-null   object \n",
            " 3   Sex                       5282 non-null   object \n",
            " 4   IsSeniorCitizen           5282 non-null   int64  \n",
            " 5   HasPartner                5282 non-null   object \n",
            " 6   HasChild                  5282 non-null   object \n",
            " 7   HasPhoneService           5282 non-null   object \n",
            " 8   HasMultiplePhoneNumbers   5282 non-null   object \n",
            " 9   HasInternetService        5282 non-null   object \n",
            " 10  HasOnlineSecurityService  5282 non-null   object \n",
            " 11  HasOnlineBackup           5282 non-null   object \n",
            " 12  HasDeviceProtection       5282 non-null   object \n",
            " 13  HasTechSupportAccess      5282 non-null   object \n",
            " 14  HasOnlineTV               5282 non-null   object \n",
            " 15  HasMovieSubscription      5282 non-null   object \n",
            " 16  HasContractPhone          5282 non-null   object \n",
            " 17  IsBillingPaperless        5282 non-null   object \n",
            " 18  PaymentMethod             5282 non-null   object \n",
            " 19  Churn                     5282 non-null   int64  \n",
            "dtypes: float64(1), int64(3), object(16)\n",
            "memory usage: 825.4+ KB\n"
          ]
        }
      ],
      "source": [
        "data.info()"
      ]
    },
    {
      "cell_type": "code",
      "execution_count": null,
      "metadata": {
        "colab": {
          "base_uri": "https://localhost:8080/"
        },
        "id": "TAK70Qj_MNnY",
        "outputId": "34aa3718-e123-48df-e83a-69032f983ce2"
      },
      "outputs": [
        {
          "output_type": "stream",
          "name": "stdout",
          "text": [
            "ClientPeriod  0\n",
            "MonthlySpending  0\n",
            "TotalSpent  9\n",
            "Sex  0\n",
            "IsSeniorCitizen  0\n",
            "HasPartner  0\n",
            "HasChild  0\n",
            "HasPhoneService  0\n",
            "HasMultiplePhoneNumbers  0\n",
            "HasInternetService  0\n",
            "HasOnlineSecurityService  0\n",
            "HasOnlineBackup  0\n",
            "HasDeviceProtection  0\n",
            "HasTechSupportAccess  0\n",
            "HasOnlineTV  0\n",
            "HasMovieSubscription  0\n",
            "HasContractPhone  0\n",
            "IsBillingPaperless  0\n",
            "PaymentMethod  0\n",
            "Churn  0\n"
          ]
        },
        {
          "output_type": "stream",
          "name": "stderr",
          "text": [
            "/usr/local/lib/python3.7/dist-packages/ipykernel_launcher.py:3: FutureWarning: elementwise comparison failed; returning scalar instead, but in the future will perform elementwise comparison\n",
            "  This is separate from the ipykernel package so we can avoid doing imports until\n"
          ]
        }
      ],
      "source": [
        "for i in data.columns:\n",
        "    a = data[i].values\n",
        "    print(i, '', a[np.where(a == ' ')].size)"
      ]
    },
    {
      "cell_type": "markdown",
      "metadata": {
        "id": "N9nEX0Q7MNnY"
      },
      "source": [
        "# В колонке TotalSpent строковые значения, \n",
        "\n",
        "среди них есть пропуски вида ' ' (9 штук)"
      ]
    },
    {
      "cell_type": "markdown",
      "metadata": {
        "id": "dK370bPCEEZD"
      },
      "source": [
        "## Анализ данных"
      ]
    },
    {
      "cell_type": "markdown",
      "metadata": {
        "id": "2AGzNMNrMNnY"
      },
      "source": [
        "# количественные признаки"
      ]
    },
    {
      "cell_type": "code",
      "execution_count": null,
      "metadata": {
        "colab": {
          "base_uri": "https://localhost:8080/",
          "height": 333
        },
        "id": "Hfl5NxaLMNnZ",
        "outputId": "8c558e30-3504-472c-dbb7-439830ae3303"
      },
      "outputs": [
        {
          "output_type": "execute_result",
          "data": {
            "text/plain": [
              "array([[<matplotlib.axes._subplots.AxesSubplot object at 0x7f727a75c450>,\n",
              "        <matplotlib.axes._subplots.AxesSubplot object at 0x7f726d6714d0>]],\n",
              "      dtype=object)"
            ]
          },
          "metadata": {},
          "execution_count": 350
        },
        {
          "output_type": "display_data",
          "data": {
            "text/plain": [
              "<Figure size 432x288 with 2 Axes>"
            ],
            "image/png": "[encoded data removed]"
          },
          "metadata": {
            "needs_background": "light"
          }
        }
      ],
      "source": [
        "data[num_cols[:2]].hist()"
      ]
    },
    {
      "cell_type": "markdown",
      "metadata": {
        "id": "F5-QPvCSMNnZ"
      },
      "source": [
        "Видим, что TotalSpent строковый признак, преобразуем его: "
      ]
    },
    {
      "cell_type": "code",
      "execution_count": null,
      "metadata": {
        "colab": {
          "base_uri": "https://localhost:8080/"
        },
        "id": "MaLxd8SRMNnZ",
        "outputId": "bfea4705-6981-4998-eeae-fb81f4b81cac"
      },
      "outputs": [
        {
          "output_type": "execute_result",
          "data": {
            "text/plain": [
              "(str, dtype('O'))"
            ]
          },
          "metadata": {},
          "execution_count": 351
        }
      ],
      "source": [
        "type(data[num_cols[2]].values[0]), data[num_cols[2]].dtype"
      ]
    },
    {
      "cell_type": "code",
      "execution_count": 45,
      "metadata": {
        "id": "TX228d-JMNnZ"
      },
      "outputs": [],
      "source": [
        "def str_to_float(str):\n",
        "    lst = str.split('.')\n",
        "    if((lst == ['']) | (lst == [' '])):\n",
        "        return 0\n",
        "    elif(len(lst) > 1):\n",
        "        return float(lst[0]) + float(lst[1])/(10**len(lst[1]))\n",
        "    else:\n",
        "        return float(lst[0])"
      ]
    },
    {
      "cell_type": "code",
      "execution_count": null,
      "metadata": {
        "colab": {
          "base_uri": "https://localhost:8080/"
        },
        "id": "07jG3IXOMNnZ",
        "outputId": "91f89d55-b690-447f-b6bd-f3fe7ae20beb"
      },
      "outputs": [
        {
          "output_type": "execute_result",
          "data": {
            "text/plain": [
              "array([ 0.  ,  0.  ,  0.  ,  0.  ,  0.  ,  0.  ,  0.  ,  0.  ,  0.  ,\n",
              "       18.8 , 18.9 , 19.05, 19.1 , 19.1 , 19.1 , 19.15, 19.2 , 19.2 ,\n",
              "       19.2 , 19.25])"
            ]
          },
          "metadata": {},
          "execution_count": 353
        }
      ],
      "source": [
        "np.sort(data[num_cols[2]].apply(lambda x: str_to_float(x)).values)[:20]"
      ]
    },
    {
      "cell_type": "code",
      "execution_count": null,
      "metadata": {
        "colab": {
          "base_uri": "https://localhost:8080/",
          "height": 298
        },
        "id": "xv-tHV08MNna",
        "outputId": "7b6c1343-fb32-4fb8-edd0-e8ca915b749d"
      },
      "outputs": [
        {
          "output_type": "execute_result",
          "data": {
            "text/plain": [
              "<matplotlib.axes._subplots.AxesSubplot at 0x7f726af8fa90>"
            ]
          },
          "metadata": {},
          "execution_count": 354
        },
        {
          "output_type": "display_data",
          "data": {
            "text/plain": [
              "<Figure size 432x288 with 1 Axes>"
            ],
            "image/png": "[encoded data removed]"
          },
          "metadata": {
            "needs_background": "light"
          }
        }
      ],
      "source": [
        "plt.title('TotalSpent')\n",
        "data[num_cols[2]].apply(lambda x: str_to_float(x)).hist()"
      ]
    },
    {
      "cell_type": "markdown",
      "metadata": {
        "id": "PxcJl4F4MNna"
      },
      "source": [
        "# категориальные признаки"
      ]
    },
    {
      "cell_type": "code",
      "execution_count": null,
      "metadata": {
        "colab": {
          "base_uri": "https://localhost:8080/"
        },
        "id": "8jC3yFlsMNna",
        "outputId": "0a2419e9-9efa-4839-8a1d-e2aad066f934"
      },
      "outputs": [
        {
          "output_type": "stream",
          "name": "stdout",
          "text": [
            "Sex \n",
            " Male      2655\n",
            "Female    2627\n",
            "Name: Sex, dtype: int64 \n",
            "\n",
            "IsSeniorCitizen \n",
            " 0    4440\n",
            "1     842\n",
            "Name: IsSeniorCitizen, dtype: int64 \n",
            "\n",
            "HasPartner \n",
            " No     2705\n",
            "Yes    2577\n",
            "Name: HasPartner, dtype: int64 \n",
            "\n",
            "HasChild \n",
            " No     3676\n",
            "Yes    1606\n",
            "Name: HasChild, dtype: int64 \n",
            "\n",
            "HasPhoneService \n",
            " Yes    4761\n",
            "No      521\n",
            "Name: HasPhoneService, dtype: int64 \n",
            "\n",
            "HasMultiplePhoneNumbers \n",
            " No                  2511\n",
            "Yes                 2250\n",
            "No phone service     521\n",
            "Name: HasMultiplePhoneNumbers, dtype: int64 \n",
            "\n",
            "HasInternetService \n",
            " Fiber optic    2341\n",
            "DSL            1800\n",
            "No             1141\n",
            "Name: HasInternetService, dtype: int64 \n",
            "\n",
            "HasOnlineSecurityService \n",
            " No                     2612\n",
            "Yes                    1529\n",
            "No internet service    1141\n",
            "Name: HasOnlineSecurityService, dtype: int64 \n",
            "\n",
            "HasOnlineBackup \n",
            " No                     2332\n",
            "Yes                    1809\n",
            "No internet service    1141\n",
            "Name: HasOnlineBackup, dtype: int64 \n",
            "\n",
            "HasDeviceProtection \n",
            " No                     2317\n",
            "Yes                    1824\n",
            "No internet service    1141\n",
            "Name: HasDeviceProtection, dtype: int64 \n",
            "\n",
            "HasTechSupportAccess \n",
            " No                     2604\n",
            "Yes                    1537\n",
            "No internet service    1141\n",
            "Name: HasTechSupportAccess, dtype: int64 \n",
            "\n",
            "HasOnlineTV \n",
            " No                     2099\n",
            "Yes                    2042\n",
            "No internet service    1141\n",
            "Name: HasOnlineTV, dtype: int64 \n",
            "\n",
            "HasMovieSubscription \n",
            " No                     2081\n",
            "Yes                    2060\n",
            "No internet service    1141\n",
            "Name: HasMovieSubscription, dtype: int64 \n",
            "\n",
            "HasContractPhone \n",
            " Month-to-month    2920\n",
            "Two year          1280\n",
            "One year          1082\n",
            "Name: HasContractPhone, dtype: int64 \n",
            "\n",
            "IsBillingPaperless \n",
            " Yes    3148\n",
            "No     2134\n",
            "Name: IsBillingPaperless, dtype: int64 \n",
            "\n",
            "PaymentMethod \n",
            " Electronic check             1786\n",
            "Mailed check                 1194\n",
            "Bank transfer (automatic)    1159\n",
            "Credit card (automatic)      1143\n",
            "Name: PaymentMethod, dtype: int64 \n",
            "\n"
          ]
        }
      ],
      "source": [
        "for i in cat_cols:\n",
        "    print(i, '\\n', data[i].value_counts(), '\\n')"
      ]
    },
    {
      "cell_type": "markdown",
      "source": [
        "Категориальные признаки:"
      ],
      "metadata": {
        "id": "MaakCJ4MXZRl"
      }
    },
    {
      "cell_type": "code",
      "source": [
        "fig, axs = plt.subplots(2, 2)\n",
        "\n",
        "axs[0, 0].set_title('Male / Female')\n",
        "axs[0, 0].bar([0], list(data[cat_cols[0]].values).count('Male'))\n",
        "axs[0, 0].bar([1], list(data[cat_cols[0]].values).count('Female'))\n",
        "\n",
        "axs[0, 1].set_title('not senior sitizen / senior sitizen')\n",
        "axs[0, 1].bar([0], list(data[cat_cols[1]].values).count(0))\n",
        "axs[0, 1].bar([1], list(data[cat_cols[1]].values).count(1))\n",
        "\n",
        "axs[1, 0].set_title('Has partner / doesnt have')\n",
        "axs[1, 0].bar([0], list(data[cat_cols[2]].values).count('Yes'))\n",
        "axs[1, 0].bar([1], list(data[cat_cols[2]].values).count('No'))\n",
        "\n",
        "axs[1, 1].set_title('Has child / doesnt have')\n",
        "axs[1, 1].bar([0], list(data[cat_cols[3]].values).count('Yes'))\n",
        "axs[1, 1].bar([1], list(data[cat_cols[3]].values).count('No'))\n",
        "\n",
        "fig.set_size_inches(10, 4)\n",
        "plt.subplots_adjust(None, 0.7, None, 2.1)"
      ],
      "metadata": {
        "colab": {
          "base_uri": "https://localhost:8080/",
          "height": 467
        },
        "id": "VDS7I9hoUYk6",
        "outputId": "86ce1a5b-c7b8-4923-8879-643a4c1cb510"
      },
      "execution_count": null,
      "outputs": [
        {
          "output_type": "display_data",
          "data": {
            "text/plain": [
              "<Figure size 720x288 with 4 Axes>"
            ],
            "image/png": "[encoded data removed]"
          },
          "metadata": {
            "needs_background": "light"
          }
        }
      ]
    },
    {
      "cell_type": "markdown",
      "source": [
        "Еще один график для признаков:"
      ],
      "metadata": {
        "id": "1jQqAdqLPjF-"
      }
    },
    {
      "cell_type": "code",
      "source": [
        "# функция для надписи\n",
        "def make_autopct(values):\n",
        "    def my_autopct(pct):\n",
        "        total = sum(values)\n",
        "        val = int(round(pct * total / 100.0))\n",
        "        return \"{p:.2f}%\".format(p=pct, v=val)  #   ({v:d})\n",
        "    return my_autopct"
      ],
      "metadata": {
        "id": "R3uVxiVuPmyJ"
      },
      "execution_count": null,
      "outputs": []
    },
    {
      "cell_type": "code",
      "source": [
        "cols = 2\n",
        "rows = len(cat_cols) // cols+1"
      ],
      "metadata": {
        "id": "zTyQafc-PidG"
      },
      "execution_count": null,
      "outputs": []
    },
    {
      "cell_type": "code",
      "source": [
        "fig, axs = plt.subplots(rows, cols, sharey=False)\n",
        "\n",
        "for cat_col, ax in zip(cat_cols+[target_col], axs.ravel()):\n",
        "    val_counts = data[cat_col].value_counts()\n",
        "    wedges, _, _ = ax.pie(\n",
        "        x=val_counts.values,\n",
        "        autopct=make_autopct(val_counts.values),\n",
        "        radius=1.3,\n",
        "    )\n",
        "    ax.legend(wedges, val_counts.index, loc=\"center left\", bbox_to_anchor=(1, 0, 0.5, 1))\n",
        "    ax.set_xlabel(cat_col)\n",
        "\n",
        "\n",
        "fig.set_figwidth(12)  # inches\n",
        "fig.set_figheight(20)  # inches\n",
        "fig.suptitle(\"\"\"Гистограммы категориальных признаков\"\"\", fontsize=16) \n",
        "plt.show()"
      ],
      "metadata": {
        "colab": {
          "base_uri": "https://localhost:8080/",
          "height": 1000
        },
        "id": "yh0BBvW9Pe7l",
        "outputId": "30416e58-9641-46bd-e799-eaf0f986dfa5"
      },
      "execution_count": null,
      "outputs": [
        {
          "output_type": "display_data",
          "data": {
            "text/plain": [
              "<Figure size 864x1440 with 18 Axes>"
            ],
            "image/png": "[encoded data removed]"
          },
          "metadata": {
            "needs_background": "light"
          }
        }
      ]
    },
    {
      "cell_type": "markdown",
      "metadata": {
        "id": "DviiJd8REEZK"
      },
      "source": [
        "## Применение линейных моделей"
      ]
    },
    {
      "cell_type": "code",
      "execution_count": null,
      "metadata": {
        "id": "xHCLDmwqEEZL"
      },
      "outputs": [],
      "source": [
        "from sklearn.linear_model import LogisticRegression, LogisticRegressionCV\n",
        "from sklearn.model_selection import train_test_split, GridSearchCV\n",
        "from sklearn.preprocessing import StandardScaler, RobustScaler, LabelEncoder, OneHotEncoder\n",
        "from sklearn.pipeline import make_pipeline"
      ]
    },
    {
      "cell_type": "markdown",
      "source": [
        "предобрабатываю данные"
      ],
      "metadata": {
        "id": "399Ts5XtczlT"
      }
    },
    {
      "cell_type": "code",
      "source": [
        "X = data.iloc[:, :-1]\n",
        "y = data.iloc[:, -1:]"
      ],
      "metadata": {
        "id": "IpX8P4NNC85y"
      },
      "execution_count": null,
      "outputs": []
    },
    {
      "cell_type": "markdown",
      "source": [
        "# Смотрю на корреляцию признаков после OneHotEncoding"
      ],
      "metadata": {
        "id": "0cT_5d1hDorM"
      }
    },
    {
      "cell_type": "markdown",
      "source": [
        "замечаю, что появились одинаковые колонки -> удаляю их"
      ],
      "metadata": {
        "id": "yaO_bpnOQR5e"
      }
    },
    {
      "cell_type": "code",
      "source": [
        "pd.get_dummies(X[cat_cols]).corr().style.background_gradient(cmap='coolwarm')"
      ],
      "metadata": {
        "colab": {
          "base_uri": "https://localhost:8080/",
          "height": 1000
        },
        "id": "HkVOSyu9Df3c",
        "outputId": "9d26fd37-1d67-4551-9271-41a2027c48ca"
      },
      "execution_count": null,
      "outputs": [
        {
          "output_type": "execute_result",
          "data": {
            "text/plain": [
              "<pandas.io.formats.style.Styler at 0x7f726c8b6ed0>"
            ],
            "text/html": [
              "<style type=\"text/css\">\n",
              "#T_2705e_row0_col0, #T_2705e_row1_col1, #T_2705e_row2_col2, #T_2705e_row3_col3, #T_2705e_row4_col4, #T_2705e_row5_col5, #T_2705e_row6_col6, #T_2705e_row7_col7, #T_2705e_row7_col10, #T_2705e_row8_col8, #T_2705e_row9_col9, #T_2705e_row10_col7, #T_2705e_row10_col10, #T_2705e_row11_col11, #T_2705e_row12_col12, #T_2705e_row13_col13, #T_2705e_row14_col14, #T_2705e_row14_col16, #T_2705e_row14_col19, #T_2705e_row14_col22, #T_2705e_row14_col25, #T_2705e_row14_col28, #T_2705e_row14_col31, #T_2705e_row15_col15, #T_2705e_row16_col14, #T_2705e_row16_col16, #T_2705e_row16_col19, #T_2705e_row16_col22, #T_2705e_row16_col25, #T_2705e_row16_col28, #T_2705e_row16_col31, #T_2705e_row17_col17, #T_2705e_row18_col18, #T_2705e_row19_col14, #T_2705e_row19_col16, #T_2705e_row19_col19, #T_2705e_row19_col22, #T_2705e_row19_col25, #T_2705e_row19_col28, #T_2705e_row19_col31, #T_2705e_row20_col20, #T_2705e_row21_col21, #T_2705e_row22_col14, #T_2705e_row22_col16, #T_2705e_row22_col19, #T_2705e_row22_col22, #T_2705e_row22_col25, #T_2705e_row22_col28, #T_2705e_row22_col31, #T_2705e_row23_col23, #T_2705e_row24_col24, #T_2705e_row25_col14, #T_2705e_row25_col16, #T_2705e_row25_col19, #T_2705e_row25_col22, #T_2705e_row25_col25, #T_2705e_row25_col28, #T_2705e_row25_col31, #T_2705e_row26_col26, #T_2705e_row27_col27, #T_2705e_row28_col14, #T_2705e_row28_col16, #T_2705e_row28_col19, #T_2705e_row28_col22, #T_2705e_row28_col25, #T_2705e_row28_col28, #T_2705e_row28_col31, #T_2705e_row29_col29, #T_2705e_row30_col30, #T_2705e_row31_col14, #T_2705e_row31_col16, #T_2705e_row31_col19, #T_2705e_row31_col22, #T_2705e_row31_col25, #T_2705e_row31_col28, #T_2705e_row31_col31, #T_2705e_row32_col32, #T_2705e_row33_col33, #T_2705e_row34_col34, #T_2705e_row35_col35, #T_2705e_row36_col36, #T_2705e_row37_col37, #T_2705e_row38_col38, #T_2705e_row39_col39, #T_2705e_row40_col40, #T_2705e_row41_col41 {\n",
              "  background-color: #b40426;\n",
              "  color: #f1f1f1;\n",
              "}\n",
              "#T_2705e_row0_col1, #T_2705e_row0_col7, #T_2705e_row0_col10, #T_2705e_row1_col6, #T_2705e_row2_col5, #T_2705e_row5_col2, #T_2705e_row5_col7, #T_2705e_row5_col10, #T_2705e_row5_col24, #T_2705e_row6_col1, #T_2705e_row6_col8, #T_2705e_row7_col5, #T_2705e_row8_col6, #T_2705e_row10_col5, #T_2705e_row13_col20, #T_2705e_row17_col2, #T_2705e_row17_col29, #T_2705e_row17_col37, #T_2705e_row20_col13, #T_2705e_row21_col12, #T_2705e_row23_col35, #T_2705e_row24_col1, #T_2705e_row27_col1, #T_2705e_row29_col2, #T_2705e_row32_col2, #T_2705e_row32_col15, #T_2705e_row34_col1, #T_2705e_row35_col2, #T_2705e_row38_col2, #T_2705e_row38_col7, #T_2705e_row38_col10, #T_2705e_row38_col11, #T_2705e_row39_col37, #T_2705e_row40_col11, #T_2705e_row41_col1, #T_2705e_row41_col8 {\n",
              "  background-color: #dbdcde;\n",
              "  color: #000000;\n",
              "}\n",
              "#T_2705e_row0_col2, #T_2705e_row0_col8, #T_2705e_row1_col5, #T_2705e_row2_col6, #T_2705e_row5_col1, #T_2705e_row5_col8, #T_2705e_row6_col2, #T_2705e_row6_col7, #T_2705e_row6_col10, #T_2705e_row7_col6, #T_2705e_row8_col5, #T_2705e_row10_col6, #T_2705e_row14_col41, #T_2705e_row15_col29, #T_2705e_row16_col41, #T_2705e_row17_col1, #T_2705e_row17_col32, #T_2705e_row17_col36, #T_2705e_row19_col41, #T_2705e_row22_col41, #T_2705e_row24_col2, #T_2705e_row25_col41, #T_2705e_row27_col2, #T_2705e_row28_col41, #T_2705e_row29_col1, #T_2705e_row31_col41, #T_2705e_row32_col1, #T_2705e_row34_col2, #T_2705e_row35_col1, #T_2705e_row38_col1, #T_2705e_row38_col8, #T_2705e_row39_col36, #T_2705e_row41_col2, #T_2705e_row41_col7, #T_2705e_row41_col10 {\n",
              "  background-color: #dedcdb;\n",
              "  color: #000000;\n",
              "}\n",
              "#T_2705e_row0_col3, #T_2705e_row1_col36, #T_2705e_row2_col37, #T_2705e_row7_col37, #T_2705e_row8_col36, #T_2705e_row10_col37, #T_2705e_row12_col18, #T_2705e_row15_col11, #T_2705e_row18_col12, #T_2705e_row20_col5, #T_2705e_row26_col2, #T_2705e_row29_col17, #T_2705e_row36_col1, #T_2705e_row36_col8, #T_2705e_row37_col2, #T_2705e_row37_col7, #T_2705e_row37_col10, #T_2705e_row37_col21, #T_2705e_row39_col35 {\n",
              "  background-color: #dadce0;\n",
              "  color: #000000;\n",
              "}\n",
              "#T_2705e_row0_col4, #T_2705e_row0_col24, #T_2705e_row1_col37, #T_2705e_row2_col36, #T_2705e_row5_col15, #T_2705e_row6_col35, #T_2705e_row7_col36, #T_2705e_row8_col37, #T_2705e_row10_col36, #T_2705e_row15_col40, #T_2705e_row17_col11, #T_2705e_row17_col35, #T_2705e_row20_col6, #T_2705e_row26_col1, #T_2705e_row35_col17, #T_2705e_row36_col2, #T_2705e_row36_col7, #T_2705e_row36_col10, #T_2705e_row37_col1, #T_2705e_row37_col8 {\n",
              "  background-color: #dfdbd9;\n",
              "  color: #000000;\n",
              "}\n",
              "#T_2705e_row0_col5, #T_2705e_row8_col11, #T_2705e_row24_col30 {\n",
              "  background-color: #f2c9b4;\n",
              "  color: #000000;\n",
              "}\n",
              "#T_2705e_row0_col6, #T_2705e_row1_col12, #T_2705e_row1_col13, #T_2705e_row1_col21, #T_2705e_row1_col23, #T_2705e_row1_col35, #T_2705e_row2_col15, #T_2705e_row2_col18, #T_2705e_row2_col24, #T_2705e_row2_col30, #T_2705e_row4_col12, #T_2705e_row6_col23, #T_2705e_row15_col9, #T_2705e_row17_col18, #T_2705e_row21_col17, #T_2705e_row23_col24, #T_2705e_row26_col18, #T_2705e_row29_col12, #T_2705e_row29_col34, #T_2705e_row35_col9, #T_2705e_row36_col17, #T_2705e_row36_col34 {\n",
              "  background-color: #bed2f6;\n",
              "  color: #000000;\n",
              "}\n",
              "#T_2705e_row0_col9, #T_2705e_row1_col15, #T_2705e_row1_col24, #T_2705e_row2_col17, #T_2705e_row2_col29, #T_2705e_row5_col20, #T_2705e_row13_col0, #T_2705e_row32_col40, #T_2705e_row35_col38, #T_2705e_row37_col17, #T_2705e_row41_col27, #T_2705e_row41_col30 {\n",
              "  background-color: #bad0f8;\n",
              "  color: #000000;\n",
              "}\n",
              "#T_2705e_row0_col11, #T_2705e_row4_col11, #T_2705e_row5_col33, #T_2705e_row12_col6, #T_2705e_row13_col21, #T_2705e_row15_col7, #T_2705e_row15_col10, #T_2705e_row21_col13, #T_2705e_row24_col7, #T_2705e_row24_col10, #T_2705e_row34_col36, #T_2705e_row37_col24 {\n",
              "  background-color: #e3d9d3;\n",
              "  color: #000000;\n",
              "}\n",
              "#T_2705e_row0_col12, #T_2705e_row4_col39, #T_2705e_row6_col27, #T_2705e_row8_col18, #T_2705e_row11_col33, #T_2705e_row11_col38, #T_2705e_row23_col38, #T_2705e_row33_col29, #T_2705e_row36_col23, #T_2705e_row37_col34, #T_2705e_row38_col24 {\n",
              "  background-color: #a9c6fd;\n",
              "  color: #000000;\n",
              "}\n",
              "#T_2705e_row0_col13, #T_2705e_row4_col35, #T_2705e_row9_col14, #T_2705e_row9_col16, #T_2705e_row9_col19, #T_2705e_row9_col22, #T_2705e_row9_col25, #T_2705e_row9_col28, #T_2705e_row9_col31, #T_2705e_row17_col6, #T_2705e_row21_col7, #T_2705e_row21_col10, #T_2705e_row27_col15 {\n",
              "  background-color: #e7d7ce;\n",
              "  color: #000000;\n",
              "}\n",
              "#T_2705e_row0_col14, #T_2705e_row0_col16, #T_2705e_row0_col19, #T_2705e_row0_col22, #T_2705e_row0_col25, #T_2705e_row0_col28, #T_2705e_row0_col31, #T_2705e_row9_col38, #T_2705e_row9_col39, #T_2705e_row9_col40, #T_2705e_row30_col35, #T_2705e_row36_col15 {\n",
              "  background-color: #84a7fc;\n",
              "  color: #f1f1f1;\n",
              "}\n",
              "#T_2705e_row0_col15, #T_2705e_row1_col4, #T_2705e_row1_col7, #T_2705e_row1_col10, #T_2705e_row2_col3, #T_2705e_row2_col8, #T_2705e_row3_col2, #T_2705e_row3_col8, #T_2705e_row3_col36, #T_2705e_row4_col1, #T_2705e_row4_col7, #T_2705e_row4_col10, #T_2705e_row4_col37, #T_2705e_row5_col13, #T_2705e_row7_col1, #T_2705e_row7_col4, #T_2705e_row8_col2, #T_2705e_row8_col3, #T_2705e_row9_col2, #T_2705e_row10_col1, #T_2705e_row10_col4, #T_2705e_row11_col2, #T_2705e_row12_col2, #T_2705e_row12_col3, #T_2705e_row12_col21, #T_2705e_row13_col2, #T_2705e_row13_col4, #T_2705e_row13_col23, #T_2705e_row14_col1, #T_2705e_row14_col3, #T_2705e_row15_col1, #T_2705e_row15_col32, #T_2705e_row16_col1, #T_2705e_row16_col3, #T_2705e_row18_col1, #T_2705e_row19_col1, #T_2705e_row19_col3, #T_2705e_row20_col2, #T_2705e_row21_col2, #T_2705e_row22_col1, #T_2705e_row22_col3, #T_2705e_row23_col2, #T_2705e_row23_col5, #T_2705e_row23_col13, #T_2705e_row24_col11, #T_2705e_row25_col1, #T_2705e_row25_col3, #T_2705e_row28_col1, #T_2705e_row28_col3, #T_2705e_row30_col1, #T_2705e_row31_col1, #T_2705e_row31_col3, #T_2705e_row33_col1, #T_2705e_row33_col8, #T_2705e_row33_col9, #T_2705e_row34_col7, #T_2705e_row34_col10, #T_2705e_row35_col7, #T_2705e_row35_col10, #T_2705e_row35_col23, #T_2705e_row36_col3, #T_2705e_row37_col4, #T_2705e_row38_col37, #T_2705e_row39_col2, #T_2705e_row39_col8, #T_2705e_row40_col1, #T_2705e_row40_col7, #T_2705e_row40_col10 {\n",
              "  background-color: #dcdddd;\n",
              "  color: #000000;\n",
              "}\n",
              "#T_2705e_row0_col17, #T_2705e_row8_col20, #T_2705e_row9_col34, #T_2705e_row13_col17, #T_2705e_row17_col39, #T_2705e_row21_col32, #T_2705e_row26_col9, #T_2705e_row26_col21, #T_2705e_row32_col21, #T_2705e_row36_col26 {\n",
              "  background-color: #b5cdfa;\n",
              "  color: #000000;\n",
              "}\n",
              "#T_2705e_row0_col18, #T_2705e_row6_col14, #T_2705e_row6_col16, #T_2705e_row6_col19, #T_2705e_row6_col22, #T_2705e_row6_col25, #T_2705e_row6_col28, #T_2705e_row6_col31, #T_2705e_row11_col26, #T_2705e_row24_col4, #T_2705e_row24_col32, #T_2705e_row29_col24, #T_2705e_row30_col17, #T_2705e_row34_col20, #T_2705e_row38_col3 {\n",
              "  background-color: #cdd9ec;\n",
              "  color: #000000;\n",
              "}\n",
              "#T_2705e_row0_col20, #T_2705e_row6_col11, #T_2705e_row7_col23, #T_2705e_row10_col23, #T_2705e_row11_col3, #T_2705e_row11_col15, #T_2705e_row15_col4, #T_2705e_row18_col9, #T_2705e_row18_col36, #T_2705e_row20_col3, #T_2705e_row29_col35, #T_2705e_row30_col13, #T_2705e_row36_col12, #T_2705e_row36_col41, #T_2705e_row37_col30 {\n",
              "  background-color: #cad8ef;\n",
              "  color: #000000;\n",
              "}\n",
              "#T_2705e_row0_col21, #T_2705e_row0_col29, #T_2705e_row3_col24, #T_2705e_row5_col27, #T_2705e_row8_col14, #T_2705e_row8_col16, #T_2705e_row8_col19, #T_2705e_row8_col22, #T_2705e_row8_col25, #T_2705e_row8_col28, #T_2705e_row8_col31, #T_2705e_row11_col35, #T_2705e_row27_col9, #T_2705e_row27_col17, #T_2705e_row30_col6, #T_2705e_row30_col9, #T_2705e_row34_col9, #T_2705e_row37_col23, #T_2705e_row40_col4, #T_2705e_row41_col4 {\n",
              "  background-color: #d1dae9;\n",
              "  color: #000000;\n",
              "}\n",
              "#T_2705e_row0_col23, #T_2705e_row0_col27, #T_2705e_row6_col12, #T_2705e_row7_col15, #T_2705e_row7_col20, #T_2705e_row10_col15, #T_2705e_row10_col20, #T_2705e_row11_col36, #T_2705e_row15_col20, #T_2705e_row20_col15, #T_2705e_row21_col36, #T_2705e_row24_col20, #T_2705e_row33_col36, #T_2705e_row38_col29, #T_2705e_row39_col29 {\n",
              "  background-color: #c6d6f1;\n",
              "  color: #000000;\n",
              "}\n",
              "#T_2705e_row0_col26, #T_2705e_row1_col34, #T_2705e_row5_col26, #T_2705e_row8_col15, #T_2705e_row13_col7, #T_2705e_row13_col10, #T_2705e_row33_col12, #T_2705e_row36_col30 {\n",
              "  background-color: #b1cbfc;\n",
              "  color: #000000;\n",
              "}\n",
              "#T_2705e_row0_col30, #T_2705e_row4_col34, #T_2705e_row5_col29, #T_2705e_row7_col29, #T_2705e_row7_col32, #T_2705e_row10_col29, #T_2705e_row10_col32, #T_2705e_row12_col9, #T_2705e_row12_col35, #T_2705e_row18_col23, #T_2705e_row23_col18, #T_2705e_row37_col26, #T_2705e_row40_col9 {\n",
              "  background-color: #c3d5f4;\n",
              "  color: #000000;\n",
              "}\n",
              "#T_2705e_row0_col32, #T_2705e_row3_col27, #T_2705e_row3_col30, #T_2705e_row5_col11, #T_2705e_row7_col27, #T_2705e_row7_col30, #T_2705e_row10_col27, #T_2705e_row10_col30, #T_2705e_row12_col37, #T_2705e_row23_col8, #T_2705e_row34_col5, #T_2705e_row37_col20, #T_2705e_row41_col5 {\n",
              "  background-color: #d4dbe6;\n",
              "  color: #000000;\n",
              "}\n",
              "#T_2705e_row0_col33, #T_2705e_row4_col17, #T_2705e_row4_col20, #T_2705e_row12_col5, #T_2705e_row15_col8, #T_2705e_row24_col8, #T_2705e_row34_col37, #T_2705e_row36_col35, #T_2705e_row37_col18, #T_2705e_row40_col29 {\n",
              "  background-color: #d6dce4;\n",
              "  color: #000000;\n",
              "}\n",
              "#T_2705e_row0_col34, #T_2705e_row8_col17, #T_2705e_row9_col15, #T_2705e_row15_col0, #T_2705e_row20_col9, #T_2705e_row39_col24, #T_2705e_row40_col12, #T_2705e_row41_col11 {\n",
              "  background-color: #a7c5fe;\n",
              "  color: #000000;\n",
              "}\n",
              "#T_2705e_row0_col35, #T_2705e_row12_col39, #T_2705e_row13_col34, #T_2705e_row32_col33, #T_2705e_row32_col39, #T_2705e_row36_col20 {\n",
              "  background-color: #a3c2fe;\n",
              "  color: #000000;\n",
              "}\n",
              "#T_2705e_row0_col36, #T_2705e_row6_col26, #T_2705e_row13_col27, #T_2705e_row14_col5, #T_2705e_row16_col5, #T_2705e_row17_col34, #T_2705e_row19_col5, #T_2705e_row21_col4, #T_2705e_row22_col5, #T_2705e_row23_col3, #T_2705e_row23_col15, #T_2705e_row23_col34, #T_2705e_row25_col5, #T_2705e_row27_col13, #T_2705e_row28_col5, #T_2705e_row31_col5, #T_2705e_row34_col29, #T_2705e_row37_col40, #T_2705e_row39_col12 {\n",
              "  background-color: #c7d7f0;\n",
              "  color: #000000;\n",
              "}\n",
              "#T_2705e_row0_col37, #T_2705e_row14_col6, #T_2705e_row16_col6, #T_2705e_row19_col6, #T_2705e_row20_col23, #T_2705e_row21_col3, #T_2705e_row22_col6, #T_2705e_row23_col4, #T_2705e_row23_col20, #T_2705e_row25_col6, #T_2705e_row28_col6, #T_2705e_row31_col6, #T_2705e_row33_col30 {\n",
              "  background-color: #eed0c0;\n",
              "  color: #000000;\n",
              "}\n",
              "#T_2705e_row0_col38, #T_2705e_row2_col38, #T_2705e_row2_col39, #T_2705e_row8_col39, #T_2705e_row11_col12, #T_2705e_row14_col39, #T_2705e_row16_col39, #T_2705e_row19_col39, #T_2705e_row22_col39, #T_2705e_row25_col39, #T_2705e_row27_col41, #T_2705e_row28_col39, #T_2705e_row30_col41, #T_2705e_row31_col39 {\n",
              "  background-color: #93b5fe;\n",
              "  color: #000000;\n",
              "}\n",
              "#T_2705e_row0_col39, #T_2705e_row9_col20, #T_2705e_row33_col23, #T_2705e_row36_col29 {\n",
              "  background-color: #8db0fe;\n",
              "  color: #000000;\n",
              "}\n",
              "#T_2705e_row0_col40, #T_2705e_row1_col29, #T_2705e_row6_col20, #T_2705e_row9_col30, #T_2705e_row12_col24, #T_2705e_row15_col6, #T_2705e_row15_col12, #T_2705e_row32_col36, #T_2705e_row33_col11, #T_2705e_row35_col5, #T_2705e_row38_col34, #T_2705e_row40_col36 {\n",
              "  background-color: #c0d4f5;\n",
              "  color: #000000;\n",
              "}\n",
              "#T_2705e_row0_col41, #T_2705e_row1_col0, #T_2705e_row3_col0, #T_2705e_row15_col35, #T_2705e_row35_col15 {\n",
              "  background-color: #6f92f3;\n",
              "  color: #f1f1f1;\n",
              "}\n",
              "#T_2705e_row1_col2, #T_2705e_row2_col1, #T_2705e_row3_col4, #T_2705e_row4_col3, #T_2705e_row5_col6, #T_2705e_row6_col0, #T_2705e_row6_col5, #T_2705e_row7_col8, #T_2705e_row8_col7, #T_2705e_row8_col10, #T_2705e_row9_col11, #T_2705e_row10_col8, #T_2705e_row11_col9, #T_2705e_row12_col13, #T_2705e_row13_col12, #T_2705e_row15_col14, #T_2705e_row15_col16, #T_2705e_row15_col17, #T_2705e_row15_col19, #T_2705e_row15_col22, #T_2705e_row15_col25, #T_2705e_row15_col28, #T_2705e_row15_col31, #T_2705e_row17_col15, #T_2705e_row18_col20, #T_2705e_row20_col18, #T_2705e_row21_col23, #T_2705e_row23_col21, #T_2705e_row24_col14, #T_2705e_row24_col16, #T_2705e_row24_col19, #T_2705e_row24_col22, #T_2705e_row24_col25, #T_2705e_row24_col26, #T_2705e_row24_col28, #T_2705e_row24_col31, #T_2705e_row26_col24, #T_2705e_row27_col29, #T_2705e_row29_col27, #T_2705e_row30_col32, #T_2705e_row32_col30, #T_2705e_row33_col34, #T_2705e_row33_col35, #T_2705e_row35_col33, #T_2705e_row36_col37, #T_2705e_row37_col36, #T_2705e_row40_col38, #T_2705e_row40_col39, #T_2705e_row40_col41, #T_2705e_row41_col40 {\n",
              "  background-color: #3b4cc0;\n",
              "  color: #f1f1f1;\n",
              "}\n",
              "#T_2705e_row1_col3, #T_2705e_row1_col8, #T_2705e_row2_col4, #T_2705e_row2_col7, #T_2705e_row2_col10, #T_2705e_row3_col1, #T_2705e_row3_col7, #T_2705e_row3_col10, #T_2705e_row3_col37, #T_2705e_row4_col2, #T_2705e_row4_col8, #T_2705e_row4_col36, #T_2705e_row7_col2, #T_2705e_row7_col3, #T_2705e_row8_col1, #T_2705e_row8_col4, #T_2705e_row9_col1, #T_2705e_row10_col2, #T_2705e_row10_col3, #T_2705e_row11_col1, #T_2705e_row12_col1, #T_2705e_row12_col4, #T_2705e_row13_col1, #T_2705e_row13_col3, #T_2705e_row14_col2, #T_2705e_row14_col4, #T_2705e_row15_col2, #T_2705e_row16_col2, #T_2705e_row16_col4, #T_2705e_row18_col2, #T_2705e_row19_col2, #T_2705e_row19_col4, #T_2705e_row20_col1, #T_2705e_row21_col1, #T_2705e_row22_col2, #T_2705e_row22_col4, #T_2705e_row23_col1, #T_2705e_row23_col6, #T_2705e_row25_col2, #T_2705e_row25_col4, #T_2705e_row26_col11, #T_2705e_row28_col2, #T_2705e_row28_col4, #T_2705e_row29_col15, #T_2705e_row30_col2, #T_2705e_row31_col2, #T_2705e_row31_col4, #T_2705e_row32_col17, #T_2705e_row33_col2, #T_2705e_row33_col7, #T_2705e_row33_col10, #T_2705e_row34_col8, #T_2705e_row35_col8, #T_2705e_row36_col4, #T_2705e_row37_col3, #T_2705e_row38_col36, #T_2705e_row39_col1, #T_2705e_row39_col7, #T_2705e_row39_col10, #T_2705e_row40_col2, #T_2705e_row40_col8 {\n",
              "  background-color: #dddcdc;\n",
              "  color: #000000;\n",
              "}\n",
              "#T_2705e_row1_col9, #T_2705e_row1_col11, #T_2705e_row2_col9, #T_2705e_row5_col36, #T_2705e_row6_col37, #T_2705e_row7_col18, #T_2705e_row7_col26, #T_2705e_row10_col18, #T_2705e_row10_col26, #T_2705e_row11_col17, #T_2705e_row17_col8, #T_2705e_row17_col30, #T_2705e_row18_col8, #T_2705e_row34_col23, #T_2705e_row34_col26, #T_2705e_row36_col5, #T_2705e_row37_col6 {\n",
              "  background-color: #cfdaea;\n",
              "  color: #000000;\n",
              "}\n",
              "#T_2705e_row1_col14, #T_2705e_row1_col16, #T_2705e_row1_col19, #T_2705e_row1_col22, #T_2705e_row1_col25, #T_2705e_row1_col28, #T_2705e_row1_col31, #T_2705e_row3_col14, #T_2705e_row3_col16, #T_2705e_row3_col19, #T_2705e_row3_col22, #T_2705e_row3_col25, #T_2705e_row3_col28, #T_2705e_row3_col31, #T_2705e_row5_col17, #T_2705e_row12_col11, #T_2705e_row13_col36, #T_2705e_row14_col11, #T_2705e_row16_col11, #T_2705e_row19_col11, #T_2705e_row22_col11, #T_2705e_row25_col11, #T_2705e_row28_col11, #T_2705e_row30_col23, #T_2705e_row31_col11, #T_2705e_row34_col27, #T_2705e_row38_col18, #T_2705e_row39_col14, #T_2705e_row39_col16, #T_2705e_row39_col18, #T_2705e_row39_col19, #T_2705e_row39_col22, #T_2705e_row39_col25, #T_2705e_row39_col28, #T_2705e_row39_col31, #T_2705e_row41_col17, #T_2705e_row41_col21 {\n",
              "  background-color: #abc8fd;\n",
              "  color: #000000;\n",
              "}\n",
              "#T_2705e_row1_col17, #T_2705e_row1_col20, #T_2705e_row1_col26, #T_2705e_row1_col32, #T_2705e_row2_col27, #T_2705e_row3_col13, #T_2705e_row9_col27, #T_2705e_row12_col15, #T_2705e_row12_col29, #T_2705e_row17_col21, #T_2705e_row24_col23, #T_2705e_row26_col27, #T_2705e_row32_col34, #T_2705e_row35_col39, #T_2705e_row41_col37 {\n",
              "  background-color: #bfd3f6;\n",
              "  color: #000000;\n",
              "}\n",
              "#T_2705e_row1_col18, #T_2705e_row1_col30, #T_2705e_row2_col12, #T_2705e_row2_col13, #T_2705e_row2_col21, #T_2705e_row2_col23, #T_2705e_row3_col12, #T_2705e_row4_col13, #T_2705e_row5_col23, #T_2705e_row7_col33, #T_2705e_row8_col35, #T_2705e_row10_col33, #T_2705e_row14_col34, #T_2705e_row16_col34, #T_2705e_row18_col17, #T_2705e_row18_col26, #T_2705e_row19_col34, #T_2705e_row22_col34, #T_2705e_row24_col9, #T_2705e_row24_col36, #T_2705e_row25_col34, #T_2705e_row26_col30, #T_2705e_row27_col26, #T_2705e_row28_col34, #T_2705e_row31_col34, #T_2705e_row40_col20 {\n",
              "  background-color: #bcd2f7;\n",
              "  color: #000000;\n",
              "}\n",
              "#T_2705e_row1_col27, #T_2705e_row1_col33, #T_2705e_row2_col20, #T_2705e_row2_col32, #T_2705e_row2_col33, #T_2705e_row5_col40, #T_2705e_row7_col35, #T_2705e_row8_col33, #T_2705e_row10_col35, #T_2705e_row12_col34, #T_2705e_row29_col36, #T_2705e_row30_col26, #T_2705e_row33_col6, #T_2705e_row40_col23, #T_2705e_row41_col33, #T_2705e_row41_col35 {\n",
              "  background-color: #bbd1f8;\n",
              "  color: #000000;\n",
              "}\n",
              "#T_2705e_row1_col38, #T_2705e_row6_col13, #T_2705e_row18_col34, #T_2705e_row36_col39, #T_2705e_row41_col20 {\n",
              "  background-color: #98b9ff;\n",
              "  color: #000000;\n",
              "}\n",
              "#T_2705e_row1_col39, #T_2705e_row2_col40, #T_2705e_row3_col6, #T_2705e_row4_col5, #T_2705e_row5_col4, #T_2705e_row6_col3, #T_2705e_row6_col24, #T_2705e_row7_col9, #T_2705e_row7_col39, #T_2705e_row8_col40, #T_2705e_row9_col13, #T_2705e_row10_col9, #T_2705e_row10_col39, #T_2705e_row15_col34, #T_2705e_row20_col33, #T_2705e_row32_col0, #T_2705e_row33_col41, #T_2705e_row34_col41, #T_2705e_row35_col41, #T_2705e_row41_col23, #T_2705e_row41_col24 {\n",
              "  background-color: #97b8ff;\n",
              "  color: #000000;\n",
              "}\n",
              "#T_2705e_row1_col40, #T_2705e_row7_col40, #T_2705e_row10_col40, #T_2705e_row14_col38, #T_2705e_row16_col38, #T_2705e_row19_col38, #T_2705e_row20_col40, #T_2705e_row21_col34, #T_2705e_row22_col38, #T_2705e_row24_col34, #T_2705e_row25_col38, #T_2705e_row27_col32, #T_2705e_row28_col38, #T_2705e_row29_col30, #T_2705e_row30_col29, #T_2705e_row31_col38, #T_2705e_row32_col27, #T_2705e_row36_col38, #T_2705e_row38_col33, #T_2705e_row41_col15 {\n",
              "  background-color: #96b7ff;\n",
              "  color: #000000;\n",
              "}\n",
              "#T_2705e_row1_col41, #T_2705e_row8_col41, #T_2705e_row12_col8, #T_2705e_row23_col40, #T_2705e_row36_col32, #T_2705e_row37_col38 {\n",
              "  background-color: #94b6ff;\n",
              "  color: #000000;\n",
              "}\n",
              "#T_2705e_row2_col0 {\n",
              "  background-color: #779af7;\n",
              "  color: #f1f1f1;\n",
              "}\n",
              "#T_2705e_row2_col11, #T_2705e_row5_col30, #T_2705e_row7_col17, #T_2705e_row10_col17, #T_2705e_row18_col40, #T_2705e_row21_col40, #T_2705e_row23_col36, #T_2705e_row24_col29, #T_2705e_row26_col8, #T_2705e_row27_col6, #T_2705e_row34_col11, #T_2705e_row34_col17, #T_2705e_row38_col20, #T_2705e_row38_col26, #T_2705e_row39_col20, #T_2705e_row40_col27, #T_2705e_row40_col30 {\n",
              "  background-color: #cedaeb;\n",
              "  color: #000000;\n",
              "}\n",
              "#T_2705e_row2_col14, #T_2705e_row2_col16, #T_2705e_row2_col19, #T_2705e_row2_col22, #T_2705e_row2_col25, #T_2705e_row2_col28, #T_2705e_row2_col31, #T_2705e_row3_col41, #T_2705e_row4_col14, #T_2705e_row4_col16, #T_2705e_row4_col19, #T_2705e_row4_col22, #T_2705e_row4_col25, #T_2705e_row4_col28, #T_2705e_row4_col31, #T_2705e_row9_col12, #T_2705e_row14_col37, #T_2705e_row16_col37, #T_2705e_row19_col37, #T_2705e_row22_col37, #T_2705e_row25_col37, #T_2705e_row27_col23, #T_2705e_row27_col40, #T_2705e_row28_col37, #T_2705e_row31_col37, #T_2705e_row34_col13, #T_2705e_row38_col21 {\n",
              "  background-color: #aec9fc;\n",
              "  color: #000000;\n",
              "}\n",
              "#T_2705e_row2_col26, #T_2705e_row2_col35, #T_2705e_row3_col11, #T_2705e_row4_col9, #T_2705e_row6_col29, #T_2705e_row8_col29, #T_2705e_row8_col32, #T_2705e_row9_col21, #T_2705e_row11_col21, #T_2705e_row29_col40, #T_2705e_row35_col3, #T_2705e_row38_col13 {\n",
              "  background-color: #b9d0f9;\n",
              "  color: #000000;\n",
              "}\n",
              "#T_2705e_row2_col34, #T_2705e_row6_col32, #T_2705e_row9_col18, #T_2705e_row13_col26, #T_2705e_row15_col36, #T_2705e_row17_col13, #T_2705e_row36_col27, #T_2705e_row37_col9, #T_2705e_row39_col27 {\n",
              "  background-color: #b6cefa;\n",
              "  color: #000000;\n",
              "}\n",
              "#T_2705e_row2_col41, #T_2705e_row7_col41, #T_2705e_row8_col38, #T_2705e_row9_col17, #T_2705e_row10_col41, #T_2705e_row33_col20, #T_2705e_row36_col33, #T_2705e_row40_col34 {\n",
              "  background-color: #9abbff;\n",
              "  color: #000000;\n",
              "}\n",
              "#T_2705e_row3_col5, #T_2705e_row4_col6, #T_2705e_row5_col3, #T_2705e_row6_col4 {\n",
              "  background-color: #f6a586;\n",
              "  color: #000000;\n",
              "}\n",
              "#T_2705e_row3_col9, #T_2705e_row20_col7, #T_2705e_row20_col10, #T_2705e_row38_col6 {\n",
              "  background-color: #e2dad5;\n",
              "  color: #000000;\n",
              "}\n",
              "#T_2705e_row3_col15, #T_2705e_row3_col18, #T_2705e_row5_col21, #T_2705e_row26_col5, #T_2705e_row30_col36, #T_2705e_row39_col5 {\n",
              "  background-color: #d5dbe5;\n",
              "  color: #000000;\n",
              "}\n",
              "#T_2705e_row3_col17, #T_2705e_row3_col23, #T_2705e_row4_col21, #T_2705e_row30_col34, #T_2705e_row32_col38, #T_2705e_row37_col35 {\n",
              "  background-color: #9ebeff;\n",
              "  color: #000000;\n",
              "}\n",
              "#T_2705e_row3_col20, #T_2705e_row3_col26, #T_2705e_row3_col34, #T_2705e_row4_col18, #T_2705e_row6_col21, #T_2705e_row29_col38, #T_2705e_row34_col15, #T_2705e_row34_col21 {\n",
              "  background-color: #a2c1ff;\n",
              "  color: #000000;\n",
              "}\n",
              "#T_2705e_row3_col21, #T_2705e_row26_col36, #T_2705e_row27_col36, #T_2705e_row32_col6, #T_2705e_row35_col14, #T_2705e_row35_col16, #T_2705e_row35_col19, #T_2705e_row35_col22, #T_2705e_row35_col25, #T_2705e_row35_col28, #T_2705e_row35_col31 {\n",
              "  background-color: #d8dce2;\n",
              "  color: #000000;\n",
              "}\n",
              "#T_2705e_row3_col29, #T_2705e_row6_col41, #T_2705e_row8_col26, #T_2705e_row29_col33, #T_2705e_row33_col32, #T_2705e_row34_col39, #T_2705e_row39_col21, #T_2705e_row40_col17 {\n",
              "  background-color: #a6c4fe;\n",
              "  color: #000000;\n",
              "}\n",
              "#T_2705e_row3_col32, #T_2705e_row4_col24, #T_2705e_row4_col27, #T_2705e_row4_col30, #T_2705e_row5_col34, #T_2705e_row6_col39, #T_2705e_row8_col27, #T_2705e_row8_col30, #T_2705e_row9_col24, #T_2705e_row9_col35, #T_2705e_row11_col39, #T_2705e_row23_col9, #T_2705e_row34_col18, #T_2705e_row34_col38, #T_2705e_row39_col15, #T_2705e_row40_col0, #T_2705e_row40_col26 {\n",
              "  background-color: #a5c3fe;\n",
              "  color: #000000;\n",
              "}\n",
              "#T_2705e_row3_col33, #T_2705e_row24_col3, #T_2705e_row29_col26, #T_2705e_row38_col4 {\n",
              "  background-color: #ead4c8;\n",
              "  color: #000000;\n",
              "}\n",
              "#T_2705e_row3_col35, #T_2705e_row5_col41, #T_2705e_row9_col29, #T_2705e_row17_col33, #T_2705e_row27_col35, #T_2705e_row33_col17, #T_2705e_row35_col30 {\n",
              "  background-color: #86a9fc;\n",
              "  color: #f1f1f1;\n",
              "}\n",
              "#T_2705e_row3_col38, #T_2705e_row4_col0, #T_2705e_row15_col39, #T_2705e_row21_col39, #T_2705e_row36_col13 {\n",
              "  background-color: #799cf8;\n",
              "  color: #f1f1f1;\n",
              "}\n",
              "#T_2705e_row3_col39, #T_2705e_row4_col33, #T_2705e_row4_col40, #T_2705e_row21_col41, #T_2705e_row23_col0, #T_2705e_row27_col0 {\n",
              "  background-color: #81a4fb;\n",
              "  color: #f1f1f1;\n",
              "}\n",
              "#T_2705e_row3_col40, #T_2705e_row8_col21, #T_2705e_row9_col7, #T_2705e_row9_col10, #T_2705e_row11_col27, #T_2705e_row11_col30, #T_2705e_row20_col38, #T_2705e_row20_col39, #T_2705e_row23_col30, #T_2705e_row24_col0, #T_2705e_row30_col40, #T_2705e_row38_col14, #T_2705e_row38_col15, #T_2705e_row38_col16, #T_2705e_row38_col19, #T_2705e_row38_col22, #T_2705e_row38_col25, #T_2705e_row38_col28, #T_2705e_row38_col31 {\n",
              "  background-color: #adc9fd;\n",
              "  color: #000000;\n",
              "}\n",
              "#T_2705e_row4_col15, #T_2705e_row6_col38, #T_2705e_row12_col41, #T_2705e_row27_col34, #T_2705e_row29_col9, #T_2705e_row29_col39, #T_2705e_row34_col24, #T_2705e_row36_col18 {\n",
              "  background-color: #a1c0ff;\n",
              "  color: #000000;\n",
              "}\n",
              "#T_2705e_row4_col23, #T_2705e_row9_col5, #T_2705e_row11_col6, #T_2705e_row12_col20, #T_2705e_row20_col12, #T_2705e_row29_col6, #T_2705e_row29_col8, #T_2705e_row32_col8, #T_2705e_row37_col33, #T_2705e_row39_col11 {\n",
              "  background-color: #d9dce1;\n",
              "  color: #000000;\n",
              "}\n",
              "#T_2705e_row4_col26, #T_2705e_row4_col29, #T_2705e_row4_col32, #T_2705e_row6_col9, #T_2705e_row34_col3, #T_2705e_row35_col20, #T_2705e_row39_col3, #T_2705e_row39_col17, #T_2705e_row39_col23 {\n",
              "  background-color: #d3dbe7;\n",
              "  color: #000000;\n",
              "}\n",
              "#T_2705e_row4_col38, #T_2705e_row5_col0, #T_2705e_row7_col34, #T_2705e_row8_col24, #T_2705e_row10_col34, #T_2705e_row11_col7, #T_2705e_row11_col10, #T_2705e_row11_col34, #T_2705e_row26_col39 {\n",
              "  background-color: #b2ccfb;\n",
              "  color: #000000;\n",
              "}\n",
              "#T_2705e_row4_col41, #T_2705e_row7_col13, #T_2705e_row10_col13, #T_2705e_row18_col38, #T_2705e_row18_col41, #T_2705e_row26_col41, #T_2705e_row35_col18, #T_2705e_row40_col35 {\n",
              "  background-color: #80a3fa;\n",
              "  color: #f1f1f1;\n",
              "}\n",
              "#T_2705e_row5_col9, #T_2705e_row6_col17, #T_2705e_row9_col4, #T_2705e_row9_col41, #T_2705e_row13_col30, #T_2705e_row18_col4, #T_2705e_row18_col11, #T_2705e_row20_col36, #T_2705e_row21_col6, #T_2705e_row21_col11, #T_2705e_row29_col18, #T_2705e_row32_col35, #T_2705e_row35_col29, #T_2705e_row38_col17, #T_2705e_row38_col23 {\n",
              "  background-color: #cbd8ee;\n",
              "  color: #000000;\n",
              "}\n",
              "#T_2705e_row5_col12, #T_2705e_row8_col34, #T_2705e_row15_col26, #T_2705e_row17_col9, #T_2705e_row17_col24, #T_2705e_row21_col26, #T_2705e_row23_col39, #T_2705e_row24_col17, #T_2705e_row26_col15, #T_2705e_row33_col4, #T_2705e_row36_col11, #T_2705e_row38_col27, #T_2705e_row39_col13, #T_2705e_row39_col30, #T_2705e_row41_col34 {\n",
              "  background-color: #b3cdfb;\n",
              "  color: #000000;\n",
              "}\n",
              "#T_2705e_row5_col14, #T_2705e_row5_col16, #T_2705e_row5_col19, #T_2705e_row5_col22, #T_2705e_row5_col25, #T_2705e_row5_col28, #T_2705e_row5_col31, #T_2705e_row13_col39, #T_2705e_row27_col38, #T_2705e_row35_col27, #T_2705e_row41_col29, #T_2705e_row41_col32 {\n",
              "  background-color: #89acfd;\n",
              "  color: #000000;\n",
              "}\n",
              "#T_2705e_row5_col18, #T_2705e_row12_col23, #T_2705e_row20_col8, #T_2705e_row23_col12, #T_2705e_row38_col5, #T_2705e_row38_col35, #T_2705e_row40_col32 {\n",
              "  background-color: #d7dce3;\n",
              "  color: #000000;\n",
              "}\n",
              "#T_2705e_row5_col32, #T_2705e_row13_col6, #T_2705e_row14_col7, #T_2705e_row14_col10, #T_2705e_row16_col7, #T_2705e_row16_col10, #T_2705e_row19_col7, #T_2705e_row19_col10, #T_2705e_row20_col30, #T_2705e_row22_col7, #T_2705e_row22_col10, #T_2705e_row24_col6, #T_2705e_row25_col7, #T_2705e_row25_col10, #T_2705e_row27_col20, #T_2705e_row28_col7, #T_2705e_row28_col10, #T_2705e_row30_col20, #T_2705e_row31_col7, #T_2705e_row31_col10, #T_2705e_row35_col12, #T_2705e_row37_col27, #T_2705e_row38_col9, #T_2705e_row38_col32, #T_2705e_row39_col9 {\n",
              "  background-color: #c4d5f3;\n",
              "  color: #000000;\n",
              "}\n",
              "#T_2705e_row5_col35, #T_2705e_row6_col15, #T_2705e_row7_col38, #T_2705e_row10_col38, #T_2705e_row21_col0, #T_2705e_row29_col0, #T_2705e_row37_col39 {\n",
              "  background-color: #92b4fe;\n",
              "  color: #000000;\n",
              "}\n",
              "#T_2705e_row5_col37, #T_2705e_row6_col36, #T_2705e_row11_col32, #T_2705e_row17_col7, #T_2705e_row17_col10, #T_2705e_row18_col7, #T_2705e_row18_col10, #T_2705e_row30_col15, #T_2705e_row36_col6, #T_2705e_row37_col5, #T_2705e_row37_col15, #T_2705e_row41_col14, #T_2705e_row41_col16, #T_2705e_row41_col19, #T_2705e_row41_col22, #T_2705e_row41_col25, #T_2705e_row41_col28, #T_2705e_row41_col31 {\n",
              "  background-color: #e9d5cb;\n",
              "  color: #000000;\n",
              "}\n",
              "#T_2705e_row5_col38, #T_2705e_row6_col33, #T_2705e_row9_col23, #T_2705e_row23_col33, #T_2705e_row27_col39 {\n",
              "  background-color: #8badfd;\n",
              "  color: #000000;\n",
              "}\n",
              "#T_2705e_row5_col39, #T_2705e_row7_col14, #T_2705e_row7_col16, #T_2705e_row7_col19, #T_2705e_row7_col22, #T_2705e_row7_col25, #T_2705e_row7_col28, #T_2705e_row7_col31, #T_2705e_row9_col32, #T_2705e_row10_col14, #T_2705e_row10_col16, #T_2705e_row10_col19, #T_2705e_row10_col22, #T_2705e_row10_col25, #T_2705e_row10_col28, #T_2705e_row10_col31 {\n",
              "  background-color: #85a8fc;\n",
              "  color: #f1f1f1;\n",
              "}\n",
              "#T_2705e_row6_col18, #T_2705e_row32_col9, #T_2705e_row37_col0 {\n",
              "  background-color: #9fbfff;\n",
              "  color: #000000;\n",
              "}\n",
              "#T_2705e_row6_col30, #T_2705e_row11_col40, #T_2705e_row17_col38, #T_2705e_row34_col30, #T_2705e_row41_col18, #T_2705e_row41_col26 {\n",
              "  background-color: #aac7fd;\n",
              "  color: #000000;\n",
              "}\n",
              "#T_2705e_row6_col34, #T_2705e_row12_col32, #T_2705e_row20_col21, #T_2705e_row21_col20, #T_2705e_row24_col12, #T_2705e_row27_col11, #T_2705e_row30_col11, #T_2705e_row32_col12, #T_2705e_row38_col12, #T_2705e_row39_col34 {\n",
              "  background-color: #c1d4f4;\n",
              "  color: #000000;\n",
              "}\n",
              "#T_2705e_row6_col40, #T_2705e_row21_col35 {\n",
              "  background-color: #7295f4;\n",
              "  color: #f1f1f1;\n",
              "}\n",
              "#T_2705e_row7_col0, #T_2705e_row10_col0, #T_2705e_row38_col0 {\n",
              "  background-color: #7093f3;\n",
              "  color: #f1f1f1;\n",
              "}\n",
              "#T_2705e_row7_col11, #T_2705e_row9_col26, #T_2705e_row10_col11, #T_2705e_row33_col0, #T_2705e_row36_col21 {\n",
              "  background-color: #9dbdff;\n",
              "  color: #000000;\n",
              "}\n",
              "#T_2705e_row7_col12, #T_2705e_row10_col12, #T_2705e_row15_col24, #T_2705e_row24_col15 {\n",
              "  background-color: #f7b79b;\n",
              "  color: #000000;\n",
              "}\n",
              "#T_2705e_row7_col21, #T_2705e_row9_col33, #T_2705e_row10_col21, #T_2705e_row11_col24, #T_2705e_row18_col29, #T_2705e_row18_col32, #T_2705e_row21_col9, #T_2705e_row26_col3, #T_2705e_row27_col4, #T_2705e_row27_col8, #T_2705e_row29_col3, #T_2705e_row30_col4, #T_2705e_row30_col8, #T_2705e_row32_col3, #T_2705e_row32_col18, #T_2705e_row32_col24, #T_2705e_row35_col32 {\n",
              "  background-color: #ccd9ed;\n",
              "  color: #000000;\n",
              "}\n",
              "#T_2705e_row7_col24, #T_2705e_row10_col24, #T_2705e_row20_col24, #T_2705e_row20_col27, #T_2705e_row20_col34, #T_2705e_row34_col12, #T_2705e_row41_col12 {\n",
              "  background-color: #c5d6f2;\n",
              "  color: #000000;\n",
              "}\n",
              "#T_2705e_row8_col0 {\n",
              "  background-color: #7699f6;\n",
              "  color: #f1f1f1;\n",
              "}\n",
              "#T_2705e_row8_col9, #T_2705e_row15_col18, #T_2705e_row18_col15, #T_2705e_row24_col18, #T_2705e_row35_col4 {\n",
              "  background-color: #f4c5ad;\n",
              "  color: #000000;\n",
              "}\n",
              "#T_2705e_row8_col12 {\n",
              "  background-color: #5d7ce6;\n",
              "  color: #f1f1f1;\n",
              "}\n",
              "#T_2705e_row8_col13, #T_2705e_row9_col36, #T_2705e_row12_col30, #T_2705e_row17_col4, #T_2705e_row18_col5, #T_2705e_row30_col12, #T_2705e_row30_col33, #T_2705e_row35_col36, #T_2705e_row40_col5, #T_2705e_row41_col9 {\n",
              "  background-color: #edd1c2;\n",
              "  color: #000000;\n",
              "}\n",
              "#T_2705e_row8_col23, #T_2705e_row12_col33, #T_2705e_row13_col9, #T_2705e_row23_col27, #T_2705e_row26_col38, #T_2705e_row37_col12 {\n",
              "  background-color: #afcafc;\n",
              "  color: #000000;\n",
              "}\n",
              "#T_2705e_row9_col0, #T_2705e_row38_col39, #T_2705e_row38_col41, #T_2705e_row39_col38, #T_2705e_row39_col41 {\n",
              "  background-color: #506bda;\n",
              "  color: #f1f1f1;\n",
              "}\n",
              "#T_2705e_row9_col3, #T_2705e_row17_col20, #T_2705e_row17_col23, #T_2705e_row18_col3, #T_2705e_row20_col17, #T_2705e_row20_col26, #T_2705e_row20_col29, #T_2705e_row20_col32, #T_2705e_row20_col37, #T_2705e_row21_col5, #T_2705e_row26_col32, #T_2705e_row27_col33, #T_2705e_row29_col20, #T_2705e_row32_col20, #T_2705e_row32_col26 {\n",
              "  background-color: #ecd3c5;\n",
              "  color: #000000;\n",
              "}\n",
              "#T_2705e_row9_col6, #T_2705e_row11_col5, #T_2705e_row11_col20, #T_2705e_row11_col23, #T_2705e_row13_col40, #T_2705e_row24_col40, #T_2705e_row29_col5, #T_2705e_row29_col7, #T_2705e_row29_col10, #T_2705e_row32_col7, #T_2705e_row32_col10, #T_2705e_row35_col11, #T_2705e_row37_col32 {\n",
              "  background-color: #e0dbd8;\n",
              "  color: #000000;\n",
              "}\n",
              "#T_2705e_row9_col8 {\n",
              "  background-color: #f7ba9f;\n",
              "  color: #000000;\n",
              "}\n",
              "#T_2705e_row9_col37, #T_2705e_row15_col23, #T_2705e_row17_col3, #T_2705e_row18_col6, #T_2705e_row26_col34, #T_2705e_row34_col32, #T_2705e_row35_col37, #T_2705e_row39_col32, #T_2705e_row40_col6 {\n",
              "  background-color: #c9d7f0;\n",
              "  color: #000000;\n",
              "}\n",
              "#T_2705e_row11_col0, #T_2705e_row12_col38 {\n",
              "  background-color: #9bbcff;\n",
              "  color: #000000;\n",
              "}\n",
              "#T_2705e_row11_col4, #T_2705e_row15_col3, #T_2705e_row18_col37, #T_2705e_row20_col4, #T_2705e_row26_col20, #T_2705e_row33_col27 {\n",
              "  background-color: #edd2c3;\n",
              "  color: #000000;\n",
              "}\n",
              "#T_2705e_row11_col8, #T_2705e_row13_col15, #T_2705e_row15_col13, #T_2705e_row21_col24 {\n",
              "  background-color: #f6bfa6;\n",
              "  color: #000000;\n",
              "}\n",
              "#T_2705e_row11_col13, #T_2705e_row18_col21, #T_2705e_row21_col18, #T_2705e_row24_col37 {\n",
              "  background-color: #f3c8b2;\n",
              "  color: #000000;\n",
              "}\n",
              "#T_2705e_row11_col14, #T_2705e_row11_col16, #T_2705e_row11_col19, #T_2705e_row11_col22, #T_2705e_row11_col25, #T_2705e_row11_col28, #T_2705e_row11_col31, #T_2705e_row18_col35, #T_2705e_row18_col39, #T_2705e_row24_col38, #T_2705e_row33_col26, #T_2705e_row34_col35, #T_2705e_row41_col13 {\n",
              "  background-color: #7ea1fa;\n",
              "  color: #f1f1f1;\n",
              "}\n",
              "#T_2705e_row11_col18, #T_2705e_row21_col29, #T_2705e_row26_col13, #T_2705e_row29_col21, #T_2705e_row34_col14, #T_2705e_row34_col16, #T_2705e_row34_col19, #T_2705e_row34_col22, #T_2705e_row34_col25, #T_2705e_row34_col28, #T_2705e_row34_col31, #T_2705e_row38_col30 {\n",
              "  background-color: #b7cff9;\n",
              "  color: #000000;\n",
              "}\n",
              "#T_2705e_row11_col29, #T_2705e_row15_col27, #T_2705e_row30_col5, #T_2705e_row36_col14, #T_2705e_row36_col16, #T_2705e_row36_col19, #T_2705e_row36_col22, #T_2705e_row36_col25, #T_2705e_row36_col28, #T_2705e_row36_col31, #T_2705e_row40_col3, #T_2705e_row41_col3 {\n",
              "  background-color: #e8d6cc;\n",
              "  color: #000000;\n",
              "}\n",
              "#T_2705e_row11_col37, #T_2705e_row21_col37, #T_2705e_row27_col12, #T_2705e_row33_col37 {\n",
              "  background-color: #efcfbf;\n",
              "  color: #000000;\n",
              "}\n",
              "#T_2705e_row11_col41 {\n",
              "  background-color: #5e7de7;\n",
              "  color: #f1f1f1;\n",
              "}\n",
              "#T_2705e_row12_col0 {\n",
              "  background-color: #5875e1;\n",
              "  color: #f1f1f1;\n",
              "}\n",
              "#T_2705e_row12_col7, #T_2705e_row12_col10 {\n",
              "  background-color: #f6a283;\n",
              "  color: #000000;\n",
              "}\n",
              "#T_2705e_row12_col14, #T_2705e_row12_col16, #T_2705e_row12_col19, #T_2705e_row12_col22, #T_2705e_row12_col25, #T_2705e_row12_col28, #T_2705e_row12_col31, #T_2705e_row20_col14, #T_2705e_row20_col16, #T_2705e_row20_col19, #T_2705e_row20_col22, #T_2705e_row20_col25, #T_2705e_row20_col28, #T_2705e_row20_col31, #T_2705e_row23_col14, #T_2705e_row23_col16, #T_2705e_row23_col19, #T_2705e_row23_col22, #T_2705e_row23_col25, #T_2705e_row23_col28, #T_2705e_row23_col31 {\n",
              "  background-color: #5673e0;\n",
              "  color: #f1f1f1;\n",
              "}\n",
              "#T_2705e_row12_col17, #T_2705e_row13_col5, #T_2705e_row14_col8, #T_2705e_row16_col8, #T_2705e_row17_col12, #T_2705e_row19_col8, #T_2705e_row22_col8, #T_2705e_row24_col5, #T_2705e_row25_col8, #T_2705e_row28_col8, #T_2705e_row29_col11, #T_2705e_row31_col8, #T_2705e_row32_col13, #T_2705e_row37_col13, #T_2705e_row40_col13, #T_2705e_row40_col24 {\n",
              "  background-color: #f0cdbb;\n",
              "  color: #000000;\n",
              "}\n",
              "#T_2705e_row12_col26, #T_2705e_row12_col27, #T_2705e_row18_col27, #T_2705e_row18_col30, #T_2705e_row26_col12, #T_2705e_row27_col18, #T_2705e_row30_col18, #T_2705e_row40_col15 {\n",
              "  background-color: #efcebd;\n",
              "  color: #000000;\n",
              "}\n",
              "#T_2705e_row12_col36, #T_2705e_row23_col7, #T_2705e_row23_col10, #T_2705e_row26_col35, #T_2705e_row34_col6, #T_2705e_row40_col18, #T_2705e_row40_col21, #T_2705e_row41_col6 {\n",
              "  background-color: #e5d8d1;\n",
              "  color: #000000;\n",
              "}\n",
              "#T_2705e_row12_col40, #T_2705e_row26_col33 {\n",
              "  background-color: #7da0f9;\n",
              "  color: #f1f1f1;\n",
              "}\n",
              "#T_2705e_row13_col8, #T_2705e_row24_col21, #T_2705e_row27_col21 {\n",
              "  background-color: #f6bea4;\n",
              "  color: #000000;\n",
              "}\n",
              "#T_2705e_row13_col11, #T_2705e_row21_col27 {\n",
              "  background-color: #f6bda2;\n",
              "  color: #000000;\n",
              "}\n",
              "#T_2705e_row13_col14, #T_2705e_row13_col16, #T_2705e_row13_col19, #T_2705e_row13_col22, #T_2705e_row13_col25, #T_2705e_row13_col28, #T_2705e_row13_col31, #T_2705e_row18_col14, #T_2705e_row18_col16, #T_2705e_row18_col19, #T_2705e_row18_col22, #T_2705e_row18_col25, #T_2705e_row18_col28, #T_2705e_row18_col31 {\n",
              "  background-color: #445acc;\n",
              "  color: #f1f1f1;\n",
              "}\n",
              "#T_2705e_row13_col18, #T_2705e_row18_col13, #T_2705e_row26_col6, #T_2705e_row30_col37, #T_2705e_row36_col9, #T_2705e_row37_col29, #T_2705e_row39_col6 {\n",
              "  background-color: #e4d9d2;\n",
              "  color: #000000;\n",
              "}\n",
              "#T_2705e_row13_col24, #T_2705e_row15_col33, #T_2705e_row23_col32, #T_2705e_row24_col13, #T_2705e_row32_col23, #T_2705e_row33_col3, #T_2705e_row33_col15, #T_2705e_row33_col21 {\n",
              "  background-color: #f5c0a7;\n",
              "  color: #000000;\n",
              "}\n",
              "#T_2705e_row13_col29, #T_2705e_row15_col5, #T_2705e_row18_col33, #T_2705e_row27_col24, #T_2705e_row29_col13, #T_2705e_row32_col37, #T_2705e_row35_col6, #T_2705e_row40_col37 {\n",
              "  background-color: #f2cbb7;\n",
              "  color: #000000;\n",
              "}\n",
              "#T_2705e_row13_col32, #T_2705e_row23_col26, #T_2705e_row32_col11, #T_2705e_row40_col33 {\n",
              "  background-color: #f1cdba;\n",
              "  color: #000000;\n",
              "}\n",
              "#T_2705e_row13_col33, #T_2705e_row33_col13, #T_2705e_row34_col4, #T_2705e_row35_col26, #T_2705e_row37_col11, #T_2705e_row39_col4 {\n",
              "  background-color: #e6d7cf;\n",
              "  color: #000000;\n",
              "}\n",
              "#T_2705e_row13_col35 {\n",
              "  background-color: #8fb1fe;\n",
              "  color: #000000;\n",
              "}\n",
              "#T_2705e_row13_col37, #T_2705e_row24_col33, #T_2705e_row33_col24 {\n",
              "  background-color: #f7b99e;\n",
              "  color: #000000;\n",
              "}\n",
              "#T_2705e_row13_col38, #T_2705e_row35_col13, #T_2705e_row39_col33 {\n",
              "  background-color: #90b2fe;\n",
              "  color: #000000;\n",
              "}\n",
              "#T_2705e_row13_col41, #T_2705e_row30_col14, #T_2705e_row30_col16, #T_2705e_row30_col19, #T_2705e_row30_col22, #T_2705e_row30_col25, #T_2705e_row30_col28, #T_2705e_row30_col31, #T_2705e_row32_col14, #T_2705e_row32_col16, #T_2705e_row32_col19, #T_2705e_row32_col22, #T_2705e_row32_col25, #T_2705e_row32_col28, #T_2705e_row32_col31 {\n",
              "  background-color: #4e68d8;\n",
              "  color: #f1f1f1;\n",
              "}\n",
              "#T_2705e_row14_col0, #T_2705e_row16_col0, #T_2705e_row19_col0, #T_2705e_row22_col0, #T_2705e_row25_col0, #T_2705e_row28_col0, #T_2705e_row31_col0 {\n",
              "  background-color: #4358cb;\n",
              "  color: #f1f1f1;\n",
              "}\n",
              "#T_2705e_row14_col9, #T_2705e_row15_col21, #T_2705e_row16_col9, #T_2705e_row18_col24, #T_2705e_row19_col9, #T_2705e_row22_col9, #T_2705e_row25_col9, #T_2705e_row28_col9, #T_2705e_row31_col9 {\n",
              "  background-color: #f4c6af;\n",
              "  color: #000000;\n",
              "}\n",
              "#T_2705e_row14_col12, #T_2705e_row16_col12, #T_2705e_row19_col12, #T_2705e_row22_col12, #T_2705e_row25_col12, #T_2705e_row28_col12, #T_2705e_row31_col12, #T_2705e_row40_col14, #T_2705e_row40_col16, #T_2705e_row40_col19, #T_2705e_row40_col22, #T_2705e_row40_col25, #T_2705e_row40_col28, #T_2705e_row40_col31 {\n",
              "  background-color: #6e90f2;\n",
              "  color: #f1f1f1;\n",
              "}\n",
              "#T_2705e_row14_col13, #T_2705e_row14_col18, #T_2705e_row14_col21, #T_2705e_row16_col13, #T_2705e_row16_col18, #T_2705e_row16_col21, #T_2705e_row19_col13, #T_2705e_row19_col18, #T_2705e_row19_col21, #T_2705e_row22_col13, #T_2705e_row22_col18, #T_2705e_row22_col21, #T_2705e_row25_col13, #T_2705e_row25_col18, #T_2705e_row25_col21, #T_2705e_row28_col13, #T_2705e_row28_col18, #T_2705e_row28_col21, #T_2705e_row31_col13, #T_2705e_row31_col18, #T_2705e_row31_col21 {\n",
              "  background-color: #5b7ae5;\n",
              "  color: #f1f1f1;\n",
              "}\n",
              "#T_2705e_row14_col15, #T_2705e_row14_col24, #T_2705e_row16_col15, #T_2705e_row16_col24, #T_2705e_row19_col15, #T_2705e_row19_col24, #T_2705e_row22_col15, #T_2705e_row22_col24, #T_2705e_row25_col15, #T_2705e_row25_col24, #T_2705e_row28_col15, #T_2705e_row28_col24, #T_2705e_row29_col14, #T_2705e_row29_col16, #T_2705e_row29_col19, #T_2705e_row29_col22, #T_2705e_row29_col25, #T_2705e_row29_col28, #T_2705e_row29_col31, #T_2705e_row31_col15, #T_2705e_row31_col24, #T_2705e_row41_col38, #T_2705e_row41_col39 {\n",
              "  background-color: #4f69d9;\n",
              "  color: #f1f1f1;\n",
              "}\n",
              "#T_2705e_row14_col17, #T_2705e_row14_col26, #T_2705e_row16_col17, #T_2705e_row16_col26, #T_2705e_row19_col17, #T_2705e_row19_col26, #T_2705e_row22_col17, #T_2705e_row22_col26, #T_2705e_row25_col17, #T_2705e_row25_col26, #T_2705e_row28_col17, #T_2705e_row28_col26, #T_2705e_row31_col17, #T_2705e_row31_col26, #T_2705e_row35_col21 {\n",
              "  background-color: #7597f6;\n",
              "  color: #f1f1f1;\n",
              "}\n",
              "#T_2705e_row14_col20, #T_2705e_row14_col23, #T_2705e_row16_col20, #T_2705e_row16_col23, #T_2705e_row19_col20, #T_2705e_row19_col23, #T_2705e_row22_col20, #T_2705e_row22_col23, #T_2705e_row25_col20, #T_2705e_row25_col23, #T_2705e_row28_col20, #T_2705e_row28_col23, #T_2705e_row31_col20, #T_2705e_row31_col23 {\n",
              "  background-color: #6c8ff1;\n",
              "  color: #f1f1f1;\n",
              "}\n",
              "#T_2705e_row14_col27, #T_2705e_row16_col27, #T_2705e_row19_col27, #T_2705e_row22_col27, #T_2705e_row25_col27, #T_2705e_row28_col27, #T_2705e_row31_col27 {\n",
              "  background-color: #6384eb;\n",
              "  color: #f1f1f1;\n",
              "}\n",
              "#T_2705e_row14_col29, #T_2705e_row14_col32, #T_2705e_row16_col29, #T_2705e_row16_col32, #T_2705e_row19_col29, #T_2705e_row19_col32, #T_2705e_row22_col29, #T_2705e_row22_col32, #T_2705e_row25_col29, #T_2705e_row25_col32, #T_2705e_row28_col29, #T_2705e_row28_col32, #T_2705e_row31_col29, #T_2705e_row31_col32, #T_2705e_row37_col14, #T_2705e_row37_col16, #T_2705e_row37_col19, #T_2705e_row37_col22, #T_2705e_row37_col25, #T_2705e_row37_col28, #T_2705e_row37_col31 {\n",
              "  background-color: #6687ed;\n",
              "  color: #f1f1f1;\n",
              "}\n",
              "#T_2705e_row14_col30, #T_2705e_row16_col30, #T_2705e_row19_col30, #T_2705e_row22_col30, #T_2705e_row25_col30, #T_2705e_row26_col0, #T_2705e_row28_col30, #T_2705e_row31_col30, #T_2705e_row34_col0, #T_2705e_row36_col40 {\n",
              "  background-color: #6485ec;\n",
              "  color: #f1f1f1;\n",
              "}\n",
              "#T_2705e_row14_col33, #T_2705e_row16_col33, #T_2705e_row18_col0, #T_2705e_row19_col33, #T_2705e_row22_col33, #T_2705e_row25_col33, #T_2705e_row28_col33, #T_2705e_row30_col38, #T_2705e_row31_col33, #T_2705e_row36_col24 {\n",
              "  background-color: #8caffe;\n",
              "  color: #000000;\n",
              "}\n",
              "#T_2705e_row14_col35, #T_2705e_row16_col35, #T_2705e_row19_col35, #T_2705e_row22_col35, #T_2705e_row25_col35, #T_2705e_row26_col37, #T_2705e_row27_col37, #T_2705e_row28_col35, #T_2705e_row31_col35, #T_2705e_row32_col5, #T_2705e_row33_col40 {\n",
              "  background-color: #e1dad6;\n",
              "  color: #000000;\n",
              "}\n",
              "#T_2705e_row14_col36, #T_2705e_row16_col36, #T_2705e_row19_col36, #T_2705e_row21_col30, #T_2705e_row22_col36, #T_2705e_row25_col36, #T_2705e_row28_col36, #T_2705e_row30_col21, #T_2705e_row31_col36 {\n",
              "  background-color: #f7bca1;\n",
              "  color: #000000;\n",
              "}\n",
              "#T_2705e_row14_col40, #T_2705e_row16_col40, #T_2705e_row19_col40, #T_2705e_row22_col40, #T_2705e_row25_col40, #T_2705e_row28_col40, #T_2705e_row31_col40, #T_2705e_row35_col0 {\n",
              "  background-color: #5470de;\n",
              "  color: #f1f1f1;\n",
              "}\n",
              "#T_2705e_row15_col30, #T_2705e_row23_col37, #T_2705e_row26_col7, #T_2705e_row26_col10, #T_2705e_row27_col5 {\n",
              "  background-color: #ead5c9;\n",
              "  color: #000000;\n",
              "}\n",
              "#T_2705e_row15_col37, #T_2705e_row23_col29, #T_2705e_row29_col23 {\n",
              "  background-color: #f5c2aa;\n",
              "  color: #000000;\n",
              "}\n",
              "#T_2705e_row15_col38, #T_2705e_row17_col41, #T_2705e_row21_col38 {\n",
              "  background-color: #82a6fb;\n",
              "  color: #f1f1f1;\n",
              "}\n",
              "#T_2705e_row15_col41, #T_2705e_row23_col41, #T_2705e_row33_col38 {\n",
              "  background-color: #688aef;\n",
              "  color: #f1f1f1;\n",
              "}\n",
              "#T_2705e_row17_col0, #T_2705e_row20_col41, #T_2705e_row24_col41 {\n",
              "  background-color: #6a8bef;\n",
              "  color: #f1f1f1;\n",
              "}\n",
              "#T_2705e_row17_col5, #T_2705e_row17_col27, #T_2705e_row20_col35, #T_2705e_row21_col8, #T_2705e_row39_col26 {\n",
              "  background-color: #d2dbe8;\n",
              "  color: #000000;\n",
              "}\n",
              "#T_2705e_row17_col14, #T_2705e_row17_col16, #T_2705e_row17_col19, #T_2705e_row17_col22, #T_2705e_row17_col25, #T_2705e_row17_col28, #T_2705e_row17_col31 {\n",
              "  background-color: #6180e9;\n",
              "  color: #f1f1f1;\n",
              "}\n",
              "#T_2705e_row17_col26, #T_2705e_row24_col27, #T_2705e_row26_col17, #T_2705e_row30_col24, #T_2705e_row33_col18, #T_2705e_row41_col36 {\n",
              "  background-color: #f2cab5;\n",
              "  color: #000000;\n",
              "}\n",
              "#T_2705e_row17_col40, #T_2705e_row24_col39, #T_2705e_row30_col0 {\n",
              "  background-color: #7b9ff9;\n",
              "  color: #f1f1f1;\n",
              "}\n",
              "#T_2705e_row20_col0, #T_2705e_row30_col39 {\n",
              "  background-color: #88abfd;\n",
              "  color: #000000;\n",
              "}\n",
              "#T_2705e_row20_col11, #T_2705e_row23_col11, #T_2705e_row23_col17, #T_2705e_row26_col4, #T_2705e_row26_col29, #T_2705e_row27_col3, #T_2705e_row27_col7, #T_2705e_row27_col10, #T_2705e_row29_col4, #T_2705e_row30_col3, #T_2705e_row30_col7, #T_2705e_row30_col10, #T_2705e_row32_col4 {\n",
              "  background-color: #ebd3c6;\n",
              "  color: #000000;\n",
              "}\n",
              "#T_2705e_row21_col14, #T_2705e_row21_col16, #T_2705e_row21_col19, #T_2705e_row21_col22, #T_2705e_row21_col25, #T_2705e_row21_col28, #T_2705e_row21_col31 {\n",
              "  background-color: #455cce;\n",
              "  color: #f1f1f1;\n",
              "}\n",
              "#T_2705e_row21_col15, #T_2705e_row29_col37, #T_2705e_row33_col5 {\n",
              "  background-color: #f3c7b1;\n",
              "  color: #000000;\n",
              "}\n",
              "#T_2705e_row21_col33 {\n",
              "  background-color: #f5c1a9;\n",
              "  color: #000000;\n",
              "}\n",
              "#T_2705e_row24_col35, #T_2705e_row35_col24 {\n",
              "  background-color: #6788ee;\n",
              "  color: #f1f1f1;\n",
              "}\n",
              "#T_2705e_row26_col14, #T_2705e_row26_col16, #T_2705e_row26_col19, #T_2705e_row26_col22, #T_2705e_row26_col25, #T_2705e_row26_col28, #T_2705e_row26_col31 {\n",
              "  background-color: #5f7fe8;\n",
              "  color: #f1f1f1;\n",
              "}\n",
              "#T_2705e_row26_col23 {\n",
              "  background-color: #f1ccb8;\n",
              "  color: #000000;\n",
              "}\n",
              "#T_2705e_row26_col40, #T_2705e_row33_col14, #T_2705e_row33_col16, #T_2705e_row33_col19, #T_2705e_row33_col22, #T_2705e_row33_col25, #T_2705e_row33_col28, #T_2705e_row33_col31, #T_2705e_row34_col40 {\n",
              "  background-color: #7a9df8;\n",
              "  color: #f1f1f1;\n",
              "}\n",
              "#T_2705e_row27_col14, #T_2705e_row27_col16, #T_2705e_row27_col19, #T_2705e_row27_col22, #T_2705e_row27_col25, #T_2705e_row27_col28, #T_2705e_row27_col31 {\n",
              "  background-color: #4c66d6;\n",
              "  color: #f1f1f1;\n",
              "}\n",
              "#T_2705e_row27_col30, #T_2705e_row29_col32, #T_2705e_row30_col27, #T_2705e_row32_col29 {\n",
              "  background-color: #f6a385;\n",
              "  color: #000000;\n",
              "}\n",
              "#T_2705e_row29_col41, #T_2705e_row32_col41 {\n",
              "  background-color: #5977e3;\n",
              "  color: #f1f1f1;\n",
              "}\n",
              "#T_2705e_row33_col39, #T_2705e_row37_col41 {\n",
              "  background-color: #6282ea;\n",
              "  color: #f1f1f1;\n",
              "}\n",
              "#T_2705e_row34_col33 {\n",
              "  background-color: #465ecf;\n",
              "  color: #f1f1f1;\n",
              "}\n",
              "#T_2705e_row35_col34 {\n",
              "  background-color: #7396f5;\n",
              "  color: #f1f1f1;\n",
              "}\n",
              "#T_2705e_row35_col40 {\n",
              "  background-color: #516ddb;\n",
              "  color: #f1f1f1;\n",
              "}\n",
              "#T_2705e_row36_col0, #T_2705e_row41_col0 {\n",
              "  background-color: #4a63d3;\n",
              "  color: #f1f1f1;\n",
              "}\n",
              "#T_2705e_row38_col40, #T_2705e_row39_col40 {\n",
              "  background-color: #3c4ec2;\n",
              "  color: #f1f1f1;\n",
              "}\n",
              "#T_2705e_row39_col0 {\n",
              "  background-color: #6b8df0;\n",
              "  color: #f1f1f1;\n",
              "}\n",
              "</style>\n",
              "<table id=\"T_2705e_\" class=\"dataframe\">\n",
              "  <thead>\n",
              "    <tr>\n",
              "      <th class=\"blank level0\" >&nbsp;</th>\n",
              "      <th class=\"col_heading level0 col0\" >IsSeniorCitizen</th>\n",
              "      <th class=\"col_heading level0 col1\" >Sex_Female</th>\n",
              "      <th class=\"col_heading level0 col2\" >Sex_Male</th>\n",
              "      <th class=\"col_heading level0 col3\" >HasPartner_No</th>\n",
              "      <th class=\"col_heading level0 col4\" >HasPartner_Yes</th>\n",
              "      <th class=\"col_heading level0 col5\" >HasChild_No</th>\n",
              "      <th class=\"col_heading level0 col6\" >HasChild_Yes</th>\n",
              "      <th class=\"col_heading level0 col7\" >HasPhoneService_No</th>\n",
              "      <th class=\"col_heading level0 col8\" >HasPhoneService_Yes</th>\n",
              "      <th class=\"col_heading level0 col9\" >HasMultiplePhoneNumbers_No</th>\n",
              "      <th class=\"col_heading level0 col10\" >HasMultiplePhoneNumbers_No phone service</th>\n",
              "      <th class=\"col_heading level0 col11\" >HasMultiplePhoneNumbers_Yes</th>\n",
              "      <th class=\"col_heading level0 col12\" >HasInternetService_DSL</th>\n",
              "      <th class=\"col_heading level0 col13\" >HasInternetService_Fiber optic</th>\n",
              "      <th class=\"col_heading level0 col14\" >HasInternetService_No</th>\n",
              "      <th class=\"col_heading level0 col15\" >HasOnlineSecurityService_No</th>\n",
              "      <th class=\"col_heading level0 col16\" >HasOnlineSecurityService_No internet service</th>\n",
              "      <th class=\"col_heading level0 col17\" >HasOnlineSecurityService_Yes</th>\n",
              "      <th class=\"col_heading level0 col18\" >HasOnlineBackup_No</th>\n",
              "      <th class=\"col_heading level0 col19\" >HasOnlineBackup_No internet service</th>\n",
              "      <th class=\"col_heading level0 col20\" >HasOnlineBackup_Yes</th>\n",
              "      <th class=\"col_heading level0 col21\" >HasDeviceProtection_No</th>\n",
              "      <th class=\"col_heading level0 col22\" >HasDeviceProtection_No internet service</th>\n",
              "      <th class=\"col_heading level0 col23\" >HasDeviceProtection_Yes</th>\n",
              "      <th class=\"col_heading level0 col24\" >HasTechSupportAccess_No</th>\n",
              "      <th class=\"col_heading level0 col25\" >HasTechSupportAccess_No internet service</th>\n",
              "      <th class=\"col_heading level0 col26\" >HasTechSupportAccess_Yes</th>\n",
              "      <th class=\"col_heading level0 col27\" >HasOnlineTV_No</th>\n",
              "      <th class=\"col_heading level0 col28\" >HasOnlineTV_No internet service</th>\n",
              "      <th class=\"col_heading level0 col29\" >HasOnlineTV_Yes</th>\n",
              "      <th class=\"col_heading level0 col30\" >HasMovieSubscription_No</th>\n",
              "      <th class=\"col_heading level0 col31\" >HasMovieSubscription_No internet service</th>\n",
              "      <th class=\"col_heading level0 col32\" >HasMovieSubscription_Yes</th>\n",
              "      <th class=\"col_heading level0 col33\" >HasContractPhone_Month-to-month</th>\n",
              "      <th class=\"col_heading level0 col34\" >HasContractPhone_One year</th>\n",
              "      <th class=\"col_heading level0 col35\" >HasContractPhone_Two year</th>\n",
              "      <th class=\"col_heading level0 col36\" >IsBillingPaperless_No</th>\n",
              "      <th class=\"col_heading level0 col37\" >IsBillingPaperless_Yes</th>\n",
              "      <th class=\"col_heading level0 col38\" >PaymentMethod_Bank transfer (automatic)</th>\n",
              "      <th class=\"col_heading level0 col39\" >PaymentMethod_Credit card (automatic)</th>\n",
              "      <th class=\"col_heading level0 col40\" >PaymentMethod_Electronic check</th>\n",
              "      <th class=\"col_heading level0 col41\" >PaymentMethod_Mailed check</th>\n",
              "    </tr>\n",
              "  </thead>\n",
              "  <tbody>\n",
              "    <tr>\n",
              "      <th id=\"T_2705e_level0_row0\" class=\"row_heading level0 row0\" >IsSeniorCitizen</th>\n",
              "      <td id=\"T_2705e_row0_col0\" class=\"data row0 col0\" >1.000000</td>\n",
              "      <td id=\"T_2705e_row0_col1\" class=\"data row0 col1\" >-0.013207</td>\n",
              "      <td id=\"T_2705e_row0_col2\" class=\"data row0 col2\" >0.013207</td>\n",
              "      <td id=\"T_2705e_row0_col3\" class=\"data row0 col3\" >-0.016764</td>\n",
              "      <td id=\"T_2705e_row0_col4\" class=\"data row0 col4\" >0.016764</td>\n",
              "      <td id=\"T_2705e_row0_col5\" class=\"data row0 col5\" >0.217007</td>\n",
              "      <td id=\"T_2705e_row0_col6\" class=\"data row0 col6\" >-0.217007</td>\n",
              "      <td id=\"T_2705e_row0_col7\" class=\"data row0 col7\" >-0.008763</td>\n",
              "      <td id=\"T_2705e_row0_col8\" class=\"data row0 col8\" >0.008763</td>\n",
              "      <td id=\"T_2705e_row0_col9\" class=\"data row0 col9\" >-0.128706</td>\n",
              "      <td id=\"T_2705e_row0_col10\" class=\"data row0 col10\" >-0.008763</td>\n",
              "      <td id=\"T_2705e_row0_col11\" class=\"data row0 col11\" >0.135267</td>\n",
              "      <td id=\"T_2705e_row0_col12\" class=\"data row0 col12\" >-0.102503</td>\n",
              "      <td id=\"T_2705e_row0_col13\" class=\"data row0 col13\" >0.247603</td>\n",
              "      <td id=\"T_2705e_row0_col14\" class=\"data row0 col14\" >-0.180831</td>\n",
              "      <td id=\"T_2705e_row0_col15\" class=\"data row0 col15\" >0.180638</td>\n",
              "      <td id=\"T_2705e_row0_col16\" class=\"data row0 col16\" >-0.180831</td>\n",
              "      <td id=\"T_2705e_row0_col17\" class=\"data row0 col17\" >-0.035052</td>\n",
              "      <td id=\"T_2705e_row0_col18\" class=\"data row0 col18\" >0.084633</td>\n",
              "      <td id=\"T_2705e_row0_col19\" class=\"data row0 col19\" >-0.180831</td>\n",
              "      <td id=\"T_2705e_row0_col20\" class=\"data row0 col20\" >0.068258</td>\n",
              "      <td id=\"T_2705e_row0_col21\" class=\"data row0 col21\" >0.103860</td>\n",
              "      <td id=\"T_2705e_row0_col22\" class=\"data row0 col22\" >-0.180831</td>\n",
              "      <td id=\"T_2705e_row0_col23\" class=\"data row0 col23\" >0.048119</td>\n",
              "      <td id=\"T_2705e_row0_col24\" class=\"data row0 col24\" >0.198516</td>\n",
              "      <td id=\"T_2705e_row0_col25\" class=\"data row0 col25\" >-0.180831</td>\n",
              "      <td id=\"T_2705e_row0_col26\" class=\"data row0 col26\" >-0.054669</td>\n",
              "      <td id=\"T_2705e_row0_col27\" class=\"data row0 col27\" >0.047982</td>\n",
              "      <td id=\"T_2705e_row0_col28\" class=\"data row0 col28\" >-0.180831</td>\n",
              "      <td id=\"T_2705e_row0_col29\" class=\"data row0 col29\" >0.104599</td>\n",
              "      <td id=\"T_2705e_row0_col30\" class=\"data row0 col30\" >0.028863</td>\n",
              "      <td id=\"T_2705e_row0_col31\" class=\"data row0 col31\" >-0.180831</td>\n",
              "      <td id=\"T_2705e_row0_col32\" class=\"data row0 col32\" >0.123656</td>\n",
              "      <td id=\"T_2705e_row0_col33\" class=\"data row0 col33\" >0.143054</td>\n",
              "      <td id=\"T_2705e_row0_col34\" class=\"data row0 col34\" >-0.051876</td>\n",
              "      <td id=\"T_2705e_row0_col35\" class=\"data row0 col35\" >-0.117132</td>\n",
              "      <td id=\"T_2705e_row0_col36\" class=\"data row0 col36\" >-0.151964</td>\n",
              "      <td id=\"T_2705e_row0_col37\" class=\"data row0 col37\" >0.151964</td>\n",
              "      <td id=\"T_2705e_row0_col38\" class=\"data row0 col38\" >-0.010942</td>\n",
              "      <td id=\"T_2705e_row0_col39\" class=\"data row0 col39\" >-0.027889</td>\n",
              "      <td id=\"T_2705e_row0_col40\" class=\"data row0 col40\" >0.169778</td>\n",
              "      <td id=\"T_2705e_row0_col41\" class=\"data row0 col41\" >-0.153740</td>\n",
              "    </tr>\n",
              "    <tr>\n",
              "      <th id=\"T_2705e_level0_row1\" class=\"row_heading level0 row1\" >Sex_Female</th>\n",
              "      <td id=\"T_2705e_row1_col0\" class=\"data row1 col0\" >-0.013207</td>\n",
              "      <td id=\"T_2705e_row1_col1\" class=\"data row1 col1\" >1.000000</td>\n",
              "      <td id=\"T_2705e_row1_col2\" class=\"data row1 col2\" >-1.000000</td>\n",
              "      <td id=\"T_2705e_row1_col3\" class=\"data row1 col3\" >0.002780</td>\n",
              "      <td id=\"T_2705e_row1_col4\" class=\"data row1 col4\" >-0.002780</td>\n",
              "      <td id=\"T_2705e_row1_col5\" class=\"data row1 col5\" >0.014605</td>\n",
              "      <td id=\"T_2705e_row1_col6\" class=\"data row1 col6\" >-0.014605</td>\n",
              "      <td id=\"T_2705e_row1_col7\" class=\"data row1 col7\" >-0.007771</td>\n",
              "      <td id=\"T_2705e_row1_col8\" class=\"data row1 col8\" >0.007771</td>\n",
              "      <td id=\"T_2705e_row1_col9\" class=\"data row1 col9\" >0.001634</td>\n",
              "      <td id=\"T_2705e_row1_col10\" class=\"data row1 col10\" >-0.007771</td>\n",
              "      <td id=\"T_2705e_row1_col11\" class=\"data row1 col11\" >0.003035</td>\n",
              "      <td id=\"T_2705e_row1_col12\" class=\"data row1 col12\" >0.002214</td>\n",
              "      <td id=\"T_2705e_row1_col13\" class=\"data row1 col13\" >0.002824</td>\n",
              "      <td id=\"T_2705e_row1_col14\" class=\"data row1 col14\" >-0.005958</td>\n",
              "      <td id=\"T_2705e_row1_col15\" class=\"data row1 col15\" >-0.006874</td>\n",
              "      <td id=\"T_2705e_row1_col16\" class=\"data row1 col16\" >-0.005958</td>\n",
              "      <td id=\"T_2705e_row1_col17\" class=\"data row1 col17\" >0.012985</td>\n",
              "      <td id=\"T_2705e_row1_col18\" class=\"data row1 col18\" >-0.002150</td>\n",
              "      <td id=\"T_2705e_row1_col19\" class=\"data row1 col19\" >-0.005958</td>\n",
              "      <td id=\"T_2705e_row1_col20\" class=\"data row1 col20\" >0.007417</td>\n",
              "      <td id=\"T_2705e_row1_col21\" class=\"data row1 col21\" >0.002778</td>\n",
              "      <td id=\"T_2705e_row1_col22\" class=\"data row1 col22\" >-0.005958</td>\n",
              "      <td id=\"T_2705e_row1_col23\" class=\"data row1 col23\" >0.002257</td>\n",
              "      <td id=\"T_2705e_row1_col24\" class=\"data row1 col24\" >-0.009920</td>\n",
              "      <td id=\"T_2705e_row1_col25\" class=\"data row1 col25\" >-0.005958</td>\n",
              "      <td id=\"T_2705e_row1_col26\" class=\"data row1 col26\" >0.016317</td>\n",
              "      <td id=\"T_2705e_row1_col27\" class=\"data row1 col27\" >-0.010010</td>\n",
              "      <td id=\"T_2705e_row1_col28\" class=\"data row1 col28\" >-0.005958</td>\n",
              "      <td id=\"T_2705e_row1_col29\" class=\"data row1 col29\" >0.015094</td>\n",
              "      <td id=\"T_2705e_row1_col30\" class=\"data row1 col30\" >-0.003862</td>\n",
              "      <td id=\"T_2705e_row1_col31\" class=\"data row1 col31\" >-0.005958</td>\n",
              "      <td id=\"T_2705e_row1_col32\" class=\"data row1 col32\" >0.008897</td>\n",
              "      <td id=\"T_2705e_row1_col33\" class=\"data row1 col33\" >-0.000198</td>\n",
              "      <td id=\"T_2705e_row1_col34\" class=\"data row1 col34\" >-0.012321</td>\n",
              "      <td id=\"T_2705e_row1_col35\" class=\"data row1 col35\" >0.011835</td>\n",
              "      <td id=\"T_2705e_row1_col36\" class=\"data row1 col36\" >-0.015698</td>\n",
              "      <td id=\"T_2705e_row1_col37\" class=\"data row1 col37\" >0.015698</td>\n",
              "      <td id=\"T_2705e_row1_col38\" class=\"data row1 col38\" >0.009673</td>\n",
              "      <td id=\"T_2705e_row1_col39\" class=\"data row1 col39\" >0.006924</td>\n",
              "      <td id=\"T_2705e_row1_col40\" class=\"data row1 col40\" >-0.003415</td>\n",
              "      <td id=\"T_2705e_row1_col41\" class=\"data row1 col41\" >-0.012525</td>\n",
              "    </tr>\n",
              "    <tr>\n",
              "      <th id=\"T_2705e_level0_row2\" class=\"row_heading level0 row2\" >Sex_Male</th>\n",
              "      <td id=\"T_2705e_row2_col0\" class=\"data row2 col0\" >0.013207</td>\n",
              "      <td id=\"T_2705e_row2_col1\" class=\"data row2 col1\" >-1.000000</td>\n",
              "      <td id=\"T_2705e_row2_col2\" class=\"data row2 col2\" >1.000000</td>\n",
              "      <td id=\"T_2705e_row2_col3\" class=\"data row2 col3\" >-0.002780</td>\n",
              "      <td id=\"T_2705e_row2_col4\" class=\"data row2 col4\" >0.002780</td>\n",
              "      <td id=\"T_2705e_row2_col5\" class=\"data row2 col5\" >-0.014605</td>\n",
              "      <td id=\"T_2705e_row2_col6\" class=\"data row2 col6\" >0.014605</td>\n",
              "      <td id=\"T_2705e_row2_col7\" class=\"data row2 col7\" >0.007771</td>\n",
              "      <td id=\"T_2705e_row2_col8\" class=\"data row2 col8\" >-0.007771</td>\n",
              "      <td id=\"T_2705e_row2_col9\" class=\"data row2 col9\" >-0.001634</td>\n",
              "      <td id=\"T_2705e_row2_col10\" class=\"data row2 col10\" >0.007771</td>\n",
              "      <td id=\"T_2705e_row2_col11\" class=\"data row2 col11\" >-0.003035</td>\n",
              "      <td id=\"T_2705e_row2_col12\" class=\"data row2 col12\" >-0.002214</td>\n",
              "      <td id=\"T_2705e_row2_col13\" class=\"data row2 col13\" >-0.002824</td>\n",
              "      <td id=\"T_2705e_row2_col14\" class=\"data row2 col14\" >0.005958</td>\n",
              "      <td id=\"T_2705e_row2_col15\" class=\"data row2 col15\" >0.006874</td>\n",
              "      <td id=\"T_2705e_row2_col16\" class=\"data row2 col16\" >0.005958</td>\n",
              "      <td id=\"T_2705e_row2_col17\" class=\"data row2 col17\" >-0.012985</td>\n",
              "      <td id=\"T_2705e_row2_col18\" class=\"data row2 col18\" >0.002150</td>\n",
              "      <td id=\"T_2705e_row2_col19\" class=\"data row2 col19\" >0.005958</td>\n",
              "      <td id=\"T_2705e_row2_col20\" class=\"data row2 col20\" >-0.007417</td>\n",
              "      <td id=\"T_2705e_row2_col21\" class=\"data row2 col21\" >-0.002778</td>\n",
              "      <td id=\"T_2705e_row2_col22\" class=\"data row2 col22\" >0.005958</td>\n",
              "      <td id=\"T_2705e_row2_col23\" class=\"data row2 col23\" >-0.002257</td>\n",
              "      <td id=\"T_2705e_row2_col24\" class=\"data row2 col24\" >0.009920</td>\n",
              "      <td id=\"T_2705e_row2_col25\" class=\"data row2 col25\" >0.005958</td>\n",
              "      <td id=\"T_2705e_row2_col26\" class=\"data row2 col26\" >-0.016317</td>\n",
              "      <td id=\"T_2705e_row2_col27\" class=\"data row2 col27\" >0.010010</td>\n",
              "      <td id=\"T_2705e_row2_col28\" class=\"data row2 col28\" >0.005958</td>\n",
              "      <td id=\"T_2705e_row2_col29\" class=\"data row2 col29\" >-0.015094</td>\n",
              "      <td id=\"T_2705e_row2_col30\" class=\"data row2 col30\" >0.003862</td>\n",
              "      <td id=\"T_2705e_row2_col31\" class=\"data row2 col31\" >0.005958</td>\n",
              "      <td id=\"T_2705e_row2_col32\" class=\"data row2 col32\" >-0.008897</td>\n",
              "      <td id=\"T_2705e_row2_col33\" class=\"data row2 col33\" >0.000198</td>\n",
              "      <td id=\"T_2705e_row2_col34\" class=\"data row2 col34\" >0.012321</td>\n",
              "      <td id=\"T_2705e_row2_col35\" class=\"data row2 col35\" >-0.011835</td>\n",
              "      <td id=\"T_2705e_row2_col36\" class=\"data row2 col36\" >0.015698</td>\n",
              "      <td id=\"T_2705e_row2_col37\" class=\"data row2 col37\" >-0.015698</td>\n",
              "      <td id=\"T_2705e_row2_col38\" class=\"data row2 col38\" >-0.009673</td>\n",
              "      <td id=\"T_2705e_row2_col39\" class=\"data row2 col39\" >-0.006924</td>\n",
              "      <td id=\"T_2705e_row2_col40\" class=\"data row2 col40\" >0.003415</td>\n",
              "      <td id=\"T_2705e_row2_col41\" class=\"data row2 col41\" >0.012525</td>\n",
              "    </tr>\n",
              "    <tr>\n",
              "      <th id=\"T_2705e_level0_row3\" class=\"row_heading level0 row3\" >HasPartner_No</th>\n",
              "      <td id=\"T_2705e_row3_col0\" class=\"data row3 col0\" >-0.016764</td>\n",
              "      <td id=\"T_2705e_row3_col1\" class=\"data row3 col1\" >0.002780</td>\n",
              "      <td id=\"T_2705e_row3_col2\" class=\"data row3 col2\" >-0.002780</td>\n",
              "      <td id=\"T_2705e_row3_col3\" class=\"data row3 col3\" >1.000000</td>\n",
              "      <td id=\"T_2705e_row3_col4\" class=\"data row3 col4\" >-1.000000</td>\n",
              "      <td id=\"T_2705e_row3_col5\" class=\"data row3 col5\" >0.442530</td>\n",
              "      <td id=\"T_2705e_row3_col6\" class=\"data row3 col6\" >-0.442530</td>\n",
              "      <td id=\"T_2705e_row3_col7\" class=\"data row3 col7\" >0.001508</td>\n",
              "      <td id=\"T_2705e_row3_col8\" class=\"data row3 col8\" >-0.001508</td>\n",
              "      <td id=\"T_2705e_row3_col9\" class=\"data row3 col9\" >0.132024</td>\n",
              "      <td id=\"T_2705e_row3_col10\" class=\"data row3 col10\" >0.001508</td>\n",
              "      <td id=\"T_2705e_row3_col11\" class=\"data row3 col11\" >-0.134243</td>\n",
              "      <td id=\"T_2705e_row3_col12\" class=\"data row3 col12\" >-0.003045</td>\n",
              "      <td id=\"T_2705e_row3_col13\" class=\"data row3 col13\" >0.006202</td>\n",
              "      <td id=\"T_2705e_row3_col14\" class=\"data row3 col14\" >-0.003981</td>\n",
              "      <td id=\"T_2705e_row3_col15\" class=\"data row3 col15\" >0.133596</td>\n",
              "      <td id=\"T_2705e_row3_col16\" class=\"data row3 col16\" >-0.003981</td>\n",
              "      <td id=\"T_2705e_row3_col17\" class=\"data row3 col17\" >-0.143668</td>\n",
              "      <td id=\"T_2705e_row3_col18\" class=\"data row3 col18\" >0.131761</td>\n",
              "      <td id=\"T_2705e_row3_col19\" class=\"data row3 col19\" >-0.003981</td>\n",
              "      <td id=\"T_2705e_row3_col20\" class=\"data row3 col20\" >-0.134424</td>\n",
              "      <td id=\"T_2705e_row3_col21\" class=\"data row3 col21\" >0.150691</td>\n",
              "      <td id=\"T_2705e_row3_col22\" class=\"data row3 col22\" >-0.003981</td>\n",
              "      <td id=\"T_2705e_row3_col23\" class=\"data row3 col23\" >-0.153821</td>\n",
              "      <td id=\"T_2705e_row3_col24\" class=\"data row3 col24\" >0.113977</td>\n",
              "      <td id=\"T_2705e_row3_col25\" class=\"data row3 col25\" >-0.003981</td>\n",
              "      <td id=\"T_2705e_row3_col26\" class=\"data row3 col26\" >-0.121847</td>\n",
              "      <td id=\"T_2705e_row3_col27\" class=\"data row3 col27\" >0.120020</td>\n",
              "      <td id=\"T_2705e_row3_col28\" class=\"data row3 col28\" >-0.003981</td>\n",
              "      <td id=\"T_2705e_row3_col29\" class=\"data row3 col29\" >-0.117244</td>\n",
              "      <td id=\"T_2705e_row3_col30\" class=\"data row3 col30\" >0.121143</td>\n",
              "      <td id=\"T_2705e_row3_col31\" class=\"data row3 col31\" >-0.003981</td>\n",
              "      <td id=\"T_2705e_row3_col32\" class=\"data row3 col32\" >-0.118002</td>\n",
              "      <td id=\"T_2705e_row3_col33\" class=\"data row3 col33\" >0.276996</td>\n",
              "      <td id=\"T_2705e_row3_col34\" class=\"data row3 col34\" >-0.076119</td>\n",
              "      <td id=\"T_2705e_row3_col35\" class=\"data row3 col35\" >-0.249716</td>\n",
              "      <td id=\"T_2705e_row3_col36\" class=\"data row3 col36\" >-0.005293</td>\n",
              "      <td id=\"T_2705e_row3_col37\" class=\"data row3 col37\" >0.005293</td>\n",
              "      <td id=\"T_2705e_row3_col38\" class=\"data row3 col38\" >-0.113065</td>\n",
              "      <td id=\"T_2705e_row3_col39\" class=\"data row3 col39\" >-0.077583</td>\n",
              "      <td id=\"T_2705e_row3_col40\" class=\"data row3 col40\" >0.085955</td>\n",
              "      <td id=\"T_2705e_row3_col41\" class=\"data row3 col41\" >0.091035</td>\n",
              "    </tr>\n",
              "    <tr>\n",
              "      <th id=\"T_2705e_level0_row4\" class=\"row_heading level0 row4\" >HasPartner_Yes</th>\n",
              "      <td id=\"T_2705e_row4_col0\" class=\"data row4 col0\" >0.016764</td>\n",
              "      <td id=\"T_2705e_row4_col1\" class=\"data row4 col1\" >-0.002780</td>\n",
              "      <td id=\"T_2705e_row4_col2\" class=\"data row4 col2\" >0.002780</td>\n",
              "      <td id=\"T_2705e_row4_col3\" class=\"data row4 col3\" >-1.000000</td>\n",
              "      <td id=\"T_2705e_row4_col4\" class=\"data row4 col4\" >1.000000</td>\n",
              "      <td id=\"T_2705e_row4_col5\" class=\"data row4 col5\" >-0.442530</td>\n",
              "      <td id=\"T_2705e_row4_col6\" class=\"data row4 col6\" >0.442530</td>\n",
              "      <td id=\"T_2705e_row4_col7\" class=\"data row4 col7\" >-0.001508</td>\n",
              "      <td id=\"T_2705e_row4_col8\" class=\"data row4 col8\" >0.001508</td>\n",
              "      <td id=\"T_2705e_row4_col9\" class=\"data row4 col9\" >-0.132024</td>\n",
              "      <td id=\"T_2705e_row4_col10\" class=\"data row4 col10\" >-0.001508</td>\n",
              "      <td id=\"T_2705e_row4_col11\" class=\"data row4 col11\" >0.134243</td>\n",
              "      <td id=\"T_2705e_row4_col12\" class=\"data row4 col12\" >0.003045</td>\n",
              "      <td id=\"T_2705e_row4_col13\" class=\"data row4 col13\" >-0.006202</td>\n",
              "      <td id=\"T_2705e_row4_col14\" class=\"data row4 col14\" >0.003981</td>\n",
              "      <td id=\"T_2705e_row4_col15\" class=\"data row4 col15\" >-0.133596</td>\n",
              "      <td id=\"T_2705e_row4_col16\" class=\"data row4 col16\" >0.003981</td>\n",
              "      <td id=\"T_2705e_row4_col17\" class=\"data row4 col17\" >0.143668</td>\n",
              "      <td id=\"T_2705e_row4_col18\" class=\"data row4 col18\" >-0.131761</td>\n",
              "      <td id=\"T_2705e_row4_col19\" class=\"data row4 col19\" >0.003981</td>\n",
              "      <td id=\"T_2705e_row4_col20\" class=\"data row4 col20\" >0.134424</td>\n",
              "      <td id=\"T_2705e_row4_col21\" class=\"data row4 col21\" >-0.150691</td>\n",
              "      <td id=\"T_2705e_row4_col22\" class=\"data row4 col22\" >0.003981</td>\n",
              "      <td id=\"T_2705e_row4_col23\" class=\"data row4 col23\" >0.153821</td>\n",
              "      <td id=\"T_2705e_row4_col24\" class=\"data row4 col24\" >-0.113977</td>\n",
              "      <td id=\"T_2705e_row4_col25\" class=\"data row4 col25\" >0.003981</td>\n",
              "      <td id=\"T_2705e_row4_col26\" class=\"data row4 col26\" >0.121847</td>\n",
              "      <td id=\"T_2705e_row4_col27\" class=\"data row4 col27\" >-0.120020</td>\n",
              "      <td id=\"T_2705e_row4_col28\" class=\"data row4 col28\" >0.003981</td>\n",
              "      <td id=\"T_2705e_row4_col29\" class=\"data row4 col29\" >0.117244</td>\n",
              "      <td id=\"T_2705e_row4_col30\" class=\"data row4 col30\" >-0.121143</td>\n",
              "      <td id=\"T_2705e_row4_col31\" class=\"data row4 col31\" >0.003981</td>\n",
              "      <td id=\"T_2705e_row4_col32\" class=\"data row4 col32\" >0.118002</td>\n",
              "      <td id=\"T_2705e_row4_col33\" class=\"data row4 col33\" >-0.276996</td>\n",
              "      <td id=\"T_2705e_row4_col34\" class=\"data row4 col34\" >0.076119</td>\n",
              "      <td id=\"T_2705e_row4_col35\" class=\"data row4 col35\" >0.249716</td>\n",
              "      <td id=\"T_2705e_row4_col36\" class=\"data row4 col36\" >0.005293</td>\n",
              "      <td id=\"T_2705e_row4_col37\" class=\"data row4 col37\" >-0.005293</td>\n",
              "      <td id=\"T_2705e_row4_col38\" class=\"data row4 col38\" >0.113065</td>\n",
              "      <td id=\"T_2705e_row4_col39\" class=\"data row4 col39\" >0.077583</td>\n",
              "      <td id=\"T_2705e_row4_col40\" class=\"data row4 col40\" >-0.085955</td>\n",
              "      <td id=\"T_2705e_row4_col41\" class=\"data row4 col41\" >-0.091035</td>\n",
              "    </tr>\n",
              "    <tr>\n",
              "      <th id=\"T_2705e_level0_row5\" class=\"row_heading level0 row5\" >HasChild_No</th>\n",
              "      <td id=\"T_2705e_row5_col0\" class=\"data row5 col0\" >0.217007</td>\n",
              "      <td id=\"T_2705e_row5_col1\" class=\"data row5 col1\" >0.014605</td>\n",
              "      <td id=\"T_2705e_row5_col2\" class=\"data row5 col2\" >-0.014605</td>\n",
              "      <td id=\"T_2705e_row5_col3\" class=\"data row5 col3\" >0.442530</td>\n",
              "      <td id=\"T_2705e_row5_col4\" class=\"data row5 col4\" >-0.442530</td>\n",
              "      <td id=\"T_2705e_row5_col5\" class=\"data row5 col5\" >1.000000</td>\n",
              "      <td id=\"T_2705e_row5_col6\" class=\"data row5 col6\" >-1.000000</td>\n",
              "      <td id=\"T_2705e_row5_col7\" class=\"data row5 col7\" >-0.010475</td>\n",
              "      <td id=\"T_2705e_row5_col8\" class=\"data row5 col8\" >0.010475</td>\n",
              "      <td id=\"T_2705e_row5_col9\" class=\"data row5 col9\" >-0.024334</td>\n",
              "      <td id=\"T_2705e_row5_col10\" class=\"data row5 col10\" >-0.010475</td>\n",
              "      <td id=\"T_2705e_row5_col11\" class=\"data row5 col11\" >0.030892</td>\n",
              "      <td id=\"T_2705e_row5_col12\" class=\"data row5 col12\" >-0.050978</td>\n",
              "      <td id=\"T_2705e_row5_col13\" class=\"data row5 col13\" >0.174634</td>\n",
              "      <td id=\"T_2705e_row5_col14\" class=\"data row5 col14\" >-0.152092</td>\n",
              "      <td id=\"T_2705e_row5_col15\" class=\"data row5 col15\" >0.198537</td>\n",
              "      <td id=\"T_2705e_row5_col16\" class=\"data row5 col16\" >-0.152092</td>\n",
              "      <td id=\"T_2705e_row5_col17\" class=\"data row5 col17\" >-0.080863</td>\n",
              "      <td id=\"T_2705e_row5_col18\" class=\"data row5 col18\" >0.141769</td>\n",
              "      <td id=\"T_2705e_row5_col19\" class=\"data row5 col19\" >-0.152092</td>\n",
              "      <td id=\"T_2705e_row5_col20\" class=\"data row5 col20\" >-0.016453</td>\n",
              "      <td id=\"T_2705e_row5_col21\" class=\"data row5 col21\" >0.129790</td>\n",
              "      <td id=\"T_2705e_row5_col22\" class=\"data row5 col22\" >-0.152092</td>\n",
              "      <td id=\"T_2705e_row5_col23\" class=\"data row5 col23\" >-0.003817</td>\n",
              "      <td id=\"T_2705e_row5_col24\" class=\"data row5 col24\" >0.177608</td>\n",
              "      <td id=\"T_2705e_row5_col25\" class=\"data row5 col25\" >-0.152092</td>\n",
              "      <td id=\"T_2705e_row5_col26\" class=\"data row5 col26\" >-0.057694</td>\n",
              "      <td id=\"T_2705e_row5_col27\" class=\"data row5 col27\" >0.104460</td>\n",
              "      <td id=\"T_2705e_row5_col28\" class=\"data row5 col28\" >-0.152092</td>\n",
              "      <td id=\"T_2705e_row5_col29\" class=\"data row5 col29\" >0.023557</td>\n",
              "      <td id=\"T_2705e_row5_col30\" class=\"data row5 col30\" >0.093267</td>\n",
              "      <td id=\"T_2705e_row5_col31\" class=\"data row5 col31\" >-0.152092</td>\n",
              "      <td id=\"T_2705e_row5_col32\" class=\"data row5 col32\" >0.034888</td>\n",
              "      <td id=\"T_2705e_row5_col33\" class=\"data row5 col33\" >0.228322</td>\n",
              "      <td id=\"T_2705e_row5_col34\" class=\"data row5 col34\" >-0.069361</td>\n",
              "      <td id=\"T_2705e_row5_col35\" class=\"data row5 col35\" >-0.199604</td>\n",
              "      <td id=\"T_2705e_row5_col36\" class=\"data row5 col36\" >-0.100777</td>\n",
              "      <td id=\"T_2705e_row5_col37\" class=\"data row5 col37\" >0.100777</td>\n",
              "      <td id=\"T_2705e_row5_col38\" class=\"data row5 col38\" >-0.043363</td>\n",
              "      <td id=\"T_2705e_row5_col39\" class=\"data row5 col39\" >-0.060437</td>\n",
              "      <td id=\"T_2705e_row5_col40\" class=\"data row5 col40\" >0.146189</td>\n",
              "      <td id=\"T_2705e_row5_col41\" class=\"data row5 col41\" >-0.062937</td>\n",
              "    </tr>\n",
              "    <tr>\n",
              "      <th id=\"T_2705e_level0_row6\" class=\"row_heading level0 row6\" >HasChild_Yes</th>\n",
              "      <td id=\"T_2705e_row6_col0\" class=\"data row6 col0\" >-0.217007</td>\n",
              "      <td id=\"T_2705e_row6_col1\" class=\"data row6 col1\" >-0.014605</td>\n",
              "      <td id=\"T_2705e_row6_col2\" class=\"data row6 col2\" >0.014605</td>\n",
              "      <td id=\"T_2705e_row6_col3\" class=\"data row6 col3\" >-0.442530</td>\n",
              "      <td id=\"T_2705e_row6_col4\" class=\"data row6 col4\" >0.442530</td>\n",
              "      <td id=\"T_2705e_row6_col5\" class=\"data row6 col5\" >-1.000000</td>\n",
              "      <td id=\"T_2705e_row6_col6\" class=\"data row6 col6\" >1.000000</td>\n",
              "      <td id=\"T_2705e_row6_col7\" class=\"data row6 col7\" >0.010475</td>\n",
              "      <td id=\"T_2705e_row6_col8\" class=\"data row6 col8\" >-0.010475</td>\n",
              "      <td id=\"T_2705e_row6_col9\" class=\"data row6 col9\" >0.024334</td>\n",
              "      <td id=\"T_2705e_row6_col10\" class=\"data row6 col10\" >0.010475</td>\n",
              "      <td id=\"T_2705e_row6_col11\" class=\"data row6 col11\" >-0.030892</td>\n",
              "      <td id=\"T_2705e_row6_col12\" class=\"data row6 col12\" >0.050978</td>\n",
              "      <td id=\"T_2705e_row6_col13\" class=\"data row6 col13\" >-0.174634</td>\n",
              "      <td id=\"T_2705e_row6_col14\" class=\"data row6 col14\" >0.152092</td>\n",
              "      <td id=\"T_2705e_row6_col15\" class=\"data row6 col15\" >-0.198537</td>\n",
              "      <td id=\"T_2705e_row6_col16\" class=\"data row6 col16\" >0.152092</td>\n",
              "      <td id=\"T_2705e_row6_col17\" class=\"data row6 col17\" >0.080863</td>\n",
              "      <td id=\"T_2705e_row6_col18\" class=\"data row6 col18\" >-0.141769</td>\n",
              "      <td id=\"T_2705e_row6_col19\" class=\"data row6 col19\" >0.152092</td>\n",
              "      <td id=\"T_2705e_row6_col20\" class=\"data row6 col20\" >0.016453</td>\n",
              "      <td id=\"T_2705e_row6_col21\" class=\"data row6 col21\" >-0.129790</td>\n",
              "      <td id=\"T_2705e_row6_col22\" class=\"data row6 col22\" >0.152092</td>\n",
              "      <td id=\"T_2705e_row6_col23\" class=\"data row6 col23\" >0.003817</td>\n",
              "      <td id=\"T_2705e_row6_col24\" class=\"data row6 col24\" >-0.177608</td>\n",
              "      <td id=\"T_2705e_row6_col25\" class=\"data row6 col25\" >0.152092</td>\n",
              "      <td id=\"T_2705e_row6_col26\" class=\"data row6 col26\" >0.057694</td>\n",
              "      <td id=\"T_2705e_row6_col27\" class=\"data row6 col27\" >-0.104460</td>\n",
              "      <td id=\"T_2705e_row6_col28\" class=\"data row6 col28\" >0.152092</td>\n",
              "      <td id=\"T_2705e_row6_col29\" class=\"data row6 col29\" >-0.023557</td>\n",
              "      <td id=\"T_2705e_row6_col30\" class=\"data row6 col30\" >-0.093267</td>\n",
              "      <td id=\"T_2705e_row6_col31\" class=\"data row6 col31\" >0.152092</td>\n",
              "      <td id=\"T_2705e_row6_col32\" class=\"data row6 col32\" >-0.034888</td>\n",
              "      <td id=\"T_2705e_row6_col33\" class=\"data row6 col33\" >-0.228322</td>\n",
              "      <td id=\"T_2705e_row6_col34\" class=\"data row6 col34\" >0.069361</td>\n",
              "      <td id=\"T_2705e_row6_col35\" class=\"data row6 col35\" >0.199604</td>\n",
              "      <td id=\"T_2705e_row6_col36\" class=\"data row6 col36\" >0.100777</td>\n",
              "      <td id=\"T_2705e_row6_col37\" class=\"data row6 col37\" >-0.100777</td>\n",
              "      <td id=\"T_2705e_row6_col38\" class=\"data row6 col38\" >0.043363</td>\n",
              "      <td id=\"T_2705e_row6_col39\" class=\"data row6 col39\" >0.060437</td>\n",
              "      <td id=\"T_2705e_row6_col40\" class=\"data row6 col40\" >-0.146189</td>\n",
              "      <td id=\"T_2705e_row6_col41\" class=\"data row6 col41\" >0.062937</td>\n",
              "    </tr>\n",
              "    <tr>\n",
              "      <th id=\"T_2705e_level0_row7\" class=\"row_heading level0 row7\" >HasPhoneService_No</th>\n",
              "      <td id=\"T_2705e_row7_col0\" class=\"data row7 col0\" >-0.008763</td>\n",
              "      <td id=\"T_2705e_row7_col1\" class=\"data row7 col1\" >-0.007771</td>\n",
              "      <td id=\"T_2705e_row7_col2\" class=\"data row7 col2\" >0.007771</td>\n",
              "      <td id=\"T_2705e_row7_col3\" class=\"data row7 col3\" >0.001508</td>\n",
              "      <td id=\"T_2705e_row7_col4\" class=\"data row7 col4\" >-0.001508</td>\n",
              "      <td id=\"T_2705e_row7_col5\" class=\"data row7 col5\" >-0.010475</td>\n",
              "      <td id=\"T_2705e_row7_col6\" class=\"data row7 col6\" >0.010475</td>\n",
              "      <td id=\"T_2705e_row7_col7\" class=\"data row7 col7\" >1.000000</td>\n",
              "      <td id=\"T_2705e_row7_col8\" class=\"data row7 col8\" >-1.000000</td>\n",
              "      <td id=\"T_2705e_row7_col9\" class=\"data row7 col9\" >-0.314902</td>\n",
              "      <td id=\"T_2705e_row7_col10\" class=\"data row7 col10\" >1.000000</td>\n",
              "      <td id=\"T_2705e_row7_col11\" class=\"data row7 col11\" >-0.284968</td>\n",
              "      <td id=\"T_2705e_row7_col12\" class=\"data row7 col12\" >0.460095</td>\n",
              "      <td id=\"T_2705e_row7_col13\" class=\"data row7 col13\" >-0.295137</td>\n",
              "      <td id=\"T_2705e_row7_col14\" class=\"data row7 col14\" >-0.173644</td>\n",
              "      <td id=\"T_2705e_row7_col15\" class=\"data row7 col15\" >0.053796</td>\n",
              "      <td id=\"T_2705e_row7_col16\" class=\"data row7 col16\" >-0.173644</td>\n",
              "      <td id=\"T_2705e_row7_col17\" class=\"data row7 col17\" >0.098260</td>\n",
              "      <td id=\"T_2705e_row7_col18\" class=\"data row7 col18\" >0.100987</td>\n",
              "      <td id=\"T_2705e_row7_col19\" class=\"data row7 col19\" >-0.173644</td>\n",
              "      <td id=\"T_2705e_row7_col20\" class=\"data row7 col20\" >0.044911</td>\n",
              "      <td id=\"T_2705e_row7_col21\" class=\"data row7 col21\" >0.079918</td>\n",
              "      <td id=\"T_2705e_row7_col22\" class=\"data row7 col22\" >-0.173644</td>\n",
              "      <td id=\"T_2705e_row7_col23\" class=\"data row7 col23\" >0.066884</td>\n",
              "      <td id=\"T_2705e_row7_col24\" class=\"data row7 col24\" >0.048450</td>\n",
              "      <td id=\"T_2705e_row7_col25\" class=\"data row7 col25\" >-0.173644</td>\n",
              "      <td id=\"T_2705e_row7_col26\" class=\"data row7 col26\" >0.103995</td>\n",
              "      <td id=\"T_2705e_row7_col27\" class=\"data row7 col27\" >0.121914</td>\n",
              "      <td id=\"T_2705e_row7_col28\" class=\"data row7 col28\" >-0.173644</td>\n",
              "      <td id=\"T_2705e_row7_col29\" class=\"data row7 col29\" >0.024230</td>\n",
              "      <td id=\"T_2705e_row7_col30\" class=\"data row7 col30\" >0.120504</td>\n",
              "      <td id=\"T_2705e_row7_col31\" class=\"data row7 col31\" >-0.173644</td>\n",
              "      <td id=\"T_2705e_row7_col32\" class=\"data row7 col32\" >0.025785</td>\n",
              "      <td id=\"T_2705e_row7_col33\" class=\"data row7 col33\" >0.005083</td>\n",
              "      <td id=\"T_2705e_row7_col34\" class=\"data row7 col34\" >-0.002714</td>\n",
              "      <td id=\"T_2705e_row7_col35\" class=\"data row7 col35\" >-0.003342</td>\n",
              "      <td id=\"T_2705e_row7_col36\" class=\"data row7 col36\" >0.021362</td>\n",
              "      <td id=\"T_2705e_row7_col37\" class=\"data row7 col37\" >-0.021362</td>\n",
              "      <td id=\"T_2705e_row7_col38\" class=\"data row7 col38\" >-0.014299</td>\n",
              "      <td id=\"T_2705e_row7_col39\" class=\"data row7 col39\" >0.006566</td>\n",
              "      <td id=\"T_2705e_row7_col40\" class=\"data row7 col40\" >-0.002906</td>\n",
              "      <td id=\"T_2705e_row7_col41\" class=\"data row7 col41\" >0.010971</td>\n",
              "    </tr>\n",
              "    <tr>\n",
              "      <th id=\"T_2705e_level0_row8\" class=\"row_heading level0 row8\" >HasPhoneService_Yes</th>\n",
              "      <td id=\"T_2705e_row8_col0\" class=\"data row8 col0\" >0.008763</td>\n",
              "      <td id=\"T_2705e_row8_col1\" class=\"data row8 col1\" >0.007771</td>\n",
              "      <td id=\"T_2705e_row8_col2\" class=\"data row8 col2\" >-0.007771</td>\n",
              "      <td id=\"T_2705e_row8_col3\" class=\"data row8 col3\" >-0.001508</td>\n",
              "      <td id=\"T_2705e_row8_col4\" class=\"data row8 col4\" >0.001508</td>\n",
              "      <td id=\"T_2705e_row8_col5\" class=\"data row8 col5\" >0.010475</td>\n",
              "      <td id=\"T_2705e_row8_col6\" class=\"data row8 col6\" >-0.010475</td>\n",
              "      <td id=\"T_2705e_row8_col7\" class=\"data row8 col7\" >-1.000000</td>\n",
              "      <td id=\"T_2705e_row8_col8\" class=\"data row8 col8\" >1.000000</td>\n",
              "      <td id=\"T_2705e_row8_col9\" class=\"data row8 col9\" >0.314902</td>\n",
              "      <td id=\"T_2705e_row8_col10\" class=\"data row8 col10\" >-1.000000</td>\n",
              "      <td id=\"T_2705e_row8_col11\" class=\"data row8 col11\" >0.284968</td>\n",
              "      <td id=\"T_2705e_row8_col12\" class=\"data row8 col12\" >-0.460095</td>\n",
              "      <td id=\"T_2705e_row8_col13\" class=\"data row8 col13\" >0.295137</td>\n",
              "      <td id=\"T_2705e_row8_col14\" class=\"data row8 col14\" >0.173644</td>\n",
              "      <td id=\"T_2705e_row8_col15\" class=\"data row8 col15\" >-0.053796</td>\n",
              "      <td id=\"T_2705e_row8_col16\" class=\"data row8 col16\" >0.173644</td>\n",
              "      <td id=\"T_2705e_row8_col17\" class=\"data row8 col17\" >-0.098260</td>\n",
              "      <td id=\"T_2705e_row8_col18\" class=\"data row8 col18\" >-0.100987</td>\n",
              "      <td id=\"T_2705e_row8_col19\" class=\"data row8 col19\" >0.173644</td>\n",
              "      <td id=\"T_2705e_row8_col20\" class=\"data row8 col20\" >-0.044911</td>\n",
              "      <td id=\"T_2705e_row8_col21\" class=\"data row8 col21\" >-0.079918</td>\n",
              "      <td id=\"T_2705e_row8_col22\" class=\"data row8 col22\" >0.173644</td>\n",
              "      <td id=\"T_2705e_row8_col23\" class=\"data row8 col23\" >-0.066884</td>\n",
              "      <td id=\"T_2705e_row8_col24\" class=\"data row8 col24\" >-0.048450</td>\n",
              "      <td id=\"T_2705e_row8_col25\" class=\"data row8 col25\" >0.173644</td>\n",
              "      <td id=\"T_2705e_row8_col26\" class=\"data row8 col26\" >-0.103995</td>\n",
              "      <td id=\"T_2705e_row8_col27\" class=\"data row8 col27\" >-0.121914</td>\n",
              "      <td id=\"T_2705e_row8_col28\" class=\"data row8 col28\" >0.173644</td>\n",
              "      <td id=\"T_2705e_row8_col29\" class=\"data row8 col29\" >-0.024230</td>\n",
              "      <td id=\"T_2705e_row8_col30\" class=\"data row8 col30\" >-0.120504</td>\n",
              "      <td id=\"T_2705e_row8_col31\" class=\"data row8 col31\" >0.173644</td>\n",
              "      <td id=\"T_2705e_row8_col32\" class=\"data row8 col32\" >-0.025785</td>\n",
              "      <td id=\"T_2705e_row8_col33\" class=\"data row8 col33\" >-0.005083</td>\n",
              "      <td id=\"T_2705e_row8_col34\" class=\"data row8 col34\" >0.002714</td>\n",
              "      <td id=\"T_2705e_row8_col35\" class=\"data row8 col35\" >0.003342</td>\n",
              "      <td id=\"T_2705e_row8_col36\" class=\"data row8 col36\" >-0.021362</td>\n",
              "      <td id=\"T_2705e_row8_col37\" class=\"data row8 col37\" >0.021362</td>\n",
              "      <td id=\"T_2705e_row8_col38\" class=\"data row8 col38\" >0.014299</td>\n",
              "      <td id=\"T_2705e_row8_col39\" class=\"data row8 col39\" >-0.006566</td>\n",
              "      <td id=\"T_2705e_row8_col40\" class=\"data row8 col40\" >0.002906</td>\n",
              "      <td id=\"T_2705e_row8_col41\" class=\"data row8 col41\" >-0.010971</td>\n",
              "    </tr>\n",
              "    <tr>\n",
              "      <th id=\"T_2705e_level0_row9\" class=\"row_heading level0 row9\" >HasMultiplePhoneNumbers_No</th>\n",
              "      <td id=\"T_2705e_row9_col0\" class=\"data row9 col0\" >-0.128706</td>\n",
              "      <td id=\"T_2705e_row9_col1\" class=\"data row9 col1\" >0.001634</td>\n",
              "      <td id=\"T_2705e_row9_col2\" class=\"data row9 col2\" >-0.001634</td>\n",
              "      <td id=\"T_2705e_row9_col3\" class=\"data row9 col3\" >0.132024</td>\n",
              "      <td id=\"T_2705e_row9_col4\" class=\"data row9 col4\" >-0.132024</td>\n",
              "      <td id=\"T_2705e_row9_col5\" class=\"data row9 col5\" >-0.024334</td>\n",
              "      <td id=\"T_2705e_row9_col6\" class=\"data row9 col6\" >0.024334</td>\n",
              "      <td id=\"T_2705e_row9_col7\" class=\"data row9 col7\" >-0.314902</td>\n",
              "      <td id=\"T_2705e_row9_col8\" class=\"data row9 col8\" >0.314902</td>\n",
              "      <td id=\"T_2705e_row9_col9\" class=\"data row9 col9\" >1.000000</td>\n",
              "      <td id=\"T_2705e_row9_col10\" class=\"data row9 col10\" >-0.314902</td>\n",
              "      <td id=\"T_2705e_row9_col11\" class=\"data row9 col11\" >-0.820034</td>\n",
              "      <td id=\"T_2705e_row9_col12\" class=\"data row9 col12\" >-0.074944</td>\n",
              "      <td id=\"T_2705e_row9_col13\" class=\"data row9 col13\" >-0.180777</td>\n",
              "      <td id=\"T_2705e_row9_col14\" class=\"data row9 col14\" >0.304537</td>\n",
              "      <td id=\"T_2705e_row9_col15\" class=\"data row9 col15\" >-0.102147</td>\n",
              "      <td id=\"T_2705e_row9_col16\" class=\"data row9 col16\" >0.304537</td>\n",
              "      <td id=\"T_2705e_row9_col17\" class=\"data row9 col17\" >-0.163730</td>\n",
              "      <td id=\"T_2705e_row9_col18\" class=\"data row9 col18\" >-0.034054</td>\n",
              "      <td id=\"T_2705e_row9_col19\" class=\"data row9 col19\" >0.304537</td>\n",
              "      <td id=\"T_2705e_row9_col20\" class=\"data row9 col20\" >-0.228463</td>\n",
              "      <td id=\"T_2705e_row9_col21\" class=\"data row9 col21\" >-0.021754</td>\n",
              "      <td id=\"T_2705e_row9_col22\" class=\"data row9 col22\" >0.304537</td>\n",
              "      <td id=\"T_2705e_row9_col23\" class=\"data row9 col23\" >-0.240876</td>\n",
              "      <td id=\"T_2705e_row9_col24\" class=\"data row9 col24\" >-0.112158</td>\n",
              "      <td id=\"T_2705e_row9_col25\" class=\"data row9 col25\" >0.304537</td>\n",
              "      <td id=\"T_2705e_row9_col26\" class=\"data row9 col26\" >-0.152463</td>\n",
              "      <td id=\"T_2705e_row9_col27\" class=\"data row9 col27\" >0.007871</td>\n",
              "      <td id=\"T_2705e_row9_col28\" class=\"data row9 col28\" >0.304537</td>\n",
              "      <td id=\"T_2705e_row9_col29\" class=\"data row9 col29\" >-0.265267</td>\n",
              "      <td id=\"T_2705e_row9_col30\" class=\"data row9 col30\" >0.011418</td>\n",
              "      <td id=\"T_2705e_row9_col31\" class=\"data row9 col31\" >0.304537</td>\n",
              "      <td id=\"T_2705e_row9_col32\" class=\"data row9 col32\" >-0.268384</td>\n",
              "      <td id=\"T_2705e_row9_col33\" class=\"data row9 col33\" >0.089108</td>\n",
              "      <td id=\"T_2705e_row9_col34\" class=\"data row9 col34\" >0.005288</td>\n",
              "      <td id=\"T_2705e_row9_col35\" class=\"data row9 col35\" >-0.108377</td>\n",
              "      <td id=\"T_2705e_row9_col36\" class=\"data row9 col36\" >0.144875</td>\n",
              "      <td id=\"T_2705e_row9_col37\" class=\"data row9 col37\" >-0.144875</td>\n",
              "      <td id=\"T_2705e_row9_col38\" class=\"data row9 col38\" >-0.067763</td>\n",
              "      <td id=\"T_2705e_row9_col39\" class=\"data row9 col39\" >-0.066625</td>\n",
              "      <td id=\"T_2705e_row9_col40\" class=\"data row9 col40\" >-0.076164</td>\n",
              "      <td id=\"T_2705e_row9_col41\" class=\"data row9 col41\" >0.218782</td>\n",
              "    </tr>\n",
              "    <tr>\n",
              "      <th id=\"T_2705e_level0_row10\" class=\"row_heading level0 row10\" >HasMultiplePhoneNumbers_No phone service</th>\n",
              "      <td id=\"T_2705e_row10_col0\" class=\"data row10 col0\" >-0.008763</td>\n",
              "      <td id=\"T_2705e_row10_col1\" class=\"data row10 col1\" >-0.007771</td>\n",
              "      <td id=\"T_2705e_row10_col2\" class=\"data row10 col2\" >0.007771</td>\n",
              "      <td id=\"T_2705e_row10_col3\" class=\"data row10 col3\" >0.001508</td>\n",
              "      <td id=\"T_2705e_row10_col4\" class=\"data row10 col4\" >-0.001508</td>\n",
              "      <td id=\"T_2705e_row10_col5\" class=\"data row10 col5\" >-0.010475</td>\n",
              "      <td id=\"T_2705e_row10_col6\" class=\"data row10 col6\" >0.010475</td>\n",
              "      <td id=\"T_2705e_row10_col7\" class=\"data row10 col7\" >1.000000</td>\n",
              "      <td id=\"T_2705e_row10_col8\" class=\"data row10 col8\" >-1.000000</td>\n",
              "      <td id=\"T_2705e_row10_col9\" class=\"data row10 col9\" >-0.314902</td>\n",
              "      <td id=\"T_2705e_row10_col10\" class=\"data row10 col10\" >1.000000</td>\n",
              "      <td id=\"T_2705e_row10_col11\" class=\"data row10 col11\" >-0.284968</td>\n",
              "      <td id=\"T_2705e_row10_col12\" class=\"data row10 col12\" >0.460095</td>\n",
              "      <td id=\"T_2705e_row10_col13\" class=\"data row10 col13\" >-0.295137</td>\n",
              "      <td id=\"T_2705e_row10_col14\" class=\"data row10 col14\" >-0.173644</td>\n",
              "      <td id=\"T_2705e_row10_col15\" class=\"data row10 col15\" >0.053796</td>\n",
              "      <td id=\"T_2705e_row10_col16\" class=\"data row10 col16\" >-0.173644</td>\n",
              "      <td id=\"T_2705e_row10_col17\" class=\"data row10 col17\" >0.098260</td>\n",
              "      <td id=\"T_2705e_row10_col18\" class=\"data row10 col18\" >0.100987</td>\n",
              "      <td id=\"T_2705e_row10_col19\" class=\"data row10 col19\" >-0.173644</td>\n",
              "      <td id=\"T_2705e_row10_col20\" class=\"data row10 col20\" >0.044911</td>\n",
              "      <td id=\"T_2705e_row10_col21\" class=\"data row10 col21\" >0.079918</td>\n",
              "      <td id=\"T_2705e_row10_col22\" class=\"data row10 col22\" >-0.173644</td>\n",
              "      <td id=\"T_2705e_row10_col23\" class=\"data row10 col23\" >0.066884</td>\n",
              "      <td id=\"T_2705e_row10_col24\" class=\"data row10 col24\" >0.048450</td>\n",
              "      <td id=\"T_2705e_row10_col25\" class=\"data row10 col25\" >-0.173644</td>\n",
              "      <td id=\"T_2705e_row10_col26\" class=\"data row10 col26\" >0.103995</td>\n",
              "      <td id=\"T_2705e_row10_col27\" class=\"data row10 col27\" >0.121914</td>\n",
              "      <td id=\"T_2705e_row10_col28\" class=\"data row10 col28\" >-0.173644</td>\n",
              "      <td id=\"T_2705e_row10_col29\" class=\"data row10 col29\" >0.024230</td>\n",
              "      <td id=\"T_2705e_row10_col30\" class=\"data row10 col30\" >0.120504</td>\n",
              "      <td id=\"T_2705e_row10_col31\" class=\"data row10 col31\" >-0.173644</td>\n",
              "      <td id=\"T_2705e_row10_col32\" class=\"data row10 col32\" >0.025785</td>\n",
              "      <td id=\"T_2705e_row10_col33\" class=\"data row10 col33\" >0.005083</td>\n",
              "      <td id=\"T_2705e_row10_col34\" class=\"data row10 col34\" >-0.002714</td>\n",
              "      <td id=\"T_2705e_row10_col35\" class=\"data row10 col35\" >-0.003342</td>\n",
              "      <td id=\"T_2705e_row10_col36\" class=\"data row10 col36\" >0.021362</td>\n",
              "      <td id=\"T_2705e_row10_col37\" class=\"data row10 col37\" >-0.021362</td>\n",
              "      <td id=\"T_2705e_row10_col38\" class=\"data row10 col38\" >-0.014299</td>\n",
              "      <td id=\"T_2705e_row10_col39\" class=\"data row10 col39\" >0.006566</td>\n",
              "      <td id=\"T_2705e_row10_col40\" class=\"data row10 col40\" >-0.002906</td>\n",
              "      <td id=\"T_2705e_row10_col41\" class=\"data row10 col41\" >0.010971</td>\n",
              "    </tr>\n",
              "    <tr>\n",
              "      <th id=\"T_2705e_level0_row11\" class=\"row_heading level0 row11\" >HasMultiplePhoneNumbers_Yes</th>\n",
              "      <td id=\"T_2705e_row11_col0\" class=\"data row11 col0\" >0.135267</td>\n",
              "      <td id=\"T_2705e_row11_col1\" class=\"data row11 col1\" >0.003035</td>\n",
              "      <td id=\"T_2705e_row11_col2\" class=\"data row11 col2\" >-0.003035</td>\n",
              "      <td id=\"T_2705e_row11_col3\" class=\"data row11 col3\" >-0.134243</td>\n",
              "      <td id=\"T_2705e_row11_col4\" class=\"data row11 col4\" >0.134243</td>\n",
              "      <td id=\"T_2705e_row11_col5\" class=\"data row11 col5\" >0.030892</td>\n",
              "      <td id=\"T_2705e_row11_col6\" class=\"data row11 col6\" >-0.030892</td>\n",
              "      <td id=\"T_2705e_row11_col7\" class=\"data row11 col7\" >-0.284968</td>\n",
              "      <td id=\"T_2705e_row11_col8\" class=\"data row11 col8\" >0.284968</td>\n",
              "      <td id=\"T_2705e_row11_col9\" class=\"data row11 col9\" >-0.820034</td>\n",
              "      <td id=\"T_2705e_row11_col10\" class=\"data row11 col10\" >-0.284968</td>\n",
              "      <td id=\"T_2705e_row11_col11\" class=\"data row11 col11\" >1.000000</td>\n",
              "      <td id=\"T_2705e_row11_col12\" class=\"data row11 col12\" >-0.201747</td>\n",
              "      <td id=\"T_2705e_row11_col13\" class=\"data row11 col13\" >0.360535</td>\n",
              "      <td id=\"T_2705e_row11_col14\" class=\"data row11 col14\" >-0.202852</td>\n",
              "      <td id=\"T_2705e_row11_col15\" class=\"data row11 col15\" >0.070722</td>\n",
              "      <td id=\"T_2705e_row11_col16\" class=\"data row11 col16\" >-0.202852</td>\n",
              "      <td id=\"T_2705e_row11_col17\" class=\"data row11 col17\" >0.106104</td>\n",
              "      <td id=\"T_2705e_row11_col18\" class=\"data row11 col18\" >-0.026503</td>\n",
              "      <td id=\"T_2705e_row11_col19\" class=\"data row11 col19\" >-0.202852</td>\n",
              "      <td id=\"T_2705e_row11_col20\" class=\"data row11 col20\" >0.203648</td>\n",
              "      <td id=\"T_2705e_row11_col21\" class=\"data row11 col21\" >-0.026221</td>\n",
              "      <td id=\"T_2705e_row11_col22\" class=\"data row11 col22\" >-0.202852</td>\n",
              "      <td id=\"T_2705e_row11_col23\" class=\"data row11 col23\" >0.202934</td>\n",
              "      <td id=\"T_2705e_row11_col24\" class=\"data row11 col24\" >0.084055</td>\n",
              "      <td id=\"T_2705e_row11_col25\" class=\"data row11 col25\" >-0.202852</td>\n",
              "      <td id=\"T_2705e_row11_col26\" class=\"data row11 col26\" >0.091267</td>\n",
              "      <td id=\"T_2705e_row11_col27\" class=\"data row11 col27\" >-0.081463</td>\n",
              "      <td id=\"T_2705e_row11_col28\" class=\"data row11 col28\" >-0.202852</td>\n",
              "      <td id=\"T_2705e_row11_col29\" class=\"data row11 col29\" >0.253287</td>\n",
              "      <td id=\"T_2705e_row11_col30\" class=\"data row11 col30\" >-0.084195</td>\n",
              "      <td id=\"T_2705e_row11_col31\" class=\"data row11 col31\" >-0.202852</td>\n",
              "      <td id=\"T_2705e_row11_col32\" class=\"data row11 col32\" >0.255497</td>\n",
              "      <td id=\"T_2705e_row11_col33\" class=\"data row11 col33\" >-0.093057</td>\n",
              "      <td id=\"T_2705e_row11_col34\" class=\"data row11 col34\" >-0.003704</td>\n",
              "      <td id=\"T_2705e_row11_col35\" class=\"data row11 col35\" >0.111467</td>\n",
              "      <td id=\"T_2705e_row11_col36\" class=\"data row11 col36\" >-0.159193</td>\n",
              "      <td id=\"T_2705e_row11_col37\" class=\"data row11 col37\" >0.159193</td>\n",
              "      <td id=\"T_2705e_row11_col38\" class=\"data row11 col38\" >0.077057</td>\n",
              "      <td id=\"T_2705e_row11_col39\" class=\"data row11 col39\" >0.063327</td>\n",
              "      <td id=\"T_2705e_row11_col40\" class=\"data row11 col40\" >0.078672</td>\n",
              "      <td id=\"T_2705e_row11_col41\" class=\"data row11 col41\" >-0.227568</td>\n",
              "    </tr>\n",
              "    <tr>\n",
              "      <th id=\"T_2705e_level0_row12\" class=\"row_heading level0 row12\" >HasInternetService_DSL</th>\n",
              "      <td id=\"T_2705e_row12_col0\" class=\"data row12 col0\" >-0.102503</td>\n",
              "      <td id=\"T_2705e_row12_col1\" class=\"data row12 col1\" >0.002214</td>\n",
              "      <td id=\"T_2705e_row12_col2\" class=\"data row12 col2\" >-0.002214</td>\n",
              "      <td id=\"T_2705e_row12_col3\" class=\"data row12 col3\" >-0.003045</td>\n",
              "      <td id=\"T_2705e_row12_col4\" class=\"data row12 col4\" >0.003045</td>\n",
              "      <td id=\"T_2705e_row12_col5\" class=\"data row12 col5\" >-0.050978</td>\n",
              "      <td id=\"T_2705e_row12_col6\" class=\"data row12 col6\" >0.050978</td>\n",
              "      <td id=\"T_2705e_row12_col7\" class=\"data row12 col7\" >0.460095</td>\n",
              "      <td id=\"T_2705e_row12_col8\" class=\"data row12 col8\" >-0.460095</td>\n",
              "      <td id=\"T_2705e_row12_col9\" class=\"data row12 col9\" >-0.074944</td>\n",
              "      <td id=\"T_2705e_row12_col10\" class=\"data row12 col10\" >0.460095</td>\n",
              "      <td id=\"T_2705e_row12_col11\" class=\"data row12 col11\" >-0.201747</td>\n",
              "      <td id=\"T_2705e_row12_col12\" class=\"data row12 col12\" >1.000000</td>\n",
              "      <td id=\"T_2705e_row12_col13\" class=\"data row12 col13\" >-0.641468</td>\n",
              "      <td id=\"T_2705e_row12_col14\" class=\"data row12 col14\" >-0.377409</td>\n",
              "      <td id=\"T_2705e_row12_col15\" class=\"data row12 col15\" >0.015885</td>\n",
              "      <td id=\"T_2705e_row12_col16\" class=\"data row12 col16\" >-0.377409</td>\n",
              "      <td id=\"T_2705e_row12_col17\" class=\"data row12 col17\" >0.324952</td>\n",
              "      <td id=\"T_2705e_row12_col18\" class=\"data row12 col18\" >0.165949</td>\n",
              "      <td id=\"T_2705e_row12_col19\" class=\"data row12 col19\" >-0.377409</td>\n",
              "      <td id=\"T_2705e_row12_col20\" class=\"data row12 col20\" >0.153641</td>\n",
              "      <td id=\"T_2705e_row12_col21\" class=\"data row12 col21\" >0.172593</td>\n",
              "      <td id=\"T_2705e_row12_col22\" class=\"data row12 col22\" >-0.377409</td>\n",
              "      <td id=\"T_2705e_row12_col23\" class=\"data row12 col23\" >0.146525</td>\n",
              "      <td id=\"T_2705e_row12_col24\" class=\"data row12 col24\" >0.019661</td>\n",
              "      <td id=\"T_2705e_row12_col25\" class=\"data row12 col25\" >-0.377409</td>\n",
              "      <td id=\"T_2705e_row12_col26\" class=\"data row12 col26\" >0.320295</td>\n",
              "      <td id=\"T_2705e_row12_col27\" class=\"data row12 col27\" >0.313197</td>\n",
              "      <td id=\"T_2705e_row12_col28\" class=\"data row12 col28\" >-0.377409</td>\n",
              "      <td id=\"T_2705e_row12_col29\" class=\"data row12 col29\" >0.004206</td>\n",
              "      <td id=\"T_2705e_row12_col30\" class=\"data row12 col30\" >0.294971</td>\n",
              "      <td id=\"T_2705e_row12_col31\" class=\"data row12 col31\" >-0.377409</td>\n",
              "      <td id=\"T_2705e_row12_col32\" class=\"data row12 col32\" >0.022925</td>\n",
              "      <td id=\"T_2705e_row12_col33\" class=\"data row12 col33\" >-0.061922</td>\n",
              "      <td id=\"T_2705e_row12_col34\" class=\"data row12 col34\" >0.038872</td>\n",
              "      <td id=\"T_2705e_row12_col35\" class=\"data row12 col35\" >0.035238</td>\n",
              "      <td id=\"T_2705e_row12_col36\" class=\"data row12 col36\" >0.069009</td>\n",
              "      <td id=\"T_2705e_row12_col37\" class=\"data row12 col37\" >-0.069009</td>\n",
              "      <td id=\"T_2705e_row12_col38\" class=\"data row12 col38\" >0.022233</td>\n",
              "      <td id=\"T_2705e_row12_col39\" class=\"data row12 col39\" >0.054794</td>\n",
              "      <td id=\"T_2705e_row12_col40\" class=\"data row12 col40\" >-0.103545</td>\n",
              "      <td id=\"T_2705e_row12_col41\" class=\"data row12 col41\" >0.041168</td>\n",
              "    </tr>\n",
              "    <tr>\n",
              "      <th id=\"T_2705e_level0_row13\" class=\"row_heading level0 row13\" >HasInternetService_Fiber optic</th>\n",
              "      <td id=\"T_2705e_row13_col0\" class=\"data row13 col0\" >0.247603</td>\n",
              "      <td id=\"T_2705e_row13_col1\" class=\"data row13 col1\" >0.002824</td>\n",
              "      <td id=\"T_2705e_row13_col2\" class=\"data row13 col2\" >-0.002824</td>\n",
              "      <td id=\"T_2705e_row13_col3\" class=\"data row13 col3\" >0.006202</td>\n",
              "      <td id=\"T_2705e_row13_col4\" class=\"data row13 col4\" >-0.006202</td>\n",
              "      <td id=\"T_2705e_row13_col5\" class=\"data row13 col5\" >0.174634</td>\n",
              "      <td id=\"T_2705e_row13_col6\" class=\"data row13 col6\" >-0.174634</td>\n",
              "      <td id=\"T_2705e_row13_col7\" class=\"data row13 col7\" >-0.295137</td>\n",
              "      <td id=\"T_2705e_row13_col8\" class=\"data row13 col8\" >0.295137</td>\n",
              "      <td id=\"T_2705e_row13_col9\" class=\"data row13 col9\" >-0.180777</td>\n",
              "      <td id=\"T_2705e_row13_col10\" class=\"data row13 col10\" >-0.295137</td>\n",
              "      <td id=\"T_2705e_row13_col11\" class=\"data row13 col11\" >0.360535</td>\n",
              "      <td id=\"T_2705e_row13_col12\" class=\"data row13 col12\" >-0.641468</td>\n",
              "      <td id=\"T_2705e_row13_col13\" class=\"data row13 col13\" >1.000000</td>\n",
              "      <td id=\"T_2705e_row13_col14\" class=\"data row13 col14\" >-0.468321</td>\n",
              "      <td id=\"T_2705e_row13_col15\" class=\"data row13 col15\" >0.414943</td>\n",
              "      <td id=\"T_2705e_row13_col16\" class=\"data row13 col16\" >-0.468321</td>\n",
              "      <td id=\"T_2705e_row13_col17\" class=\"data row13 col17\" >-0.032486</td>\n",
              "      <td id=\"T_2705e_row13_col18\" class=\"data row13 col18\" >0.228291</td>\n",
              "      <td id=\"T_2705e_row13_col19\" class=\"data row13 col19\" >-0.468321</td>\n",
              "      <td id=\"T_2705e_row13_col20\" class=\"data row13 col20\" >0.167245</td>\n",
              "      <td id=\"T_2705e_row13_col21\" class=\"data row13 col21\" >0.219730</td>\n",
              "      <td id=\"T_2705e_row13_col22\" class=\"data row13 col22\" >-0.468321</td>\n",
              "      <td id=\"T_2705e_row13_col23\" class=\"data row13 col23\" >0.176016</td>\n",
              "      <td id=\"T_2705e_row13_col24\" class=\"data row13 col24\" >0.410039</td>\n",
              "      <td id=\"T_2705e_row13_col25\" class=\"data row13 col25\" >-0.468321</td>\n",
              "      <td id=\"T_2705e_row13_col26\" class=\"data row13 col26\" >-0.027020</td>\n",
              "      <td id=\"T_2705e_row13_col27\" class=\"data row13 col27\" >0.054295</td>\n",
              "      <td id=\"T_2705e_row13_col28\" class=\"data row13 col28\" >-0.468321</td>\n",
              "      <td id=\"T_2705e_row13_col29\" class=\"data row13 col29\" >0.341205</td>\n",
              "      <td id=\"T_2705e_row13_col30\" class=\"data row13 col30\" >0.069178</td>\n",
              "      <td id=\"T_2705e_row13_col31\" class=\"data row13 col31\" >-0.468321</td>\n",
              "      <td id=\"T_2705e_row13_col32\" class=\"data row13 col32\" >0.325830</td>\n",
              "      <td id=\"T_2705e_row13_col33\" class=\"data row13 col33\" >0.242866</td>\n",
              "      <td id=\"T_2705e_row13_col34\" class=\"data row13 col34\" >-0.074171</td>\n",
              "      <td id=\"T_2705e_row13_col35\" class=\"data row13 col35\" >-0.211949</td>\n",
              "      <td id=\"T_2705e_row13_col36\" class=\"data row13 col36\" >-0.323712</td>\n",
              "      <td id=\"T_2705e_row13_col37\" class=\"data row13 col37\" >0.323712</td>\n",
              "      <td id=\"T_2705e_row13_col38\" class=\"data row13 col38\" >-0.021800</td>\n",
              "      <td id=\"T_2705e_row13_col39\" class=\"data row13 col39\" >-0.046813</td>\n",
              "      <td id=\"T_2705e_row13_col40\" class=\"data row13 col40\" >0.324208</td>\n",
              "      <td id=\"T_2705e_row13_col41\" class=\"data row13 col41\" >-0.299027</td>\n",
              "    </tr>\n",
              "    <tr>\n",
              "      <th id=\"T_2705e_level0_row14\" class=\"row_heading level0 row14\" >HasInternetService_No</th>\n",
              "      <td id=\"T_2705e_row14_col0\" class=\"data row14 col0\" >-0.180831</td>\n",
              "      <td id=\"T_2705e_row14_col1\" class=\"data row14 col1\" >-0.005958</td>\n",
              "      <td id=\"T_2705e_row14_col2\" class=\"data row14 col2\" >0.005958</td>\n",
              "      <td id=\"T_2705e_row14_col3\" class=\"data row14 col3\" >-0.003981</td>\n",
              "      <td id=\"T_2705e_row14_col4\" class=\"data row14 col4\" >0.003981</td>\n",
              "      <td id=\"T_2705e_row14_col5\" class=\"data row14 col5\" >-0.152092</td>\n",
              "      <td id=\"T_2705e_row14_col6\" class=\"data row14 col6\" >0.152092</td>\n",
              "      <td id=\"T_2705e_row14_col7\" class=\"data row14 col7\" >-0.173644</td>\n",
              "      <td id=\"T_2705e_row14_col8\" class=\"data row14 col8\" >0.173644</td>\n",
              "      <td id=\"T_2705e_row14_col9\" class=\"data row14 col9\" >0.304537</td>\n",
              "      <td id=\"T_2705e_row14_col10\" class=\"data row14 col10\" >-0.173644</td>\n",
              "      <td id=\"T_2705e_row14_col11\" class=\"data row14 col11\" >-0.202852</td>\n",
              "      <td id=\"T_2705e_row14_col12\" class=\"data row14 col12\" >-0.377409</td>\n",
              "      <td id=\"T_2705e_row14_col13\" class=\"data row14 col13\" >-0.468321</td>\n",
              "      <td id=\"T_2705e_row14_col14\" class=\"data row14 col14\" >1.000000</td>\n",
              "      <td id=\"T_2705e_row14_col15\" class=\"data row14 col15\" >-0.519184</td>\n",
              "      <td id=\"T_2705e_row14_col16\" class=\"data row14 col16\" >1.000000</td>\n",
              "      <td id=\"T_2705e_row14_col17\" class=\"data row14 col17\" >-0.335046</td>\n",
              "      <td id=\"T_2705e_row14_col18\" class=\"data row14 col18\" >-0.466706</td>\n",
              "      <td id=\"T_2705e_row14_col19\" class=\"data row14 col19\" >1.000000</td>\n",
              "      <td id=\"T_2705e_row14_col20\" class=\"data row14 col20\" >-0.378841</td>\n",
              "      <td id=\"T_2705e_row14_col21\" class=\"data row14 col21\" >-0.464024</td>\n",
              "      <td id=\"T_2705e_row14_col22\" class=\"data row14 col22\" >1.000000</td>\n",
              "      <td id=\"T_2705e_row14_col23\" class=\"data row14 col23\" >-0.381233</td>\n",
              "      <td id=\"T_2705e_row14_col24\" class=\"data row14 col24\" >-0.517613</td>\n",
              "      <td id=\"T_2705e_row14_col25\" class=\"data row14 col25\" >1.000000</td>\n",
              "      <td id=\"T_2705e_row14_col26\" class=\"data row14 col26\" >-0.336280</td>\n",
              "      <td id=\"T_2705e_row14_col27\" class=\"data row14 col27\" >-0.426263</td>\n",
              "      <td id=\"T_2705e_row14_col28\" class=\"data row14 col28\" >1.000000</td>\n",
              "      <td id=\"T_2705e_row14_col29\" class=\"data row14 col29\" >-0.416721</td>\n",
              "      <td id=\"T_2705e_row14_col30\" class=\"data row14 col30\" >-0.423237</td>\n",
              "      <td id=\"T_2705e_row14_col31\" class=\"data row14 col31\" >1.000000</td>\n",
              "      <td id=\"T_2705e_row14_col32\" class=\"data row14 col32\" >-0.419721</td>\n",
              "      <td id=\"T_2705e_row14_col33\" class=\"data row14 col33\" >-0.221852</td>\n",
              "      <td id=\"T_2705e_row14_col34\" class=\"data row14 col34\" >0.044764</td>\n",
              "      <td id=\"T_2705e_row14_col35\" class=\"data row14 col35\" >0.215264</td>\n",
              "      <td id=\"T_2705e_row14_col36\" class=\"data row14 col36\" >0.311281</td>\n",
              "      <td id=\"T_2705e_row14_col37\" class=\"data row14 col37\" >-0.311281</td>\n",
              "      <td id=\"T_2705e_row14_col38\" class=\"data row14 col38\" >0.000708</td>\n",
              "      <td id=\"T_2705e_row14_col39\" class=\"data row14 col39\" >-0.006599</td>\n",
              "      <td id=\"T_2705e_row14_col40\" class=\"data row14 col40\" >-0.272103</td>\n",
              "      <td id=\"T_2705e_row14_col41\" class=\"data row14 col41\" >0.313550</td>\n",
              "    </tr>\n",
              "    <tr>\n",
              "      <th id=\"T_2705e_level0_row15\" class=\"row_heading level0 row15\" >HasOnlineSecurityService_No</th>\n",
              "      <td id=\"T_2705e_row15_col0\" class=\"data row15 col0\" >0.180638</td>\n",
              "      <td id=\"T_2705e_row15_col1\" class=\"data row15 col1\" >-0.006874</td>\n",
              "      <td id=\"T_2705e_row15_col2\" class=\"data row15 col2\" >0.006874</td>\n",
              "      <td id=\"T_2705e_row15_col3\" class=\"data row15 col3\" >0.133596</td>\n",
              "      <td id=\"T_2705e_row15_col4\" class=\"data row15 col4\" >-0.133596</td>\n",
              "      <td id=\"T_2705e_row15_col5\" class=\"data row15 col5\" >0.198537</td>\n",
              "      <td id=\"T_2705e_row15_col6\" class=\"data row15 col6\" >-0.198537</td>\n",
              "      <td id=\"T_2705e_row15_col7\" class=\"data row15 col7\" >0.053796</td>\n",
              "      <td id=\"T_2705e_row15_col8\" class=\"data row15 col8\" >-0.053796</td>\n",
              "      <td id=\"T_2705e_row15_col9\" class=\"data row15 col9\" >-0.102147</td>\n",
              "      <td id=\"T_2705e_row15_col10\" class=\"data row15 col10\" >0.053796</td>\n",
              "      <td id=\"T_2705e_row15_col11\" class=\"data row15 col11\" >0.070722</td>\n",
              "      <td id=\"T_2705e_row15_col12\" class=\"data row15 col12\" >0.015885</td>\n",
              "      <td id=\"T_2705e_row15_col13\" class=\"data row15 col13\" >0.414943</td>\n",
              "      <td id=\"T_2705e_row15_col14\" class=\"data row15 col14\" >-0.519184</td>\n",
              "      <td id=\"T_2705e_row15_col15\" class=\"data row15 col15\" >1.000000</td>\n",
              "      <td id=\"T_2705e_row15_col16\" class=\"data row15 col16\" >-0.519184</td>\n",
              "      <td id=\"T_2705e_row15_col17\" class=\"data row15 col17\" >-0.631314</td>\n",
              "      <td id=\"T_2705e_row15_col18\" class=\"data row15 col18\" >0.381899</td>\n",
              "      <td id=\"T_2705e_row15_col19\" class=\"data row15 col19\" >-0.519184</td>\n",
              "      <td id=\"T_2705e_row15_col20\" class=\"data row15 col20\" >0.050617</td>\n",
              "      <td id=\"T_2705e_row15_col21\" class=\"data row15 col21\" >0.374850</td>\n",
              "      <td id=\"T_2705e_row15_col22\" class=\"data row15 col22\" >-0.519184</td>\n",
              "      <td id=\"T_2705e_row15_col23\" class=\"data row15 col23\" >0.058149</td>\n",
              "      <td id=\"T_2705e_row15_col24\" class=\"data row15 col24\" >0.464516</td>\n",
              "      <td id=\"T_2705e_row15_col25\" class=\"data row15 col25\" >-0.519184</td>\n",
              "      <td id=\"T_2705e_row15_col26\" class=\"data row15 col26\" >-0.040901</td>\n",
              "      <td id=\"T_2705e_row15_col27\" class=\"data row15 col27\" >0.249184</td>\n",
              "      <td id=\"T_2705e_row15_col28\" class=\"data row15 col28\" >-0.519184</td>\n",
              "      <td id=\"T_2705e_row15_col29\" class=\"data row15 col29\" >0.188343</td>\n",
              "      <td id=\"T_2705e_row15_col30\" class=\"data row15 col30\" >0.262652</td>\n",
              "      <td id=\"T_2705e_row15_col31\" class=\"data row15 col31\" >-0.519184</td>\n",
              "      <td id=\"T_2705e_row15_col32\" class=\"data row15 col32\" >0.174920</td>\n",
              "      <td id=\"T_2705e_row15_col33\" class=\"data row15 col33\" >0.409763</td>\n",
              "      <td id=\"T_2705e_row15_col34\" class=\"data row15 col34\" >-0.124843</td>\n",
              "      <td id=\"T_2705e_row15_col35\" class=\"data row15 col35\" >-0.357880</td>\n",
              "      <td id=\"T_2705e_row15_col36\" class=\"data row15 col36\" >-0.263364</td>\n",
              "      <td id=\"T_2705e_row15_col37\" class=\"data row15 col37\" >0.263364</td>\n",
              "      <td id=\"T_2705e_row15_col38\" class=\"data row15 col38\" >-0.073323</td>\n",
              "      <td id=\"T_2705e_row15_col39\" class=\"data row15 col39\" >-0.109635</td>\n",
              "      <td id=\"T_2705e_row15_col40\" class=\"data row15 col40\" >0.322423</td>\n",
              "      <td id=\"T_2705e_row15_col41\" class=\"data row15 col41\" >-0.184181</td>\n",
              "    </tr>\n",
              "    <tr>\n",
              "      <th id=\"T_2705e_level0_row16\" class=\"row_heading level0 row16\" >HasOnlineSecurityService_No internet service</th>\n",
              "      <td id=\"T_2705e_row16_col0\" class=\"data row16 col0\" >-0.180831</td>\n",
              "      <td id=\"T_2705e_row16_col1\" class=\"data row16 col1\" >-0.005958</td>\n",
              "      <td id=\"T_2705e_row16_col2\" class=\"data row16 col2\" >0.005958</td>\n",
              "      <td id=\"T_2705e_row16_col3\" class=\"data row16 col3\" >-0.003981</td>\n",
              "      <td id=\"T_2705e_row16_col4\" class=\"data row16 col4\" >0.003981</td>\n",
              "      <td id=\"T_2705e_row16_col5\" class=\"data row16 col5\" >-0.152092</td>\n",
              "      <td id=\"T_2705e_row16_col6\" class=\"data row16 col6\" >0.152092</td>\n",
              "      <td id=\"T_2705e_row16_col7\" class=\"data row16 col7\" >-0.173644</td>\n",
              "      <td id=\"T_2705e_row16_col8\" class=\"data row16 col8\" >0.173644</td>\n",
              "      <td id=\"T_2705e_row16_col9\" class=\"data row16 col9\" >0.304537</td>\n",
              "      <td id=\"T_2705e_row16_col10\" class=\"data row16 col10\" >-0.173644</td>\n",
              "      <td id=\"T_2705e_row16_col11\" class=\"data row16 col11\" >-0.202852</td>\n",
              "      <td id=\"T_2705e_row16_col12\" class=\"data row16 col12\" >-0.377409</td>\n",
              "      <td id=\"T_2705e_row16_col13\" class=\"data row16 col13\" >-0.468321</td>\n",
              "      <td id=\"T_2705e_row16_col14\" class=\"data row16 col14\" >1.000000</td>\n",
              "      <td id=\"T_2705e_row16_col15\" class=\"data row16 col15\" >-0.519184</td>\n",
              "      <td id=\"T_2705e_row16_col16\" class=\"data row16 col16\" >1.000000</td>\n",
              "      <td id=\"T_2705e_row16_col17\" class=\"data row16 col17\" >-0.335046</td>\n",
              "      <td id=\"T_2705e_row16_col18\" class=\"data row16 col18\" >-0.466706</td>\n",
              "      <td id=\"T_2705e_row16_col19\" class=\"data row16 col19\" >1.000000</td>\n",
              "      <td id=\"T_2705e_row16_col20\" class=\"data row16 col20\" >-0.378841</td>\n",
              "      <td id=\"T_2705e_row16_col21\" class=\"data row16 col21\" >-0.464024</td>\n",
              "      <td id=\"T_2705e_row16_col22\" class=\"data row16 col22\" >1.000000</td>\n",
              "      <td id=\"T_2705e_row16_col23\" class=\"data row16 col23\" >-0.381233</td>\n",
              "      <td id=\"T_2705e_row16_col24\" class=\"data row16 col24\" >-0.517613</td>\n",
              "      <td id=\"T_2705e_row16_col25\" class=\"data row16 col25\" >1.000000</td>\n",
              "      <td id=\"T_2705e_row16_col26\" class=\"data row16 col26\" >-0.336280</td>\n",
              "      <td id=\"T_2705e_row16_col27\" class=\"data row16 col27\" >-0.426263</td>\n",
              "      <td id=\"T_2705e_row16_col28\" class=\"data row16 col28\" >1.000000</td>\n",
              "      <td id=\"T_2705e_row16_col29\" class=\"data row16 col29\" >-0.416721</td>\n",
              "      <td id=\"T_2705e_row16_col30\" class=\"data row16 col30\" >-0.423237</td>\n",
              "      <td id=\"T_2705e_row16_col31\" class=\"data row16 col31\" >1.000000</td>\n",
              "      <td id=\"T_2705e_row16_col32\" class=\"data row16 col32\" >-0.419721</td>\n",
              "      <td id=\"T_2705e_row16_col33\" class=\"data row16 col33\" >-0.221852</td>\n",
              "      <td id=\"T_2705e_row16_col34\" class=\"data row16 col34\" >0.044764</td>\n",
              "      <td id=\"T_2705e_row16_col35\" class=\"data row16 col35\" >0.215264</td>\n",
              "      <td id=\"T_2705e_row16_col36\" class=\"data row16 col36\" >0.311281</td>\n",
              "      <td id=\"T_2705e_row16_col37\" class=\"data row16 col37\" >-0.311281</td>\n",
              "      <td id=\"T_2705e_row16_col38\" class=\"data row16 col38\" >0.000708</td>\n",
              "      <td id=\"T_2705e_row16_col39\" class=\"data row16 col39\" >-0.006599</td>\n",
              "      <td id=\"T_2705e_row16_col40\" class=\"data row16 col40\" >-0.272103</td>\n",
              "      <td id=\"T_2705e_row16_col41\" class=\"data row16 col41\" >0.313550</td>\n",
              "    </tr>\n",
              "    <tr>\n",
              "      <th id=\"T_2705e_level0_row17\" class=\"row_heading level0 row17\" >HasOnlineSecurityService_Yes</th>\n",
              "      <td id=\"T_2705e_row17_col0\" class=\"data row17 col0\" >-0.035052</td>\n",
              "      <td id=\"T_2705e_row17_col1\" class=\"data row17 col1\" >0.012985</td>\n",
              "      <td id=\"T_2705e_row17_col2\" class=\"data row17 col2\" >-0.012985</td>\n",
              "      <td id=\"T_2705e_row17_col3\" class=\"data row17 col3\" >-0.143668</td>\n",
              "      <td id=\"T_2705e_row17_col4\" class=\"data row17 col4\" >0.143668</td>\n",
              "      <td id=\"T_2705e_row17_col5\" class=\"data row17 col5\" >-0.080863</td>\n",
              "      <td id=\"T_2705e_row17_col6\" class=\"data row17 col6\" >0.080863</td>\n",
              "      <td id=\"T_2705e_row17_col7\" class=\"data row17 col7\" >0.098260</td>\n",
              "      <td id=\"T_2705e_row17_col8\" class=\"data row17 col8\" >-0.098260</td>\n",
              "      <td id=\"T_2705e_row17_col9\" class=\"data row17 col9\" >-0.163730</td>\n",
              "      <td id=\"T_2705e_row17_col10\" class=\"data row17 col10\" >0.098260</td>\n",
              "      <td id=\"T_2705e_row17_col11\" class=\"data row17 col11\" >0.106104</td>\n",
              "      <td id=\"T_2705e_row17_col12\" class=\"data row17 col12\" >0.324952</td>\n",
              "      <td id=\"T_2705e_row17_col13\" class=\"data row17 col13\" >-0.032486</td>\n",
              "      <td id=\"T_2705e_row17_col14\" class=\"data row17 col14\" >-0.335046</td>\n",
              "      <td id=\"T_2705e_row17_col15\" class=\"data row17 col15\" >-0.631314</td>\n",
              "      <td id=\"T_2705e_row17_col16\" class=\"data row17 col16\" >-0.335046</td>\n",
              "      <td id=\"T_2705e_row17_col17\" class=\"data row17 col17\" >1.000000</td>\n",
              "      <td id=\"T_2705e_row17_col18\" class=\"data row17 col18\" >0.002478</td>\n",
              "      <td id=\"T_2705e_row17_col19\" class=\"data row17 col19\" >-0.335046</td>\n",
              "      <td id=\"T_2705e_row17_col20\" class=\"data row17 col20\" >0.287962</td>\n",
              "      <td id=\"T_2705e_row17_col21\" class=\"data row17 col21\" >0.007815</td>\n",
              "      <td id=\"T_2705e_row17_col22\" class=\"data row17 col22\" >-0.335046</td>\n",
              "      <td id=\"T_2705e_row17_col23\" class=\"data row17 col23\" >0.281829</td>\n",
              "      <td id=\"T_2705e_row17_col24\" class=\"data row17 col24\" >-0.042409</td>\n",
              "      <td id=\"T_2705e_row17_col25\" class=\"data row17 col25\" >-0.335046</td>\n",
              "      <td id=\"T_2705e_row17_col26\" class=\"data row17 col26\" >0.350233</td>\n",
              "      <td id=\"T_2705e_row17_col27\" class=\"data row17 col27\" >0.112088</td>\n",
              "      <td id=\"T_2705e_row17_col28\" class=\"data row17 col28\" >-0.335046</td>\n",
              "      <td id=\"T_2705e_row17_col29\" class=\"data row17 col29\" >0.170502</td>\n",
              "      <td id=\"T_2705e_row17_col30\" class=\"data row17 col30\" >0.094494</td>\n",
              "      <td id=\"T_2705e_row17_col31\" class=\"data row17 col31\" >-0.335046</td>\n",
              "      <td id=\"T_2705e_row17_col32\" class=\"data row17 col32\" >0.188022</td>\n",
              "      <td id=\"T_2705e_row17_col33\" class=\"data row17 col33\" >-0.250423</td>\n",
              "      <td id=\"T_2705e_row17_col34\" class=\"data row17 col34\" >0.097011</td>\n",
              "      <td id=\"T_2705e_row17_col35\" class=\"data row17 col35\" >0.199205</td>\n",
              "      <td id=\"T_2705e_row17_col36\" class=\"data row17 col36\" >0.007880</td>\n",
              "      <td id=\"T_2705e_row17_col37\" class=\"data row17 col37\" >-0.007880</td>\n",
              "      <td id=\"T_2705e_row17_col38\" class=\"data row17 col38\" >0.080191</td>\n",
              "      <td id=\"T_2705e_row17_col39\" class=\"data row17 col39\" >0.126853</td>\n",
              "      <td id=\"T_2705e_row17_col40\" class=\"data row17 col40\" >-0.108539</td>\n",
              "      <td id=\"T_2705e_row17_col41\" class=\"data row17 col41\" >-0.081472</td>\n",
              "    </tr>\n",
              "    <tr>\n",
              "      <th id=\"T_2705e_level0_row18\" class=\"row_heading level0 row18\" >HasOnlineBackup_No</th>\n",
              "      <td id=\"T_2705e_row18_col0\" class=\"data row18 col0\" >0.084633</td>\n",
              "      <td id=\"T_2705e_row18_col1\" class=\"data row18 col1\" >-0.002150</td>\n",
              "      <td id=\"T_2705e_row18_col2\" class=\"data row18 col2\" >0.002150</td>\n",
              "      <td id=\"T_2705e_row18_col3\" class=\"data row18 col3\" >0.131761</td>\n",
              "      <td id=\"T_2705e_row18_col4\" class=\"data row18 col4\" >-0.131761</td>\n",
              "      <td id=\"T_2705e_row18_col5\" class=\"data row18 col5\" >0.141769</td>\n",
              "      <td id=\"T_2705e_row18_col6\" class=\"data row18 col6\" >-0.141769</td>\n",
              "      <td id=\"T_2705e_row18_col7\" class=\"data row18 col7\" >0.100987</td>\n",
              "      <td id=\"T_2705e_row18_col8\" class=\"data row18 col8\" >-0.100987</td>\n",
              "      <td id=\"T_2705e_row18_col9\" class=\"data row18 col9\" >-0.034054</td>\n",
              "      <td id=\"T_2705e_row18_col10\" class=\"data row18 col10\" >0.100987</td>\n",
              "      <td id=\"T_2705e_row18_col11\" class=\"data row18 col11\" >-0.026503</td>\n",
              "      <td id=\"T_2705e_row18_col12\" class=\"data row18 col12\" >0.165949</td>\n",
              "      <td id=\"T_2705e_row18_col13\" class=\"data row18 col13\" >0.228291</td>\n",
              "      <td id=\"T_2705e_row18_col14\" class=\"data row18 col14\" >-0.466706</td>\n",
              "      <td id=\"T_2705e_row18_col15\" class=\"data row18 col15\" >0.381899</td>\n",
              "      <td id=\"T_2705e_row18_col16\" class=\"data row18 col16\" >-0.466706</td>\n",
              "      <td id=\"T_2705e_row18_col17\" class=\"data row18 col17\" >0.002478</td>\n",
              "      <td id=\"T_2705e_row18_col18\" class=\"data row18 col18\" >1.000000</td>\n",
              "      <td id=\"T_2705e_row18_col19\" class=\"data row18 col19\" >-0.466706</td>\n",
              "      <td id=\"T_2705e_row18_col20\" class=\"data row18 col20\" >-0.641682</td>\n",
              "      <td id=\"T_2705e_row18_col21\" class=\"data row18 col21\" >0.362687</td>\n",
              "      <td id=\"T_2705e_row18_col22\" class=\"data row18 col22\" >-0.466706</td>\n",
              "      <td id=\"T_2705e_row18_col23\" class=\"data row18 col23\" >0.025423</td>\n",
              "      <td id=\"T_2705e_row18_col24\" class=\"data row18 col24\" >0.381556</td>\n",
              "      <td id=\"T_2705e_row18_col25\" class=\"data row18 col25\" >-0.466706</td>\n",
              "      <td id=\"T_2705e_row18_col26\" class=\"data row18 col26\" >0.002867</td>\n",
              "      <td id=\"T_2705e_row18_col27\" class=\"data row18 col27\" >0.317326</td>\n",
              "      <td id=\"T_2705e_row18_col28\" class=\"data row18 col28\" >-0.466706</td>\n",
              "      <td id=\"T_2705e_row18_col29\" class=\"data row18 col29\" >0.075520</td>\n",
              "      <td id=\"T_2705e_row18_col30\" class=\"data row18 col30\" >0.316196</td>\n",
              "      <td id=\"T_2705e_row18_col31\" class=\"data row18 col31\" >-0.466706</td>\n",
              "      <td id=\"T_2705e_row18_col32\" class=\"data row18 col32\" >0.077004</td>\n",
              "      <td id=\"T_2705e_row18_col33\" class=\"data row18 col33\" >0.347998</td>\n",
              "      <td id=\"T_2705e_row18_col34\" class=\"data row18 col34\" >-0.120638</td>\n",
              "      <td id=\"T_2705e_row18_col35\" class=\"data row18 col35\" >-0.290172</td>\n",
              "      <td id=\"T_2705e_row18_col36\" class=\"data row18 col36\" >-0.136872</td>\n",
              "      <td id=\"T_2705e_row18_col37\" class=\"data row18 col37\" >0.136872</td>\n",
              "      <td id=\"T_2705e_row18_col38\" class=\"data row18 col38\" >-0.086319</td>\n",
              "      <td id=\"T_2705e_row18_col39\" class=\"data row18 col39\" >-0.085767</td>\n",
              "      <td id=\"T_2705e_row18_col40\" class=\"data row18 col40\" >0.231690</td>\n",
              "      <td id=\"T_2705e_row18_col41\" class=\"data row18 col41\" >-0.092200</td>\n",
              "    </tr>\n",
              "    <tr>\n",
              "      <th id=\"T_2705e_level0_row19\" class=\"row_heading level0 row19\" >HasOnlineBackup_No internet service</th>\n",
              "      <td id=\"T_2705e_row19_col0\" class=\"data row19 col0\" >-0.180831</td>\n",
              "      <td id=\"T_2705e_row19_col1\" class=\"data row19 col1\" >-0.005958</td>\n",
              "      <td id=\"T_2705e_row19_col2\" class=\"data row19 col2\" >0.005958</td>\n",
              "      <td id=\"T_2705e_row19_col3\" class=\"data row19 col3\" >-0.003981</td>\n",
              "      <td id=\"T_2705e_row19_col4\" class=\"data row19 col4\" >0.003981</td>\n",
              "      <td id=\"T_2705e_row19_col5\" class=\"data row19 col5\" >-0.152092</td>\n",
              "      <td id=\"T_2705e_row19_col6\" class=\"data row19 col6\" >0.152092</td>\n",
              "      <td id=\"T_2705e_row19_col7\" class=\"data row19 col7\" >-0.173644</td>\n",
              "      <td id=\"T_2705e_row19_col8\" class=\"data row19 col8\" >0.173644</td>\n",
              "      <td id=\"T_2705e_row19_col9\" class=\"data row19 col9\" >0.304537</td>\n",
              "      <td id=\"T_2705e_row19_col10\" class=\"data row19 col10\" >-0.173644</td>\n",
              "      <td id=\"T_2705e_row19_col11\" class=\"data row19 col11\" >-0.202852</td>\n",
              "      <td id=\"T_2705e_row19_col12\" class=\"data row19 col12\" >-0.377409</td>\n",
              "      <td id=\"T_2705e_row19_col13\" class=\"data row19 col13\" >-0.468321</td>\n",
              "      <td id=\"T_2705e_row19_col14\" class=\"data row19 col14\" >1.000000</td>\n",
              "      <td id=\"T_2705e_row19_col15\" class=\"data row19 col15\" >-0.519184</td>\n",
              "      <td id=\"T_2705e_row19_col16\" class=\"data row19 col16\" >1.000000</td>\n",
              "      <td id=\"T_2705e_row19_col17\" class=\"data row19 col17\" >-0.335046</td>\n",
              "      <td id=\"T_2705e_row19_col18\" class=\"data row19 col18\" >-0.466706</td>\n",
              "      <td id=\"T_2705e_row19_col19\" class=\"data row19 col19\" >1.000000</td>\n",
              "      <td id=\"T_2705e_row19_col20\" class=\"data row19 col20\" >-0.378841</td>\n",
              "      <td id=\"T_2705e_row19_col21\" class=\"data row19 col21\" >-0.464024</td>\n",
              "      <td id=\"T_2705e_row19_col22\" class=\"data row19 col22\" >1.000000</td>\n",
              "      <td id=\"T_2705e_row19_col23\" class=\"data row19 col23\" >-0.381233</td>\n",
              "      <td id=\"T_2705e_row19_col24\" class=\"data row19 col24\" >-0.517613</td>\n",
              "      <td id=\"T_2705e_row19_col25\" class=\"data row19 col25\" >1.000000</td>\n",
              "      <td id=\"T_2705e_row19_col26\" class=\"data row19 col26\" >-0.336280</td>\n",
              "      <td id=\"T_2705e_row19_col27\" class=\"data row19 col27\" >-0.426263</td>\n",
              "      <td id=\"T_2705e_row19_col28\" class=\"data row19 col28\" >1.000000</td>\n",
              "      <td id=\"T_2705e_row19_col29\" class=\"data row19 col29\" >-0.416721</td>\n",
              "      <td id=\"T_2705e_row19_col30\" class=\"data row19 col30\" >-0.423237</td>\n",
              "      <td id=\"T_2705e_row19_col31\" class=\"data row19 col31\" >1.000000</td>\n",
              "      <td id=\"T_2705e_row19_col32\" class=\"data row19 col32\" >-0.419721</td>\n",
              "      <td id=\"T_2705e_row19_col33\" class=\"data row19 col33\" >-0.221852</td>\n",
              "      <td id=\"T_2705e_row19_col34\" class=\"data row19 col34\" >0.044764</td>\n",
              "      <td id=\"T_2705e_row19_col35\" class=\"data row19 col35\" >0.215264</td>\n",
              "      <td id=\"T_2705e_row19_col36\" class=\"data row19 col36\" >0.311281</td>\n",
              "      <td id=\"T_2705e_row19_col37\" class=\"data row19 col37\" >-0.311281</td>\n",
              "      <td id=\"T_2705e_row19_col38\" class=\"data row19 col38\" >0.000708</td>\n",
              "      <td id=\"T_2705e_row19_col39\" class=\"data row19 col39\" >-0.006599</td>\n",
              "      <td id=\"T_2705e_row19_col40\" class=\"data row19 col40\" >-0.272103</td>\n",
              "      <td id=\"T_2705e_row19_col41\" class=\"data row19 col41\" >0.313550</td>\n",
              "    </tr>\n",
              "    <tr>\n",
              "      <th id=\"T_2705e_level0_row20\" class=\"row_heading level0 row20\" >HasOnlineBackup_Yes</th>\n",
              "      <td id=\"T_2705e_row20_col0\" class=\"data row20 col0\" >0.068258</td>\n",
              "      <td id=\"T_2705e_row20_col1\" class=\"data row20 col1\" >0.007417</td>\n",
              "      <td id=\"T_2705e_row20_col2\" class=\"data row20 col2\" >-0.007417</td>\n",
              "      <td id=\"T_2705e_row20_col3\" class=\"data row20 col3\" >-0.134424</td>\n",
              "      <td id=\"T_2705e_row20_col4\" class=\"data row20 col4\" >0.134424</td>\n",
              "      <td id=\"T_2705e_row20_col5\" class=\"data row20 col5\" >-0.016453</td>\n",
              "      <td id=\"T_2705e_row20_col6\" class=\"data row20 col6\" >0.016453</td>\n",
              "      <td id=\"T_2705e_row20_col7\" class=\"data row20 col7\" >0.044911</td>\n",
              "      <td id=\"T_2705e_row20_col8\" class=\"data row20 col8\" >-0.044911</td>\n",
              "      <td id=\"T_2705e_row20_col9\" class=\"data row20 col9\" >-0.228463</td>\n",
              "      <td id=\"T_2705e_row20_col10\" class=\"data row20 col10\" >0.044911</td>\n",
              "      <td id=\"T_2705e_row20_col11\" class=\"data row20 col11\" >0.203648</td>\n",
              "      <td id=\"T_2705e_row20_col12\" class=\"data row20 col12\" >0.153641</td>\n",
              "      <td id=\"T_2705e_row20_col13\" class=\"data row20 col13\" >0.167245</td>\n",
              "      <td id=\"T_2705e_row20_col14\" class=\"data row20 col14\" >-0.378841</td>\n",
              "      <td id=\"T_2705e_row20_col15\" class=\"data row20 col15\" >0.050617</td>\n",
              "      <td id=\"T_2705e_row20_col16\" class=\"data row20 col16\" >-0.378841</td>\n",
              "      <td id=\"T_2705e_row20_col17\" class=\"data row20 col17\" >0.287962</td>\n",
              "      <td id=\"T_2705e_row20_col18\" class=\"data row20 col18\" >-0.641682</td>\n",
              "      <td id=\"T_2705e_row20_col19\" class=\"data row20 col19\" >-0.378841</td>\n",
              "      <td id=\"T_2705e_row20_col20\" class=\"data row20 col20\" >1.000000</td>\n",
              "      <td id=\"T_2705e_row20_col21\" class=\"data row20 col21\" >0.022885</td>\n",
              "      <td id=\"T_2705e_row20_col22\" class=\"data row20 col22\" >-0.378841</td>\n",
              "      <td id=\"T_2705e_row20_col23\" class=\"data row20 col23\" >0.304005</td>\n",
              "      <td id=\"T_2705e_row20_col24\" class=\"data row20 col24\" >0.049613</td>\n",
              "      <td id=\"T_2705e_row20_col25\" class=\"data row20 col25\" >-0.378841</td>\n",
              "      <td id=\"T_2705e_row20_col26\" class=\"data row20 col26\" >0.288625</td>\n",
              "      <td id=\"T_2705e_row20_col27\" class=\"data row20 col27\" >0.037605</td>\n",
              "      <td id=\"T_2705e_row20_col28\" class=\"data row20 col28\" >-0.378841</td>\n",
              "      <td id=\"T_2705e_row20_col29\" class=\"data row20 col29\" >0.282359</td>\n",
              "      <td id=\"T_2705e_row20_col30\" class=\"data row20 col30\" >0.036163</td>\n",
              "      <td id=\"T_2705e_row20_col31\" class=\"data row20 col31\" >-0.378841</td>\n",
              "      <td id=\"T_2705e_row20_col32\" class=\"data row20 col32\" >0.283408</td>\n",
              "      <td id=\"T_2705e_row20_col33\" class=\"data row20 col33\" >-0.171758</td>\n",
              "      <td id=\"T_2705e_row20_col34\" class=\"data row20 col34\" >0.087418</td>\n",
              "      <td id=\"T_2705e_row20_col35\" class=\"data row20 col35\" >0.116962</td>\n",
              "      <td id=\"T_2705e_row20_col36\" class=\"data row20 col36\" >-0.126721</td>\n",
              "      <td id=\"T_2705e_row20_col37\" class=\"data row20 col37\" >0.126721</td>\n",
              "      <td id=\"T_2705e_row20_col38\" class=\"data row20 col38\" >0.089711</td>\n",
              "      <td id=\"T_2705e_row20_col39\" class=\"data row20 col39\" >0.095471</td>\n",
              "      <td id=\"T_2705e_row20_col40\" class=\"data row20 col40\" >-0.006474</td>\n",
              "      <td id=\"T_2705e_row20_col41\" class=\"data row20 col41\" >-0.175433</td>\n",
              "    </tr>\n",
              "    <tr>\n",
              "      <th id=\"T_2705e_level0_row21\" class=\"row_heading level0 row21\" >HasDeviceProtection_No</th>\n",
              "      <td id=\"T_2705e_row21_col0\" class=\"data row21 col0\" >0.103860</td>\n",
              "      <td id=\"T_2705e_row21_col1\" class=\"data row21 col1\" >0.002778</td>\n",
              "      <td id=\"T_2705e_row21_col2\" class=\"data row21 col2\" >-0.002778</td>\n",
              "      <td id=\"T_2705e_row21_col3\" class=\"data row21 col3\" >0.150691</td>\n",
              "      <td id=\"T_2705e_row21_col4\" class=\"data row21 col4\" >-0.150691</td>\n",
              "      <td id=\"T_2705e_row21_col5\" class=\"data row21 col5\" >0.129790</td>\n",
              "      <td id=\"T_2705e_row21_col6\" class=\"data row21 col6\" >-0.129790</td>\n",
              "      <td id=\"T_2705e_row21_col7\" class=\"data row21 col7\" >0.079918</td>\n",
              "      <td id=\"T_2705e_row21_col8\" class=\"data row21 col8\" >-0.079918</td>\n",
              "      <td id=\"T_2705e_row21_col9\" class=\"data row21 col9\" >-0.021754</td>\n",
              "      <td id=\"T_2705e_row21_col10\" class=\"data row21 col10\" >0.079918</td>\n",
              "      <td id=\"T_2705e_row21_col11\" class=\"data row21 col11\" >-0.026221</td>\n",
              "      <td id=\"T_2705e_row21_col12\" class=\"data row21 col12\" >0.172593</td>\n",
              "      <td id=\"T_2705e_row21_col13\" class=\"data row21 col13\" >0.219730</td>\n",
              "      <td id=\"T_2705e_row21_col14\" class=\"data row21 col14\" >-0.464024</td>\n",
              "      <td id=\"T_2705e_row21_col15\" class=\"data row21 col15\" >0.374850</td>\n",
              "      <td id=\"T_2705e_row21_col16\" class=\"data row21 col16\" >-0.464024</td>\n",
              "      <td id=\"T_2705e_row21_col17\" class=\"data row21 col17\" >0.007815</td>\n",
              "      <td id=\"T_2705e_row21_col18\" class=\"data row21 col18\" >0.362687</td>\n",
              "      <td id=\"T_2705e_row21_col19\" class=\"data row21 col19\" >-0.464024</td>\n",
              "      <td id=\"T_2705e_row21_col20\" class=\"data row21 col20\" >0.022885</td>\n",
              "      <td id=\"T_2705e_row21_col21\" class=\"data row21 col21\" >1.000000</td>\n",
              "      <td id=\"T_2705e_row21_col22\" class=\"data row21 col22\" >-0.464024</td>\n",
              "      <td id=\"T_2705e_row21_col23\" class=\"data row21 col23\" >-0.642023</td>\n",
              "      <td id=\"T_2705e_row21_col24\" class=\"data row21 col24\" >0.419515</td>\n",
              "      <td id=\"T_2705e_row21_col25\" class=\"data row21 col25\" >-0.464024</td>\n",
              "      <td id=\"T_2705e_row21_col26\" class=\"data row21 col26\" >-0.041343</td>\n",
              "      <td id=\"T_2705e_row21_col27\" class=\"data row21 col27\" >0.421987</td>\n",
              "      <td id=\"T_2705e_row21_col28\" class=\"data row21 col28\" >-0.464024</td>\n",
              "      <td id=\"T_2705e_row21_col29\" class=\"data row21 col29\" >-0.031921</td>\n",
              "      <td id=\"T_2705e_row21_col30\" class=\"data row21 col30\" >0.432684</td>\n",
              "      <td id=\"T_2705e_row21_col31\" class=\"data row21 col31\" >-0.464024</td>\n",
              "      <td id=\"T_2705e_row21_col32\" class=\"data row21 col32\" >-0.041957</td>\n",
              "      <td id=\"T_2705e_row21_col33\" class=\"data row21 col33\" >0.403712</td>\n",
              "      <td id=\"T_2705e_row21_col34\" class=\"data row21 col34\" >-0.131051</td>\n",
              "      <td id=\"T_2705e_row21_col35\" class=\"data row21 col35\" >-0.345012</td>\n",
              "      <td id=\"T_2705e_row21_col36\" class=\"data row21 col36\" >-0.160245</td>\n",
              "      <td id=\"T_2705e_row21_col37\" class=\"data row21 col37\" >0.160245</td>\n",
              "      <td id=\"T_2705e_row21_col38\" class=\"data row21 col38\" >-0.073203</td>\n",
              "      <td id=\"T_2705e_row21_col39\" class=\"data row21 col39\" >-0.110615</td>\n",
              "      <td id=\"T_2705e_row21_col40\" class=\"data row21 col40\" >0.235134</td>\n",
              "      <td id=\"T_2705e_row21_col41\" class=\"data row21 col41\" >-0.084610</td>\n",
              "    </tr>\n",
              "    <tr>\n",
              "      <th id=\"T_2705e_level0_row22\" class=\"row_heading level0 row22\" >HasDeviceProtection_No internet service</th>\n",
              "      <td id=\"T_2705e_row22_col0\" class=\"data row22 col0\" >-0.180831</td>\n",
              "      <td id=\"T_2705e_row22_col1\" class=\"data row22 col1\" >-0.005958</td>\n",
              "      <td id=\"T_2705e_row22_col2\" class=\"data row22 col2\" >0.005958</td>\n",
              "      <td id=\"T_2705e_row22_col3\" class=\"data row22 col3\" >-0.003981</td>\n",
              "      <td id=\"T_2705e_row22_col4\" class=\"data row22 col4\" >0.003981</td>\n",
              "      <td id=\"T_2705e_row22_col5\" class=\"data row22 col5\" >-0.152092</td>\n",
              "      <td id=\"T_2705e_row22_col6\" class=\"data row22 col6\" >0.152092</td>\n",
              "      <td id=\"T_2705e_row22_col7\" class=\"data row22 col7\" >-0.173644</td>\n",
              "      <td id=\"T_2705e_row22_col8\" class=\"data row22 col8\" >0.173644</td>\n",
              "      <td id=\"T_2705e_row22_col9\" class=\"data row22 col9\" >0.304537</td>\n",
              "      <td id=\"T_2705e_row22_col10\" class=\"data row22 col10\" >-0.173644</td>\n",
              "      <td id=\"T_2705e_row22_col11\" class=\"data row22 col11\" >-0.202852</td>\n",
              "      <td id=\"T_2705e_row22_col12\" class=\"data row22 col12\" >-0.377409</td>\n",
              "      <td id=\"T_2705e_row22_col13\" class=\"data row22 col13\" >-0.468321</td>\n",
              "      <td id=\"T_2705e_row22_col14\" class=\"data row22 col14\" >1.000000</td>\n",
              "      <td id=\"T_2705e_row22_col15\" class=\"data row22 col15\" >-0.519184</td>\n",
              "      <td id=\"T_2705e_row22_col16\" class=\"data row22 col16\" >1.000000</td>\n",
              "      <td id=\"T_2705e_row22_col17\" class=\"data row22 col17\" >-0.335046</td>\n",
              "      <td id=\"T_2705e_row22_col18\" class=\"data row22 col18\" >-0.466706</td>\n",
              "      <td id=\"T_2705e_row22_col19\" class=\"data row22 col19\" >1.000000</td>\n",
              "      <td id=\"T_2705e_row22_col20\" class=\"data row22 col20\" >-0.378841</td>\n",
              "      <td id=\"T_2705e_row22_col21\" class=\"data row22 col21\" >-0.464024</td>\n",
              "      <td id=\"T_2705e_row22_col22\" class=\"data row22 col22\" >1.000000</td>\n",
              "      <td id=\"T_2705e_row22_col23\" class=\"data row22 col23\" >-0.381233</td>\n",
              "      <td id=\"T_2705e_row22_col24\" class=\"data row22 col24\" >-0.517613</td>\n",
              "      <td id=\"T_2705e_row22_col25\" class=\"data row22 col25\" >1.000000</td>\n",
              "      <td id=\"T_2705e_row22_col26\" class=\"data row22 col26\" >-0.336280</td>\n",
              "      <td id=\"T_2705e_row22_col27\" class=\"data row22 col27\" >-0.426263</td>\n",
              "      <td id=\"T_2705e_row22_col28\" class=\"data row22 col28\" >1.000000</td>\n",
              "      <td id=\"T_2705e_row22_col29\" class=\"data row22 col29\" >-0.416721</td>\n",
              "      <td id=\"T_2705e_row22_col30\" class=\"data row22 col30\" >-0.423237</td>\n",
              "      <td id=\"T_2705e_row22_col31\" class=\"data row22 col31\" >1.000000</td>\n",
              "      <td id=\"T_2705e_row22_col32\" class=\"data row22 col32\" >-0.419721</td>\n",
              "      <td id=\"T_2705e_row22_col33\" class=\"data row22 col33\" >-0.221852</td>\n",
              "      <td id=\"T_2705e_row22_col34\" class=\"data row22 col34\" >0.044764</td>\n",
              "      <td id=\"T_2705e_row22_col35\" class=\"data row22 col35\" >0.215264</td>\n",
              "      <td id=\"T_2705e_row22_col36\" class=\"data row22 col36\" >0.311281</td>\n",
              "      <td id=\"T_2705e_row22_col37\" class=\"data row22 col37\" >-0.311281</td>\n",
              "      <td id=\"T_2705e_row22_col38\" class=\"data row22 col38\" >0.000708</td>\n",
              "      <td id=\"T_2705e_row22_col39\" class=\"data row22 col39\" >-0.006599</td>\n",
              "      <td id=\"T_2705e_row22_col40\" class=\"data row22 col40\" >-0.272103</td>\n",
              "      <td id=\"T_2705e_row22_col41\" class=\"data row22 col41\" >0.313550</td>\n",
              "    </tr>\n",
              "    <tr>\n",
              "      <th id=\"T_2705e_level0_row23\" class=\"row_heading level0 row23\" >HasDeviceProtection_Yes</th>\n",
              "      <td id=\"T_2705e_row23_col0\" class=\"data row23 col0\" >0.048119</td>\n",
              "      <td id=\"T_2705e_row23_col1\" class=\"data row23 col1\" >0.002257</td>\n",
              "      <td id=\"T_2705e_row23_col2\" class=\"data row23 col2\" >-0.002257</td>\n",
              "      <td id=\"T_2705e_row23_col3\" class=\"data row23 col3\" >-0.153821</td>\n",
              "      <td id=\"T_2705e_row23_col4\" class=\"data row23 col4\" >0.153821</td>\n",
              "      <td id=\"T_2705e_row23_col5\" class=\"data row23 col5\" >-0.003817</td>\n",
              "      <td id=\"T_2705e_row23_col6\" class=\"data row23 col6\" >0.003817</td>\n",
              "      <td id=\"T_2705e_row23_col7\" class=\"data row23 col7\" >0.066884</td>\n",
              "      <td id=\"T_2705e_row23_col8\" class=\"data row23 col8\" >-0.066884</td>\n",
              "      <td id=\"T_2705e_row23_col9\" class=\"data row23 col9\" >-0.240876</td>\n",
              "      <td id=\"T_2705e_row23_col10\" class=\"data row23 col10\" >0.066884</td>\n",
              "      <td id=\"T_2705e_row23_col11\" class=\"data row23 col11\" >0.202934</td>\n",
              "      <td id=\"T_2705e_row23_col12\" class=\"data row23 col12\" >0.146525</td>\n",
              "      <td id=\"T_2705e_row23_col13\" class=\"data row23 col13\" >0.176016</td>\n",
              "      <td id=\"T_2705e_row23_col14\" class=\"data row23 col14\" >-0.381233</td>\n",
              "      <td id=\"T_2705e_row23_col15\" class=\"data row23 col15\" >0.058149</td>\n",
              "      <td id=\"T_2705e_row23_col16\" class=\"data row23 col16\" >-0.381233</td>\n",
              "      <td id=\"T_2705e_row23_col17\" class=\"data row23 col17\" >0.281829</td>\n",
              "      <td id=\"T_2705e_row23_col18\" class=\"data row23 col18\" >0.025423</td>\n",
              "      <td id=\"T_2705e_row23_col19\" class=\"data row23 col19\" >-0.381233</td>\n",
              "      <td id=\"T_2705e_row23_col20\" class=\"data row23 col20\" >0.304005</td>\n",
              "      <td id=\"T_2705e_row23_col21\" class=\"data row23 col21\" >-0.642023</td>\n",
              "      <td id=\"T_2705e_row23_col22\" class=\"data row23 col22\" >-0.381233</td>\n",
              "      <td id=\"T_2705e_row23_col23\" class=\"data row23 col23\" >1.000000</td>\n",
              "      <td id=\"T_2705e_row23_col24\" class=\"data row23 col24\" >0.010176</td>\n",
              "      <td id=\"T_2705e_row23_col25\" class=\"data row23 col25\" >-0.381233</td>\n",
              "      <td id=\"T_2705e_row23_col26\" class=\"data row23 col26\" >0.334200</td>\n",
              "      <td id=\"T_2705e_row23_col27\" class=\"data row23 col27\" >-0.071468</td>\n",
              "      <td id=\"T_2705e_row23_col28\" class=\"data row23 col28\" >-0.381233</td>\n",
              "      <td id=\"T_2705e_row23_col29\" class=\"data row23 col29\" >0.393989</td>\n",
              "      <td id=\"T_2705e_row23_col30\" class=\"data row23 col30\" >-0.085252</td>\n",
              "      <td id=\"T_2705e_row23_col31\" class=\"data row23 col31\" >-0.381233</td>\n",
              "      <td id=\"T_2705e_row23_col32\" class=\"data row23 col32\" >0.407060</td>\n",
              "      <td id=\"T_2705e_row23_col33\" class=\"data row23 col33\" >-0.229315</td>\n",
              "      <td id=\"T_2705e_row23_col34\" class=\"data row23 col34\" >0.098027</td>\n",
              "      <td id=\"T_2705e_row23_col35\" class=\"data row23 col35\" >0.173755</td>\n",
              "      <td id=\"T_2705e_row23_col36\" class=\"data row23 col36\" >-0.102178</td>\n",
              "      <td id=\"T_2705e_row23_col37\" class=\"data row23 col37\" >0.102178</td>\n",
              "      <td id=\"T_2705e_row23_col38\" class=\"data row23 col38\" >0.075785</td>\n",
              "      <td id=\"T_2705e_row23_col39\" class=\"data row23 col39\" >0.121154</td>\n",
              "      <td id=\"T_2705e_row23_col40\" class=\"data row23 col40\" >-0.009888</td>\n",
              "      <td id=\"T_2705e_row23_col41\" class=\"data row23 col41\" >-0.183076</td>\n",
              "    </tr>\n",
              "    <tr>\n",
              "      <th id=\"T_2705e_level0_row24\" class=\"row_heading level0 row24\" >HasTechSupportAccess_No</th>\n",
              "      <td id=\"T_2705e_row24_col0\" class=\"data row24 col0\" >0.198516</td>\n",
              "      <td id=\"T_2705e_row24_col1\" class=\"data row24 col1\" >-0.009920</td>\n",
              "      <td id=\"T_2705e_row24_col2\" class=\"data row24 col2\" >0.009920</td>\n",
              "      <td id=\"T_2705e_row24_col3\" class=\"data row24 col3\" >0.113977</td>\n",
              "      <td id=\"T_2705e_row24_col4\" class=\"data row24 col4\" >-0.113977</td>\n",
              "      <td id=\"T_2705e_row24_col5\" class=\"data row24 col5\" >0.177608</td>\n",
              "      <td id=\"T_2705e_row24_col6\" class=\"data row24 col6\" >-0.177608</td>\n",
              "      <td id=\"T_2705e_row24_col7\" class=\"data row24 col7\" >0.048450</td>\n",
              "      <td id=\"T_2705e_row24_col8\" class=\"data row24 col8\" >-0.048450</td>\n",
              "      <td id=\"T_2705e_row24_col9\" class=\"data row24 col9\" >-0.112158</td>\n",
              "      <td id=\"T_2705e_row24_col10\" class=\"data row24 col10\" >0.048450</td>\n",
              "      <td id=\"T_2705e_row24_col11\" class=\"data row24 col11\" >0.084055</td>\n",
              "      <td id=\"T_2705e_row24_col12\" class=\"data row24 col12\" >0.019661</td>\n",
              "      <td id=\"T_2705e_row24_col13\" class=\"data row24 col13\" >0.410039</td>\n",
              "      <td id=\"T_2705e_row24_col14\" class=\"data row24 col14\" >-0.517613</td>\n",
              "      <td id=\"T_2705e_row24_col15\" class=\"data row24 col15\" >0.464516</td>\n",
              "      <td id=\"T_2705e_row24_col16\" class=\"data row24 col16\" >-0.517613</td>\n",
              "      <td id=\"T_2705e_row24_col17\" class=\"data row24 col17\" >-0.042409</td>\n",
              "      <td id=\"T_2705e_row24_col18\" class=\"data row24 col18\" >0.381556</td>\n",
              "      <td id=\"T_2705e_row24_col19\" class=\"data row24 col19\" >-0.517613</td>\n",
              "      <td id=\"T_2705e_row24_col20\" class=\"data row24 col20\" >0.049613</td>\n",
              "      <td id=\"T_2705e_row24_col21\" class=\"data row24 col21\" >0.419515</td>\n",
              "      <td id=\"T_2705e_row24_col22\" class=\"data row24 col22\" >-0.517613</td>\n",
              "      <td id=\"T_2705e_row24_col23\" class=\"data row24 col23\" >0.010176</td>\n",
              "      <td id=\"T_2705e_row24_col24\" class=\"data row24 col24\" >1.000000</td>\n",
              "      <td id=\"T_2705e_row24_col25\" class=\"data row24 col25\" >-0.517613</td>\n",
              "      <td id=\"T_2705e_row24_col26\" class=\"data row24 col26\" >-0.631722</td>\n",
              "      <td id=\"T_2705e_row24_col27\" class=\"data row24 col27\" >0.346061</td>\n",
              "      <td id=\"T_2705e_row24_col28\" class=\"data row24 col28\" >-0.517613</td>\n",
              "      <td id=\"T_2705e_row24_col29\" class=\"data row24 col29\" >0.089664</td>\n",
              "      <td id=\"T_2705e_row24_col30\" class=\"data row24 col30\" >0.351128</td>\n",
              "      <td id=\"T_2705e_row24_col31\" class=\"data row24 col31\" >-0.517613</td>\n",
              "      <td id=\"T_2705e_row24_col32\" class=\"data row24 col32\" >0.084960</td>\n",
              "      <td id=\"T_2705e_row24_col33\" class=\"data row24 col33\" >0.448182</td>\n",
              "      <td id=\"T_2705e_row24_col34\" class=\"data row24 col34\" >-0.130816</td>\n",
              "      <td id=\"T_2705e_row24_col35\" class=\"data row24 col35\" >-0.396833</td>\n",
              "      <td id=\"T_2705e_row24_col36\" class=\"data row24 col36\" >-0.225381</td>\n",
              "      <td id=\"T_2705e_row24_col37\" class=\"data row24 col37\" >0.225381</td>\n",
              "      <td id=\"T_2705e_row24_col38\" class=\"data row24 col38\" >-0.091850</td>\n",
              "      <td id=\"T_2705e_row24_col39\" class=\"data row24 col39\" >-0.100691</td>\n",
              "      <td id=\"T_2705e_row24_col40\" class=\"data row24 col40\" >0.324600</td>\n",
              "      <td id=\"T_2705e_row24_col41\" class=\"data row24 col41\" >-0.177119</td>\n",
              "    </tr>\n",
              "    <tr>\n",
              "      <th id=\"T_2705e_level0_row25\" class=\"row_heading level0 row25\" >HasTechSupportAccess_No internet service</th>\n",
              "      <td id=\"T_2705e_row25_col0\" class=\"data row25 col0\" >-0.180831</td>\n",
              "      <td id=\"T_2705e_row25_col1\" class=\"data row25 col1\" >-0.005958</td>\n",
              "      <td id=\"T_2705e_row25_col2\" class=\"data row25 col2\" >0.005958</td>\n",
              "      <td id=\"T_2705e_row25_col3\" class=\"data row25 col3\" >-0.003981</td>\n",
              "      <td id=\"T_2705e_row25_col4\" class=\"data row25 col4\" >0.003981</td>\n",
              "      <td id=\"T_2705e_row25_col5\" class=\"data row25 col5\" >-0.152092</td>\n",
              "      <td id=\"T_2705e_row25_col6\" class=\"data row25 col6\" >0.152092</td>\n",
              "      <td id=\"T_2705e_row25_col7\" class=\"data row25 col7\" >-0.173644</td>\n",
              "      <td id=\"T_2705e_row25_col8\" class=\"data row25 col8\" >0.173644</td>\n",
              "      <td id=\"T_2705e_row25_col9\" class=\"data row25 col9\" >0.304537</td>\n",
              "      <td id=\"T_2705e_row25_col10\" class=\"data row25 col10\" >-0.173644</td>\n",
              "      <td id=\"T_2705e_row25_col11\" class=\"data row25 col11\" >-0.202852</td>\n",
              "      <td id=\"T_2705e_row25_col12\" class=\"data row25 col12\" >-0.377409</td>\n",
              "      <td id=\"T_2705e_row25_col13\" class=\"data row25 col13\" >-0.468321</td>\n",
              "      <td id=\"T_2705e_row25_col14\" class=\"data row25 col14\" >1.000000</td>\n",
              "      <td id=\"T_2705e_row25_col15\" class=\"data row25 col15\" >-0.519184</td>\n",
              "      <td id=\"T_2705e_row25_col16\" class=\"data row25 col16\" >1.000000</td>\n",
              "      <td id=\"T_2705e_row25_col17\" class=\"data row25 col17\" >-0.335046</td>\n",
              "      <td id=\"T_2705e_row25_col18\" class=\"data row25 col18\" >-0.466706</td>\n",
              "      <td id=\"T_2705e_row25_col19\" class=\"data row25 col19\" >1.000000</td>\n",
              "      <td id=\"T_2705e_row25_col20\" class=\"data row25 col20\" >-0.378841</td>\n",
              "      <td id=\"T_2705e_row25_col21\" class=\"data row25 col21\" >-0.464024</td>\n",
              "      <td id=\"T_2705e_row25_col22\" class=\"data row25 col22\" >1.000000</td>\n",
              "      <td id=\"T_2705e_row25_col23\" class=\"data row25 col23\" >-0.381233</td>\n",
              "      <td id=\"T_2705e_row25_col24\" class=\"data row25 col24\" >-0.517613</td>\n",
              "      <td id=\"T_2705e_row25_col25\" class=\"data row25 col25\" >1.000000</td>\n",
              "      <td id=\"T_2705e_row25_col26\" class=\"data row25 col26\" >-0.336280</td>\n",
              "      <td id=\"T_2705e_row25_col27\" class=\"data row25 col27\" >-0.426263</td>\n",
              "      <td id=\"T_2705e_row25_col28\" class=\"data row25 col28\" >1.000000</td>\n",
              "      <td id=\"T_2705e_row25_col29\" class=\"data row25 col29\" >-0.416721</td>\n",
              "      <td id=\"T_2705e_row25_col30\" class=\"data row25 col30\" >-0.423237</td>\n",
              "      <td id=\"T_2705e_row25_col31\" class=\"data row25 col31\" >1.000000</td>\n",
              "      <td id=\"T_2705e_row25_col32\" class=\"data row25 col32\" >-0.419721</td>\n",
              "      <td id=\"T_2705e_row25_col33\" class=\"data row25 col33\" >-0.221852</td>\n",
              "      <td id=\"T_2705e_row25_col34\" class=\"data row25 col34\" >0.044764</td>\n",
              "      <td id=\"T_2705e_row25_col35\" class=\"data row25 col35\" >0.215264</td>\n",
              "      <td id=\"T_2705e_row25_col36\" class=\"data row25 col36\" >0.311281</td>\n",
              "      <td id=\"T_2705e_row25_col37\" class=\"data row25 col37\" >-0.311281</td>\n",
              "      <td id=\"T_2705e_row25_col38\" class=\"data row25 col38\" >0.000708</td>\n",
              "      <td id=\"T_2705e_row25_col39\" class=\"data row25 col39\" >-0.006599</td>\n",
              "      <td id=\"T_2705e_row25_col40\" class=\"data row25 col40\" >-0.272103</td>\n",
              "      <td id=\"T_2705e_row25_col41\" class=\"data row25 col41\" >0.313550</td>\n",
              "    </tr>\n",
              "    <tr>\n",
              "      <th id=\"T_2705e_level0_row26\" class=\"row_heading level0 row26\" >HasTechSupportAccess_Yes</th>\n",
              "      <td id=\"T_2705e_row26_col0\" class=\"data row26 col0\" >-0.054669</td>\n",
              "      <td id=\"T_2705e_row26_col1\" class=\"data row26 col1\" >0.016317</td>\n",
              "      <td id=\"T_2705e_row26_col2\" class=\"data row26 col2\" >-0.016317</td>\n",
              "      <td id=\"T_2705e_row26_col3\" class=\"data row26 col3\" >-0.121847</td>\n",
              "      <td id=\"T_2705e_row26_col4\" class=\"data row26 col4\" >0.121847</td>\n",
              "      <td id=\"T_2705e_row26_col5\" class=\"data row26 col5\" >-0.057694</td>\n",
              "      <td id=\"T_2705e_row26_col6\" class=\"data row26 col6\" >0.057694</td>\n",
              "      <td id=\"T_2705e_row26_col7\" class=\"data row26 col7\" >0.103995</td>\n",
              "      <td id=\"T_2705e_row26_col8\" class=\"data row26 col8\" >-0.103995</td>\n",
              "      <td id=\"T_2705e_row26_col9\" class=\"data row26 col9\" >-0.152463</td>\n",
              "      <td id=\"T_2705e_row26_col10\" class=\"data row26 col10\" >0.103995</td>\n",
              "      <td id=\"T_2705e_row26_col11\" class=\"data row26 col11\" >0.091267</td>\n",
              "      <td id=\"T_2705e_row26_col12\" class=\"data row26 col12\" >0.320295</td>\n",
              "      <td id=\"T_2705e_row26_col13\" class=\"data row26 col13\" >-0.027020</td>\n",
              "      <td id=\"T_2705e_row26_col14\" class=\"data row26 col14\" >-0.336280</td>\n",
              "      <td id=\"T_2705e_row26_col15\" class=\"data row26 col15\" >-0.040901</td>\n",
              "      <td id=\"T_2705e_row26_col16\" class=\"data row26 col16\" >-0.336280</td>\n",
              "      <td id=\"T_2705e_row26_col17\" class=\"data row26 col17\" >0.350233</td>\n",
              "      <td id=\"T_2705e_row26_col18\" class=\"data row26 col18\" >0.002867</td>\n",
              "      <td id=\"T_2705e_row26_col19\" class=\"data row26 col19\" >-0.336280</td>\n",
              "      <td id=\"T_2705e_row26_col20\" class=\"data row26 col20\" >0.288625</td>\n",
              "      <td id=\"T_2705e_row26_col21\" class=\"data row26 col21\" >-0.041343</td>\n",
              "      <td id=\"T_2705e_row26_col22\" class=\"data row26 col22\" >-0.336280</td>\n",
              "      <td id=\"T_2705e_row26_col23\" class=\"data row26 col23\" >0.334200</td>\n",
              "      <td id=\"T_2705e_row26_col24\" class=\"data row26 col24\" >-0.631722</td>\n",
              "      <td id=\"T_2705e_row26_col25\" class=\"data row26 col25\" >-0.336280</td>\n",
              "      <td id=\"T_2705e_row26_col26\" class=\"data row26 col26\" >1.000000</td>\n",
              "      <td id=\"T_2705e_row26_col27\" class=\"data row26 col27\" >0.005294</td>\n",
              "      <td id=\"T_2705e_row26_col28\" class=\"data row26 col28\" >-0.336280</td>\n",
              "      <td id=\"T_2705e_row26_col29\" class=\"data row26 col29\" >0.278862</td>\n",
              "      <td id=\"T_2705e_row26_col30\" class=\"data row26 col30\" >-0.003025</td>\n",
              "      <td id=\"T_2705e_row26_col31\" class=\"data row26 col31\" >-0.336280</td>\n",
              "      <td id=\"T_2705e_row26_col32\" class=\"data row26 col32\" >0.286757</td>\n",
              "      <td id=\"T_2705e_row26_col33\" class=\"data row26 col33\" >-0.292306</td>\n",
              "      <td id=\"T_2705e_row26_col34\" class=\"data row26 col34\" >0.103431</td>\n",
              "      <td id=\"T_2705e_row26_col35\" class=\"data row26 col35\" >0.241757</td>\n",
              "      <td id=\"T_2705e_row26_col36\" class=\"data row26 col36\" >-0.033950</td>\n",
              "      <td id=\"T_2705e_row26_col37\" class=\"data row26 col37\" >0.033950</td>\n",
              "      <td id=\"T_2705e_row26_col38\" class=\"data row26 col38\" >0.100456</td>\n",
              "      <td id=\"T_2705e_row26_col39\" class=\"data row26 col39\" >0.116808</td>\n",
              "      <td id=\"T_2705e_row26_col40\" class=\"data row26 col40\" >-0.110755</td>\n",
              "      <td id=\"T_2705e_row26_col41\" class=\"data row26 col41\" >-0.089127</td>\n",
              "    </tr>\n",
              "    <tr>\n",
              "      <th id=\"T_2705e_level0_row27\" class=\"row_heading level0 row27\" >HasOnlineTV_No</th>\n",
              "      <td id=\"T_2705e_row27_col0\" class=\"data row27 col0\" >0.047982</td>\n",
              "      <td id=\"T_2705e_row27_col1\" class=\"data row27 col1\" >-0.010010</td>\n",
              "      <td id=\"T_2705e_row27_col2\" class=\"data row27 col2\" >0.010010</td>\n",
              "      <td id=\"T_2705e_row27_col3\" class=\"data row27 col3\" >0.120020</td>\n",
              "      <td id=\"T_2705e_row27_col4\" class=\"data row27 col4\" >-0.120020</td>\n",
              "      <td id=\"T_2705e_row27_col5\" class=\"data row27 col5\" >0.104460</td>\n",
              "      <td id=\"T_2705e_row27_col6\" class=\"data row27 col6\" >-0.104460</td>\n",
              "      <td id=\"T_2705e_row27_col7\" class=\"data row27 col7\" >0.121914</td>\n",
              "      <td id=\"T_2705e_row27_col8\" class=\"data row27 col8\" >-0.121914</td>\n",
              "      <td id=\"T_2705e_row27_col9\" class=\"data row27 col9\" >0.007871</td>\n",
              "      <td id=\"T_2705e_row27_col10\" class=\"data row27 col10\" >0.121914</td>\n",
              "      <td id=\"T_2705e_row27_col11\" class=\"data row27 col11\" >-0.081463</td>\n",
              "      <td id=\"T_2705e_row27_col12\" class=\"data row27 col12\" >0.313197</td>\n",
              "      <td id=\"T_2705e_row27_col13\" class=\"data row27 col13\" >0.054295</td>\n",
              "      <td id=\"T_2705e_row27_col14\" class=\"data row27 col14\" >-0.426263</td>\n",
              "      <td id=\"T_2705e_row27_col15\" class=\"data row27 col15\" >0.249184</td>\n",
              "      <td id=\"T_2705e_row27_col16\" class=\"data row27 col16\" >-0.426263</td>\n",
              "      <td id=\"T_2705e_row27_col17\" class=\"data row27 col17\" >0.112088</td>\n",
              "      <td id=\"T_2705e_row27_col18\" class=\"data row27 col18\" >0.317326</td>\n",
              "      <td id=\"T_2705e_row27_col19\" class=\"data row27 col19\" >-0.426263</td>\n",
              "      <td id=\"T_2705e_row27_col20\" class=\"data row27 col20\" >0.037605</td>\n",
              "      <td id=\"T_2705e_row27_col21\" class=\"data row27 col21\" >0.421987</td>\n",
              "      <td id=\"T_2705e_row27_col22\" class=\"data row27 col22\" >-0.426263</td>\n",
              "      <td id=\"T_2705e_row27_col23\" class=\"data row27 col23\" >-0.071468</td>\n",
              "      <td id=\"T_2705e_row27_col24\" class=\"data row27 col24\" >0.346061</td>\n",
              "      <td id=\"T_2705e_row27_col25\" class=\"data row27 col25\" >-0.426263</td>\n",
              "      <td id=\"T_2705e_row27_col26\" class=\"data row27 col26\" >0.005294</td>\n",
              "      <td id=\"T_2705e_row27_col27\" class=\"data row27 col27\" >1.000000</td>\n",
              "      <td id=\"T_2705e_row27_col28\" class=\"data row27 col28\" >-0.426263</td>\n",
              "      <td id=\"T_2705e_row27_col29\" class=\"data row27 col29\" >-0.644679</td>\n",
              "      <td id=\"T_2705e_row27_col30\" class=\"data row27 col30\" >0.548721</td>\n",
              "      <td id=\"T_2705e_row27_col31\" class=\"data row27 col31\" >-0.426263</td>\n",
              "      <td id=\"T_2705e_row27_col32\" class=\"data row27 col32\" >-0.190063</td>\n",
              "      <td id=\"T_2705e_row27_col33\" class=\"data row27 col33\" >0.288391</td>\n",
              "      <td id=\"T_2705e_row27_col34\" class=\"data row27 col34\" >-0.087206</td>\n",
              "      <td id=\"T_2705e_row27_col35\" class=\"data row27 col35\" >-0.252496</td>\n",
              "      <td id=\"T_2705e_row27_col36\" class=\"data row27 col36\" >-0.035498</td>\n",
              "      <td id=\"T_2705e_row27_col37\" class=\"data row27 col37\" >0.035498</td>\n",
              "      <td id=\"T_2705e_row27_col38\" class=\"data row27 col38\" >-0.049145</td>\n",
              "      <td id=\"T_2705e_row27_col39\" class=\"data row27 col39\" >-0.038721</td>\n",
              "      <td id=\"T_2705e_row27_col40\" class=\"data row27 col40\" >0.092629</td>\n",
              "      <td id=\"T_2705e_row27_col41\" class=\"data row27 col41\" >-0.018018</td>\n",
              "    </tr>\n",
              "    <tr>\n",
              "      <th id=\"T_2705e_level0_row28\" class=\"row_heading level0 row28\" >HasOnlineTV_No internet service</th>\n",
              "      <td id=\"T_2705e_row28_col0\" class=\"data row28 col0\" >-0.180831</td>\n",
              "      <td id=\"T_2705e_row28_col1\" class=\"data row28 col1\" >-0.005958</td>\n",
              "      <td id=\"T_2705e_row28_col2\" class=\"data row28 col2\" >0.005958</td>\n",
              "      <td id=\"T_2705e_row28_col3\" class=\"data row28 col3\" >-0.003981</td>\n",
              "      <td id=\"T_2705e_row28_col4\" class=\"data row28 col4\" >0.003981</td>\n",
              "      <td id=\"T_2705e_row28_col5\" class=\"data row28 col5\" >-0.152092</td>\n",
              "      <td id=\"T_2705e_row28_col6\" class=\"data row28 col6\" >0.152092</td>\n",
              "      <td id=\"T_2705e_row28_col7\" class=\"data row28 col7\" >-0.173644</td>\n",
              "      <td id=\"T_2705e_row28_col8\" class=\"data row28 col8\" >0.173644</td>\n",
              "      <td id=\"T_2705e_row28_col9\" class=\"data row28 col9\" >0.304537</td>\n",
              "      <td id=\"T_2705e_row28_col10\" class=\"data row28 col10\" >-0.173644</td>\n",
              "      <td id=\"T_2705e_row28_col11\" class=\"data row28 col11\" >-0.202852</td>\n",
              "      <td id=\"T_2705e_row28_col12\" class=\"data row28 col12\" >-0.377409</td>\n",
              "      <td id=\"T_2705e_row28_col13\" class=\"data row28 col13\" >-0.468321</td>\n",
              "      <td id=\"T_2705e_row28_col14\" class=\"data row28 col14\" >1.000000</td>\n",
              "      <td id=\"T_2705e_row28_col15\" class=\"data row28 col15\" >-0.519184</td>\n",
              "      <td id=\"T_2705e_row28_col16\" class=\"data row28 col16\" >1.000000</td>\n",
              "      <td id=\"T_2705e_row28_col17\" class=\"data row28 col17\" >-0.335046</td>\n",
              "      <td id=\"T_2705e_row28_col18\" class=\"data row28 col18\" >-0.466706</td>\n",
              "      <td id=\"T_2705e_row28_col19\" class=\"data row28 col19\" >1.000000</td>\n",
              "      <td id=\"T_2705e_row28_col20\" class=\"data row28 col20\" >-0.378841</td>\n",
              "      <td id=\"T_2705e_row28_col21\" class=\"data row28 col21\" >-0.464024</td>\n",
              "      <td id=\"T_2705e_row28_col22\" class=\"data row28 col22\" >1.000000</td>\n",
              "      <td id=\"T_2705e_row28_col23\" class=\"data row28 col23\" >-0.381233</td>\n",
              "      <td id=\"T_2705e_row28_col24\" class=\"data row28 col24\" >-0.517613</td>\n",
              "      <td id=\"T_2705e_row28_col25\" class=\"data row28 col25\" >1.000000</td>\n",
              "      <td id=\"T_2705e_row28_col26\" class=\"data row28 col26\" >-0.336280</td>\n",
              "      <td id=\"T_2705e_row28_col27\" class=\"data row28 col27\" >-0.426263</td>\n",
              "      <td id=\"T_2705e_row28_col28\" class=\"data row28 col28\" >1.000000</td>\n",
              "      <td id=\"T_2705e_row28_col29\" class=\"data row28 col29\" >-0.416721</td>\n",
              "      <td id=\"T_2705e_row28_col30\" class=\"data row28 col30\" >-0.423237</td>\n",
              "      <td id=\"T_2705e_row28_col31\" class=\"data row28 col31\" >1.000000</td>\n",
              "      <td id=\"T_2705e_row28_col32\" class=\"data row28 col32\" >-0.419721</td>\n",
              "      <td id=\"T_2705e_row28_col33\" class=\"data row28 col33\" >-0.221852</td>\n",
              "      <td id=\"T_2705e_row28_col34\" class=\"data row28 col34\" >0.044764</td>\n",
              "      <td id=\"T_2705e_row28_col35\" class=\"data row28 col35\" >0.215264</td>\n",
              "      <td id=\"T_2705e_row28_col36\" class=\"data row28 col36\" >0.311281</td>\n",
              "      <td id=\"T_2705e_row28_col37\" class=\"data row28 col37\" >-0.311281</td>\n",
              "      <td id=\"T_2705e_row28_col38\" class=\"data row28 col38\" >0.000708</td>\n",
              "      <td id=\"T_2705e_row28_col39\" class=\"data row28 col39\" >-0.006599</td>\n",
              "      <td id=\"T_2705e_row28_col40\" class=\"data row28 col40\" >-0.272103</td>\n",
              "      <td id=\"T_2705e_row28_col41\" class=\"data row28 col41\" >0.313550</td>\n",
              "    </tr>\n",
              "    <tr>\n",
              "      <th id=\"T_2705e_level0_row29\" class=\"row_heading level0 row29\" >HasOnlineTV_Yes</th>\n",
              "      <td id=\"T_2705e_row29_col0\" class=\"data row29 col0\" >0.104599</td>\n",
              "      <td id=\"T_2705e_row29_col1\" class=\"data row29 col1\" >0.015094</td>\n",
              "      <td id=\"T_2705e_row29_col2\" class=\"data row29 col2\" >-0.015094</td>\n",
              "      <td id=\"T_2705e_row29_col3\" class=\"data row29 col3\" >-0.117244</td>\n",
              "      <td id=\"T_2705e_row29_col4\" class=\"data row29 col4\" >0.117244</td>\n",
              "      <td id=\"T_2705e_row29_col5\" class=\"data row29 col5\" >0.023557</td>\n",
              "      <td id=\"T_2705e_row29_col6\" class=\"data row29 col6\" >-0.023557</td>\n",
              "      <td id=\"T_2705e_row29_col7\" class=\"data row29 col7\" >0.024230</td>\n",
              "      <td id=\"T_2705e_row29_col8\" class=\"data row29 col8\" >-0.024230</td>\n",
              "      <td id=\"T_2705e_row29_col9\" class=\"data row29 col9\" >-0.265267</td>\n",
              "      <td id=\"T_2705e_row29_col10\" class=\"data row29 col10\" >0.024230</td>\n",
              "      <td id=\"T_2705e_row29_col11\" class=\"data row29 col11\" >0.253287</td>\n",
              "      <td id=\"T_2705e_row29_col12\" class=\"data row29 col12\" >0.004206</td>\n",
              "      <td id=\"T_2705e_row29_col13\" class=\"data row29 col13\" >0.341205</td>\n",
              "      <td id=\"T_2705e_row29_col14\" class=\"data row29 col14\" >-0.416721</td>\n",
              "      <td id=\"T_2705e_row29_col15\" class=\"data row29 col15\" >0.188343</td>\n",
              "      <td id=\"T_2705e_row29_col16\" class=\"data row29 col16\" >-0.416721</td>\n",
              "      <td id=\"T_2705e_row29_col17\" class=\"data row29 col17\" >0.170502</td>\n",
              "      <td id=\"T_2705e_row29_col18\" class=\"data row29 col18\" >0.075520</td>\n",
              "      <td id=\"T_2705e_row29_col19\" class=\"data row29 col19\" >-0.416721</td>\n",
              "      <td id=\"T_2705e_row29_col20\" class=\"data row29 col20\" >0.282359</td>\n",
              "      <td id=\"T_2705e_row29_col21\" class=\"data row29 col21\" >-0.031921</td>\n",
              "      <td id=\"T_2705e_row29_col22\" class=\"data row29 col22\" >-0.416721</td>\n",
              "      <td id=\"T_2705e_row29_col23\" class=\"data row29 col23\" >0.393989</td>\n",
              "      <td id=\"T_2705e_row29_col24\" class=\"data row29 col24\" >0.089664</td>\n",
              "      <td id=\"T_2705e_row29_col25\" class=\"data row29 col25\" >-0.416721</td>\n",
              "      <td id=\"T_2705e_row29_col26\" class=\"data row29 col26\" >0.278862</td>\n",
              "      <td id=\"T_2705e_row29_col27\" class=\"data row29 col27\" >-0.644679</td>\n",
              "      <td id=\"T_2705e_row29_col28\" class=\"data row29 col28\" >-0.416721</td>\n",
              "      <td id=\"T_2705e_row29_col29\" class=\"data row29 col29\" >1.000000</td>\n",
              "      <td id=\"T_2705e_row29_col30\" class=\"data row29 col30\" >-0.193744</td>\n",
              "      <td id=\"T_2705e_row29_col31\" class=\"data row29 col31\" >-0.416721</td>\n",
              "      <td id=\"T_2705e_row29_col32\" class=\"data row29 col32\" >0.545690</td>\n",
              "      <td id=\"T_2705e_row29_col33\" class=\"data row29 col33\" >-0.102323</td>\n",
              "      <td id=\"T_2705e_row29_col34\" class=\"data row29 col34\" >0.049805</td>\n",
              "      <td id=\"T_2705e_row29_col35\" class=\"data row29 col35\" >0.071820</td>\n",
              "      <td id=\"T_2705e_row29_col36\" class=\"data row29 col36\" >-0.227384</td>\n",
              "      <td id=\"T_2705e_row29_col37\" class=\"data row29 col37\" >0.227384</td>\n",
              "      <td id=\"T_2705e_row29_col38\" class=\"data row29 col38\" >0.048788</td>\n",
              "      <td id=\"T_2705e_row29_col39\" class=\"data row29 col39\" >0.044488</td>\n",
              "      <td id=\"T_2705e_row29_col40\" class=\"data row29 col40\" >0.136864</td>\n",
              "      <td id=\"T_2705e_row29_col41\" class=\"data row29 col41\" >-0.246866</td>\n",
              "    </tr>\n",
              "    <tr>\n",
              "      <th id=\"T_2705e_level0_row30\" class=\"row_heading level0 row30\" >HasMovieSubscription_No</th>\n",
              "      <td id=\"T_2705e_row30_col0\" class=\"data row30 col0\" >0.028863</td>\n",
              "      <td id=\"T_2705e_row30_col1\" class=\"data row30 col1\" >-0.003862</td>\n",
              "      <td id=\"T_2705e_row30_col2\" class=\"data row30 col2\" >0.003862</td>\n",
              "      <td id=\"T_2705e_row30_col3\" class=\"data row30 col3\" >0.121143</td>\n",
              "      <td id=\"T_2705e_row30_col4\" class=\"data row30 col4\" >-0.121143</td>\n",
              "      <td id=\"T_2705e_row30_col5\" class=\"data row30 col5\" >0.093267</td>\n",
              "      <td id=\"T_2705e_row30_col6\" class=\"data row30 col6\" >-0.093267</td>\n",
              "      <td id=\"T_2705e_row30_col7\" class=\"data row30 col7\" >0.120504</td>\n",
              "      <td id=\"T_2705e_row30_col8\" class=\"data row30 col8\" >-0.120504</td>\n",
              "      <td id=\"T_2705e_row30_col9\" class=\"data row30 col9\" >0.011418</td>\n",
              "      <td id=\"T_2705e_row30_col10\" class=\"data row30 col10\" >0.120504</td>\n",
              "      <td id=\"T_2705e_row30_col11\" class=\"data row30 col11\" >-0.084195</td>\n",
              "      <td id=\"T_2705e_row30_col12\" class=\"data row30 col12\" >0.294971</td>\n",
              "      <td id=\"T_2705e_row30_col13\" class=\"data row30 col13\" >0.069178</td>\n",
              "      <td id=\"T_2705e_row30_col14\" class=\"data row30 col14\" >-0.423237</td>\n",
              "      <td id=\"T_2705e_row30_col15\" class=\"data row30 col15\" >0.262652</td>\n",
              "      <td id=\"T_2705e_row30_col16\" class=\"data row30 col16\" >-0.423237</td>\n",
              "      <td id=\"T_2705e_row30_col17\" class=\"data row30 col17\" >0.094494</td>\n",
              "      <td id=\"T_2705e_row30_col18\" class=\"data row30 col18\" >0.316196</td>\n",
              "      <td id=\"T_2705e_row30_col19\" class=\"data row30 col19\" >-0.423237</td>\n",
              "      <td id=\"T_2705e_row30_col20\" class=\"data row30 col20\" >0.036163</td>\n",
              "      <td id=\"T_2705e_row30_col21\" class=\"data row30 col21\" >0.432684</td>\n",
              "      <td id=\"T_2705e_row30_col22\" class=\"data row30 col22\" >-0.423237</td>\n",
              "      <td id=\"T_2705e_row30_col23\" class=\"data row30 col23\" >-0.085252</td>\n",
              "      <td id=\"T_2705e_row30_col24\" class=\"data row30 col24\" >0.351128</td>\n",
              "      <td id=\"T_2705e_row30_col25\" class=\"data row30 col25\" >-0.423237</td>\n",
              "      <td id=\"T_2705e_row30_col26\" class=\"data row30 col26\" >-0.003025</td>\n",
              "      <td id=\"T_2705e_row30_col27\" class=\"data row30 col27\" >0.548721</td>\n",
              "      <td id=\"T_2705e_row30_col28\" class=\"data row30 col28\" >-0.423237</td>\n",
              "      <td id=\"T_2705e_row30_col29\" class=\"data row30 col29\" >-0.193744</td>\n",
              "      <td id=\"T_2705e_row30_col30\" class=\"data row30 col30\" >1.000000</td>\n",
              "      <td id=\"T_2705e_row30_col31\" class=\"data row30 col31\" >-0.423237</td>\n",
              "      <td id=\"T_2705e_row30_col32\" class=\"data row30 col32\" >-0.644709</td>\n",
              "      <td id=\"T_2705e_row30_col33\" class=\"data row30 col33\" >0.302029</td>\n",
              "      <td id=\"T_2705e_row30_col34\" class=\"data row30 col34\" >-0.094357</td>\n",
              "      <td id=\"T_2705e_row30_col35\" class=\"data row30 col35\" >-0.261586</td>\n",
              "      <td id=\"T_2705e_row30_col36\" class=\"data row30 col36\" >-0.062183</td>\n",
              "      <td id=\"T_2705e_row30_col37\" class=\"data row30 col37\" >0.062183</td>\n",
              "      <td id=\"T_2705e_row30_col38\" class=\"data row30 col38\" >-0.034286</td>\n",
              "      <td id=\"T_2705e_row30_col39\" class=\"data row30 col39\" >-0.051109</td>\n",
              "      <td id=\"T_2705e_row30_col40\" class=\"data row30 col40\" >0.089562</td>\n",
              "      <td id=\"T_2705e_row30_col41\" class=\"data row30 col41\" >-0.017055</td>\n",
              "    </tr>\n",
              "    <tr>\n",
              "      <th id=\"T_2705e_level0_row31\" class=\"row_heading level0 row31\" >HasMovieSubscription_No internet service</th>\n",
              "      <td id=\"T_2705e_row31_col0\" class=\"data row31 col0\" >-0.180831</td>\n",
              "      <td id=\"T_2705e_row31_col1\" class=\"data row31 col1\" >-0.005958</td>\n",
              "      <td id=\"T_2705e_row31_col2\" class=\"data row31 col2\" >0.005958</td>\n",
              "      <td id=\"T_2705e_row31_col3\" class=\"data row31 col3\" >-0.003981</td>\n",
              "      <td id=\"T_2705e_row31_col4\" class=\"data row31 col4\" >0.003981</td>\n",
              "      <td id=\"T_2705e_row31_col5\" class=\"data row31 col5\" >-0.152092</td>\n",
              "      <td id=\"T_2705e_row31_col6\" class=\"data row31 col6\" >0.152092</td>\n",
              "      <td id=\"T_2705e_row31_col7\" class=\"data row31 col7\" >-0.173644</td>\n",
              "      <td id=\"T_2705e_row31_col8\" class=\"data row31 col8\" >0.173644</td>\n",
              "      <td id=\"T_2705e_row31_col9\" class=\"data row31 col9\" >0.304537</td>\n",
              "      <td id=\"T_2705e_row31_col10\" class=\"data row31 col10\" >-0.173644</td>\n",
              "      <td id=\"T_2705e_row31_col11\" class=\"data row31 col11\" >-0.202852</td>\n",
              "      <td id=\"T_2705e_row31_col12\" class=\"data row31 col12\" >-0.377409</td>\n",
              "      <td id=\"T_2705e_row31_col13\" class=\"data row31 col13\" >-0.468321</td>\n",
              "      <td id=\"T_2705e_row31_col14\" class=\"data row31 col14\" >1.000000</td>\n",
              "      <td id=\"T_2705e_row31_col15\" class=\"data row31 col15\" >-0.519184</td>\n",
              "      <td id=\"T_2705e_row31_col16\" class=\"data row31 col16\" >1.000000</td>\n",
              "      <td id=\"T_2705e_row31_col17\" class=\"data row31 col17\" >-0.335046</td>\n",
              "      <td id=\"T_2705e_row31_col18\" class=\"data row31 col18\" >-0.466706</td>\n",
              "      <td id=\"T_2705e_row31_col19\" class=\"data row31 col19\" >1.000000</td>\n",
              "      <td id=\"T_2705e_row31_col20\" class=\"data row31 col20\" >-0.378841</td>\n",
              "      <td id=\"T_2705e_row31_col21\" class=\"data row31 col21\" >-0.464024</td>\n",
              "      <td id=\"T_2705e_row31_col22\" class=\"data row31 col22\" >1.000000</td>\n",
              "      <td id=\"T_2705e_row31_col23\" class=\"data row31 col23\" >-0.381233</td>\n",
              "      <td id=\"T_2705e_row31_col24\" class=\"data row31 col24\" >-0.517613</td>\n",
              "      <td id=\"T_2705e_row31_col25\" class=\"data row31 col25\" >1.000000</td>\n",
              "      <td id=\"T_2705e_row31_col26\" class=\"data row31 col26\" >-0.336280</td>\n",
              "      <td id=\"T_2705e_row31_col27\" class=\"data row31 col27\" >-0.426263</td>\n",
              "      <td id=\"T_2705e_row31_col28\" class=\"data row31 col28\" >1.000000</td>\n",
              "      <td id=\"T_2705e_row31_col29\" class=\"data row31 col29\" >-0.416721</td>\n",
              "      <td id=\"T_2705e_row31_col30\" class=\"data row31 col30\" >-0.423237</td>\n",
              "      <td id=\"T_2705e_row31_col31\" class=\"data row31 col31\" >1.000000</td>\n",
              "      <td id=\"T_2705e_row31_col32\" class=\"data row31 col32\" >-0.419721</td>\n",
              "      <td id=\"T_2705e_row31_col33\" class=\"data row31 col33\" >-0.221852</td>\n",
              "      <td id=\"T_2705e_row31_col34\" class=\"data row31 col34\" >0.044764</td>\n",
              "      <td id=\"T_2705e_row31_col35\" class=\"data row31 col35\" >0.215264</td>\n",
              "      <td id=\"T_2705e_row31_col36\" class=\"data row31 col36\" >0.311281</td>\n",
              "      <td id=\"T_2705e_row31_col37\" class=\"data row31 col37\" >-0.311281</td>\n",
              "      <td id=\"T_2705e_row31_col38\" class=\"data row31 col38\" >0.000708</td>\n",
              "      <td id=\"T_2705e_row31_col39\" class=\"data row31 col39\" >-0.006599</td>\n",
              "      <td id=\"T_2705e_row31_col40\" class=\"data row31 col40\" >-0.272103</td>\n",
              "      <td id=\"T_2705e_row31_col41\" class=\"data row31 col41\" >0.313550</td>\n",
              "    </tr>\n",
              "    <tr>\n",
              "      <th id=\"T_2705e_level0_row32\" class=\"row_heading level0 row32\" >HasMovieSubscription_Yes</th>\n",
              "      <td id=\"T_2705e_row32_col0\" class=\"data row32 col0\" >0.123656</td>\n",
              "      <td id=\"T_2705e_row32_col1\" class=\"data row32 col1\" >0.008897</td>\n",
              "      <td id=\"T_2705e_row32_col2\" class=\"data row32 col2\" >-0.008897</td>\n",
              "      <td id=\"T_2705e_row32_col3\" class=\"data row32 col3\" >-0.118002</td>\n",
              "      <td id=\"T_2705e_row32_col4\" class=\"data row32 col4\" >0.118002</td>\n",
              "      <td id=\"T_2705e_row32_col5\" class=\"data row32 col5\" >0.034888</td>\n",
              "      <td id=\"T_2705e_row32_col6\" class=\"data row32 col6\" >-0.034888</td>\n",
              "      <td id=\"T_2705e_row32_col7\" class=\"data row32 col7\" >0.025785</td>\n",
              "      <td id=\"T_2705e_row32_col8\" class=\"data row32 col8\" >-0.025785</td>\n",
              "      <td id=\"T_2705e_row32_col9\" class=\"data row32 col9\" >-0.268384</td>\n",
              "      <td id=\"T_2705e_row32_col10\" class=\"data row32 col10\" >0.025785</td>\n",
              "      <td id=\"T_2705e_row32_col11\" class=\"data row32 col11\" >0.255497</td>\n",
              "      <td id=\"T_2705e_row32_col12\" class=\"data row32 col12\" >0.022925</td>\n",
              "      <td id=\"T_2705e_row32_col13\" class=\"data row32 col13\" >0.325830</td>\n",
              "      <td id=\"T_2705e_row32_col14\" class=\"data row32 col14\" >-0.419721</td>\n",
              "      <td id=\"T_2705e_row32_col15\" class=\"data row32 col15\" >0.174920</td>\n",
              "      <td id=\"T_2705e_row32_col16\" class=\"data row32 col16\" >-0.419721</td>\n",
              "      <td id=\"T_2705e_row32_col17\" class=\"data row32 col17\" >0.188022</td>\n",
              "      <td id=\"T_2705e_row32_col18\" class=\"data row32 col18\" >0.077004</td>\n",
              "      <td id=\"T_2705e_row32_col19\" class=\"data row32 col19\" >-0.419721</td>\n",
              "      <td id=\"T_2705e_row32_col20\" class=\"data row32 col20\" >0.283408</td>\n",
              "      <td id=\"T_2705e_row32_col21\" class=\"data row32 col21\" >-0.041957</td>\n",
              "      <td id=\"T_2705e_row32_col22\" class=\"data row32 col22\" >-0.419721</td>\n",
              "      <td id=\"T_2705e_row32_col23\" class=\"data row32 col23\" >0.407060</td>\n",
              "      <td id=\"T_2705e_row32_col24\" class=\"data row32 col24\" >0.084960</td>\n",
              "      <td id=\"T_2705e_row32_col25\" class=\"data row32 col25\" >-0.419721</td>\n",
              "      <td id=\"T_2705e_row32_col26\" class=\"data row32 col26\" >0.286757</td>\n",
              "      <td id=\"T_2705e_row32_col27\" class=\"data row32 col27\" >-0.190063</td>\n",
              "      <td id=\"T_2705e_row32_col28\" class=\"data row32 col28\" >-0.419721</td>\n",
              "      <td id=\"T_2705e_row32_col29\" class=\"data row32 col29\" >0.545690</td>\n",
              "      <td id=\"T_2705e_row32_col30\" class=\"data row32 col30\" >-0.644709</td>\n",
              "      <td id=\"T_2705e_row32_col31\" class=\"data row32 col31\" >-0.419721</td>\n",
              "      <td id=\"T_2705e_row32_col32\" class=\"data row32 col32\" >1.000000</td>\n",
              "      <td id=\"T_2705e_row32_col33\" class=\"data row32 col33\" >-0.115392</td>\n",
              "      <td id=\"T_2705e_row32_col34\" class=\"data row32 col34\" >0.056759</td>\n",
              "      <td id=\"T_2705e_row32_col35\" class=\"data row32 col35\" >0.080435</td>\n",
              "      <td id=\"T_2705e_row32_col36\" class=\"data row32 col36\" >-0.200340</td>\n",
              "      <td id=\"T_2705e_row32_col37\" class=\"data row32 col37\" >0.200340</td>\n",
              "      <td id=\"T_2705e_row32_col38\" class=\"data row32 col38\" >0.033751</td>\n",
              "      <td id=\"T_2705e_row32_col39\" class=\"data row32 col39\" >0.056769</td>\n",
              "      <td id=\"T_2705e_row32_col40\" class=\"data row32 col40\" >0.139856</td>\n",
              "      <td id=\"T_2705e_row32_col41\" class=\"data row32 col41\" >-0.247463</td>\n",
              "    </tr>\n",
              "    <tr>\n",
              "      <th id=\"T_2705e_level0_row33\" class=\"row_heading level0 row33\" >HasContractPhone_Month-to-month</th>\n",
              "      <td id=\"T_2705e_row33_col0\" class=\"data row33 col0\" >0.143054</td>\n",
              "      <td id=\"T_2705e_row33_col1\" class=\"data row33 col1\" >-0.000198</td>\n",
              "      <td id=\"T_2705e_row33_col2\" class=\"data row33 col2\" >0.000198</td>\n",
              "      <td id=\"T_2705e_row33_col3\" class=\"data row33 col3\" >0.276996</td>\n",
              "      <td id=\"T_2705e_row33_col4\" class=\"data row33 col4\" >-0.276996</td>\n",
              "      <td id=\"T_2705e_row33_col5\" class=\"data row33 col5\" >0.228322</td>\n",
              "      <td id=\"T_2705e_row33_col6\" class=\"data row33 col6\" >-0.228322</td>\n",
              "      <td id=\"T_2705e_row33_col7\" class=\"data row33 col7\" >0.005083</td>\n",
              "      <td id=\"T_2705e_row33_col8\" class=\"data row33 col8\" >-0.005083</td>\n",
              "      <td id=\"T_2705e_row33_col9\" class=\"data row33 col9\" >0.089108</td>\n",
              "      <td id=\"T_2705e_row33_col10\" class=\"data row33 col10\" >0.005083</td>\n",
              "      <td id=\"T_2705e_row33_col11\" class=\"data row33 col11\" >-0.093057</td>\n",
              "      <td id=\"T_2705e_row33_col12\" class=\"data row33 col12\" >-0.061922</td>\n",
              "      <td id=\"T_2705e_row33_col13\" class=\"data row33 col13\" >0.242866</td>\n",
              "      <td id=\"T_2705e_row33_col14\" class=\"data row33 col14\" >-0.221852</td>\n",
              "      <td id=\"T_2705e_row33_col15\" class=\"data row33 col15\" >0.409763</td>\n",
              "      <td id=\"T_2705e_row33_col16\" class=\"data row33 col16\" >-0.221852</td>\n",
              "      <td id=\"T_2705e_row33_col17\" class=\"data row33 col17\" >-0.250423</td>\n",
              "      <td id=\"T_2705e_row33_col18\" class=\"data row33 col18\" >0.347998</td>\n",
              "      <td id=\"T_2705e_row33_col19\" class=\"data row33 col19\" >-0.221852</td>\n",
              "      <td id=\"T_2705e_row33_col20\" class=\"data row33 col20\" >-0.171758</td>\n",
              "      <td id=\"T_2705e_row33_col21\" class=\"data row33 col21\" >0.403712</td>\n",
              "      <td id=\"T_2705e_row33_col22\" class=\"data row33 col22\" >-0.221852</td>\n",
              "      <td id=\"T_2705e_row33_col23\" class=\"data row33 col23\" >-0.229315</td>\n",
              "      <td id=\"T_2705e_row33_col24\" class=\"data row33 col24\" >0.448182</td>\n",
              "      <td id=\"T_2705e_row33_col25\" class=\"data row33 col25\" >-0.221852</td>\n",
              "      <td id=\"T_2705e_row33_col26\" class=\"data row33 col26\" >-0.292306</td>\n",
              "      <td id=\"T_2705e_row33_col27\" class=\"data row33 col27\" >0.288391</td>\n",
              "      <td id=\"T_2705e_row33_col28\" class=\"data row33 col28\" >-0.221852</td>\n",
              "      <td id=\"T_2705e_row33_col29\" class=\"data row33 col29\" >-0.102323</td>\n",
              "      <td id=\"T_2705e_row33_col30\" class=\"data row33 col30\" >0.302029</td>\n",
              "      <td id=\"T_2705e_row33_col31\" class=\"data row33 col31\" >-0.221852</td>\n",
              "      <td id=\"T_2705e_row33_col32\" class=\"data row33 col32\" >-0.115392</td>\n",
              "      <td id=\"T_2705e_row33_col33\" class=\"data row33 col33\" >1.000000</td>\n",
              "      <td id=\"T_2705e_row33_col34\" class=\"data row33 col34\" >-0.564340</td>\n",
              "      <td id=\"T_2705e_row33_col35\" class=\"data row33 col35\" >-0.628808</td>\n",
              "      <td id=\"T_2705e_row33_col36\" class=\"data row33 col36\" >-0.163515</td>\n",
              "      <td id=\"T_2705e_row33_col37\" class=\"data row33 col37\" >0.163515</td>\n",
              "      <td id=\"T_2705e_row33_col38\" class=\"data row33 col38\" >-0.177314</td>\n",
              "      <td id=\"T_2705e_row33_col39\" class=\"data row33 col39\" >-0.203316</td>\n",
              "      <td id=\"T_2705e_row33_col40\" class=\"data row33 col40\" >0.332151</td>\n",
              "      <td id=\"T_2705e_row33_col41\" class=\"data row33 col41\" >-0.000062</td>\n",
              "    </tr>\n",
              "    <tr>\n",
              "      <th id=\"T_2705e_level0_row34\" class=\"row_heading level0 row34\" >HasContractPhone_One year</th>\n",
              "      <td id=\"T_2705e_row34_col0\" class=\"data row34 col0\" >-0.051876</td>\n",
              "      <td id=\"T_2705e_row34_col1\" class=\"data row34 col1\" >-0.012321</td>\n",
              "      <td id=\"T_2705e_row34_col2\" class=\"data row34 col2\" >0.012321</td>\n",
              "      <td id=\"T_2705e_row34_col3\" class=\"data row34 col3\" >-0.076119</td>\n",
              "      <td id=\"T_2705e_row34_col4\" class=\"data row34 col4\" >0.076119</td>\n",
              "      <td id=\"T_2705e_row34_col5\" class=\"data row34 col5\" >-0.069361</td>\n",
              "      <td id=\"T_2705e_row34_col6\" class=\"data row34 col6\" >0.069361</td>\n",
              "      <td id=\"T_2705e_row34_col7\" class=\"data row34 col7\" >-0.002714</td>\n",
              "      <td id=\"T_2705e_row34_col8\" class=\"data row34 col8\" >0.002714</td>\n",
              "      <td id=\"T_2705e_row34_col9\" class=\"data row34 col9\" >0.005288</td>\n",
              "      <td id=\"T_2705e_row34_col10\" class=\"data row34 col10\" >-0.002714</td>\n",
              "      <td id=\"T_2705e_row34_col11\" class=\"data row34 col11\" >-0.003704</td>\n",
              "      <td id=\"T_2705e_row34_col12\" class=\"data row34 col12\" >0.038872</td>\n",
              "      <td id=\"T_2705e_row34_col13\" class=\"data row34 col13\" >-0.074171</td>\n",
              "      <td id=\"T_2705e_row34_col14\" class=\"data row34 col14\" >0.044764</td>\n",
              "      <td id=\"T_2705e_row34_col15\" class=\"data row34 col15\" >-0.124843</td>\n",
              "      <td id=\"T_2705e_row34_col16\" class=\"data row34 col16\" >0.044764</td>\n",
              "      <td id=\"T_2705e_row34_col17\" class=\"data row34 col17\" >0.097011</td>\n",
              "      <td id=\"T_2705e_row34_col18\" class=\"data row34 col18\" >-0.120638</td>\n",
              "      <td id=\"T_2705e_row34_col19\" class=\"data row34 col19\" >0.044764</td>\n",
              "      <td id=\"T_2705e_row34_col20\" class=\"data row34 col20\" >0.087418</td>\n",
              "      <td id=\"T_2705e_row34_col21\" class=\"data row34 col21\" >-0.131051</td>\n",
              "      <td id=\"T_2705e_row34_col22\" class=\"data row34 col22\" >0.044764</td>\n",
              "      <td id=\"T_2705e_row34_col23\" class=\"data row34 col23\" >0.098027</td>\n",
              "      <td id=\"T_2705e_row34_col24\" class=\"data row34 col24\" >-0.130816</td>\n",
              "      <td id=\"T_2705e_row34_col25\" class=\"data row34 col25\" >0.044764</td>\n",
              "      <td id=\"T_2705e_row34_col26\" class=\"data row34 col26\" >0.103431</td>\n",
              "      <td id=\"T_2705e_row34_col27\" class=\"data row34 col27\" >-0.087206</td>\n",
              "      <td id=\"T_2705e_row34_col28\" class=\"data row34 col28\" >0.044764</td>\n",
              "      <td id=\"T_2705e_row34_col29\" class=\"data row34 col29\" >0.049805</td>\n",
              "      <td id=\"T_2705e_row34_col30\" class=\"data row34 col30\" >-0.094357</td>\n",
              "      <td id=\"T_2705e_row34_col31\" class=\"data row34 col31\" >0.044764</td>\n",
              "      <td id=\"T_2705e_row34_col32\" class=\"data row34 col32\" >0.056759</td>\n",
              "      <td id=\"T_2705e_row34_col33\" class=\"data row34 col33\" >-0.564340</td>\n",
              "      <td id=\"T_2705e_row34_col34\" class=\"data row34 col34\" >1.000000</td>\n",
              "      <td id=\"T_2705e_row34_col35\" class=\"data row34 col35\" >-0.287049</td>\n",
              "      <td id=\"T_2705e_row34_col36\" class=\"data row34 col36\" >0.048618</td>\n",
              "      <td id=\"T_2705e_row34_col37\" class=\"data row34 col37\" >-0.048618</td>\n",
              "      <td id=\"T_2705e_row34_col38\" class=\"data row34 col38\" >0.061868</td>\n",
              "      <td id=\"T_2705e_row34_col39\" class=\"data row34 col39\" >0.068191</td>\n",
              "      <td id=\"T_2705e_row34_col40\" class=\"data row34 col40\" >-0.112899</td>\n",
              "      <td id=\"T_2705e_row34_col41\" class=\"data row34 col41\" >-0.000658</td>\n",
              "    </tr>\n",
              "    <tr>\n",
              "      <th id=\"T_2705e_level0_row35\" class=\"row_heading level0 row35\" >HasContractPhone_Two year</th>\n",
              "      <td id=\"T_2705e_row35_col0\" class=\"data row35 col0\" >-0.117132</td>\n",
              "      <td id=\"T_2705e_row35_col1\" class=\"data row35 col1\" >0.011835</td>\n",
              "      <td id=\"T_2705e_row35_col2\" class=\"data row35 col2\" >-0.011835</td>\n",
              "      <td id=\"T_2705e_row35_col3\" class=\"data row35 col3\" >-0.249716</td>\n",
              "      <td id=\"T_2705e_row35_col4\" class=\"data row35 col4\" >0.249716</td>\n",
              "      <td id=\"T_2705e_row35_col5\" class=\"data row35 col5\" >-0.199604</td>\n",
              "      <td id=\"T_2705e_row35_col6\" class=\"data row35 col6\" >0.199604</td>\n",
              "      <td id=\"T_2705e_row35_col7\" class=\"data row35 col7\" >-0.003342</td>\n",
              "      <td id=\"T_2705e_row35_col8\" class=\"data row35 col8\" >0.003342</td>\n",
              "      <td id=\"T_2705e_row35_col9\" class=\"data row35 col9\" >-0.108377</td>\n",
              "      <td id=\"T_2705e_row35_col10\" class=\"data row35 col10\" >-0.003342</td>\n",
              "      <td id=\"T_2705e_row35_col11\" class=\"data row35 col11\" >0.111467</td>\n",
              "      <td id=\"T_2705e_row35_col12\" class=\"data row35 col12\" >0.035238</td>\n",
              "      <td id=\"T_2705e_row35_col13\" class=\"data row35 col13\" >-0.211949</td>\n",
              "      <td id=\"T_2705e_row35_col14\" class=\"data row35 col14\" >0.215264</td>\n",
              "      <td id=\"T_2705e_row35_col15\" class=\"data row35 col15\" >-0.357880</td>\n",
              "      <td id=\"T_2705e_row35_col16\" class=\"data row35 col16\" >0.215264</td>\n",
              "      <td id=\"T_2705e_row35_col17\" class=\"data row35 col17\" >0.199205</td>\n",
              "      <td id=\"T_2705e_row35_col18\" class=\"data row35 col18\" >-0.290172</td>\n",
              "      <td id=\"T_2705e_row35_col19\" class=\"data row35 col19\" >0.215264</td>\n",
              "      <td id=\"T_2705e_row35_col20\" class=\"data row35 col20\" >0.116962</td>\n",
              "      <td id=\"T_2705e_row35_col21\" class=\"data row35 col21\" >-0.345012</td>\n",
              "      <td id=\"T_2705e_row35_col22\" class=\"data row35 col22\" >0.215264</td>\n",
              "      <td id=\"T_2705e_row35_col23\" class=\"data row35 col23\" >0.173755</td>\n",
              "      <td id=\"T_2705e_row35_col24\" class=\"data row35 col24\" >-0.396833</td>\n",
              "      <td id=\"T_2705e_row35_col25\" class=\"data row35 col25\" >0.215264</td>\n",
              "      <td id=\"T_2705e_row35_col26\" class=\"data row35 col26\" >0.241757</td>\n",
              "      <td id=\"T_2705e_row35_col27\" class=\"data row35 col27\" >-0.252496</td>\n",
              "      <td id=\"T_2705e_row35_col28\" class=\"data row35 col28\" >0.215264</td>\n",
              "      <td id=\"T_2705e_row35_col29\" class=\"data row35 col29\" >0.071820</td>\n",
              "      <td id=\"T_2705e_row35_col30\" class=\"data row35 col30\" >-0.261586</td>\n",
              "      <td id=\"T_2705e_row35_col31\" class=\"data row35 col31\" >0.215264</td>\n",
              "      <td id=\"T_2705e_row35_col32\" class=\"data row35 col32\" >0.080435</td>\n",
              "      <td id=\"T_2705e_row35_col33\" class=\"data row35 col33\" >-0.628808</td>\n",
              "      <td id=\"T_2705e_row35_col34\" class=\"data row35 col34\" >-0.287049</td>\n",
              "      <td id=\"T_2705e_row35_col35\" class=\"data row35 col35\" >1.000000</td>\n",
              "      <td id=\"T_2705e_row35_col36\" class=\"data row35 col36\" >0.143942</td>\n",
              "      <td id=\"T_2705e_row35_col37\" class=\"data row35 col37\" >-0.143942</td>\n",
              "      <td id=\"T_2705e_row35_col38\" class=\"data row35 col38\" >0.147474</td>\n",
              "      <td id=\"T_2705e_row35_col39\" class=\"data row35 col39\" >0.171689</td>\n",
              "      <td id=\"T_2705e_row35_col40\" class=\"data row35 col40\" >-0.279073</td>\n",
              "      <td id=\"T_2705e_row35_col41\" class=\"data row35 col41\" >0.000692</td>\n",
              "    </tr>\n",
              "    <tr>\n",
              "      <th id=\"T_2705e_level0_row36\" class=\"row_heading level0 row36\" >IsBillingPaperless_No</th>\n",
              "      <td id=\"T_2705e_row36_col0\" class=\"data row36 col0\" >-0.151964</td>\n",
              "      <td id=\"T_2705e_row36_col1\" class=\"data row36 col1\" >-0.015698</td>\n",
              "      <td id=\"T_2705e_row36_col2\" class=\"data row36 col2\" >0.015698</td>\n",
              "      <td id=\"T_2705e_row36_col3\" class=\"data row36 col3\" >-0.005293</td>\n",
              "      <td id=\"T_2705e_row36_col4\" class=\"data row36 col4\" >0.005293</td>\n",
              "      <td id=\"T_2705e_row36_col5\" class=\"data row36 col5\" >-0.100777</td>\n",
              "      <td id=\"T_2705e_row36_col6\" class=\"data row36 col6\" >0.100777</td>\n",
              "      <td id=\"T_2705e_row36_col7\" class=\"data row36 col7\" >0.021362</td>\n",
              "      <td id=\"T_2705e_row36_col8\" class=\"data row36 col8\" >-0.021362</td>\n",
              "      <td id=\"T_2705e_row36_col9\" class=\"data row36 col9\" >0.144875</td>\n",
              "      <td id=\"T_2705e_row36_col10\" class=\"data row36 col10\" >0.021362</td>\n",
              "      <td id=\"T_2705e_row36_col11\" class=\"data row36 col11\" >-0.159193</td>\n",
              "      <td id=\"T_2705e_row36_col12\" class=\"data row36 col12\" >0.069009</td>\n",
              "      <td id=\"T_2705e_row36_col13\" class=\"data row36 col13\" >-0.323712</td>\n",
              "      <td id=\"T_2705e_row36_col14\" class=\"data row36 col14\" >0.311281</td>\n",
              "      <td id=\"T_2705e_row36_col15\" class=\"data row36 col15\" >-0.263364</td>\n",
              "      <td id=\"T_2705e_row36_col16\" class=\"data row36 col16\" >0.311281</td>\n",
              "      <td id=\"T_2705e_row36_col17\" class=\"data row36 col17\" >0.007880</td>\n",
              "      <td id=\"T_2705e_row36_col18\" class=\"data row36 col18\" >-0.136872</td>\n",
              "      <td id=\"T_2705e_row36_col19\" class=\"data row36 col19\" >0.311281</td>\n",
              "      <td id=\"T_2705e_row36_col20\" class=\"data row36 col20\" >-0.126721</td>\n",
              "      <td id=\"T_2705e_row36_col21\" class=\"data row36 col21\" >-0.160245</td>\n",
              "      <td id=\"T_2705e_row36_col22\" class=\"data row36 col22\" >0.311281</td>\n",
              "      <td id=\"T_2705e_row36_col23\" class=\"data row36 col23\" >-0.102178</td>\n",
              "      <td id=\"T_2705e_row36_col24\" class=\"data row36 col24\" >-0.225381</td>\n",
              "      <td id=\"T_2705e_row36_col25\" class=\"data row36 col25\" >0.311281</td>\n",
              "      <td id=\"T_2705e_row36_col26\" class=\"data row36 col26\" >-0.033950</td>\n",
              "      <td id=\"T_2705e_row36_col27\" class=\"data row36 col27\" >-0.035498</td>\n",
              "      <td id=\"T_2705e_row36_col28\" class=\"data row36 col28\" >0.311281</td>\n",
              "      <td id=\"T_2705e_row36_col29\" class=\"data row36 col29\" >-0.227384</td>\n",
              "      <td id=\"T_2705e_row36_col30\" class=\"data row36 col30\" >-0.062183</td>\n",
              "      <td id=\"T_2705e_row36_col31\" class=\"data row36 col31\" >0.311281</td>\n",
              "      <td id=\"T_2705e_row36_col32\" class=\"data row36 col32\" >-0.200340</td>\n",
              "      <td id=\"T_2705e_row36_col33\" class=\"data row36 col33\" >-0.163515</td>\n",
              "      <td id=\"T_2705e_row36_col34\" class=\"data row36 col34\" >0.048618</td>\n",
              "      <td id=\"T_2705e_row36_col35\" class=\"data row36 col35\" >0.143942</td>\n",
              "      <td id=\"T_2705e_row36_col36\" class=\"data row36 col36\" >1.000000</td>\n",
              "      <td id=\"T_2705e_row36_col37\" class=\"data row36 col37\" >-1.000000</td>\n",
              "      <td id=\"T_2705e_row36_col38\" class=\"data row36 col38\" >0.002562</td>\n",
              "      <td id=\"T_2705e_row36_col39\" class=\"data row36 col39\" >0.015190</td>\n",
              "      <td id=\"T_2705e_row36_col40\" class=\"data row36 col40\" >-0.201908</td>\n",
              "      <td id=\"T_2705e_row36_col41\" class=\"data row36 col41\" >0.210871</td>\n",
              "    </tr>\n",
              "    <tr>\n",
              "      <th id=\"T_2705e_level0_row37\" class=\"row_heading level0 row37\" >IsBillingPaperless_Yes</th>\n",
              "      <td id=\"T_2705e_row37_col0\" class=\"data row37 col0\" >0.151964</td>\n",
              "      <td id=\"T_2705e_row37_col1\" class=\"data row37 col1\" >0.015698</td>\n",
              "      <td id=\"T_2705e_row37_col2\" class=\"data row37 col2\" >-0.015698</td>\n",
              "      <td id=\"T_2705e_row37_col3\" class=\"data row37 col3\" >0.005293</td>\n",
              "      <td id=\"T_2705e_row37_col4\" class=\"data row37 col4\" >-0.005293</td>\n",
              "      <td id=\"T_2705e_row37_col5\" class=\"data row37 col5\" >0.100777</td>\n",
              "      <td id=\"T_2705e_row37_col6\" class=\"data row37 col6\" >-0.100777</td>\n",
              "      <td id=\"T_2705e_row37_col7\" class=\"data row37 col7\" >-0.021362</td>\n",
              "      <td id=\"T_2705e_row37_col8\" class=\"data row37 col8\" >0.021362</td>\n",
              "      <td id=\"T_2705e_row37_col9\" class=\"data row37 col9\" >-0.144875</td>\n",
              "      <td id=\"T_2705e_row37_col10\" class=\"data row37 col10\" >-0.021362</td>\n",
              "      <td id=\"T_2705e_row37_col11\" class=\"data row37 col11\" >0.159193</td>\n",
              "      <td id=\"T_2705e_row37_col12\" class=\"data row37 col12\" >-0.069009</td>\n",
              "      <td id=\"T_2705e_row37_col13\" class=\"data row37 col13\" >0.323712</td>\n",
              "      <td id=\"T_2705e_row37_col14\" class=\"data row37 col14\" >-0.311281</td>\n",
              "      <td id=\"T_2705e_row37_col15\" class=\"data row37 col15\" >0.263364</td>\n",
              "      <td id=\"T_2705e_row37_col16\" class=\"data row37 col16\" >-0.311281</td>\n",
              "      <td id=\"T_2705e_row37_col17\" class=\"data row37 col17\" >-0.007880</td>\n",
              "      <td id=\"T_2705e_row37_col18\" class=\"data row37 col18\" >0.136872</td>\n",
              "      <td id=\"T_2705e_row37_col19\" class=\"data row37 col19\" >-0.311281</td>\n",
              "      <td id=\"T_2705e_row37_col20\" class=\"data row37 col20\" >0.126721</td>\n",
              "      <td id=\"T_2705e_row37_col21\" class=\"data row37 col21\" >0.160245</td>\n",
              "      <td id=\"T_2705e_row37_col22\" class=\"data row37 col22\" >-0.311281</td>\n",
              "      <td id=\"T_2705e_row37_col23\" class=\"data row37 col23\" >0.102178</td>\n",
              "      <td id=\"T_2705e_row37_col24\" class=\"data row37 col24\" >0.225381</td>\n",
              "      <td id=\"T_2705e_row37_col25\" class=\"data row37 col25\" >-0.311281</td>\n",
              "      <td id=\"T_2705e_row37_col26\" class=\"data row37 col26\" >0.033950</td>\n",
              "      <td id=\"T_2705e_row37_col27\" class=\"data row37 col27\" >0.035498</td>\n",
              "      <td id=\"T_2705e_row37_col28\" class=\"data row37 col28\" >-0.311281</td>\n",
              "      <td id=\"T_2705e_row37_col29\" class=\"data row37 col29\" >0.227384</td>\n",
              "      <td id=\"T_2705e_row37_col30\" class=\"data row37 col30\" >0.062183</td>\n",
              "      <td id=\"T_2705e_row37_col31\" class=\"data row37 col31\" >-0.311281</td>\n",
              "      <td id=\"T_2705e_row37_col32\" class=\"data row37 col32\" >0.200340</td>\n",
              "      <td id=\"T_2705e_row37_col33\" class=\"data row37 col33\" >0.163515</td>\n",
              "      <td id=\"T_2705e_row37_col34\" class=\"data row37 col34\" >-0.048618</td>\n",
              "      <td id=\"T_2705e_row37_col35\" class=\"data row37 col35\" >-0.143942</td>\n",
              "      <td id=\"T_2705e_row37_col36\" class=\"data row37 col36\" >-1.000000</td>\n",
              "      <td id=\"T_2705e_row37_col37\" class=\"data row37 col37\" >1.000000</td>\n",
              "      <td id=\"T_2705e_row37_col38\" class=\"data row37 col38\" >-0.002562</td>\n",
              "      <td id=\"T_2705e_row37_col39\" class=\"data row37 col39\" >-0.015190</td>\n",
              "      <td id=\"T_2705e_row37_col40\" class=\"data row37 col40\" >0.201908</td>\n",
              "      <td id=\"T_2705e_row37_col41\" class=\"data row37 col41\" >-0.210871</td>\n",
              "    </tr>\n",
              "    <tr>\n",
              "      <th id=\"T_2705e_level0_row38\" class=\"row_heading level0 row38\" >PaymentMethod_Bank transfer (automatic)</th>\n",
              "      <td id=\"T_2705e_row38_col0\" class=\"data row38 col0\" >-0.010942</td>\n",
              "      <td id=\"T_2705e_row38_col1\" class=\"data row38 col1\" >0.009673</td>\n",
              "      <td id=\"T_2705e_row38_col2\" class=\"data row38 col2\" >-0.009673</td>\n",
              "      <td id=\"T_2705e_row38_col3\" class=\"data row38 col3\" >-0.113065</td>\n",
              "      <td id=\"T_2705e_row38_col4\" class=\"data row38 col4\" >0.113065</td>\n",
              "      <td id=\"T_2705e_row38_col5\" class=\"data row38 col5\" >-0.043363</td>\n",
              "      <td id=\"T_2705e_row38_col6\" class=\"data row38 col6\" >0.043363</td>\n",
              "      <td id=\"T_2705e_row38_col7\" class=\"data row38 col7\" >-0.014299</td>\n",
              "      <td id=\"T_2705e_row38_col8\" class=\"data row38 col8\" >0.014299</td>\n",
              "      <td id=\"T_2705e_row38_col9\" class=\"data row38 col9\" >-0.067763</td>\n",
              "      <td id=\"T_2705e_row38_col10\" class=\"data row38 col10\" >-0.014299</td>\n",
              "      <td id=\"T_2705e_row38_col11\" class=\"data row38 col11\" >0.077057</td>\n",
              "      <td id=\"T_2705e_row38_col12\" class=\"data row38 col12\" >0.022233</td>\n",
              "      <td id=\"T_2705e_row38_col13\" class=\"data row38 col13\" >-0.021800</td>\n",
              "      <td id=\"T_2705e_row38_col14\" class=\"data row38 col14\" >0.000708</td>\n",
              "      <td id=\"T_2705e_row38_col15\" class=\"data row38 col15\" >-0.073323</td>\n",
              "      <td id=\"T_2705e_row38_col16\" class=\"data row38 col16\" >0.000708</td>\n",
              "      <td id=\"T_2705e_row38_col17\" class=\"data row38 col17\" >0.080191</td>\n",
              "      <td id=\"T_2705e_row38_col18\" class=\"data row38 col18\" >-0.086319</td>\n",
              "      <td id=\"T_2705e_row38_col19\" class=\"data row38 col19\" >0.000708</td>\n",
              "      <td id=\"T_2705e_row38_col20\" class=\"data row38 col20\" >0.089711</td>\n",
              "      <td id=\"T_2705e_row38_col21\" class=\"data row38 col21\" >-0.073203</td>\n",
              "      <td id=\"T_2705e_row38_col22\" class=\"data row38 col22\" >0.000708</td>\n",
              "      <td id=\"T_2705e_row38_col23\" class=\"data row38 col23\" >0.075785</td>\n",
              "      <td id=\"T_2705e_row38_col24\" class=\"data row38 col24\" >-0.091850</td>\n",
              "      <td id=\"T_2705e_row38_col25\" class=\"data row38 col25\" >0.000708</td>\n",
              "      <td id=\"T_2705e_row38_col26\" class=\"data row38 col26\" >0.100456</td>\n",
              "      <td id=\"T_2705e_row38_col27\" class=\"data row38 col27\" >-0.049145</td>\n",
              "      <td id=\"T_2705e_row38_col28\" class=\"data row38 col28\" >0.000708</td>\n",
              "      <td id=\"T_2705e_row38_col29\" class=\"data row38 col29\" >0.048788</td>\n",
              "      <td id=\"T_2705e_row38_col30\" class=\"data row38 col30\" >-0.034286</td>\n",
              "      <td id=\"T_2705e_row38_col31\" class=\"data row38 col31\" >0.000708</td>\n",
              "      <td id=\"T_2705e_row38_col32\" class=\"data row38 col32\" >0.033751</td>\n",
              "      <td id=\"T_2705e_row38_col33\" class=\"data row38 col33\" >-0.177314</td>\n",
              "      <td id=\"T_2705e_row38_col34\" class=\"data row38 col34\" >0.061868</td>\n",
              "      <td id=\"T_2705e_row38_col35\" class=\"data row38 col35\" >0.147474</td>\n",
              "      <td id=\"T_2705e_row38_col36\" class=\"data row38 col36\" >0.002562</td>\n",
              "      <td id=\"T_2705e_row38_col37\" class=\"data row38 col37\" >-0.002562</td>\n",
              "      <td id=\"T_2705e_row38_col38\" class=\"data row38 col38\" >1.000000</td>\n",
              "      <td id=\"T_2705e_row38_col39\" class=\"data row38 col39\" >-0.278619</td>\n",
              "      <td id=\"T_2705e_row38_col40\" class=\"data row38 col40\" >-0.378957</td>\n",
              "      <td id=\"T_2705e_row38_col41\" class=\"data row38 col41\" >-0.286538</td>\n",
              "    </tr>\n",
              "    <tr>\n",
              "      <th id=\"T_2705e_level0_row39\" class=\"row_heading level0 row39\" >PaymentMethod_Credit card (automatic)</th>\n",
              "      <td id=\"T_2705e_row39_col0\" class=\"data row39 col0\" >-0.027889</td>\n",
              "      <td id=\"T_2705e_row39_col1\" class=\"data row39 col1\" >0.006924</td>\n",
              "      <td id=\"T_2705e_row39_col2\" class=\"data row39 col2\" >-0.006924</td>\n",
              "      <td id=\"T_2705e_row39_col3\" class=\"data row39 col3\" >-0.077583</td>\n",
              "      <td id=\"T_2705e_row39_col4\" class=\"data row39 col4\" >0.077583</td>\n",
              "      <td id=\"T_2705e_row39_col5\" class=\"data row39 col5\" >-0.060437</td>\n",
              "      <td id=\"T_2705e_row39_col6\" class=\"data row39 col6\" >0.060437</td>\n",
              "      <td id=\"T_2705e_row39_col7\" class=\"data row39 col7\" >0.006566</td>\n",
              "      <td id=\"T_2705e_row39_col8\" class=\"data row39 col8\" >-0.006566</td>\n",
              "      <td id=\"T_2705e_row39_col9\" class=\"data row39 col9\" >-0.066625</td>\n",
              "      <td id=\"T_2705e_row39_col10\" class=\"data row39 col10\" >0.006566</td>\n",
              "      <td id=\"T_2705e_row39_col11\" class=\"data row39 col11\" >0.063327</td>\n",
              "      <td id=\"T_2705e_row39_col12\" class=\"data row39 col12\" >0.054794</td>\n",
              "      <td id=\"T_2705e_row39_col13\" class=\"data row39 col13\" >-0.046813</td>\n",
              "      <td id=\"T_2705e_row39_col14\" class=\"data row39 col14\" >-0.006599</td>\n",
              "      <td id=\"T_2705e_row39_col15\" class=\"data row39 col15\" >-0.109635</td>\n",
              "      <td id=\"T_2705e_row39_col16\" class=\"data row39 col16\" >-0.006599</td>\n",
              "      <td id=\"T_2705e_row39_col17\" class=\"data row39 col17\" >0.126853</td>\n",
              "      <td id=\"T_2705e_row39_col18\" class=\"data row39 col18\" >-0.085767</td>\n",
              "      <td id=\"T_2705e_row39_col19\" class=\"data row39 col19\" >-0.006599</td>\n",
              "      <td id=\"T_2705e_row39_col20\" class=\"data row39 col20\" >0.095471</td>\n",
              "      <td id=\"T_2705e_row39_col21\" class=\"data row39 col21\" >-0.110615</td>\n",
              "      <td id=\"T_2705e_row39_col22\" class=\"data row39 col22\" >-0.006599</td>\n",
              "      <td id=\"T_2705e_row39_col23\" class=\"data row39 col23\" >0.121154</td>\n",
              "      <td id=\"T_2705e_row39_col24\" class=\"data row39 col24\" >-0.100691</td>\n",
              "      <td id=\"T_2705e_row39_col25\" class=\"data row39 col25\" >-0.006599</td>\n",
              "      <td id=\"T_2705e_row39_col26\" class=\"data row39 col26\" >0.116808</td>\n",
              "      <td id=\"T_2705e_row39_col27\" class=\"data row39 col27\" >-0.038721</td>\n",
              "      <td id=\"T_2705e_row39_col28\" class=\"data row39 col28\" >-0.006599</td>\n",
              "      <td id=\"T_2705e_row39_col29\" class=\"data row39 col29\" >0.044488</td>\n",
              "      <td id=\"T_2705e_row39_col30\" class=\"data row39 col30\" >-0.051109</td>\n",
              "      <td id=\"T_2705e_row39_col31\" class=\"data row39 col31\" >-0.006599</td>\n",
              "      <td id=\"T_2705e_row39_col32\" class=\"data row39 col32\" >0.056769</td>\n",
              "      <td id=\"T_2705e_row39_col33\" class=\"data row39 col33\" >-0.203316</td>\n",
              "      <td id=\"T_2705e_row39_col34\" class=\"data row39 col34\" >0.068191</td>\n",
              "      <td id=\"T_2705e_row39_col35\" class=\"data row39 col35\" >0.171689</td>\n",
              "      <td id=\"T_2705e_row39_col36\" class=\"data row39 col36\" >0.015190</td>\n",
              "      <td id=\"T_2705e_row39_col37\" class=\"data row39 col37\" >-0.015190</td>\n",
              "      <td id=\"T_2705e_row39_col38\" class=\"data row39 col38\" >-0.278619</td>\n",
              "      <td id=\"T_2705e_row39_col39\" class=\"data row39 col39\" >1.000000</td>\n",
              "      <td id=\"T_2705e_row39_col40\" class=\"data row39 col40\" >-0.375604</td>\n",
              "      <td id=\"T_2705e_row39_col41\" class=\"data row39 col41\" >-0.284002</td>\n",
              "    </tr>\n",
              "    <tr>\n",
              "      <th id=\"T_2705e_level0_row40\" class=\"row_heading level0 row40\" >PaymentMethod_Electronic check</th>\n",
              "      <td id=\"T_2705e_row40_col0\" class=\"data row40 col0\" >0.169778</td>\n",
              "      <td id=\"T_2705e_row40_col1\" class=\"data row40 col1\" >-0.003415</td>\n",
              "      <td id=\"T_2705e_row40_col2\" class=\"data row40 col2\" >0.003415</td>\n",
              "      <td id=\"T_2705e_row40_col3\" class=\"data row40 col3\" >0.085955</td>\n",
              "      <td id=\"T_2705e_row40_col4\" class=\"data row40 col4\" >-0.085955</td>\n",
              "      <td id=\"T_2705e_row40_col5\" class=\"data row40 col5\" >0.146189</td>\n",
              "      <td id=\"T_2705e_row40_col6\" class=\"data row40 col6\" >-0.146189</td>\n",
              "      <td id=\"T_2705e_row40_col7\" class=\"data row40 col7\" >-0.002906</td>\n",
              "      <td id=\"T_2705e_row40_col8\" class=\"data row40 col8\" >0.002906</td>\n",
              "      <td id=\"T_2705e_row40_col9\" class=\"data row40 col9\" >-0.076164</td>\n",
              "      <td id=\"T_2705e_row40_col10\" class=\"data row40 col10\" >-0.002906</td>\n",
              "      <td id=\"T_2705e_row40_col11\" class=\"data row40 col11\" >0.078672</td>\n",
              "      <td id=\"T_2705e_row40_col12\" class=\"data row40 col12\" >-0.103545</td>\n",
              "      <td id=\"T_2705e_row40_col13\" class=\"data row40 col13\" >0.324208</td>\n",
              "      <td id=\"T_2705e_row40_col14\" class=\"data row40 col14\" >-0.272103</td>\n",
              "      <td id=\"T_2705e_row40_col15\" class=\"data row40 col15\" >0.322423</td>\n",
              "      <td id=\"T_2705e_row40_col16\" class=\"data row40 col16\" >-0.272103</td>\n",
              "      <td id=\"T_2705e_row40_col17\" class=\"data row40 col17\" >-0.108539</td>\n",
              "      <td id=\"T_2705e_row40_col18\" class=\"data row40 col18\" >0.231690</td>\n",
              "      <td id=\"T_2705e_row40_col19\" class=\"data row40 col19\" >-0.272103</td>\n",
              "      <td id=\"T_2705e_row40_col20\" class=\"data row40 col20\" >-0.006474</td>\n",
              "      <td id=\"T_2705e_row40_col21\" class=\"data row40 col21\" >0.235134</td>\n",
              "      <td id=\"T_2705e_row40_col22\" class=\"data row40 col22\" >-0.272103</td>\n",
              "      <td id=\"T_2705e_row40_col23\" class=\"data row40 col23\" >-0.009888</td>\n",
              "      <td id=\"T_2705e_row40_col24\" class=\"data row40 col24\" >0.324600</td>\n",
              "      <td id=\"T_2705e_row40_col25\" class=\"data row40 col25\" >-0.272103</td>\n",
              "      <td id=\"T_2705e_row40_col26\" class=\"data row40 col26\" >-0.110755</td>\n",
              "      <td id=\"T_2705e_row40_col27\" class=\"data row40 col27\" >0.092629</td>\n",
              "      <td id=\"T_2705e_row40_col28\" class=\"data row40 col28\" >-0.272103</td>\n",
              "      <td id=\"T_2705e_row40_col29\" class=\"data row40 col29\" >0.136864</td>\n",
              "      <td id=\"T_2705e_row40_col30\" class=\"data row40 col30\" >0.089562</td>\n",
              "      <td id=\"T_2705e_row40_col31\" class=\"data row40 col31\" >-0.272103</td>\n",
              "      <td id=\"T_2705e_row40_col32\" class=\"data row40 col32\" >0.139856</td>\n",
              "      <td id=\"T_2705e_row40_col33\" class=\"data row40 col33\" >0.332151</td>\n",
              "      <td id=\"T_2705e_row40_col34\" class=\"data row40 col34\" >-0.112899</td>\n",
              "      <td id=\"T_2705e_row40_col35\" class=\"data row40 col35\" >-0.279073</td>\n",
              "      <td id=\"T_2705e_row40_col36\" class=\"data row40 col36\" >-0.201908</td>\n",
              "      <td id=\"T_2705e_row40_col37\" class=\"data row40 col37\" >0.201908</td>\n",
              "      <td id=\"T_2705e_row40_col38\" class=\"data row40 col38\" >-0.378957</td>\n",
              "      <td id=\"T_2705e_row40_col39\" class=\"data row40 col39\" >-0.375604</td>\n",
              "      <td id=\"T_2705e_row40_col40\" class=\"data row40 col40\" >1.000000</td>\n",
              "      <td id=\"T_2705e_row40_col41\" class=\"data row40 col41\" >-0.386280</td>\n",
              "    </tr>\n",
              "    <tr>\n",
              "      <th id=\"T_2705e_level0_row41\" class=\"row_heading level0 row41\" >PaymentMethod_Mailed check</th>\n",
              "      <td id=\"T_2705e_row41_col0\" class=\"data row41 col0\" >-0.153740</td>\n",
              "      <td id=\"T_2705e_row41_col1\" class=\"data row41 col1\" >-0.012525</td>\n",
              "      <td id=\"T_2705e_row41_col2\" class=\"data row41 col2\" >0.012525</td>\n",
              "      <td id=\"T_2705e_row41_col3\" class=\"data row41 col3\" >0.091035</td>\n",
              "      <td id=\"T_2705e_row41_col4\" class=\"data row41 col4\" >-0.091035</td>\n",
              "      <td id=\"T_2705e_row41_col5\" class=\"data row41 col5\" >-0.062937</td>\n",
              "      <td id=\"T_2705e_row41_col6\" class=\"data row41 col6\" >0.062937</td>\n",
              "      <td id=\"T_2705e_row41_col7\" class=\"data row41 col7\" >0.010971</td>\n",
              "      <td id=\"T_2705e_row41_col8\" class=\"data row41 col8\" >-0.010971</td>\n",
              "      <td id=\"T_2705e_row41_col9\" class=\"data row41 col9\" >0.218782</td>\n",
              "      <td id=\"T_2705e_row41_col10\" class=\"data row41 col10\" >0.010971</td>\n",
              "      <td id=\"T_2705e_row41_col11\" class=\"data row41 col11\" >-0.227568</td>\n",
              "      <td id=\"T_2705e_row41_col12\" class=\"data row41 col12\" >0.041168</td>\n",
              "      <td id=\"T_2705e_row41_col13\" class=\"data row41 col13\" >-0.299027</td>\n",
              "      <td id=\"T_2705e_row41_col14\" class=\"data row41 col14\" >0.313550</td>\n",
              "      <td id=\"T_2705e_row41_col15\" class=\"data row41 col15\" >-0.184181</td>\n",
              "      <td id=\"T_2705e_row41_col16\" class=\"data row41 col16\" >0.313550</td>\n",
              "      <td id=\"T_2705e_row41_col17\" class=\"data row41 col17\" >-0.081472</td>\n",
              "      <td id=\"T_2705e_row41_col18\" class=\"data row41 col18\" >-0.092200</td>\n",
              "      <td id=\"T_2705e_row41_col19\" class=\"data row41 col19\" >0.313550</td>\n",
              "      <td id=\"T_2705e_row41_col20\" class=\"data row41 col20\" >-0.175433</td>\n",
              "      <td id=\"T_2705e_row41_col21\" class=\"data row41 col21\" >-0.084610</td>\n",
              "      <td id=\"T_2705e_row41_col22\" class=\"data row41 col22\" >0.313550</td>\n",
              "      <td id=\"T_2705e_row41_col23\" class=\"data row41 col23\" >-0.183076</td>\n",
              "      <td id=\"T_2705e_row41_col24\" class=\"data row41 col24\" >-0.177119</td>\n",
              "      <td id=\"T_2705e_row41_col25\" class=\"data row41 col25\" >0.313550</td>\n",
              "      <td id=\"T_2705e_row41_col26\" class=\"data row41 col26\" >-0.089127</td>\n",
              "      <td id=\"T_2705e_row41_col27\" class=\"data row41 col27\" >-0.018018</td>\n",
              "      <td id=\"T_2705e_row41_col28\" class=\"data row41 col28\" >0.313550</td>\n",
              "      <td id=\"T_2705e_row41_col29\" class=\"data row41 col29\" >-0.246866</td>\n",
              "      <td id=\"T_2705e_row41_col30\" class=\"data row41 col30\" >-0.017055</td>\n",
              "      <td id=\"T_2705e_row41_col31\" class=\"data row41 col31\" >0.313550</td>\n",
              "      <td id=\"T_2705e_row41_col32\" class=\"data row41 col32\" >-0.247463</td>\n",
              "      <td id=\"T_2705e_row41_col33\" class=\"data row41 col33\" >-0.000062</td>\n",
              "      <td id=\"T_2705e_row41_col34\" class=\"data row41 col34\" >-0.000658</td>\n",
              "      <td id=\"T_2705e_row41_col35\" class=\"data row41 col35\" >0.000692</td>\n",
              "      <td id=\"T_2705e_row41_col36\" class=\"data row41 col36\" >0.210871</td>\n",
              "      <td id=\"T_2705e_row41_col37\" class=\"data row41 col37\" >-0.210871</td>\n",
              "      <td id=\"T_2705e_row41_col38\" class=\"data row41 col38\" >-0.286538</td>\n",
              "      <td id=\"T_2705e_row41_col39\" class=\"data row41 col39\" >-0.284002</td>\n",
              "      <td id=\"T_2705e_row41_col40\" class=\"data row41 col40\" >-0.386280</td>\n",
              "      <td id=\"T_2705e_row41_col41\" class=\"data row41 col41\" >1.000000</td>\n",
              "    </tr>\n",
              "  </tbody>\n",
              "</table>\n"
            ]
          },
          "metadata": {},
          "execution_count": 364
        }
      ]
    },
    {
      "cell_type": "code",
      "source": [
        "ser = pd.get_dummies(X[cat_cols]).corr()['HasInternetService_No']\n",
        "ser[ser == 1]"
      ],
      "metadata": {
        "colab": {
          "base_uri": "https://localhost:8080/"
        },
        "id": "XQS7KDPuhiGe",
        "outputId": "ffc1554c-3afc-4ccb-ce49-6627bc188aee"
      },
      "execution_count": null,
      "outputs": [
        {
          "output_type": "execute_result",
          "data": {
            "text/plain": [
              "HasInternetService_No                           1.0\n",
              "HasOnlineSecurityService_No internet service    1.0\n",
              "HasOnlineBackup_No internet service             1.0\n",
              "HasDeviceProtection_No internet service         1.0\n",
              "HasTechSupportAccess_No internet service        1.0\n",
              "HasOnlineTV_No internet service                 1.0\n",
              "HasMovieSubscription_No internet service        1.0\n",
              "Name: HasInternetService_No, dtype: float64"
            ]
          },
          "metadata": {},
          "execution_count": 365
        }
      ]
    },
    {
      "cell_type": "code",
      "source": [
        "the_same_cols = list(ser[ser == 1].index)[1:] + ['HasMultiplePhoneNumbers_No phone service'] #коррелирующие колонки(одинаковые) - the same cols"
      ],
      "metadata": {
        "id": "WOrCDptTh9R1"
      },
      "execution_count": null,
      "outputs": []
    },
    {
      "cell_type": "code",
      "source": [
        "print(pd.get_dummies(X[cat_cols]).drop(the_same_cols, axis=1).corr().shape)"
      ],
      "metadata": {
        "colab": {
          "base_uri": "https://localhost:8080/"
        },
        "id": "8U7KDtFbjV6x",
        "outputId": "56031912-856c-451f-acf3-0b59129f9577"
      },
      "execution_count": null,
      "outputs": [
        {
          "output_type": "stream",
          "name": "stdout",
          "text": [
            "(35, 35)\n"
          ]
        }
      ]
    },
    {
      "cell_type": "markdown",
      "source": [
        "Убрал все одинаковые колонки (видно из таблицы ниже - красные ячейки только на диагонали)"
      ],
      "metadata": {
        "id": "VDPW6dnBDxb0"
      }
    },
    {
      "cell_type": "code",
      "source": [
        "pd.get_dummies(X[cat_cols]).drop(the_same_cols, axis=1).corr().style.background_gradient(cmap='coolwarm')"
      ],
      "metadata": {
        "id": "ldOl8Hd7eotV",
        "colab": {
          "base_uri": "https://localhost:8080/",
          "height": 1000
        },
        "outputId": "17c17102-9446-4e75-bb63-feb758ce3c01"
      },
      "execution_count": null,
      "outputs": [
        {
          "output_type": "execute_result",
          "data": {
            "text/plain": [
              "<pandas.io.formats.style.Styler at 0x7f72793d8c50>"
            ],
            "text/html": [
              "<style type=\"text/css\">\n",
              "#T_6cb09_row0_col0, #T_6cb09_row1_col1, #T_6cb09_row2_col2, #T_6cb09_row3_col3, #T_6cb09_row4_col4, #T_6cb09_row5_col5, #T_6cb09_row6_col6, #T_6cb09_row7_col7, #T_6cb09_row8_col8, #T_6cb09_row9_col9, #T_6cb09_row10_col10, #T_6cb09_row11_col11, #T_6cb09_row12_col12, #T_6cb09_row13_col13, #T_6cb09_row14_col14, #T_6cb09_row15_col15, #T_6cb09_row16_col16, #T_6cb09_row17_col17, #T_6cb09_row18_col18, #T_6cb09_row19_col19, #T_6cb09_row20_col20, #T_6cb09_row21_col21, #T_6cb09_row22_col22, #T_6cb09_row23_col23, #T_6cb09_row24_col24, #T_6cb09_row25_col25, #T_6cb09_row26_col26, #T_6cb09_row27_col27, #T_6cb09_row28_col28, #T_6cb09_row29_col29, #T_6cb09_row30_col30, #T_6cb09_row31_col31, #T_6cb09_row32_col32, #T_6cb09_row33_col33, #T_6cb09_row34_col34 {\n",
              "  background-color: #b40426;\n",
              "  color: #f1f1f1;\n",
              "}\n",
              "#T_6cb09_row0_col1, #T_6cb09_row0_col7, #T_6cb09_row1_col6, #T_6cb09_row2_col5, #T_6cb09_row5_col2, #T_6cb09_row5_col7, #T_6cb09_row5_col20, #T_6cb09_row6_col1, #T_6cb09_row6_col8, #T_6cb09_row7_col5, #T_6cb09_row8_col6, #T_6cb09_row12_col17, #T_6cb09_row15_col2, #T_6cb09_row15_col23, #T_6cb09_row15_col30, #T_6cb09_row17_col12, #T_6cb09_row18_col11, #T_6cb09_row19_col28, #T_6cb09_row20_col1, #T_6cb09_row22_col1, #T_6cb09_row23_col2, #T_6cb09_row25_col2, #T_6cb09_row25_col14, #T_6cb09_row27_col1, #T_6cb09_row28_col2, #T_6cb09_row31_col2, #T_6cb09_row31_col7, #T_6cb09_row31_col10, #T_6cb09_row32_col30, #T_6cb09_row33_col10, #T_6cb09_row34_col1, #T_6cb09_row34_col8 {\n",
              "  background-color: #dbdcde;\n",
              "  color: #000000;\n",
              "}\n",
              "#T_6cb09_row0_col2, #T_6cb09_row0_col8, #T_6cb09_row1_col5, #T_6cb09_row2_col6, #T_6cb09_row5_col1, #T_6cb09_row5_col8, #T_6cb09_row6_col2, #T_6cb09_row6_col7, #T_6cb09_row7_col6, #T_6cb09_row8_col5, #T_6cb09_row13_col34, #T_6cb09_row14_col23, #T_6cb09_row15_col1, #T_6cb09_row15_col25, #T_6cb09_row15_col29, #T_6cb09_row20_col2, #T_6cb09_row22_col2, #T_6cb09_row23_col1, #T_6cb09_row25_col1, #T_6cb09_row27_col2, #T_6cb09_row28_col1, #T_6cb09_row31_col1, #T_6cb09_row31_col8, #T_6cb09_row32_col29, #T_6cb09_row34_col2, #T_6cb09_row34_col7 {\n",
              "  background-color: #dedcdb;\n",
              "  color: #000000;\n",
              "}\n",
              "#T_6cb09_row0_col3, #T_6cb09_row1_col29, #T_6cb09_row2_col30, #T_6cb09_row7_col30, #T_6cb09_row8_col29, #T_6cb09_row11_col16, #T_6cb09_row14_col10, #T_6cb09_row16_col11, #T_6cb09_row17_col5, #T_6cb09_row21_col2, #T_6cb09_row23_col15, #T_6cb09_row29_col1, #T_6cb09_row29_col8, #T_6cb09_row30_col2, #T_6cb09_row30_col7, #T_6cb09_row30_col18, #T_6cb09_row32_col28 {\n",
              "  background-color: #dadce0;\n",
              "  color: #000000;\n",
              "}\n",
              "#T_6cb09_row0_col4, #T_6cb09_row0_col20, #T_6cb09_row1_col30, #T_6cb09_row2_col29, #T_6cb09_row5_col14, #T_6cb09_row6_col28, #T_6cb09_row7_col29, #T_6cb09_row8_col30, #T_6cb09_row14_col33, #T_6cb09_row15_col10, #T_6cb09_row15_col28, #T_6cb09_row17_col6, #T_6cb09_row21_col1, #T_6cb09_row28_col15, #T_6cb09_row29_col2, #T_6cb09_row29_col7, #T_6cb09_row30_col1, #T_6cb09_row30_col8 {\n",
              "  background-color: #dfdbd9;\n",
              "  color: #000000;\n",
              "}\n",
              "#T_6cb09_row0_col5, #T_6cb09_row8_col10, #T_6cb09_row20_col24 {\n",
              "  background-color: #f2c9b4;\n",
              "  color: #000000;\n",
              "}\n",
              "#T_6cb09_row0_col6, #T_6cb09_row1_col11, #T_6cb09_row1_col12, #T_6cb09_row1_col18, #T_6cb09_row1_col19, #T_6cb09_row1_col28, #T_6cb09_row2_col14, #T_6cb09_row2_col16, #T_6cb09_row2_col20, #T_6cb09_row2_col24, #T_6cb09_row4_col11, #T_6cb09_row6_col19, #T_6cb09_row14_col9, #T_6cb09_row15_col16, #T_6cb09_row18_col15, #T_6cb09_row19_col20, #T_6cb09_row21_col16, #T_6cb09_row23_col11, #T_6cb09_row23_col27, #T_6cb09_row28_col9, #T_6cb09_row29_col15, #T_6cb09_row29_col27 {\n",
              "  background-color: #bed2f6;\n",
              "  color: #000000;\n",
              "}\n",
              "#T_6cb09_row0_col9, #T_6cb09_row1_col14, #T_6cb09_row1_col20, #T_6cb09_row2_col15, #T_6cb09_row2_col23, #T_6cb09_row5_col17, #T_6cb09_row12_col0, #T_6cb09_row25_col33, #T_6cb09_row28_col31, #T_6cb09_row30_col15, #T_6cb09_row34_col22, #T_6cb09_row34_col24 {\n",
              "  background-color: #bad0f8;\n",
              "  color: #000000;\n",
              "}\n",
              "#T_6cb09_row0_col10, #T_6cb09_row4_col10, #T_6cb09_row5_col26, #T_6cb09_row11_col6, #T_6cb09_row12_col18, #T_6cb09_row14_col7, #T_6cb09_row18_col12, #T_6cb09_row20_col7, #T_6cb09_row27_col29, #T_6cb09_row30_col20 {\n",
              "  background-color: #e3d9d3;\n",
              "  color: #000000;\n",
              "}\n",
              "#T_6cb09_row0_col11, #T_6cb09_row4_col32, #T_6cb09_row6_col22, #T_6cb09_row8_col16, #T_6cb09_row10_col26, #T_6cb09_row10_col31, #T_6cb09_row19_col31, #T_6cb09_row26_col23, #T_6cb09_row29_col19, #T_6cb09_row30_col27, #T_6cb09_row31_col20 {\n",
              "  background-color: #a9c6fd;\n",
              "  color: #000000;\n",
              "}\n",
              "#T_6cb09_row0_col12, #T_6cb09_row4_col28, #T_6cb09_row9_col13, #T_6cb09_row15_col6, #T_6cb09_row18_col7, #T_6cb09_row22_col14 {\n",
              "  background-color: #e7d7ce;\n",
              "  color: #000000;\n",
              "}\n",
              "#T_6cb09_row0_col13, #T_6cb09_row9_col31, #T_6cb09_row9_col32, #T_6cb09_row9_col33, #T_6cb09_row24_col28, #T_6cb09_row29_col14 {\n",
              "  background-color: #84a7fc;\n",
              "  color: #f1f1f1;\n",
              "}\n",
              "#T_6cb09_row0_col14, #T_6cb09_row1_col4, #T_6cb09_row1_col7, #T_6cb09_row2_col3, #T_6cb09_row2_col8, #T_6cb09_row3_col2, #T_6cb09_row3_col8, #T_6cb09_row3_col29, #T_6cb09_row4_col1, #T_6cb09_row4_col7, #T_6cb09_row4_col30, #T_6cb09_row5_col12, #T_6cb09_row7_col1, #T_6cb09_row7_col4, #T_6cb09_row8_col2, #T_6cb09_row8_col3, #T_6cb09_row9_col2, #T_6cb09_row10_col2, #T_6cb09_row11_col2, #T_6cb09_row11_col3, #T_6cb09_row11_col18, #T_6cb09_row12_col2, #T_6cb09_row12_col4, #T_6cb09_row12_col19, #T_6cb09_row13_col1, #T_6cb09_row13_col3, #T_6cb09_row14_col1, #T_6cb09_row14_col25, #T_6cb09_row16_col1, #T_6cb09_row17_col2, #T_6cb09_row18_col2, #T_6cb09_row19_col2, #T_6cb09_row19_col5, #T_6cb09_row19_col12, #T_6cb09_row20_col10, #T_6cb09_row24_col1, #T_6cb09_row26_col1, #T_6cb09_row26_col8, #T_6cb09_row26_col9, #T_6cb09_row27_col7, #T_6cb09_row28_col7, #T_6cb09_row28_col19, #T_6cb09_row29_col3, #T_6cb09_row30_col4, #T_6cb09_row31_col30, #T_6cb09_row32_col2, #T_6cb09_row32_col8, #T_6cb09_row33_col1, #T_6cb09_row33_col7 {\n",
              "  background-color: #dcdddd;\n",
              "  color: #000000;\n",
              "}\n",
              "#T_6cb09_row0_col15, #T_6cb09_row8_col17, #T_6cb09_row9_col27, #T_6cb09_row12_col15, #T_6cb09_row15_col32, #T_6cb09_row18_col25, #T_6cb09_row21_col9, #T_6cb09_row21_col18, #T_6cb09_row25_col18, #T_6cb09_row29_col21 {\n",
              "  background-color: #b5cdfa;\n",
              "  color: #000000;\n",
              "}\n",
              "#T_6cb09_row0_col16, #T_6cb09_row6_col13, #T_6cb09_row10_col21, #T_6cb09_row20_col4, #T_6cb09_row20_col25, #T_6cb09_row23_col20, #T_6cb09_row24_col15, #T_6cb09_row27_col17, #T_6cb09_row31_col3 {\n",
              "  background-color: #cdd9ec;\n",
              "  color: #000000;\n",
              "}\n",
              "#T_6cb09_row0_col17, #T_6cb09_row6_col10, #T_6cb09_row7_col19, #T_6cb09_row10_col3, #T_6cb09_row10_col14, #T_6cb09_row14_col4, #T_6cb09_row16_col9, #T_6cb09_row16_col29, #T_6cb09_row17_col3, #T_6cb09_row23_col28, #T_6cb09_row24_col12, #T_6cb09_row29_col11, #T_6cb09_row29_col34, #T_6cb09_row30_col24 {\n",
              "  background-color: #cad8ef;\n",
              "  color: #000000;\n",
              "}\n",
              "#T_6cb09_row0_col18, #T_6cb09_row0_col23, #T_6cb09_row3_col20, #T_6cb09_row5_col22, #T_6cb09_row8_col13, #T_6cb09_row10_col28, #T_6cb09_row22_col9, #T_6cb09_row22_col15, #T_6cb09_row24_col6, #T_6cb09_row24_col9, #T_6cb09_row27_col9, #T_6cb09_row30_col19, #T_6cb09_row33_col4, #T_6cb09_row34_col4 {\n",
              "  background-color: #d1dae9;\n",
              "  color: #000000;\n",
              "}\n",
              "#T_6cb09_row0_col19, #T_6cb09_row0_col22, #T_6cb09_row6_col11, #T_6cb09_row7_col14, #T_6cb09_row7_col17, #T_6cb09_row10_col29, #T_6cb09_row14_col17, #T_6cb09_row17_col14, #T_6cb09_row18_col29, #T_6cb09_row20_col17, #T_6cb09_row26_col29, #T_6cb09_row31_col23, #T_6cb09_row32_col23 {\n",
              "  background-color: #c6d6f1;\n",
              "  color: #000000;\n",
              "}\n",
              "#T_6cb09_row0_col21, #T_6cb09_row1_col27, #T_6cb09_row5_col21, #T_6cb09_row8_col14, #T_6cb09_row12_col7, #T_6cb09_row26_col11, #T_6cb09_row29_col24 {\n",
              "  background-color: #b1cbfc;\n",
              "  color: #000000;\n",
              "}\n",
              "#T_6cb09_row0_col24, #T_6cb09_row4_col27, #T_6cb09_row5_col23, #T_6cb09_row7_col23, #T_6cb09_row7_col25, #T_6cb09_row11_col9, #T_6cb09_row11_col28, #T_6cb09_row16_col19, #T_6cb09_row19_col16, #T_6cb09_row30_col21, #T_6cb09_row33_col9 {\n",
              "  background-color: #c3d5f4;\n",
              "  color: #000000;\n",
              "}\n",
              "#T_6cb09_row0_col25, #T_6cb09_row3_col22, #T_6cb09_row3_col24, #T_6cb09_row5_col10, #T_6cb09_row7_col22, #T_6cb09_row7_col24, #T_6cb09_row11_col30, #T_6cb09_row19_col8, #T_6cb09_row27_col5, #T_6cb09_row30_col17, #T_6cb09_row34_col5 {\n",
              "  background-color: #d4dbe6;\n",
              "  color: #000000;\n",
              "}\n",
              "#T_6cb09_row0_col26, #T_6cb09_row4_col15, #T_6cb09_row4_col17, #T_6cb09_row11_col5, #T_6cb09_row14_col8, #T_6cb09_row20_col8, #T_6cb09_row27_col30, #T_6cb09_row29_col28, #T_6cb09_row30_col16, #T_6cb09_row33_col23 {\n",
              "  background-color: #d6dce4;\n",
              "  color: #000000;\n",
              "}\n",
              "#T_6cb09_row0_col27, #T_6cb09_row8_col15, #T_6cb09_row9_col14, #T_6cb09_row14_col0, #T_6cb09_row17_col9, #T_6cb09_row32_col20, #T_6cb09_row33_col11, #T_6cb09_row34_col10 {\n",
              "  background-color: #a7c5fe;\n",
              "  color: #000000;\n",
              "}\n",
              "#T_6cb09_row0_col28, #T_6cb09_row11_col32, #T_6cb09_row12_col27, #T_6cb09_row25_col26, #T_6cb09_row25_col32, #T_6cb09_row29_col17 {\n",
              "  background-color: #a3c2fe;\n",
              "  color: #000000;\n",
              "}\n",
              "#T_6cb09_row0_col29, #T_6cb09_row6_col21, #T_6cb09_row12_col22, #T_6cb09_row13_col5, #T_6cb09_row15_col27, #T_6cb09_row18_col4, #T_6cb09_row19_col3, #T_6cb09_row19_col14, #T_6cb09_row19_col27, #T_6cb09_row22_col12, #T_6cb09_row27_col23, #T_6cb09_row30_col33, #T_6cb09_row32_col11 {\n",
              "  background-color: #c7d7f0;\n",
              "  color: #000000;\n",
              "}\n",
              "#T_6cb09_row0_col30, #T_6cb09_row13_col6, #T_6cb09_row17_col19, #T_6cb09_row18_col3, #T_6cb09_row19_col4, #T_6cb09_row19_col17, #T_6cb09_row26_col24 {\n",
              "  background-color: #eed0c0;\n",
              "  color: #000000;\n",
              "}\n",
              "#T_6cb09_row0_col31, #T_6cb09_row2_col31, #T_6cb09_row2_col32, #T_6cb09_row8_col32, #T_6cb09_row10_col11, #T_6cb09_row13_col32, #T_6cb09_row22_col34, #T_6cb09_row24_col34 {\n",
              "  background-color: #93b5fe;\n",
              "  color: #000000;\n",
              "}\n",
              "#T_6cb09_row0_col32, #T_6cb09_row9_col17, #T_6cb09_row26_col19, #T_6cb09_row29_col23 {\n",
              "  background-color: #8db0fe;\n",
              "  color: #000000;\n",
              "}\n",
              "#T_6cb09_row0_col33, #T_6cb09_row1_col23, #T_6cb09_row6_col17, #T_6cb09_row9_col24, #T_6cb09_row11_col20, #T_6cb09_row14_col6, #T_6cb09_row14_col11, #T_6cb09_row25_col29, #T_6cb09_row26_col10, #T_6cb09_row28_col5, #T_6cb09_row31_col27, #T_6cb09_row33_col29 {\n",
              "  background-color: #c0d4f5;\n",
              "  color: #000000;\n",
              "}\n",
              "#T_6cb09_row0_col34, #T_6cb09_row1_col0, #T_6cb09_row3_col0, #T_6cb09_row14_col28, #T_6cb09_row28_col14 {\n",
              "  background-color: #6f92f3;\n",
              "  color: #f1f1f1;\n",
              "}\n",
              "#T_6cb09_row1_col2, #T_6cb09_row2_col1, #T_6cb09_row3_col4, #T_6cb09_row4_col3, #T_6cb09_row5_col6, #T_6cb09_row6_col0, #T_6cb09_row6_col5, #T_6cb09_row7_col8, #T_6cb09_row8_col7, #T_6cb09_row9_col10, #T_6cb09_row10_col9, #T_6cb09_row11_col12, #T_6cb09_row12_col11, #T_6cb09_row14_col13, #T_6cb09_row14_col15, #T_6cb09_row15_col14, #T_6cb09_row16_col17, #T_6cb09_row17_col16, #T_6cb09_row18_col19, #T_6cb09_row19_col18, #T_6cb09_row20_col13, #T_6cb09_row20_col21, #T_6cb09_row21_col20, #T_6cb09_row22_col23, #T_6cb09_row23_col22, #T_6cb09_row24_col25, #T_6cb09_row25_col24, #T_6cb09_row26_col27, #T_6cb09_row26_col28, #T_6cb09_row28_col26, #T_6cb09_row29_col30, #T_6cb09_row30_col29, #T_6cb09_row33_col31, #T_6cb09_row33_col32, #T_6cb09_row33_col34, #T_6cb09_row34_col33 {\n",
              "  background-color: #3b4cc0;\n",
              "  color: #f1f1f1;\n",
              "}\n",
              "#T_6cb09_row1_col3, #T_6cb09_row1_col8, #T_6cb09_row2_col4, #T_6cb09_row2_col7, #T_6cb09_row3_col1, #T_6cb09_row3_col7, #T_6cb09_row3_col30, #T_6cb09_row4_col2, #T_6cb09_row4_col8, #T_6cb09_row4_col29, #T_6cb09_row7_col2, #T_6cb09_row7_col3, #T_6cb09_row8_col1, #T_6cb09_row8_col4, #T_6cb09_row9_col1, #T_6cb09_row10_col1, #T_6cb09_row11_col1, #T_6cb09_row11_col4, #T_6cb09_row12_col1, #T_6cb09_row12_col3, #T_6cb09_row13_col2, #T_6cb09_row13_col4, #T_6cb09_row14_col2, #T_6cb09_row16_col2, #T_6cb09_row17_col1, #T_6cb09_row18_col1, #T_6cb09_row19_col1, #T_6cb09_row19_col6, #T_6cb09_row21_col10, #T_6cb09_row23_col14, #T_6cb09_row24_col2, #T_6cb09_row25_col15, #T_6cb09_row26_col2, #T_6cb09_row26_col7, #T_6cb09_row27_col8, #T_6cb09_row28_col8, #T_6cb09_row29_col4, #T_6cb09_row30_col3, #T_6cb09_row31_col29, #T_6cb09_row32_col1, #T_6cb09_row32_col7, #T_6cb09_row33_col2, #T_6cb09_row33_col8 {\n",
              "  background-color: #dddcdc;\n",
              "  color: #000000;\n",
              "}\n",
              "#T_6cb09_row1_col9, #T_6cb09_row1_col10, #T_6cb09_row2_col9, #T_6cb09_row5_col29, #T_6cb09_row6_col30, #T_6cb09_row7_col16, #T_6cb09_row7_col21, #T_6cb09_row10_col15, #T_6cb09_row15_col8, #T_6cb09_row15_col24, #T_6cb09_row16_col8, #T_6cb09_row27_col19, #T_6cb09_row27_col21, #T_6cb09_row29_col5, #T_6cb09_row30_col6 {\n",
              "  background-color: #cfdaea;\n",
              "  color: #000000;\n",
              "}\n",
              "#T_6cb09_row1_col13, #T_6cb09_row3_col13, #T_6cb09_row5_col15, #T_6cb09_row11_col10, #T_6cb09_row12_col29, #T_6cb09_row13_col10, #T_6cb09_row24_col19, #T_6cb09_row27_col22, #T_6cb09_row31_col16, #T_6cb09_row32_col13, #T_6cb09_row32_col16, #T_6cb09_row34_col15, #T_6cb09_row34_col18 {\n",
              "  background-color: #abc8fd;\n",
              "  color: #000000;\n",
              "}\n",
              "#T_6cb09_row1_col15, #T_6cb09_row1_col17, #T_6cb09_row1_col21, #T_6cb09_row1_col25, #T_6cb09_row2_col22, #T_6cb09_row3_col12, #T_6cb09_row9_col22, #T_6cb09_row11_col14, #T_6cb09_row11_col23, #T_6cb09_row15_col18, #T_6cb09_row20_col19, #T_6cb09_row21_col22, #T_6cb09_row25_col27, #T_6cb09_row28_col32, #T_6cb09_row34_col30 {\n",
              "  background-color: #bfd3f6;\n",
              "  color: #000000;\n",
              "}\n",
              "#T_6cb09_row1_col16, #T_6cb09_row1_col24, #T_6cb09_row2_col11, #T_6cb09_row2_col12, #T_6cb09_row2_col18, #T_6cb09_row2_col19, #T_6cb09_row3_col11, #T_6cb09_row4_col12, #T_6cb09_row5_col19, #T_6cb09_row7_col26, #T_6cb09_row8_col28, #T_6cb09_row13_col27, #T_6cb09_row16_col15, #T_6cb09_row16_col21, #T_6cb09_row20_col9, #T_6cb09_row20_col29, #T_6cb09_row21_col24, #T_6cb09_row22_col21, #T_6cb09_row33_col17 {\n",
              "  background-color: #bcd2f7;\n",
              "  color: #000000;\n",
              "}\n",
              "#T_6cb09_row1_col22, #T_6cb09_row1_col26, #T_6cb09_row2_col17, #T_6cb09_row2_col25, #T_6cb09_row2_col26, #T_6cb09_row5_col33, #T_6cb09_row7_col28, #T_6cb09_row8_col26, #T_6cb09_row11_col27, #T_6cb09_row23_col29, #T_6cb09_row24_col21, #T_6cb09_row26_col6, #T_6cb09_row33_col19, #T_6cb09_row34_col26, #T_6cb09_row34_col28 {\n",
              "  background-color: #bbd1f8;\n",
              "  color: #000000;\n",
              "}\n",
              "#T_6cb09_row1_col31, #T_6cb09_row6_col12, #T_6cb09_row16_col27, #T_6cb09_row29_col32, #T_6cb09_row34_col17 {\n",
              "  background-color: #98b9ff;\n",
              "  color: #000000;\n",
              "}\n",
              "#T_6cb09_row1_col32, #T_6cb09_row2_col33, #T_6cb09_row3_col6, #T_6cb09_row4_col5, #T_6cb09_row5_col4, #T_6cb09_row6_col3, #T_6cb09_row6_col20, #T_6cb09_row7_col9, #T_6cb09_row7_col32, #T_6cb09_row8_col33, #T_6cb09_row9_col12, #T_6cb09_row14_col27, #T_6cb09_row17_col26, #T_6cb09_row25_col0, #T_6cb09_row26_col34, #T_6cb09_row27_col34, #T_6cb09_row28_col34, #T_6cb09_row34_col19, #T_6cb09_row34_col20 {\n",
              "  background-color: #97b8ff;\n",
              "  color: #000000;\n",
              "}\n",
              "#T_6cb09_row1_col33, #T_6cb09_row7_col33, #T_6cb09_row13_col31, #T_6cb09_row17_col33, #T_6cb09_row18_col27, #T_6cb09_row20_col27, #T_6cb09_row22_col25, #T_6cb09_row23_col24, #T_6cb09_row24_col23, #T_6cb09_row25_col22, #T_6cb09_row29_col31, #T_6cb09_row31_col26, #T_6cb09_row34_col14 {\n",
              "  background-color: #96b7ff;\n",
              "  color: #000000;\n",
              "}\n",
              "#T_6cb09_row1_col34, #T_6cb09_row8_col34, #T_6cb09_row11_col8, #T_6cb09_row19_col33, #T_6cb09_row29_col25, #T_6cb09_row30_col31 {\n",
              "  background-color: #94b6ff;\n",
              "  color: #000000;\n",
              "}\n",
              "#T_6cb09_row2_col0 {\n",
              "  background-color: #779af7;\n",
              "  color: #f1f1f1;\n",
              "}\n",
              "#T_6cb09_row2_col10, #T_6cb09_row5_col24, #T_6cb09_row7_col15, #T_6cb09_row16_col33, #T_6cb09_row18_col33, #T_6cb09_row19_col29, #T_6cb09_row20_col23, #T_6cb09_row21_col8, #T_6cb09_row22_col6, #T_6cb09_row27_col10, #T_6cb09_row27_col15, #T_6cb09_row31_col17, #T_6cb09_row31_col21, #T_6cb09_row32_col17, #T_6cb09_row33_col22, #T_6cb09_row33_col24 {\n",
              "  background-color: #cedaeb;\n",
              "  color: #000000;\n",
              "}\n",
              "#T_6cb09_row2_col13, #T_6cb09_row3_col34, #T_6cb09_row4_col13, #T_6cb09_row9_col11, #T_6cb09_row13_col30, #T_6cb09_row22_col19, #T_6cb09_row22_col33, #T_6cb09_row27_col12, #T_6cb09_row31_col18 {\n",
              "  background-color: #aec9fc;\n",
              "  color: #000000;\n",
              "}\n",
              "#T_6cb09_row2_col21, #T_6cb09_row2_col28, #T_6cb09_row3_col10, #T_6cb09_row4_col9, #T_6cb09_row6_col23, #T_6cb09_row8_col23, #T_6cb09_row8_col25, #T_6cb09_row9_col18, #T_6cb09_row10_col18, #T_6cb09_row23_col33, #T_6cb09_row28_col3, #T_6cb09_row31_col12 {\n",
              "  background-color: #b9d0f9;\n",
              "  color: #000000;\n",
              "}\n",
              "#T_6cb09_row2_col27, #T_6cb09_row6_col25, #T_6cb09_row9_col16, #T_6cb09_row12_col21, #T_6cb09_row14_col29, #T_6cb09_row15_col12, #T_6cb09_row29_col22, #T_6cb09_row30_col9, #T_6cb09_row32_col22 {\n",
              "  background-color: #b6cefa;\n",
              "  color: #000000;\n",
              "}\n",
              "#T_6cb09_row2_col34, #T_6cb09_row7_col34, #T_6cb09_row8_col31, #T_6cb09_row9_col15, #T_6cb09_row26_col17, #T_6cb09_row29_col26, #T_6cb09_row33_col27 {\n",
              "  background-color: #9abbff;\n",
              "  color: #000000;\n",
              "}\n",
              "#T_6cb09_row3_col5, #T_6cb09_row4_col6, #T_6cb09_row5_col3, #T_6cb09_row6_col4 {\n",
              "  background-color: #f6a586;\n",
              "  color: #000000;\n",
              "}\n",
              "#T_6cb09_row3_col9, #T_6cb09_row17_col7, #T_6cb09_row31_col6 {\n",
              "  background-color: #e2dad5;\n",
              "  color: #000000;\n",
              "}\n",
              "#T_6cb09_row3_col14, #T_6cb09_row3_col16, #T_6cb09_row5_col18, #T_6cb09_row21_col5, #T_6cb09_row24_col29, #T_6cb09_row32_col5 {\n",
              "  background-color: #d5dbe5;\n",
              "  color: #000000;\n",
              "}\n",
              "#T_6cb09_row3_col15, #T_6cb09_row3_col19, #T_6cb09_row4_col18, #T_6cb09_row24_col27, #T_6cb09_row25_col31, #T_6cb09_row30_col28 {\n",
              "  background-color: #9ebeff;\n",
              "  color: #000000;\n",
              "}\n",
              "#T_6cb09_row3_col17, #T_6cb09_row3_col21, #T_6cb09_row3_col27, #T_6cb09_row4_col16, #T_6cb09_row6_col18, #T_6cb09_row23_col31, #T_6cb09_row27_col14, #T_6cb09_row27_col18 {\n",
              "  background-color: #a2c1ff;\n",
              "  color: #000000;\n",
              "}\n",
              "#T_6cb09_row3_col18, #T_6cb09_row21_col29, #T_6cb09_row22_col29, #T_6cb09_row25_col6, #T_6cb09_row28_col13 {\n",
              "  background-color: #d8dce2;\n",
              "  color: #000000;\n",
              "}\n",
              "#T_6cb09_row3_col23, #T_6cb09_row6_col34, #T_6cb09_row8_col21, #T_6cb09_row23_col26, #T_6cb09_row26_col25, #T_6cb09_row27_col32, #T_6cb09_row32_col18, #T_6cb09_row33_col15 {\n",
              "  background-color: #a6c4fe;\n",
              "  color: #000000;\n",
              "}\n",
              "#T_6cb09_row3_col25, #T_6cb09_row4_col20, #T_6cb09_row4_col22, #T_6cb09_row4_col24, #T_6cb09_row5_col27, #T_6cb09_row6_col32, #T_6cb09_row8_col22, #T_6cb09_row8_col24, #T_6cb09_row9_col20, #T_6cb09_row9_col28, #T_6cb09_row10_col32, #T_6cb09_row19_col9, #T_6cb09_row27_col16, #T_6cb09_row27_col31, #T_6cb09_row32_col14, #T_6cb09_row33_col0, #T_6cb09_row33_col21 {\n",
              "  background-color: #a5c3fe;\n",
              "  color: #000000;\n",
              "}\n",
              "#T_6cb09_row3_col26, #T_6cb09_row20_col3, #T_6cb09_row23_col21, #T_6cb09_row31_col4 {\n",
              "  background-color: #ead4c8;\n",
              "  color: #000000;\n",
              "}\n",
              "#T_6cb09_row3_col28, #T_6cb09_row5_col34, #T_6cb09_row9_col23, #T_6cb09_row15_col26, #T_6cb09_row22_col28, #T_6cb09_row26_col15, #T_6cb09_row28_col24 {\n",
              "  background-color: #86a9fc;\n",
              "  color: #f1f1f1;\n",
              "}\n",
              "#T_6cb09_row3_col31, #T_6cb09_row4_col0, #T_6cb09_row14_col32, #T_6cb09_row18_col32, #T_6cb09_row29_col12 {\n",
              "  background-color: #799cf8;\n",
              "  color: #f1f1f1;\n",
              "}\n",
              "#T_6cb09_row3_col32, #T_6cb09_row4_col26, #T_6cb09_row4_col33, #T_6cb09_row18_col34, #T_6cb09_row19_col0, #T_6cb09_row22_col0 {\n",
              "  background-color: #81a4fb;\n",
              "  color: #f1f1f1;\n",
              "}\n",
              "#T_6cb09_row3_col33, #T_6cb09_row8_col18, #T_6cb09_row9_col7, #T_6cb09_row10_col22, #T_6cb09_row10_col24, #T_6cb09_row17_col31, #T_6cb09_row17_col32, #T_6cb09_row19_col24, #T_6cb09_row20_col0, #T_6cb09_row24_col33, #T_6cb09_row31_col13, #T_6cb09_row31_col14 {\n",
              "  background-color: #adc9fd;\n",
              "  color: #000000;\n",
              "}\n",
              "#T_6cb09_row4_col14, #T_6cb09_row6_col31, #T_6cb09_row11_col34, #T_6cb09_row22_col27, #T_6cb09_row23_col9, #T_6cb09_row23_col32, #T_6cb09_row27_col20, #T_6cb09_row29_col16 {\n",
              "  background-color: #a1c0ff;\n",
              "  color: #000000;\n",
              "}\n",
              "#T_6cb09_row4_col19, #T_6cb09_row9_col5, #T_6cb09_row10_col6, #T_6cb09_row11_col17, #T_6cb09_row17_col11, #T_6cb09_row23_col6, #T_6cb09_row23_col8, #T_6cb09_row25_col8, #T_6cb09_row30_col26, #T_6cb09_row32_col10 {\n",
              "  background-color: #d9dce1;\n",
              "  color: #000000;\n",
              "}\n",
              "#T_6cb09_row4_col21, #T_6cb09_row4_col23, #T_6cb09_row4_col25, #T_6cb09_row6_col9, #T_6cb09_row27_col3, #T_6cb09_row28_col17, #T_6cb09_row32_col3, #T_6cb09_row32_col15, #T_6cb09_row32_col19 {\n",
              "  background-color: #d3dbe7;\n",
              "  color: #000000;\n",
              "}\n",
              "#T_6cb09_row4_col31, #T_6cb09_row5_col0, #T_6cb09_row7_col27, #T_6cb09_row8_col20, #T_6cb09_row10_col7, #T_6cb09_row10_col27, #T_6cb09_row21_col32 {\n",
              "  background-color: #b2ccfb;\n",
              "  color: #000000;\n",
              "}\n",
              "#T_6cb09_row4_col34, #T_6cb09_row7_col12, #T_6cb09_row16_col31, #T_6cb09_row16_col34, #T_6cb09_row21_col34, #T_6cb09_row28_col16, #T_6cb09_row33_col28 {\n",
              "  background-color: #80a3fa;\n",
              "  color: #f1f1f1;\n",
              "}\n",
              "#T_6cb09_row5_col9, #T_6cb09_row6_col15, #T_6cb09_row9_col4, #T_6cb09_row9_col34, #T_6cb09_row12_col24, #T_6cb09_row16_col4, #T_6cb09_row16_col10, #T_6cb09_row17_col29, #T_6cb09_row18_col6, #T_6cb09_row18_col10, #T_6cb09_row23_col16, #T_6cb09_row25_col28, #T_6cb09_row28_col23, #T_6cb09_row31_col15, #T_6cb09_row31_col19 {\n",
              "  background-color: #cbd8ee;\n",
              "  color: #000000;\n",
              "}\n",
              "#T_6cb09_row5_col11, #T_6cb09_row8_col27, #T_6cb09_row14_col21, #T_6cb09_row15_col9, #T_6cb09_row15_col20, #T_6cb09_row18_col21, #T_6cb09_row19_col32, #T_6cb09_row20_col15, #T_6cb09_row21_col14, #T_6cb09_row26_col4, #T_6cb09_row29_col10, #T_6cb09_row31_col22, #T_6cb09_row32_col12, #T_6cb09_row32_col24, #T_6cb09_row34_col27 {\n",
              "  background-color: #b3cdfb;\n",
              "  color: #000000;\n",
              "}\n",
              "#T_6cb09_row5_col13, #T_6cb09_row12_col32, #T_6cb09_row22_col31, #T_6cb09_row28_col22, #T_6cb09_row34_col23, #T_6cb09_row34_col25 {\n",
              "  background-color: #89acfd;\n",
              "  color: #000000;\n",
              "}\n",
              "#T_6cb09_row5_col16, #T_6cb09_row11_col19, #T_6cb09_row17_col8, #T_6cb09_row19_col11, #T_6cb09_row31_col5, #T_6cb09_row31_col28, #T_6cb09_row33_col25 {\n",
              "  background-color: #d7dce3;\n",
              "  color: #000000;\n",
              "}\n",
              "#T_6cb09_row5_col25, #T_6cb09_row12_col6, #T_6cb09_row13_col7, #T_6cb09_row17_col24, #T_6cb09_row20_col6, #T_6cb09_row22_col17, #T_6cb09_row24_col17, #T_6cb09_row28_col11, #T_6cb09_row30_col22, #T_6cb09_row31_col9, #T_6cb09_row31_col25, #T_6cb09_row32_col9 {\n",
              "  background-color: #c4d5f3;\n",
              "  color: #000000;\n",
              "}\n",
              "#T_6cb09_row5_col28, #T_6cb09_row6_col14, #T_6cb09_row7_col31, #T_6cb09_row18_col0, #T_6cb09_row23_col0, #T_6cb09_row30_col32 {\n",
              "  background-color: #92b4fe;\n",
              "  color: #000000;\n",
              "}\n",
              "#T_6cb09_row5_col30, #T_6cb09_row6_col29, #T_6cb09_row10_col25, #T_6cb09_row15_col7, #T_6cb09_row16_col7, #T_6cb09_row24_col14, #T_6cb09_row29_col6, #T_6cb09_row30_col5, #T_6cb09_row30_col14, #T_6cb09_row34_col13 {\n",
              "  background-color: #e9d5cb;\n",
              "  color: #000000;\n",
              "}\n",
              "#T_6cb09_row5_col31, #T_6cb09_row6_col26, #T_6cb09_row9_col19, #T_6cb09_row19_col26, #T_6cb09_row22_col32 {\n",
              "  background-color: #8badfd;\n",
              "  color: #000000;\n",
              "}\n",
              "#T_6cb09_row5_col32, #T_6cb09_row7_col13, #T_6cb09_row9_col25 {\n",
              "  background-color: #85a8fc;\n",
              "  color: #f1f1f1;\n",
              "}\n",
              "#T_6cb09_row6_col16, #T_6cb09_row25_col9, #T_6cb09_row30_col0 {\n",
              "  background-color: #9fbfff;\n",
              "  color: #000000;\n",
              "}\n",
              "#T_6cb09_row6_col24, #T_6cb09_row10_col33, #T_6cb09_row15_col31, #T_6cb09_row27_col24, #T_6cb09_row34_col16, #T_6cb09_row34_col21 {\n",
              "  background-color: #aac7fd;\n",
              "  color: #000000;\n",
              "}\n",
              "#T_6cb09_row6_col27, #T_6cb09_row11_col25, #T_6cb09_row17_col18, #T_6cb09_row18_col17, #T_6cb09_row20_col11, #T_6cb09_row22_col10, #T_6cb09_row24_col10, #T_6cb09_row25_col11, #T_6cb09_row31_col11, #T_6cb09_row32_col27 {\n",
              "  background-color: #c1d4f4;\n",
              "  color: #000000;\n",
              "}\n",
              "#T_6cb09_row6_col33, #T_6cb09_row18_col28 {\n",
              "  background-color: #7295f4;\n",
              "  color: #f1f1f1;\n",
              "}\n",
              "#T_6cb09_row7_col0, #T_6cb09_row31_col0 {\n",
              "  background-color: #7093f3;\n",
              "  color: #f1f1f1;\n",
              "}\n",
              "#T_6cb09_row7_col10, #T_6cb09_row9_col21, #T_6cb09_row26_col0, #T_6cb09_row29_col18 {\n",
              "  background-color: #9dbdff;\n",
              "  color: #000000;\n",
              "}\n",
              "#T_6cb09_row7_col11, #T_6cb09_row14_col20, #T_6cb09_row20_col14 {\n",
              "  background-color: #f7b79b;\n",
              "  color: #000000;\n",
              "}\n",
              "#T_6cb09_row7_col18, #T_6cb09_row9_col26, #T_6cb09_row10_col20, #T_6cb09_row16_col23, #T_6cb09_row16_col25, #T_6cb09_row18_col9, #T_6cb09_row21_col3, #T_6cb09_row22_col4, #T_6cb09_row22_col8, #T_6cb09_row23_col3, #T_6cb09_row24_col4, #T_6cb09_row24_col8, #T_6cb09_row25_col3, #T_6cb09_row25_col16, #T_6cb09_row25_col20, #T_6cb09_row28_col25 {\n",
              "  background-color: #ccd9ed;\n",
              "  color: #000000;\n",
              "}\n",
              "#T_6cb09_row7_col20, #T_6cb09_row17_col20, #T_6cb09_row17_col22, #T_6cb09_row17_col27, #T_6cb09_row27_col11, #T_6cb09_row34_col11 {\n",
              "  background-color: #c5d6f2;\n",
              "  color: #000000;\n",
              "}\n",
              "#T_6cb09_row8_col0 {\n",
              "  background-color: #7699f6;\n",
              "  color: #f1f1f1;\n",
              "}\n",
              "#T_6cb09_row8_col9, #T_6cb09_row14_col16, #T_6cb09_row16_col14, #T_6cb09_row20_col16, #T_6cb09_row28_col4 {\n",
              "  background-color: #f4c5ad;\n",
              "  color: #000000;\n",
              "}\n",
              "#T_6cb09_row8_col11 {\n",
              "  background-color: #5d7ce6;\n",
              "  color: #f1f1f1;\n",
              "}\n",
              "#T_6cb09_row8_col12, #T_6cb09_row9_col29, #T_6cb09_row11_col24, #T_6cb09_row15_col4, #T_6cb09_row16_col5, #T_6cb09_row24_col11, #T_6cb09_row24_col26, #T_6cb09_row28_col29, #T_6cb09_row33_col5, #T_6cb09_row34_col9 {\n",
              "  background-color: #edd1c2;\n",
              "  color: #000000;\n",
              "}\n",
              "#T_6cb09_row8_col19, #T_6cb09_row11_col26, #T_6cb09_row12_col9, #T_6cb09_row19_col22, #T_6cb09_row21_col31, #T_6cb09_row30_col11 {\n",
              "  background-color: #afcafc;\n",
              "  color: #000000;\n",
              "}\n",
              "#T_6cb09_row9_col0, #T_6cb09_row31_col32, #T_6cb09_row31_col34, #T_6cb09_row32_col31, #T_6cb09_row32_col34 {\n",
              "  background-color: #506bda;\n",
              "  color: #f1f1f1;\n",
              "}\n",
              "#T_6cb09_row9_col3, #T_6cb09_row15_col17, #T_6cb09_row15_col19, #T_6cb09_row16_col3, #T_6cb09_row17_col15, #T_6cb09_row17_col21, #T_6cb09_row17_col23, #T_6cb09_row17_col25, #T_6cb09_row17_col30, #T_6cb09_row18_col5, #T_6cb09_row21_col25, #T_6cb09_row22_col26, #T_6cb09_row23_col17, #T_6cb09_row25_col17, #T_6cb09_row25_col21 {\n",
              "  background-color: #ecd3c5;\n",
              "  color: #000000;\n",
              "}\n",
              "#T_6cb09_row9_col6, #T_6cb09_row10_col5, #T_6cb09_row10_col17, #T_6cb09_row10_col19, #T_6cb09_row12_col33, #T_6cb09_row20_col33, #T_6cb09_row23_col5, #T_6cb09_row23_col7, #T_6cb09_row25_col7, #T_6cb09_row28_col10, #T_6cb09_row30_col25 {\n",
              "  background-color: #e0dbd8;\n",
              "  color: #000000;\n",
              "}\n",
              "#T_6cb09_row9_col8 {\n",
              "  background-color: #f7ba9f;\n",
              "  color: #000000;\n",
              "}\n",
              "#T_6cb09_row9_col30, #T_6cb09_row14_col19, #T_6cb09_row15_col3, #T_6cb09_row16_col6, #T_6cb09_row21_col27, #T_6cb09_row27_col25, #T_6cb09_row28_col30, #T_6cb09_row32_col25, #T_6cb09_row33_col6 {\n",
              "  background-color: #c9d7f0;\n",
              "  color: #000000;\n",
              "}\n",
              "#T_6cb09_row10_col0, #T_6cb09_row11_col31 {\n",
              "  background-color: #9bbcff;\n",
              "  color: #000000;\n",
              "}\n",
              "#T_6cb09_row10_col4, #T_6cb09_row14_col3, #T_6cb09_row16_col30, #T_6cb09_row17_col4, #T_6cb09_row21_col17, #T_6cb09_row26_col22 {\n",
              "  background-color: #edd2c3;\n",
              "  color: #000000;\n",
              "}\n",
              "#T_6cb09_row10_col8, #T_6cb09_row12_col14, #T_6cb09_row14_col12, #T_6cb09_row18_col20 {\n",
              "  background-color: #f6bfa6;\n",
              "  color: #000000;\n",
              "}\n",
              "#T_6cb09_row10_col12, #T_6cb09_row16_col18, #T_6cb09_row18_col16, #T_6cb09_row20_col30 {\n",
              "  background-color: #f3c8b2;\n",
              "  color: #000000;\n",
              "}\n",
              "#T_6cb09_row10_col13, #T_6cb09_row16_col28, #T_6cb09_row16_col32, #T_6cb09_row20_col31, #T_6cb09_row26_col21, #T_6cb09_row27_col28, #T_6cb09_row34_col12 {\n",
              "  background-color: #7ea1fa;\n",
              "  color: #f1f1f1;\n",
              "}\n",
              "#T_6cb09_row10_col16, #T_6cb09_row18_col23, #T_6cb09_row21_col12, #T_6cb09_row23_col18, #T_6cb09_row27_col13, #T_6cb09_row31_col24 {\n",
              "  background-color: #b7cff9;\n",
              "  color: #000000;\n",
              "}\n",
              "#T_6cb09_row10_col23, #T_6cb09_row14_col22, #T_6cb09_row24_col5, #T_6cb09_row29_col13, #T_6cb09_row33_col3, #T_6cb09_row34_col3 {\n",
              "  background-color: #e8d6cc;\n",
              "  color: #000000;\n",
              "}\n",
              "#T_6cb09_row10_col30, #T_6cb09_row18_col30, #T_6cb09_row22_col11, #T_6cb09_row26_col30 {\n",
              "  background-color: #efcfbf;\n",
              "  color: #000000;\n",
              "}\n",
              "#T_6cb09_row10_col34 {\n",
              "  background-color: #5e7de7;\n",
              "  color: #f1f1f1;\n",
              "}\n",
              "#T_6cb09_row11_col0 {\n",
              "  background-color: #5875e1;\n",
              "  color: #f1f1f1;\n",
              "}\n",
              "#T_6cb09_row11_col7 {\n",
              "  background-color: #f6a283;\n",
              "  color: #000000;\n",
              "}\n",
              "#T_6cb09_row11_col13, #T_6cb09_row17_col13, #T_6cb09_row19_col13 {\n",
              "  background-color: #5673e0;\n",
              "  color: #f1f1f1;\n",
              "}\n",
              "#T_6cb09_row11_col15, #T_6cb09_row12_col5, #T_6cb09_row13_col8, #T_6cb09_row15_col11, #T_6cb09_row20_col5, #T_6cb09_row23_col10, #T_6cb09_row25_col12, #T_6cb09_row30_col12, #T_6cb09_row33_col12, #T_6cb09_row33_col20 {\n",
              "  background-color: #f0cdbb;\n",
              "  color: #000000;\n",
              "}\n",
              "#T_6cb09_row11_col21, #T_6cb09_row11_col22, #T_6cb09_row16_col22, #T_6cb09_row16_col24, #T_6cb09_row21_col11, #T_6cb09_row22_col16, #T_6cb09_row24_col16, #T_6cb09_row33_col14 {\n",
              "  background-color: #efcebd;\n",
              "  color: #000000;\n",
              "}\n",
              "#T_6cb09_row11_col29, #T_6cb09_row19_col7, #T_6cb09_row21_col28, #T_6cb09_row27_col6, #T_6cb09_row33_col16, #T_6cb09_row33_col18, #T_6cb09_row34_col6 {\n",
              "  background-color: #e5d8d1;\n",
              "  color: #000000;\n",
              "}\n",
              "#T_6cb09_row11_col33, #T_6cb09_row21_col26 {\n",
              "  background-color: #7da0f9;\n",
              "  color: #f1f1f1;\n",
              "}\n",
              "#T_6cb09_row12_col8, #T_6cb09_row20_col18, #T_6cb09_row22_col18 {\n",
              "  background-color: #f6bea4;\n",
              "  color: #000000;\n",
              "}\n",
              "#T_6cb09_row12_col10, #T_6cb09_row18_col22 {\n",
              "  background-color: #f6bda2;\n",
              "  color: #000000;\n",
              "}\n",
              "#T_6cb09_row12_col13, #T_6cb09_row16_col13 {\n",
              "  background-color: #445acc;\n",
              "  color: #f1f1f1;\n",
              "}\n",
              "#T_6cb09_row12_col16, #T_6cb09_row16_col12, #T_6cb09_row21_col6, #T_6cb09_row24_col30, #T_6cb09_row29_col9, #T_6cb09_row30_col23, #T_6cb09_row32_col6 {\n",
              "  background-color: #e4d9d2;\n",
              "  color: #000000;\n",
              "}\n",
              "#T_6cb09_row12_col20, #T_6cb09_row14_col26, #T_6cb09_row19_col25, #T_6cb09_row20_col12, #T_6cb09_row25_col19, #T_6cb09_row26_col3, #T_6cb09_row26_col14, #T_6cb09_row26_col18 {\n",
              "  background-color: #f5c0a7;\n",
              "  color: #000000;\n",
              "}\n",
              "#T_6cb09_row12_col23, #T_6cb09_row14_col5, #T_6cb09_row16_col26, #T_6cb09_row22_col20, #T_6cb09_row23_col12, #T_6cb09_row25_col30, #T_6cb09_row28_col6, #T_6cb09_row33_col30 {\n",
              "  background-color: #f2cbb7;\n",
              "  color: #000000;\n",
              "}\n",
              "#T_6cb09_row12_col25, #T_6cb09_row19_col21, #T_6cb09_row25_col10, #T_6cb09_row33_col26 {\n",
              "  background-color: #f1cdba;\n",
              "  color: #000000;\n",
              "}\n",
              "#T_6cb09_row12_col26, #T_6cb09_row26_col12, #T_6cb09_row27_col4, #T_6cb09_row28_col21, #T_6cb09_row30_col10, #T_6cb09_row32_col4 {\n",
              "  background-color: #e6d7cf;\n",
              "  color: #000000;\n",
              "}\n",
              "#T_6cb09_row12_col28 {\n",
              "  background-color: #8fb1fe;\n",
              "  color: #000000;\n",
              "}\n",
              "#T_6cb09_row12_col30, #T_6cb09_row20_col26, #T_6cb09_row26_col20 {\n",
              "  background-color: #f7b99e;\n",
              "  color: #000000;\n",
              "}\n",
              "#T_6cb09_row12_col31, #T_6cb09_row28_col12, #T_6cb09_row32_col26 {\n",
              "  background-color: #90b2fe;\n",
              "  color: #000000;\n",
              "}\n",
              "#T_6cb09_row12_col34, #T_6cb09_row24_col13, #T_6cb09_row25_col13 {\n",
              "  background-color: #4e68d8;\n",
              "  color: #f1f1f1;\n",
              "}\n",
              "#T_6cb09_row13_col0 {\n",
              "  background-color: #4358cb;\n",
              "  color: #f1f1f1;\n",
              "}\n",
              "#T_6cb09_row13_col9, #T_6cb09_row14_col18, #T_6cb09_row16_col20 {\n",
              "  background-color: #f4c6af;\n",
              "  color: #000000;\n",
              "}\n",
              "#T_6cb09_row13_col11, #T_6cb09_row33_col13 {\n",
              "  background-color: #6e90f2;\n",
              "  color: #f1f1f1;\n",
              "}\n",
              "#T_6cb09_row13_col12, #T_6cb09_row13_col16, #T_6cb09_row13_col18 {\n",
              "  background-color: #5b7ae5;\n",
              "  color: #f1f1f1;\n",
              "}\n",
              "#T_6cb09_row13_col14, #T_6cb09_row13_col20, #T_6cb09_row23_col13, #T_6cb09_row34_col31, #T_6cb09_row34_col32 {\n",
              "  background-color: #4f69d9;\n",
              "  color: #f1f1f1;\n",
              "}\n",
              "#T_6cb09_row13_col15, #T_6cb09_row13_col21, #T_6cb09_row28_col18 {\n",
              "  background-color: #7597f6;\n",
              "  color: #f1f1f1;\n",
              "}\n",
              "#T_6cb09_row13_col17, #T_6cb09_row13_col19 {\n",
              "  background-color: #6c8ff1;\n",
              "  color: #f1f1f1;\n",
              "}\n",
              "#T_6cb09_row13_col22 {\n",
              "  background-color: #6384eb;\n",
              "  color: #f1f1f1;\n",
              "}\n",
              "#T_6cb09_row13_col23, #T_6cb09_row13_col25, #T_6cb09_row30_col13 {\n",
              "  background-color: #6687ed;\n",
              "  color: #f1f1f1;\n",
              "}\n",
              "#T_6cb09_row13_col24, #T_6cb09_row21_col0, #T_6cb09_row27_col0, #T_6cb09_row29_col33 {\n",
              "  background-color: #6485ec;\n",
              "  color: #f1f1f1;\n",
              "}\n",
              "#T_6cb09_row13_col26, #T_6cb09_row16_col0, #T_6cb09_row24_col31, #T_6cb09_row29_col20 {\n",
              "  background-color: #8caffe;\n",
              "  color: #000000;\n",
              "}\n",
              "#T_6cb09_row13_col28, #T_6cb09_row21_col30, #T_6cb09_row22_col30, #T_6cb09_row25_col5, #T_6cb09_row26_col33 {\n",
              "  background-color: #e1dad6;\n",
              "  color: #000000;\n",
              "}\n",
              "#T_6cb09_row13_col29, #T_6cb09_row18_col24, #T_6cb09_row24_col18 {\n",
              "  background-color: #f7bca1;\n",
              "  color: #000000;\n",
              "}\n",
              "#T_6cb09_row13_col33, #T_6cb09_row28_col0 {\n",
              "  background-color: #5470de;\n",
              "  color: #f1f1f1;\n",
              "}\n",
              "#T_6cb09_row14_col24, #T_6cb09_row19_col30, #T_6cb09_row21_col7, #T_6cb09_row22_col5 {\n",
              "  background-color: #ead5c9;\n",
              "  color: #000000;\n",
              "}\n",
              "#T_6cb09_row14_col30, #T_6cb09_row19_col23, #T_6cb09_row23_col19 {\n",
              "  background-color: #f5c2aa;\n",
              "  color: #000000;\n",
              "}\n",
              "#T_6cb09_row14_col31, #T_6cb09_row15_col34, #T_6cb09_row18_col31 {\n",
              "  background-color: #82a6fb;\n",
              "  color: #f1f1f1;\n",
              "}\n",
              "#T_6cb09_row14_col34, #T_6cb09_row19_col34, #T_6cb09_row26_col31 {\n",
              "  background-color: #688aef;\n",
              "  color: #f1f1f1;\n",
              "}\n",
              "#T_6cb09_row15_col0, #T_6cb09_row17_col34, #T_6cb09_row20_col34 {\n",
              "  background-color: #6a8bef;\n",
              "  color: #f1f1f1;\n",
              "}\n",
              "#T_6cb09_row15_col5, #T_6cb09_row15_col22, #T_6cb09_row17_col28, #T_6cb09_row18_col8, #T_6cb09_row32_col21 {\n",
              "  background-color: #d2dbe8;\n",
              "  color: #000000;\n",
              "}\n",
              "#T_6cb09_row15_col13 {\n",
              "  background-color: #6180e9;\n",
              "  color: #f1f1f1;\n",
              "}\n",
              "#T_6cb09_row15_col21, #T_6cb09_row20_col22, #T_6cb09_row21_col15, #T_6cb09_row24_col20, #T_6cb09_row26_col16, #T_6cb09_row34_col29 {\n",
              "  background-color: #f2cab5;\n",
              "  color: #000000;\n",
              "}\n",
              "#T_6cb09_row15_col33, #T_6cb09_row20_col32, #T_6cb09_row24_col0 {\n",
              "  background-color: #7b9ff9;\n",
              "  color: #f1f1f1;\n",
              "}\n",
              "#T_6cb09_row17_col0, #T_6cb09_row24_col32 {\n",
              "  background-color: #88abfd;\n",
              "  color: #000000;\n",
              "}\n",
              "#T_6cb09_row17_col10, #T_6cb09_row19_col10, #T_6cb09_row19_col15, #T_6cb09_row21_col4, #T_6cb09_row21_col23, #T_6cb09_row22_col3, #T_6cb09_row22_col7, #T_6cb09_row23_col4, #T_6cb09_row24_col3, #T_6cb09_row24_col7, #T_6cb09_row25_col4 {\n",
              "  background-color: #ebd3c6;\n",
              "  color: #000000;\n",
              "}\n",
              "#T_6cb09_row18_col13 {\n",
              "  background-color: #455cce;\n",
              "  color: #f1f1f1;\n",
              "}\n",
              "#T_6cb09_row18_col14, #T_6cb09_row23_col30, #T_6cb09_row26_col5 {\n",
              "  background-color: #f3c7b1;\n",
              "  color: #000000;\n",
              "}\n",
              "#T_6cb09_row18_col26 {\n",
              "  background-color: #f5c1a9;\n",
              "  color: #000000;\n",
              "}\n",
              "#T_6cb09_row20_col28, #T_6cb09_row28_col20 {\n",
              "  background-color: #6788ee;\n",
              "  color: #f1f1f1;\n",
              "}\n",
              "#T_6cb09_row21_col13 {\n",
              "  background-color: #5f7fe8;\n",
              "  color: #f1f1f1;\n",
              "}\n",
              "#T_6cb09_row21_col19 {\n",
              "  background-color: #f1ccb8;\n",
              "  color: #000000;\n",
              "}\n",
              "#T_6cb09_row21_col33, #T_6cb09_row26_col13, #T_6cb09_row27_col33 {\n",
              "  background-color: #7a9df8;\n",
              "  color: #f1f1f1;\n",
              "}\n",
              "#T_6cb09_row22_col13 {\n",
              "  background-color: #4c66d6;\n",
              "  color: #f1f1f1;\n",
              "}\n",
              "#T_6cb09_row22_col24, #T_6cb09_row23_col25, #T_6cb09_row24_col22, #T_6cb09_row25_col23 {\n",
              "  background-color: #f6a385;\n",
              "  color: #000000;\n",
              "}\n",
              "#T_6cb09_row23_col34, #T_6cb09_row25_col34 {\n",
              "  background-color: #5977e3;\n",
              "  color: #f1f1f1;\n",
              "}\n",
              "#T_6cb09_row26_col32, #T_6cb09_row30_col34 {\n",
              "  background-color: #6282ea;\n",
              "  color: #f1f1f1;\n",
              "}\n",
              "#T_6cb09_row27_col26 {\n",
              "  background-color: #465ecf;\n",
              "  color: #f1f1f1;\n",
              "}\n",
              "#T_6cb09_row28_col27 {\n",
              "  background-color: #7396f5;\n",
              "  color: #f1f1f1;\n",
              "}\n",
              "#T_6cb09_row28_col33 {\n",
              "  background-color: #516ddb;\n",
              "  color: #f1f1f1;\n",
              "}\n",
              "#T_6cb09_row29_col0, #T_6cb09_row34_col0 {\n",
              "  background-color: #4a63d3;\n",
              "  color: #f1f1f1;\n",
              "}\n",
              "#T_6cb09_row31_col33, #T_6cb09_row32_col33 {\n",
              "  background-color: #3c4ec2;\n",
              "  color: #f1f1f1;\n",
              "}\n",
              "#T_6cb09_row32_col0 {\n",
              "  background-color: #6b8df0;\n",
              "  color: #f1f1f1;\n",
              "}\n",
              "</style>\n",
              "<table id=\"T_6cb09_\" class=\"dataframe\">\n",
              "  <thead>\n",
              "    <tr>\n",
              "      <th class=\"blank level0\" >&nbsp;</th>\n",
              "      <th class=\"col_heading level0 col0\" >IsSeniorCitizen</th>\n",
              "      <th class=\"col_heading level0 col1\" >Sex_Female</th>\n",
              "      <th class=\"col_heading level0 col2\" >Sex_Male</th>\n",
              "      <th class=\"col_heading level0 col3\" >HasPartner_No</th>\n",
              "      <th class=\"col_heading level0 col4\" >HasPartner_Yes</th>\n",
              "      <th class=\"col_heading level0 col5\" >HasChild_No</th>\n",
              "      <th class=\"col_heading level0 col6\" >HasChild_Yes</th>\n",
              "      <th class=\"col_heading level0 col7\" >HasPhoneService_No</th>\n",
              "      <th class=\"col_heading level0 col8\" >HasPhoneService_Yes</th>\n",
              "      <th class=\"col_heading level0 col9\" >HasMultiplePhoneNumbers_No</th>\n",
              "      <th class=\"col_heading level0 col10\" >HasMultiplePhoneNumbers_Yes</th>\n",
              "      <th class=\"col_heading level0 col11\" >HasInternetService_DSL</th>\n",
              "      <th class=\"col_heading level0 col12\" >HasInternetService_Fiber optic</th>\n",
              "      <th class=\"col_heading level0 col13\" >HasInternetService_No</th>\n",
              "      <th class=\"col_heading level0 col14\" >HasOnlineSecurityService_No</th>\n",
              "      <th class=\"col_heading level0 col15\" >HasOnlineSecurityService_Yes</th>\n",
              "      <th class=\"col_heading level0 col16\" >HasOnlineBackup_No</th>\n",
              "      <th class=\"col_heading level0 col17\" >HasOnlineBackup_Yes</th>\n",
              "      <th class=\"col_heading level0 col18\" >HasDeviceProtection_No</th>\n",
              "      <th class=\"col_heading level0 col19\" >HasDeviceProtection_Yes</th>\n",
              "      <th class=\"col_heading level0 col20\" >HasTechSupportAccess_No</th>\n",
              "      <th class=\"col_heading level0 col21\" >HasTechSupportAccess_Yes</th>\n",
              "      <th class=\"col_heading level0 col22\" >HasOnlineTV_No</th>\n",
              "      <th class=\"col_heading level0 col23\" >HasOnlineTV_Yes</th>\n",
              "      <th class=\"col_heading level0 col24\" >HasMovieSubscription_No</th>\n",
              "      <th class=\"col_heading level0 col25\" >HasMovieSubscription_Yes</th>\n",
              "      <th class=\"col_heading level0 col26\" >HasContractPhone_Month-to-month</th>\n",
              "      <th class=\"col_heading level0 col27\" >HasContractPhone_One year</th>\n",
              "      <th class=\"col_heading level0 col28\" >HasContractPhone_Two year</th>\n",
              "      <th class=\"col_heading level0 col29\" >IsBillingPaperless_No</th>\n",
              "      <th class=\"col_heading level0 col30\" >IsBillingPaperless_Yes</th>\n",
              "      <th class=\"col_heading level0 col31\" >PaymentMethod_Bank transfer (automatic)</th>\n",
              "      <th class=\"col_heading level0 col32\" >PaymentMethod_Credit card (automatic)</th>\n",
              "      <th class=\"col_heading level0 col33\" >PaymentMethod_Electronic check</th>\n",
              "      <th class=\"col_heading level0 col34\" >PaymentMethod_Mailed check</th>\n",
              "    </tr>\n",
              "  </thead>\n",
              "  <tbody>\n",
              "    <tr>\n",
              "      <th id=\"T_6cb09_level0_row0\" class=\"row_heading level0 row0\" >IsSeniorCitizen</th>\n",
              "      <td id=\"T_6cb09_row0_col0\" class=\"data row0 col0\" >1.000000</td>\n",
              "      <td id=\"T_6cb09_row0_col1\" class=\"data row0 col1\" >-0.013207</td>\n",
              "      <td id=\"T_6cb09_row0_col2\" class=\"data row0 col2\" >0.013207</td>\n",
              "      <td id=\"T_6cb09_row0_col3\" class=\"data row0 col3\" >-0.016764</td>\n",
              "      <td id=\"T_6cb09_row0_col4\" class=\"data row0 col4\" >0.016764</td>\n",
              "      <td id=\"T_6cb09_row0_col5\" class=\"data row0 col5\" >0.217007</td>\n",
              "      <td id=\"T_6cb09_row0_col6\" class=\"data row0 col6\" >-0.217007</td>\n",
              "      <td id=\"T_6cb09_row0_col7\" class=\"data row0 col7\" >-0.008763</td>\n",
              "      <td id=\"T_6cb09_row0_col8\" class=\"data row0 col8\" >0.008763</td>\n",
              "      <td id=\"T_6cb09_row0_col9\" class=\"data row0 col9\" >-0.128706</td>\n",
              "      <td id=\"T_6cb09_row0_col10\" class=\"data row0 col10\" >0.135267</td>\n",
              "      <td id=\"T_6cb09_row0_col11\" class=\"data row0 col11\" >-0.102503</td>\n",
              "      <td id=\"T_6cb09_row0_col12\" class=\"data row0 col12\" >0.247603</td>\n",
              "      <td id=\"T_6cb09_row0_col13\" class=\"data row0 col13\" >-0.180831</td>\n",
              "      <td id=\"T_6cb09_row0_col14\" class=\"data row0 col14\" >0.180638</td>\n",
              "      <td id=\"T_6cb09_row0_col15\" class=\"data row0 col15\" >-0.035052</td>\n",
              "      <td id=\"T_6cb09_row0_col16\" class=\"data row0 col16\" >0.084633</td>\n",
              "      <td id=\"T_6cb09_row0_col17\" class=\"data row0 col17\" >0.068258</td>\n",
              "      <td id=\"T_6cb09_row0_col18\" class=\"data row0 col18\" >0.103860</td>\n",
              "      <td id=\"T_6cb09_row0_col19\" class=\"data row0 col19\" >0.048119</td>\n",
              "      <td id=\"T_6cb09_row0_col20\" class=\"data row0 col20\" >0.198516</td>\n",
              "      <td id=\"T_6cb09_row0_col21\" class=\"data row0 col21\" >-0.054669</td>\n",
              "      <td id=\"T_6cb09_row0_col22\" class=\"data row0 col22\" >0.047982</td>\n",
              "      <td id=\"T_6cb09_row0_col23\" class=\"data row0 col23\" >0.104599</td>\n",
              "      <td id=\"T_6cb09_row0_col24\" class=\"data row0 col24\" >0.028863</td>\n",
              "      <td id=\"T_6cb09_row0_col25\" class=\"data row0 col25\" >0.123656</td>\n",
              "      <td id=\"T_6cb09_row0_col26\" class=\"data row0 col26\" >0.143054</td>\n",
              "      <td id=\"T_6cb09_row0_col27\" class=\"data row0 col27\" >-0.051876</td>\n",
              "      <td id=\"T_6cb09_row0_col28\" class=\"data row0 col28\" >-0.117132</td>\n",
              "      <td id=\"T_6cb09_row0_col29\" class=\"data row0 col29\" >-0.151964</td>\n",
              "      <td id=\"T_6cb09_row0_col30\" class=\"data row0 col30\" >0.151964</td>\n",
              "      <td id=\"T_6cb09_row0_col31\" class=\"data row0 col31\" >-0.010942</td>\n",
              "      <td id=\"T_6cb09_row0_col32\" class=\"data row0 col32\" >-0.027889</td>\n",
              "      <td id=\"T_6cb09_row0_col33\" class=\"data row0 col33\" >0.169778</td>\n",
              "      <td id=\"T_6cb09_row0_col34\" class=\"data row0 col34\" >-0.153740</td>\n",
              "    </tr>\n",
              "    <tr>\n",
              "      <th id=\"T_6cb09_level0_row1\" class=\"row_heading level0 row1\" >Sex_Female</th>\n",
              "      <td id=\"T_6cb09_row1_col0\" class=\"data row1 col0\" >-0.013207</td>\n",
              "      <td id=\"T_6cb09_row1_col1\" class=\"data row1 col1\" >1.000000</td>\n",
              "      <td id=\"T_6cb09_row1_col2\" class=\"data row1 col2\" >-1.000000</td>\n",
              "      <td id=\"T_6cb09_row1_col3\" class=\"data row1 col3\" >0.002780</td>\n",
              "      <td id=\"T_6cb09_row1_col4\" class=\"data row1 col4\" >-0.002780</td>\n",
              "      <td id=\"T_6cb09_row1_col5\" class=\"data row1 col5\" >0.014605</td>\n",
              "      <td id=\"T_6cb09_row1_col6\" class=\"data row1 col6\" >-0.014605</td>\n",
              "      <td id=\"T_6cb09_row1_col7\" class=\"data row1 col7\" >-0.007771</td>\n",
              "      <td id=\"T_6cb09_row1_col8\" class=\"data row1 col8\" >0.007771</td>\n",
              "      <td id=\"T_6cb09_row1_col9\" class=\"data row1 col9\" >0.001634</td>\n",
              "      <td id=\"T_6cb09_row1_col10\" class=\"data row1 col10\" >0.003035</td>\n",
              "      <td id=\"T_6cb09_row1_col11\" class=\"data row1 col11\" >0.002214</td>\n",
              "      <td id=\"T_6cb09_row1_col12\" class=\"data row1 col12\" >0.002824</td>\n",
              "      <td id=\"T_6cb09_row1_col13\" class=\"data row1 col13\" >-0.005958</td>\n",
              "      <td id=\"T_6cb09_row1_col14\" class=\"data row1 col14\" >-0.006874</td>\n",
              "      <td id=\"T_6cb09_row1_col15\" class=\"data row1 col15\" >0.012985</td>\n",
              "      <td id=\"T_6cb09_row1_col16\" class=\"data row1 col16\" >-0.002150</td>\n",
              "      <td id=\"T_6cb09_row1_col17\" class=\"data row1 col17\" >0.007417</td>\n",
              "      <td id=\"T_6cb09_row1_col18\" class=\"data row1 col18\" >0.002778</td>\n",
              "      <td id=\"T_6cb09_row1_col19\" class=\"data row1 col19\" >0.002257</td>\n",
              "      <td id=\"T_6cb09_row1_col20\" class=\"data row1 col20\" >-0.009920</td>\n",
              "      <td id=\"T_6cb09_row1_col21\" class=\"data row1 col21\" >0.016317</td>\n",
              "      <td id=\"T_6cb09_row1_col22\" class=\"data row1 col22\" >-0.010010</td>\n",
              "      <td id=\"T_6cb09_row1_col23\" class=\"data row1 col23\" >0.015094</td>\n",
              "      <td id=\"T_6cb09_row1_col24\" class=\"data row1 col24\" >-0.003862</td>\n",
              "      <td id=\"T_6cb09_row1_col25\" class=\"data row1 col25\" >0.008897</td>\n",
              "      <td id=\"T_6cb09_row1_col26\" class=\"data row1 col26\" >-0.000198</td>\n",
              "      <td id=\"T_6cb09_row1_col27\" class=\"data row1 col27\" >-0.012321</td>\n",
              "      <td id=\"T_6cb09_row1_col28\" class=\"data row1 col28\" >0.011835</td>\n",
              "      <td id=\"T_6cb09_row1_col29\" class=\"data row1 col29\" >-0.015698</td>\n",
              "      <td id=\"T_6cb09_row1_col30\" class=\"data row1 col30\" >0.015698</td>\n",
              "      <td id=\"T_6cb09_row1_col31\" class=\"data row1 col31\" >0.009673</td>\n",
              "      <td id=\"T_6cb09_row1_col32\" class=\"data row1 col32\" >0.006924</td>\n",
              "      <td id=\"T_6cb09_row1_col33\" class=\"data row1 col33\" >-0.003415</td>\n",
              "      <td id=\"T_6cb09_row1_col34\" class=\"data row1 col34\" >-0.012525</td>\n",
              "    </tr>\n",
              "    <tr>\n",
              "      <th id=\"T_6cb09_level0_row2\" class=\"row_heading level0 row2\" >Sex_Male</th>\n",
              "      <td id=\"T_6cb09_row2_col0\" class=\"data row2 col0\" >0.013207</td>\n",
              "      <td id=\"T_6cb09_row2_col1\" class=\"data row2 col1\" >-1.000000</td>\n",
              "      <td id=\"T_6cb09_row2_col2\" class=\"data row2 col2\" >1.000000</td>\n",
              "      <td id=\"T_6cb09_row2_col3\" class=\"data row2 col3\" >-0.002780</td>\n",
              "      <td id=\"T_6cb09_row2_col4\" class=\"data row2 col4\" >0.002780</td>\n",
              "      <td id=\"T_6cb09_row2_col5\" class=\"data row2 col5\" >-0.014605</td>\n",
              "      <td id=\"T_6cb09_row2_col6\" class=\"data row2 col6\" >0.014605</td>\n",
              "      <td id=\"T_6cb09_row2_col7\" class=\"data row2 col7\" >0.007771</td>\n",
              "      <td id=\"T_6cb09_row2_col8\" class=\"data row2 col8\" >-0.007771</td>\n",
              "      <td id=\"T_6cb09_row2_col9\" class=\"data row2 col9\" >-0.001634</td>\n",
              "      <td id=\"T_6cb09_row2_col10\" class=\"data row2 col10\" >-0.003035</td>\n",
              "      <td id=\"T_6cb09_row2_col11\" class=\"data row2 col11\" >-0.002214</td>\n",
              "      <td id=\"T_6cb09_row2_col12\" class=\"data row2 col12\" >-0.002824</td>\n",
              "      <td id=\"T_6cb09_row2_col13\" class=\"data row2 col13\" >0.005958</td>\n",
              "      <td id=\"T_6cb09_row2_col14\" class=\"data row2 col14\" >0.006874</td>\n",
              "      <td id=\"T_6cb09_row2_col15\" class=\"data row2 col15\" >-0.012985</td>\n",
              "      <td id=\"T_6cb09_row2_col16\" class=\"data row2 col16\" >0.002150</td>\n",
              "      <td id=\"T_6cb09_row2_col17\" class=\"data row2 col17\" >-0.007417</td>\n",
              "      <td id=\"T_6cb09_row2_col18\" class=\"data row2 col18\" >-0.002778</td>\n",
              "      <td id=\"T_6cb09_row2_col19\" class=\"data row2 col19\" >-0.002257</td>\n",
              "      <td id=\"T_6cb09_row2_col20\" class=\"data row2 col20\" >0.009920</td>\n",
              "      <td id=\"T_6cb09_row2_col21\" class=\"data row2 col21\" >-0.016317</td>\n",
              "      <td id=\"T_6cb09_row2_col22\" class=\"data row2 col22\" >0.010010</td>\n",
              "      <td id=\"T_6cb09_row2_col23\" class=\"data row2 col23\" >-0.015094</td>\n",
              "      <td id=\"T_6cb09_row2_col24\" class=\"data row2 col24\" >0.003862</td>\n",
              "      <td id=\"T_6cb09_row2_col25\" class=\"data row2 col25\" >-0.008897</td>\n",
              "      <td id=\"T_6cb09_row2_col26\" class=\"data row2 col26\" >0.000198</td>\n",
              "      <td id=\"T_6cb09_row2_col27\" class=\"data row2 col27\" >0.012321</td>\n",
              "      <td id=\"T_6cb09_row2_col28\" class=\"data row2 col28\" >-0.011835</td>\n",
              "      <td id=\"T_6cb09_row2_col29\" class=\"data row2 col29\" >0.015698</td>\n",
              "      <td id=\"T_6cb09_row2_col30\" class=\"data row2 col30\" >-0.015698</td>\n",
              "      <td id=\"T_6cb09_row2_col31\" class=\"data row2 col31\" >-0.009673</td>\n",
              "      <td id=\"T_6cb09_row2_col32\" class=\"data row2 col32\" >-0.006924</td>\n",
              "      <td id=\"T_6cb09_row2_col33\" class=\"data row2 col33\" >0.003415</td>\n",
              "      <td id=\"T_6cb09_row2_col34\" class=\"data row2 col34\" >0.012525</td>\n",
              "    </tr>\n",
              "    <tr>\n",
              "      <th id=\"T_6cb09_level0_row3\" class=\"row_heading level0 row3\" >HasPartner_No</th>\n",
              "      <td id=\"T_6cb09_row3_col0\" class=\"data row3 col0\" >-0.016764</td>\n",
              "      <td id=\"T_6cb09_row3_col1\" class=\"data row3 col1\" >0.002780</td>\n",
              "      <td id=\"T_6cb09_row3_col2\" class=\"data row3 col2\" >-0.002780</td>\n",
              "      <td id=\"T_6cb09_row3_col3\" class=\"data row3 col3\" >1.000000</td>\n",
              "      <td id=\"T_6cb09_row3_col4\" class=\"data row3 col4\" >-1.000000</td>\n",
              "      <td id=\"T_6cb09_row3_col5\" class=\"data row3 col5\" >0.442530</td>\n",
              "      <td id=\"T_6cb09_row3_col6\" class=\"data row3 col6\" >-0.442530</td>\n",
              "      <td id=\"T_6cb09_row3_col7\" class=\"data row3 col7\" >0.001508</td>\n",
              "      <td id=\"T_6cb09_row3_col8\" class=\"data row3 col8\" >-0.001508</td>\n",
              "      <td id=\"T_6cb09_row3_col9\" class=\"data row3 col9\" >0.132024</td>\n",
              "      <td id=\"T_6cb09_row3_col10\" class=\"data row3 col10\" >-0.134243</td>\n",
              "      <td id=\"T_6cb09_row3_col11\" class=\"data row3 col11\" >-0.003045</td>\n",
              "      <td id=\"T_6cb09_row3_col12\" class=\"data row3 col12\" >0.006202</td>\n",
              "      <td id=\"T_6cb09_row3_col13\" class=\"data row3 col13\" >-0.003981</td>\n",
              "      <td id=\"T_6cb09_row3_col14\" class=\"data row3 col14\" >0.133596</td>\n",
              "      <td id=\"T_6cb09_row3_col15\" class=\"data row3 col15\" >-0.143668</td>\n",
              "      <td id=\"T_6cb09_row3_col16\" class=\"data row3 col16\" >0.131761</td>\n",
              "      <td id=\"T_6cb09_row3_col17\" class=\"data row3 col17\" >-0.134424</td>\n",
              "      <td id=\"T_6cb09_row3_col18\" class=\"data row3 col18\" >0.150691</td>\n",
              "      <td id=\"T_6cb09_row3_col19\" class=\"data row3 col19\" >-0.153821</td>\n",
              "      <td id=\"T_6cb09_row3_col20\" class=\"data row3 col20\" >0.113977</td>\n",
              "      <td id=\"T_6cb09_row3_col21\" class=\"data row3 col21\" >-0.121847</td>\n",
              "      <td id=\"T_6cb09_row3_col22\" class=\"data row3 col22\" >0.120020</td>\n",
              "      <td id=\"T_6cb09_row3_col23\" class=\"data row3 col23\" >-0.117244</td>\n",
              "      <td id=\"T_6cb09_row3_col24\" class=\"data row3 col24\" >0.121143</td>\n",
              "      <td id=\"T_6cb09_row3_col25\" class=\"data row3 col25\" >-0.118002</td>\n",
              "      <td id=\"T_6cb09_row3_col26\" class=\"data row3 col26\" >0.276996</td>\n",
              "      <td id=\"T_6cb09_row3_col27\" class=\"data row3 col27\" >-0.076119</td>\n",
              "      <td id=\"T_6cb09_row3_col28\" class=\"data row3 col28\" >-0.249716</td>\n",
              "      <td id=\"T_6cb09_row3_col29\" class=\"data row3 col29\" >-0.005293</td>\n",
              "      <td id=\"T_6cb09_row3_col30\" class=\"data row3 col30\" >0.005293</td>\n",
              "      <td id=\"T_6cb09_row3_col31\" class=\"data row3 col31\" >-0.113065</td>\n",
              "      <td id=\"T_6cb09_row3_col32\" class=\"data row3 col32\" >-0.077583</td>\n",
              "      <td id=\"T_6cb09_row3_col33\" class=\"data row3 col33\" >0.085955</td>\n",
              "      <td id=\"T_6cb09_row3_col34\" class=\"data row3 col34\" >0.091035</td>\n",
              "    </tr>\n",
              "    <tr>\n",
              "      <th id=\"T_6cb09_level0_row4\" class=\"row_heading level0 row4\" >HasPartner_Yes</th>\n",
              "      <td id=\"T_6cb09_row4_col0\" class=\"data row4 col0\" >0.016764</td>\n",
              "      <td id=\"T_6cb09_row4_col1\" class=\"data row4 col1\" >-0.002780</td>\n",
              "      <td id=\"T_6cb09_row4_col2\" class=\"data row4 col2\" >0.002780</td>\n",
              "      <td id=\"T_6cb09_row4_col3\" class=\"data row4 col3\" >-1.000000</td>\n",
              "      <td id=\"T_6cb09_row4_col4\" class=\"data row4 col4\" >1.000000</td>\n",
              "      <td id=\"T_6cb09_row4_col5\" class=\"data row4 col5\" >-0.442530</td>\n",
              "      <td id=\"T_6cb09_row4_col6\" class=\"data row4 col6\" >0.442530</td>\n",
              "      <td id=\"T_6cb09_row4_col7\" class=\"data row4 col7\" >-0.001508</td>\n",
              "      <td id=\"T_6cb09_row4_col8\" class=\"data row4 col8\" >0.001508</td>\n",
              "      <td id=\"T_6cb09_row4_col9\" class=\"data row4 col9\" >-0.132024</td>\n",
              "      <td id=\"T_6cb09_row4_col10\" class=\"data row4 col10\" >0.134243</td>\n",
              "      <td id=\"T_6cb09_row4_col11\" class=\"data row4 col11\" >0.003045</td>\n",
              "      <td id=\"T_6cb09_row4_col12\" class=\"data row4 col12\" >-0.006202</td>\n",
              "      <td id=\"T_6cb09_row4_col13\" class=\"data row4 col13\" >0.003981</td>\n",
              "      <td id=\"T_6cb09_row4_col14\" class=\"data row4 col14\" >-0.133596</td>\n",
              "      <td id=\"T_6cb09_row4_col15\" class=\"data row4 col15\" >0.143668</td>\n",
              "      <td id=\"T_6cb09_row4_col16\" class=\"data row4 col16\" >-0.131761</td>\n",
              "      <td id=\"T_6cb09_row4_col17\" class=\"data row4 col17\" >0.134424</td>\n",
              "      <td id=\"T_6cb09_row4_col18\" class=\"data row4 col18\" >-0.150691</td>\n",
              "      <td id=\"T_6cb09_row4_col19\" class=\"data row4 col19\" >0.153821</td>\n",
              "      <td id=\"T_6cb09_row4_col20\" class=\"data row4 col20\" >-0.113977</td>\n",
              "      <td id=\"T_6cb09_row4_col21\" class=\"data row4 col21\" >0.121847</td>\n",
              "      <td id=\"T_6cb09_row4_col22\" class=\"data row4 col22\" >-0.120020</td>\n",
              "      <td id=\"T_6cb09_row4_col23\" class=\"data row4 col23\" >0.117244</td>\n",
              "      <td id=\"T_6cb09_row4_col24\" class=\"data row4 col24\" >-0.121143</td>\n",
              "      <td id=\"T_6cb09_row4_col25\" class=\"data row4 col25\" >0.118002</td>\n",
              "      <td id=\"T_6cb09_row4_col26\" class=\"data row4 col26\" >-0.276996</td>\n",
              "      <td id=\"T_6cb09_row4_col27\" class=\"data row4 col27\" >0.076119</td>\n",
              "      <td id=\"T_6cb09_row4_col28\" class=\"data row4 col28\" >0.249716</td>\n",
              "      <td id=\"T_6cb09_row4_col29\" class=\"data row4 col29\" >0.005293</td>\n",
              "      <td id=\"T_6cb09_row4_col30\" class=\"data row4 col30\" >-0.005293</td>\n",
              "      <td id=\"T_6cb09_row4_col31\" class=\"data row4 col31\" >0.113065</td>\n",
              "      <td id=\"T_6cb09_row4_col32\" class=\"data row4 col32\" >0.077583</td>\n",
              "      <td id=\"T_6cb09_row4_col33\" class=\"data row4 col33\" >-0.085955</td>\n",
              "      <td id=\"T_6cb09_row4_col34\" class=\"data row4 col34\" >-0.091035</td>\n",
              "    </tr>\n",
              "    <tr>\n",
              "      <th id=\"T_6cb09_level0_row5\" class=\"row_heading level0 row5\" >HasChild_No</th>\n",
              "      <td id=\"T_6cb09_row5_col0\" class=\"data row5 col0\" >0.217007</td>\n",
              "      <td id=\"T_6cb09_row5_col1\" class=\"data row5 col1\" >0.014605</td>\n",
              "      <td id=\"T_6cb09_row5_col2\" class=\"data row5 col2\" >-0.014605</td>\n",
              "      <td id=\"T_6cb09_row5_col3\" class=\"data row5 col3\" >0.442530</td>\n",
              "      <td id=\"T_6cb09_row5_col4\" class=\"data row5 col4\" >-0.442530</td>\n",
              "      <td id=\"T_6cb09_row5_col5\" class=\"data row5 col5\" >1.000000</td>\n",
              "      <td id=\"T_6cb09_row5_col6\" class=\"data row5 col6\" >-1.000000</td>\n",
              "      <td id=\"T_6cb09_row5_col7\" class=\"data row5 col7\" >-0.010475</td>\n",
              "      <td id=\"T_6cb09_row5_col8\" class=\"data row5 col8\" >0.010475</td>\n",
              "      <td id=\"T_6cb09_row5_col9\" class=\"data row5 col9\" >-0.024334</td>\n",
              "      <td id=\"T_6cb09_row5_col10\" class=\"data row5 col10\" >0.030892</td>\n",
              "      <td id=\"T_6cb09_row5_col11\" class=\"data row5 col11\" >-0.050978</td>\n",
              "      <td id=\"T_6cb09_row5_col12\" class=\"data row5 col12\" >0.174634</td>\n",
              "      <td id=\"T_6cb09_row5_col13\" class=\"data row5 col13\" >-0.152092</td>\n",
              "      <td id=\"T_6cb09_row5_col14\" class=\"data row5 col14\" >0.198537</td>\n",
              "      <td id=\"T_6cb09_row5_col15\" class=\"data row5 col15\" >-0.080863</td>\n",
              "      <td id=\"T_6cb09_row5_col16\" class=\"data row5 col16\" >0.141769</td>\n",
              "      <td id=\"T_6cb09_row5_col17\" class=\"data row5 col17\" >-0.016453</td>\n",
              "      <td id=\"T_6cb09_row5_col18\" class=\"data row5 col18\" >0.129790</td>\n",
              "      <td id=\"T_6cb09_row5_col19\" class=\"data row5 col19\" >-0.003817</td>\n",
              "      <td id=\"T_6cb09_row5_col20\" class=\"data row5 col20\" >0.177608</td>\n",
              "      <td id=\"T_6cb09_row5_col21\" class=\"data row5 col21\" >-0.057694</td>\n",
              "      <td id=\"T_6cb09_row5_col22\" class=\"data row5 col22\" >0.104460</td>\n",
              "      <td id=\"T_6cb09_row5_col23\" class=\"data row5 col23\" >0.023557</td>\n",
              "      <td id=\"T_6cb09_row5_col24\" class=\"data row5 col24\" >0.093267</td>\n",
              "      <td id=\"T_6cb09_row5_col25\" class=\"data row5 col25\" >0.034888</td>\n",
              "      <td id=\"T_6cb09_row5_col26\" class=\"data row5 col26\" >0.228322</td>\n",
              "      <td id=\"T_6cb09_row5_col27\" class=\"data row5 col27\" >-0.069361</td>\n",
              "      <td id=\"T_6cb09_row5_col28\" class=\"data row5 col28\" >-0.199604</td>\n",
              "      <td id=\"T_6cb09_row5_col29\" class=\"data row5 col29\" >-0.100777</td>\n",
              "      <td id=\"T_6cb09_row5_col30\" class=\"data row5 col30\" >0.100777</td>\n",
              "      <td id=\"T_6cb09_row5_col31\" class=\"data row5 col31\" >-0.043363</td>\n",
              "      <td id=\"T_6cb09_row5_col32\" class=\"data row5 col32\" >-0.060437</td>\n",
              "      <td id=\"T_6cb09_row5_col33\" class=\"data row5 col33\" >0.146189</td>\n",
              "      <td id=\"T_6cb09_row5_col34\" class=\"data row5 col34\" >-0.062937</td>\n",
              "    </tr>\n",
              "    <tr>\n",
              "      <th id=\"T_6cb09_level0_row6\" class=\"row_heading level0 row6\" >HasChild_Yes</th>\n",
              "      <td id=\"T_6cb09_row6_col0\" class=\"data row6 col0\" >-0.217007</td>\n",
              "      <td id=\"T_6cb09_row6_col1\" class=\"data row6 col1\" >-0.014605</td>\n",
              "      <td id=\"T_6cb09_row6_col2\" class=\"data row6 col2\" >0.014605</td>\n",
              "      <td id=\"T_6cb09_row6_col3\" class=\"data row6 col3\" >-0.442530</td>\n",
              "      <td id=\"T_6cb09_row6_col4\" class=\"data row6 col4\" >0.442530</td>\n",
              "      <td id=\"T_6cb09_row6_col5\" class=\"data row6 col5\" >-1.000000</td>\n",
              "      <td id=\"T_6cb09_row6_col6\" class=\"data row6 col6\" >1.000000</td>\n",
              "      <td id=\"T_6cb09_row6_col7\" class=\"data row6 col7\" >0.010475</td>\n",
              "      <td id=\"T_6cb09_row6_col8\" class=\"data row6 col8\" >-0.010475</td>\n",
              "      <td id=\"T_6cb09_row6_col9\" class=\"data row6 col9\" >0.024334</td>\n",
              "      <td id=\"T_6cb09_row6_col10\" class=\"data row6 col10\" >-0.030892</td>\n",
              "      <td id=\"T_6cb09_row6_col11\" class=\"data row6 col11\" >0.050978</td>\n",
              "      <td id=\"T_6cb09_row6_col12\" class=\"data row6 col12\" >-0.174634</td>\n",
              "      <td id=\"T_6cb09_row6_col13\" class=\"data row6 col13\" >0.152092</td>\n",
              "      <td id=\"T_6cb09_row6_col14\" class=\"data row6 col14\" >-0.198537</td>\n",
              "      <td id=\"T_6cb09_row6_col15\" class=\"data row6 col15\" >0.080863</td>\n",
              "      <td id=\"T_6cb09_row6_col16\" class=\"data row6 col16\" >-0.141769</td>\n",
              "      <td id=\"T_6cb09_row6_col17\" class=\"data row6 col17\" >0.016453</td>\n",
              "      <td id=\"T_6cb09_row6_col18\" class=\"data row6 col18\" >-0.129790</td>\n",
              "      <td id=\"T_6cb09_row6_col19\" class=\"data row6 col19\" >0.003817</td>\n",
              "      <td id=\"T_6cb09_row6_col20\" class=\"data row6 col20\" >-0.177608</td>\n",
              "      <td id=\"T_6cb09_row6_col21\" class=\"data row6 col21\" >0.057694</td>\n",
              "      <td id=\"T_6cb09_row6_col22\" class=\"data row6 col22\" >-0.104460</td>\n",
              "      <td id=\"T_6cb09_row6_col23\" class=\"data row6 col23\" >-0.023557</td>\n",
              "      <td id=\"T_6cb09_row6_col24\" class=\"data row6 col24\" >-0.093267</td>\n",
              "      <td id=\"T_6cb09_row6_col25\" class=\"data row6 col25\" >-0.034888</td>\n",
              "      <td id=\"T_6cb09_row6_col26\" class=\"data row6 col26\" >-0.228322</td>\n",
              "      <td id=\"T_6cb09_row6_col27\" class=\"data row6 col27\" >0.069361</td>\n",
              "      <td id=\"T_6cb09_row6_col28\" class=\"data row6 col28\" >0.199604</td>\n",
              "      <td id=\"T_6cb09_row6_col29\" class=\"data row6 col29\" >0.100777</td>\n",
              "      <td id=\"T_6cb09_row6_col30\" class=\"data row6 col30\" >-0.100777</td>\n",
              "      <td id=\"T_6cb09_row6_col31\" class=\"data row6 col31\" >0.043363</td>\n",
              "      <td id=\"T_6cb09_row6_col32\" class=\"data row6 col32\" >0.060437</td>\n",
              "      <td id=\"T_6cb09_row6_col33\" class=\"data row6 col33\" >-0.146189</td>\n",
              "      <td id=\"T_6cb09_row6_col34\" class=\"data row6 col34\" >0.062937</td>\n",
              "    </tr>\n",
              "    <tr>\n",
              "      <th id=\"T_6cb09_level0_row7\" class=\"row_heading level0 row7\" >HasPhoneService_No</th>\n",
              "      <td id=\"T_6cb09_row7_col0\" class=\"data row7 col0\" >-0.008763</td>\n",
              "      <td id=\"T_6cb09_row7_col1\" class=\"data row7 col1\" >-0.007771</td>\n",
              "      <td id=\"T_6cb09_row7_col2\" class=\"data row7 col2\" >0.007771</td>\n",
              "      <td id=\"T_6cb09_row7_col3\" class=\"data row7 col3\" >0.001508</td>\n",
              "      <td id=\"T_6cb09_row7_col4\" class=\"data row7 col4\" >-0.001508</td>\n",
              "      <td id=\"T_6cb09_row7_col5\" class=\"data row7 col5\" >-0.010475</td>\n",
              "      <td id=\"T_6cb09_row7_col6\" class=\"data row7 col6\" >0.010475</td>\n",
              "      <td id=\"T_6cb09_row7_col7\" class=\"data row7 col7\" >1.000000</td>\n",
              "      <td id=\"T_6cb09_row7_col8\" class=\"data row7 col8\" >-1.000000</td>\n",
              "      <td id=\"T_6cb09_row7_col9\" class=\"data row7 col9\" >-0.314902</td>\n",
              "      <td id=\"T_6cb09_row7_col10\" class=\"data row7 col10\" >-0.284968</td>\n",
              "      <td id=\"T_6cb09_row7_col11\" class=\"data row7 col11\" >0.460095</td>\n",
              "      <td id=\"T_6cb09_row7_col12\" class=\"data row7 col12\" >-0.295137</td>\n",
              "      <td id=\"T_6cb09_row7_col13\" class=\"data row7 col13\" >-0.173644</td>\n",
              "      <td id=\"T_6cb09_row7_col14\" class=\"data row7 col14\" >0.053796</td>\n",
              "      <td id=\"T_6cb09_row7_col15\" class=\"data row7 col15\" >0.098260</td>\n",
              "      <td id=\"T_6cb09_row7_col16\" class=\"data row7 col16\" >0.100987</td>\n",
              "      <td id=\"T_6cb09_row7_col17\" class=\"data row7 col17\" >0.044911</td>\n",
              "      <td id=\"T_6cb09_row7_col18\" class=\"data row7 col18\" >0.079918</td>\n",
              "      <td id=\"T_6cb09_row7_col19\" class=\"data row7 col19\" >0.066884</td>\n",
              "      <td id=\"T_6cb09_row7_col20\" class=\"data row7 col20\" >0.048450</td>\n",
              "      <td id=\"T_6cb09_row7_col21\" class=\"data row7 col21\" >0.103995</td>\n",
              "      <td id=\"T_6cb09_row7_col22\" class=\"data row7 col22\" >0.121914</td>\n",
              "      <td id=\"T_6cb09_row7_col23\" class=\"data row7 col23\" >0.024230</td>\n",
              "      <td id=\"T_6cb09_row7_col24\" class=\"data row7 col24\" >0.120504</td>\n",
              "      <td id=\"T_6cb09_row7_col25\" class=\"data row7 col25\" >0.025785</td>\n",
              "      <td id=\"T_6cb09_row7_col26\" class=\"data row7 col26\" >0.005083</td>\n",
              "      <td id=\"T_6cb09_row7_col27\" class=\"data row7 col27\" >-0.002714</td>\n",
              "      <td id=\"T_6cb09_row7_col28\" class=\"data row7 col28\" >-0.003342</td>\n",
              "      <td id=\"T_6cb09_row7_col29\" class=\"data row7 col29\" >0.021362</td>\n",
              "      <td id=\"T_6cb09_row7_col30\" class=\"data row7 col30\" >-0.021362</td>\n",
              "      <td id=\"T_6cb09_row7_col31\" class=\"data row7 col31\" >-0.014299</td>\n",
              "      <td id=\"T_6cb09_row7_col32\" class=\"data row7 col32\" >0.006566</td>\n",
              "      <td id=\"T_6cb09_row7_col33\" class=\"data row7 col33\" >-0.002906</td>\n",
              "      <td id=\"T_6cb09_row7_col34\" class=\"data row7 col34\" >0.010971</td>\n",
              "    </tr>\n",
              "    <tr>\n",
              "      <th id=\"T_6cb09_level0_row8\" class=\"row_heading level0 row8\" >HasPhoneService_Yes</th>\n",
              "      <td id=\"T_6cb09_row8_col0\" class=\"data row8 col0\" >0.008763</td>\n",
              "      <td id=\"T_6cb09_row8_col1\" class=\"data row8 col1\" >0.007771</td>\n",
              "      <td id=\"T_6cb09_row8_col2\" class=\"data row8 col2\" >-0.007771</td>\n",
              "      <td id=\"T_6cb09_row8_col3\" class=\"data row8 col3\" >-0.001508</td>\n",
              "      <td id=\"T_6cb09_row8_col4\" class=\"data row8 col4\" >0.001508</td>\n",
              "      <td id=\"T_6cb09_row8_col5\" class=\"data row8 col5\" >0.010475</td>\n",
              "      <td id=\"T_6cb09_row8_col6\" class=\"data row8 col6\" >-0.010475</td>\n",
              "      <td id=\"T_6cb09_row8_col7\" class=\"data row8 col7\" >-1.000000</td>\n",
              "      <td id=\"T_6cb09_row8_col8\" class=\"data row8 col8\" >1.000000</td>\n",
              "      <td id=\"T_6cb09_row8_col9\" class=\"data row8 col9\" >0.314902</td>\n",
              "      <td id=\"T_6cb09_row8_col10\" class=\"data row8 col10\" >0.284968</td>\n",
              "      <td id=\"T_6cb09_row8_col11\" class=\"data row8 col11\" >-0.460095</td>\n",
              "      <td id=\"T_6cb09_row8_col12\" class=\"data row8 col12\" >0.295137</td>\n",
              "      <td id=\"T_6cb09_row8_col13\" class=\"data row8 col13\" >0.173644</td>\n",
              "      <td id=\"T_6cb09_row8_col14\" class=\"data row8 col14\" >-0.053796</td>\n",
              "      <td id=\"T_6cb09_row8_col15\" class=\"data row8 col15\" >-0.098260</td>\n",
              "      <td id=\"T_6cb09_row8_col16\" class=\"data row8 col16\" >-0.100987</td>\n",
              "      <td id=\"T_6cb09_row8_col17\" class=\"data row8 col17\" >-0.044911</td>\n",
              "      <td id=\"T_6cb09_row8_col18\" class=\"data row8 col18\" >-0.079918</td>\n",
              "      <td id=\"T_6cb09_row8_col19\" class=\"data row8 col19\" >-0.066884</td>\n",
              "      <td id=\"T_6cb09_row8_col20\" class=\"data row8 col20\" >-0.048450</td>\n",
              "      <td id=\"T_6cb09_row8_col21\" class=\"data row8 col21\" >-0.103995</td>\n",
              "      <td id=\"T_6cb09_row8_col22\" class=\"data row8 col22\" >-0.121914</td>\n",
              "      <td id=\"T_6cb09_row8_col23\" class=\"data row8 col23\" >-0.024230</td>\n",
              "      <td id=\"T_6cb09_row8_col24\" class=\"data row8 col24\" >-0.120504</td>\n",
              "      <td id=\"T_6cb09_row8_col25\" class=\"data row8 col25\" >-0.025785</td>\n",
              "      <td id=\"T_6cb09_row8_col26\" class=\"data row8 col26\" >-0.005083</td>\n",
              "      <td id=\"T_6cb09_row8_col27\" class=\"data row8 col27\" >0.002714</td>\n",
              "      <td id=\"T_6cb09_row8_col28\" class=\"data row8 col28\" >0.003342</td>\n",
              "      <td id=\"T_6cb09_row8_col29\" class=\"data row8 col29\" >-0.021362</td>\n",
              "      <td id=\"T_6cb09_row8_col30\" class=\"data row8 col30\" >0.021362</td>\n",
              "      <td id=\"T_6cb09_row8_col31\" class=\"data row8 col31\" >0.014299</td>\n",
              "      <td id=\"T_6cb09_row8_col32\" class=\"data row8 col32\" >-0.006566</td>\n",
              "      <td id=\"T_6cb09_row8_col33\" class=\"data row8 col33\" >0.002906</td>\n",
              "      <td id=\"T_6cb09_row8_col34\" class=\"data row8 col34\" >-0.010971</td>\n",
              "    </tr>\n",
              "    <tr>\n",
              "      <th id=\"T_6cb09_level0_row9\" class=\"row_heading level0 row9\" >HasMultiplePhoneNumbers_No</th>\n",
              "      <td id=\"T_6cb09_row9_col0\" class=\"data row9 col0\" >-0.128706</td>\n",
              "      <td id=\"T_6cb09_row9_col1\" class=\"data row9 col1\" >0.001634</td>\n",
              "      <td id=\"T_6cb09_row9_col2\" class=\"data row9 col2\" >-0.001634</td>\n",
              "      <td id=\"T_6cb09_row9_col3\" class=\"data row9 col3\" >0.132024</td>\n",
              "      <td id=\"T_6cb09_row9_col4\" class=\"data row9 col4\" >-0.132024</td>\n",
              "      <td id=\"T_6cb09_row9_col5\" class=\"data row9 col5\" >-0.024334</td>\n",
              "      <td id=\"T_6cb09_row9_col6\" class=\"data row9 col6\" >0.024334</td>\n",
              "      <td id=\"T_6cb09_row9_col7\" class=\"data row9 col7\" >-0.314902</td>\n",
              "      <td id=\"T_6cb09_row9_col8\" class=\"data row9 col8\" >0.314902</td>\n",
              "      <td id=\"T_6cb09_row9_col9\" class=\"data row9 col9\" >1.000000</td>\n",
              "      <td id=\"T_6cb09_row9_col10\" class=\"data row9 col10\" >-0.820034</td>\n",
              "      <td id=\"T_6cb09_row9_col11\" class=\"data row9 col11\" >-0.074944</td>\n",
              "      <td id=\"T_6cb09_row9_col12\" class=\"data row9 col12\" >-0.180777</td>\n",
              "      <td id=\"T_6cb09_row9_col13\" class=\"data row9 col13\" >0.304537</td>\n",
              "      <td id=\"T_6cb09_row9_col14\" class=\"data row9 col14\" >-0.102147</td>\n",
              "      <td id=\"T_6cb09_row9_col15\" class=\"data row9 col15\" >-0.163730</td>\n",
              "      <td id=\"T_6cb09_row9_col16\" class=\"data row9 col16\" >-0.034054</td>\n",
              "      <td id=\"T_6cb09_row9_col17\" class=\"data row9 col17\" >-0.228463</td>\n",
              "      <td id=\"T_6cb09_row9_col18\" class=\"data row9 col18\" >-0.021754</td>\n",
              "      <td id=\"T_6cb09_row9_col19\" class=\"data row9 col19\" >-0.240876</td>\n",
              "      <td id=\"T_6cb09_row9_col20\" class=\"data row9 col20\" >-0.112158</td>\n",
              "      <td id=\"T_6cb09_row9_col21\" class=\"data row9 col21\" >-0.152463</td>\n",
              "      <td id=\"T_6cb09_row9_col22\" class=\"data row9 col22\" >0.007871</td>\n",
              "      <td id=\"T_6cb09_row9_col23\" class=\"data row9 col23\" >-0.265267</td>\n",
              "      <td id=\"T_6cb09_row9_col24\" class=\"data row9 col24\" >0.011418</td>\n",
              "      <td id=\"T_6cb09_row9_col25\" class=\"data row9 col25\" >-0.268384</td>\n",
              "      <td id=\"T_6cb09_row9_col26\" class=\"data row9 col26\" >0.089108</td>\n",
              "      <td id=\"T_6cb09_row9_col27\" class=\"data row9 col27\" >0.005288</td>\n",
              "      <td id=\"T_6cb09_row9_col28\" class=\"data row9 col28\" >-0.108377</td>\n",
              "      <td id=\"T_6cb09_row9_col29\" class=\"data row9 col29\" >0.144875</td>\n",
              "      <td id=\"T_6cb09_row9_col30\" class=\"data row9 col30\" >-0.144875</td>\n",
              "      <td id=\"T_6cb09_row9_col31\" class=\"data row9 col31\" >-0.067763</td>\n",
              "      <td id=\"T_6cb09_row9_col32\" class=\"data row9 col32\" >-0.066625</td>\n",
              "      <td id=\"T_6cb09_row9_col33\" class=\"data row9 col33\" >-0.076164</td>\n",
              "      <td id=\"T_6cb09_row9_col34\" class=\"data row9 col34\" >0.218782</td>\n",
              "    </tr>\n",
              "    <tr>\n",
              "      <th id=\"T_6cb09_level0_row10\" class=\"row_heading level0 row10\" >HasMultiplePhoneNumbers_Yes</th>\n",
              "      <td id=\"T_6cb09_row10_col0\" class=\"data row10 col0\" >0.135267</td>\n",
              "      <td id=\"T_6cb09_row10_col1\" class=\"data row10 col1\" >0.003035</td>\n",
              "      <td id=\"T_6cb09_row10_col2\" class=\"data row10 col2\" >-0.003035</td>\n",
              "      <td id=\"T_6cb09_row10_col3\" class=\"data row10 col3\" >-0.134243</td>\n",
              "      <td id=\"T_6cb09_row10_col4\" class=\"data row10 col4\" >0.134243</td>\n",
              "      <td id=\"T_6cb09_row10_col5\" class=\"data row10 col5\" >0.030892</td>\n",
              "      <td id=\"T_6cb09_row10_col6\" class=\"data row10 col6\" >-0.030892</td>\n",
              "      <td id=\"T_6cb09_row10_col7\" class=\"data row10 col7\" >-0.284968</td>\n",
              "      <td id=\"T_6cb09_row10_col8\" class=\"data row10 col8\" >0.284968</td>\n",
              "      <td id=\"T_6cb09_row10_col9\" class=\"data row10 col9\" >-0.820034</td>\n",
              "      <td id=\"T_6cb09_row10_col10\" class=\"data row10 col10\" >1.000000</td>\n",
              "      <td id=\"T_6cb09_row10_col11\" class=\"data row10 col11\" >-0.201747</td>\n",
              "      <td id=\"T_6cb09_row10_col12\" class=\"data row10 col12\" >0.360535</td>\n",
              "      <td id=\"T_6cb09_row10_col13\" class=\"data row10 col13\" >-0.202852</td>\n",
              "      <td id=\"T_6cb09_row10_col14\" class=\"data row10 col14\" >0.070722</td>\n",
              "      <td id=\"T_6cb09_row10_col15\" class=\"data row10 col15\" >0.106104</td>\n",
              "      <td id=\"T_6cb09_row10_col16\" class=\"data row10 col16\" >-0.026503</td>\n",
              "      <td id=\"T_6cb09_row10_col17\" class=\"data row10 col17\" >0.203648</td>\n",
              "      <td id=\"T_6cb09_row10_col18\" class=\"data row10 col18\" >-0.026221</td>\n",
              "      <td id=\"T_6cb09_row10_col19\" class=\"data row10 col19\" >0.202934</td>\n",
              "      <td id=\"T_6cb09_row10_col20\" class=\"data row10 col20\" >0.084055</td>\n",
              "      <td id=\"T_6cb09_row10_col21\" class=\"data row10 col21\" >0.091267</td>\n",
              "      <td id=\"T_6cb09_row10_col22\" class=\"data row10 col22\" >-0.081463</td>\n",
              "      <td id=\"T_6cb09_row10_col23\" class=\"data row10 col23\" >0.253287</td>\n",
              "      <td id=\"T_6cb09_row10_col24\" class=\"data row10 col24\" >-0.084195</td>\n",
              "      <td id=\"T_6cb09_row10_col25\" class=\"data row10 col25\" >0.255497</td>\n",
              "      <td id=\"T_6cb09_row10_col26\" class=\"data row10 col26\" >-0.093057</td>\n",
              "      <td id=\"T_6cb09_row10_col27\" class=\"data row10 col27\" >-0.003704</td>\n",
              "      <td id=\"T_6cb09_row10_col28\" class=\"data row10 col28\" >0.111467</td>\n",
              "      <td id=\"T_6cb09_row10_col29\" class=\"data row10 col29\" >-0.159193</td>\n",
              "      <td id=\"T_6cb09_row10_col30\" class=\"data row10 col30\" >0.159193</td>\n",
              "      <td id=\"T_6cb09_row10_col31\" class=\"data row10 col31\" >0.077057</td>\n",
              "      <td id=\"T_6cb09_row10_col32\" class=\"data row10 col32\" >0.063327</td>\n",
              "      <td id=\"T_6cb09_row10_col33\" class=\"data row10 col33\" >0.078672</td>\n",
              "      <td id=\"T_6cb09_row10_col34\" class=\"data row10 col34\" >-0.227568</td>\n",
              "    </tr>\n",
              "    <tr>\n",
              "      <th id=\"T_6cb09_level0_row11\" class=\"row_heading level0 row11\" >HasInternetService_DSL</th>\n",
              "      <td id=\"T_6cb09_row11_col0\" class=\"data row11 col0\" >-0.102503</td>\n",
              "      <td id=\"T_6cb09_row11_col1\" class=\"data row11 col1\" >0.002214</td>\n",
              "      <td id=\"T_6cb09_row11_col2\" class=\"data row11 col2\" >-0.002214</td>\n",
              "      <td id=\"T_6cb09_row11_col3\" class=\"data row11 col3\" >-0.003045</td>\n",
              "      <td id=\"T_6cb09_row11_col4\" class=\"data row11 col4\" >0.003045</td>\n",
              "      <td id=\"T_6cb09_row11_col5\" class=\"data row11 col5\" >-0.050978</td>\n",
              "      <td id=\"T_6cb09_row11_col6\" class=\"data row11 col6\" >0.050978</td>\n",
              "      <td id=\"T_6cb09_row11_col7\" class=\"data row11 col7\" >0.460095</td>\n",
              "      <td id=\"T_6cb09_row11_col8\" class=\"data row11 col8\" >-0.460095</td>\n",
              "      <td id=\"T_6cb09_row11_col9\" class=\"data row11 col9\" >-0.074944</td>\n",
              "      <td id=\"T_6cb09_row11_col10\" class=\"data row11 col10\" >-0.201747</td>\n",
              "      <td id=\"T_6cb09_row11_col11\" class=\"data row11 col11\" >1.000000</td>\n",
              "      <td id=\"T_6cb09_row11_col12\" class=\"data row11 col12\" >-0.641468</td>\n",
              "      <td id=\"T_6cb09_row11_col13\" class=\"data row11 col13\" >-0.377409</td>\n",
              "      <td id=\"T_6cb09_row11_col14\" class=\"data row11 col14\" >0.015885</td>\n",
              "      <td id=\"T_6cb09_row11_col15\" class=\"data row11 col15\" >0.324952</td>\n",
              "      <td id=\"T_6cb09_row11_col16\" class=\"data row11 col16\" >0.165949</td>\n",
              "      <td id=\"T_6cb09_row11_col17\" class=\"data row11 col17\" >0.153641</td>\n",
              "      <td id=\"T_6cb09_row11_col18\" class=\"data row11 col18\" >0.172593</td>\n",
              "      <td id=\"T_6cb09_row11_col19\" class=\"data row11 col19\" >0.146525</td>\n",
              "      <td id=\"T_6cb09_row11_col20\" class=\"data row11 col20\" >0.019661</td>\n",
              "      <td id=\"T_6cb09_row11_col21\" class=\"data row11 col21\" >0.320295</td>\n",
              "      <td id=\"T_6cb09_row11_col22\" class=\"data row11 col22\" >0.313197</td>\n",
              "      <td id=\"T_6cb09_row11_col23\" class=\"data row11 col23\" >0.004206</td>\n",
              "      <td id=\"T_6cb09_row11_col24\" class=\"data row11 col24\" >0.294971</td>\n",
              "      <td id=\"T_6cb09_row11_col25\" class=\"data row11 col25\" >0.022925</td>\n",
              "      <td id=\"T_6cb09_row11_col26\" class=\"data row11 col26\" >-0.061922</td>\n",
              "      <td id=\"T_6cb09_row11_col27\" class=\"data row11 col27\" >0.038872</td>\n",
              "      <td id=\"T_6cb09_row11_col28\" class=\"data row11 col28\" >0.035238</td>\n",
              "      <td id=\"T_6cb09_row11_col29\" class=\"data row11 col29\" >0.069009</td>\n",
              "      <td id=\"T_6cb09_row11_col30\" class=\"data row11 col30\" >-0.069009</td>\n",
              "      <td id=\"T_6cb09_row11_col31\" class=\"data row11 col31\" >0.022233</td>\n",
              "      <td id=\"T_6cb09_row11_col32\" class=\"data row11 col32\" >0.054794</td>\n",
              "      <td id=\"T_6cb09_row11_col33\" class=\"data row11 col33\" >-0.103545</td>\n",
              "      <td id=\"T_6cb09_row11_col34\" class=\"data row11 col34\" >0.041168</td>\n",
              "    </tr>\n",
              "    <tr>\n",
              "      <th id=\"T_6cb09_level0_row12\" class=\"row_heading level0 row12\" >HasInternetService_Fiber optic</th>\n",
              "      <td id=\"T_6cb09_row12_col0\" class=\"data row12 col0\" >0.247603</td>\n",
              "      <td id=\"T_6cb09_row12_col1\" class=\"data row12 col1\" >0.002824</td>\n",
              "      <td id=\"T_6cb09_row12_col2\" class=\"data row12 col2\" >-0.002824</td>\n",
              "      <td id=\"T_6cb09_row12_col3\" class=\"data row12 col3\" >0.006202</td>\n",
              "      <td id=\"T_6cb09_row12_col4\" class=\"data row12 col4\" >-0.006202</td>\n",
              "      <td id=\"T_6cb09_row12_col5\" class=\"data row12 col5\" >0.174634</td>\n",
              "      <td id=\"T_6cb09_row12_col6\" class=\"data row12 col6\" >-0.174634</td>\n",
              "      <td id=\"T_6cb09_row12_col7\" class=\"data row12 col7\" >-0.295137</td>\n",
              "      <td id=\"T_6cb09_row12_col8\" class=\"data row12 col8\" >0.295137</td>\n",
              "      <td id=\"T_6cb09_row12_col9\" class=\"data row12 col9\" >-0.180777</td>\n",
              "      <td id=\"T_6cb09_row12_col10\" class=\"data row12 col10\" >0.360535</td>\n",
              "      <td id=\"T_6cb09_row12_col11\" class=\"data row12 col11\" >-0.641468</td>\n",
              "      <td id=\"T_6cb09_row12_col12\" class=\"data row12 col12\" >1.000000</td>\n",
              "      <td id=\"T_6cb09_row12_col13\" class=\"data row12 col13\" >-0.468321</td>\n",
              "      <td id=\"T_6cb09_row12_col14\" class=\"data row12 col14\" >0.414943</td>\n",
              "      <td id=\"T_6cb09_row12_col15\" class=\"data row12 col15\" >-0.032486</td>\n",
              "      <td id=\"T_6cb09_row12_col16\" class=\"data row12 col16\" >0.228291</td>\n",
              "      <td id=\"T_6cb09_row12_col17\" class=\"data row12 col17\" >0.167245</td>\n",
              "      <td id=\"T_6cb09_row12_col18\" class=\"data row12 col18\" >0.219730</td>\n",
              "      <td id=\"T_6cb09_row12_col19\" class=\"data row12 col19\" >0.176016</td>\n",
              "      <td id=\"T_6cb09_row12_col20\" class=\"data row12 col20\" >0.410039</td>\n",
              "      <td id=\"T_6cb09_row12_col21\" class=\"data row12 col21\" >-0.027020</td>\n",
              "      <td id=\"T_6cb09_row12_col22\" class=\"data row12 col22\" >0.054295</td>\n",
              "      <td id=\"T_6cb09_row12_col23\" class=\"data row12 col23\" >0.341205</td>\n",
              "      <td id=\"T_6cb09_row12_col24\" class=\"data row12 col24\" >0.069178</td>\n",
              "      <td id=\"T_6cb09_row12_col25\" class=\"data row12 col25\" >0.325830</td>\n",
              "      <td id=\"T_6cb09_row12_col26\" class=\"data row12 col26\" >0.242866</td>\n",
              "      <td id=\"T_6cb09_row12_col27\" class=\"data row12 col27\" >-0.074171</td>\n",
              "      <td id=\"T_6cb09_row12_col28\" class=\"data row12 col28\" >-0.211949</td>\n",
              "      <td id=\"T_6cb09_row12_col29\" class=\"data row12 col29\" >-0.323712</td>\n",
              "      <td id=\"T_6cb09_row12_col30\" class=\"data row12 col30\" >0.323712</td>\n",
              "      <td id=\"T_6cb09_row12_col31\" class=\"data row12 col31\" >-0.021800</td>\n",
              "      <td id=\"T_6cb09_row12_col32\" class=\"data row12 col32\" >-0.046813</td>\n",
              "      <td id=\"T_6cb09_row12_col33\" class=\"data row12 col33\" >0.324208</td>\n",
              "      <td id=\"T_6cb09_row12_col34\" class=\"data row12 col34\" >-0.299027</td>\n",
              "    </tr>\n",
              "    <tr>\n",
              "      <th id=\"T_6cb09_level0_row13\" class=\"row_heading level0 row13\" >HasInternetService_No</th>\n",
              "      <td id=\"T_6cb09_row13_col0\" class=\"data row13 col0\" >-0.180831</td>\n",
              "      <td id=\"T_6cb09_row13_col1\" class=\"data row13 col1\" >-0.005958</td>\n",
              "      <td id=\"T_6cb09_row13_col2\" class=\"data row13 col2\" >0.005958</td>\n",
              "      <td id=\"T_6cb09_row13_col3\" class=\"data row13 col3\" >-0.003981</td>\n",
              "      <td id=\"T_6cb09_row13_col4\" class=\"data row13 col4\" >0.003981</td>\n",
              "      <td id=\"T_6cb09_row13_col5\" class=\"data row13 col5\" >-0.152092</td>\n",
              "      <td id=\"T_6cb09_row13_col6\" class=\"data row13 col6\" >0.152092</td>\n",
              "      <td id=\"T_6cb09_row13_col7\" class=\"data row13 col7\" >-0.173644</td>\n",
              "      <td id=\"T_6cb09_row13_col8\" class=\"data row13 col8\" >0.173644</td>\n",
              "      <td id=\"T_6cb09_row13_col9\" class=\"data row13 col9\" >0.304537</td>\n",
              "      <td id=\"T_6cb09_row13_col10\" class=\"data row13 col10\" >-0.202852</td>\n",
              "      <td id=\"T_6cb09_row13_col11\" class=\"data row13 col11\" >-0.377409</td>\n",
              "      <td id=\"T_6cb09_row13_col12\" class=\"data row13 col12\" >-0.468321</td>\n",
              "      <td id=\"T_6cb09_row13_col13\" class=\"data row13 col13\" >1.000000</td>\n",
              "      <td id=\"T_6cb09_row13_col14\" class=\"data row13 col14\" >-0.519184</td>\n",
              "      <td id=\"T_6cb09_row13_col15\" class=\"data row13 col15\" >-0.335046</td>\n",
              "      <td id=\"T_6cb09_row13_col16\" class=\"data row13 col16\" >-0.466706</td>\n",
              "      <td id=\"T_6cb09_row13_col17\" class=\"data row13 col17\" >-0.378841</td>\n",
              "      <td id=\"T_6cb09_row13_col18\" class=\"data row13 col18\" >-0.464024</td>\n",
              "      <td id=\"T_6cb09_row13_col19\" class=\"data row13 col19\" >-0.381233</td>\n",
              "      <td id=\"T_6cb09_row13_col20\" class=\"data row13 col20\" >-0.517613</td>\n",
              "      <td id=\"T_6cb09_row13_col21\" class=\"data row13 col21\" >-0.336280</td>\n",
              "      <td id=\"T_6cb09_row13_col22\" class=\"data row13 col22\" >-0.426263</td>\n",
              "      <td id=\"T_6cb09_row13_col23\" class=\"data row13 col23\" >-0.416721</td>\n",
              "      <td id=\"T_6cb09_row13_col24\" class=\"data row13 col24\" >-0.423237</td>\n",
              "      <td id=\"T_6cb09_row13_col25\" class=\"data row13 col25\" >-0.419721</td>\n",
              "      <td id=\"T_6cb09_row13_col26\" class=\"data row13 col26\" >-0.221852</td>\n",
              "      <td id=\"T_6cb09_row13_col27\" class=\"data row13 col27\" >0.044764</td>\n",
              "      <td id=\"T_6cb09_row13_col28\" class=\"data row13 col28\" >0.215264</td>\n",
              "      <td id=\"T_6cb09_row13_col29\" class=\"data row13 col29\" >0.311281</td>\n",
              "      <td id=\"T_6cb09_row13_col30\" class=\"data row13 col30\" >-0.311281</td>\n",
              "      <td id=\"T_6cb09_row13_col31\" class=\"data row13 col31\" >0.000708</td>\n",
              "      <td id=\"T_6cb09_row13_col32\" class=\"data row13 col32\" >-0.006599</td>\n",
              "      <td id=\"T_6cb09_row13_col33\" class=\"data row13 col33\" >-0.272103</td>\n",
              "      <td id=\"T_6cb09_row13_col34\" class=\"data row13 col34\" >0.313550</td>\n",
              "    </tr>\n",
              "    <tr>\n",
              "      <th id=\"T_6cb09_level0_row14\" class=\"row_heading level0 row14\" >HasOnlineSecurityService_No</th>\n",
              "      <td id=\"T_6cb09_row14_col0\" class=\"data row14 col0\" >0.180638</td>\n",
              "      <td id=\"T_6cb09_row14_col1\" class=\"data row14 col1\" >-0.006874</td>\n",
              "      <td id=\"T_6cb09_row14_col2\" class=\"data row14 col2\" >0.006874</td>\n",
              "      <td id=\"T_6cb09_row14_col3\" class=\"data row14 col3\" >0.133596</td>\n",
              "      <td id=\"T_6cb09_row14_col4\" class=\"data row14 col4\" >-0.133596</td>\n",
              "      <td id=\"T_6cb09_row14_col5\" class=\"data row14 col5\" >0.198537</td>\n",
              "      <td id=\"T_6cb09_row14_col6\" class=\"data row14 col6\" >-0.198537</td>\n",
              "      <td id=\"T_6cb09_row14_col7\" class=\"data row14 col7\" >0.053796</td>\n",
              "      <td id=\"T_6cb09_row14_col8\" class=\"data row14 col8\" >-0.053796</td>\n",
              "      <td id=\"T_6cb09_row14_col9\" class=\"data row14 col9\" >-0.102147</td>\n",
              "      <td id=\"T_6cb09_row14_col10\" class=\"data row14 col10\" >0.070722</td>\n",
              "      <td id=\"T_6cb09_row14_col11\" class=\"data row14 col11\" >0.015885</td>\n",
              "      <td id=\"T_6cb09_row14_col12\" class=\"data row14 col12\" >0.414943</td>\n",
              "      <td id=\"T_6cb09_row14_col13\" class=\"data row14 col13\" >-0.519184</td>\n",
              "      <td id=\"T_6cb09_row14_col14\" class=\"data row14 col14\" >1.000000</td>\n",
              "      <td id=\"T_6cb09_row14_col15\" class=\"data row14 col15\" >-0.631314</td>\n",
              "      <td id=\"T_6cb09_row14_col16\" class=\"data row14 col16\" >0.381899</td>\n",
              "      <td id=\"T_6cb09_row14_col17\" class=\"data row14 col17\" >0.050617</td>\n",
              "      <td id=\"T_6cb09_row14_col18\" class=\"data row14 col18\" >0.374850</td>\n",
              "      <td id=\"T_6cb09_row14_col19\" class=\"data row14 col19\" >0.058149</td>\n",
              "      <td id=\"T_6cb09_row14_col20\" class=\"data row14 col20\" >0.464516</td>\n",
              "      <td id=\"T_6cb09_row14_col21\" class=\"data row14 col21\" >-0.040901</td>\n",
              "      <td id=\"T_6cb09_row14_col22\" class=\"data row14 col22\" >0.249184</td>\n",
              "      <td id=\"T_6cb09_row14_col23\" class=\"data row14 col23\" >0.188343</td>\n",
              "      <td id=\"T_6cb09_row14_col24\" class=\"data row14 col24\" >0.262652</td>\n",
              "      <td id=\"T_6cb09_row14_col25\" class=\"data row14 col25\" >0.174920</td>\n",
              "      <td id=\"T_6cb09_row14_col26\" class=\"data row14 col26\" >0.409763</td>\n",
              "      <td id=\"T_6cb09_row14_col27\" class=\"data row14 col27\" >-0.124843</td>\n",
              "      <td id=\"T_6cb09_row14_col28\" class=\"data row14 col28\" >-0.357880</td>\n",
              "      <td id=\"T_6cb09_row14_col29\" class=\"data row14 col29\" >-0.263364</td>\n",
              "      <td id=\"T_6cb09_row14_col30\" class=\"data row14 col30\" >0.263364</td>\n",
              "      <td id=\"T_6cb09_row14_col31\" class=\"data row14 col31\" >-0.073323</td>\n",
              "      <td id=\"T_6cb09_row14_col32\" class=\"data row14 col32\" >-0.109635</td>\n",
              "      <td id=\"T_6cb09_row14_col33\" class=\"data row14 col33\" >0.322423</td>\n",
              "      <td id=\"T_6cb09_row14_col34\" class=\"data row14 col34\" >-0.184181</td>\n",
              "    </tr>\n",
              "    <tr>\n",
              "      <th id=\"T_6cb09_level0_row15\" class=\"row_heading level0 row15\" >HasOnlineSecurityService_Yes</th>\n",
              "      <td id=\"T_6cb09_row15_col0\" class=\"data row15 col0\" >-0.035052</td>\n",
              "      <td id=\"T_6cb09_row15_col1\" class=\"data row15 col1\" >0.012985</td>\n",
              "      <td id=\"T_6cb09_row15_col2\" class=\"data row15 col2\" >-0.012985</td>\n",
              "      <td id=\"T_6cb09_row15_col3\" class=\"data row15 col3\" >-0.143668</td>\n",
              "      <td id=\"T_6cb09_row15_col4\" class=\"data row15 col4\" >0.143668</td>\n",
              "      <td id=\"T_6cb09_row15_col5\" class=\"data row15 col5\" >-0.080863</td>\n",
              "      <td id=\"T_6cb09_row15_col6\" class=\"data row15 col6\" >0.080863</td>\n",
              "      <td id=\"T_6cb09_row15_col7\" class=\"data row15 col7\" >0.098260</td>\n",
              "      <td id=\"T_6cb09_row15_col8\" class=\"data row15 col8\" >-0.098260</td>\n",
              "      <td id=\"T_6cb09_row15_col9\" class=\"data row15 col9\" >-0.163730</td>\n",
              "      <td id=\"T_6cb09_row15_col10\" class=\"data row15 col10\" >0.106104</td>\n",
              "      <td id=\"T_6cb09_row15_col11\" class=\"data row15 col11\" >0.324952</td>\n",
              "      <td id=\"T_6cb09_row15_col12\" class=\"data row15 col12\" >-0.032486</td>\n",
              "      <td id=\"T_6cb09_row15_col13\" class=\"data row15 col13\" >-0.335046</td>\n",
              "      <td id=\"T_6cb09_row15_col14\" class=\"data row15 col14\" >-0.631314</td>\n",
              "      <td id=\"T_6cb09_row15_col15\" class=\"data row15 col15\" >1.000000</td>\n",
              "      <td id=\"T_6cb09_row15_col16\" class=\"data row15 col16\" >0.002478</td>\n",
              "      <td id=\"T_6cb09_row15_col17\" class=\"data row15 col17\" >0.287962</td>\n",
              "      <td id=\"T_6cb09_row15_col18\" class=\"data row15 col18\" >0.007815</td>\n",
              "      <td id=\"T_6cb09_row15_col19\" class=\"data row15 col19\" >0.281829</td>\n",
              "      <td id=\"T_6cb09_row15_col20\" class=\"data row15 col20\" >-0.042409</td>\n",
              "      <td id=\"T_6cb09_row15_col21\" class=\"data row15 col21\" >0.350233</td>\n",
              "      <td id=\"T_6cb09_row15_col22\" class=\"data row15 col22\" >0.112088</td>\n",
              "      <td id=\"T_6cb09_row15_col23\" class=\"data row15 col23\" >0.170502</td>\n",
              "      <td id=\"T_6cb09_row15_col24\" class=\"data row15 col24\" >0.094494</td>\n",
              "      <td id=\"T_6cb09_row15_col25\" class=\"data row15 col25\" >0.188022</td>\n",
              "      <td id=\"T_6cb09_row15_col26\" class=\"data row15 col26\" >-0.250423</td>\n",
              "      <td id=\"T_6cb09_row15_col27\" class=\"data row15 col27\" >0.097011</td>\n",
              "      <td id=\"T_6cb09_row15_col28\" class=\"data row15 col28\" >0.199205</td>\n",
              "      <td id=\"T_6cb09_row15_col29\" class=\"data row15 col29\" >0.007880</td>\n",
              "      <td id=\"T_6cb09_row15_col30\" class=\"data row15 col30\" >-0.007880</td>\n",
              "      <td id=\"T_6cb09_row15_col31\" class=\"data row15 col31\" >0.080191</td>\n",
              "      <td id=\"T_6cb09_row15_col32\" class=\"data row15 col32\" >0.126853</td>\n",
              "      <td id=\"T_6cb09_row15_col33\" class=\"data row15 col33\" >-0.108539</td>\n",
              "      <td id=\"T_6cb09_row15_col34\" class=\"data row15 col34\" >-0.081472</td>\n",
              "    </tr>\n",
              "    <tr>\n",
              "      <th id=\"T_6cb09_level0_row16\" class=\"row_heading level0 row16\" >HasOnlineBackup_No</th>\n",
              "      <td id=\"T_6cb09_row16_col0\" class=\"data row16 col0\" >0.084633</td>\n",
              "      <td id=\"T_6cb09_row16_col1\" class=\"data row16 col1\" >-0.002150</td>\n",
              "      <td id=\"T_6cb09_row16_col2\" class=\"data row16 col2\" >0.002150</td>\n",
              "      <td id=\"T_6cb09_row16_col3\" class=\"data row16 col3\" >0.131761</td>\n",
              "      <td id=\"T_6cb09_row16_col4\" class=\"data row16 col4\" >-0.131761</td>\n",
              "      <td id=\"T_6cb09_row16_col5\" class=\"data row16 col5\" >0.141769</td>\n",
              "      <td id=\"T_6cb09_row16_col6\" class=\"data row16 col6\" >-0.141769</td>\n",
              "      <td id=\"T_6cb09_row16_col7\" class=\"data row16 col7\" >0.100987</td>\n",
              "      <td id=\"T_6cb09_row16_col8\" class=\"data row16 col8\" >-0.100987</td>\n",
              "      <td id=\"T_6cb09_row16_col9\" class=\"data row16 col9\" >-0.034054</td>\n",
              "      <td id=\"T_6cb09_row16_col10\" class=\"data row16 col10\" >-0.026503</td>\n",
              "      <td id=\"T_6cb09_row16_col11\" class=\"data row16 col11\" >0.165949</td>\n",
              "      <td id=\"T_6cb09_row16_col12\" class=\"data row16 col12\" >0.228291</td>\n",
              "      <td id=\"T_6cb09_row16_col13\" class=\"data row16 col13\" >-0.466706</td>\n",
              "      <td id=\"T_6cb09_row16_col14\" class=\"data row16 col14\" >0.381899</td>\n",
              "      <td id=\"T_6cb09_row16_col15\" class=\"data row16 col15\" >0.002478</td>\n",
              "      <td id=\"T_6cb09_row16_col16\" class=\"data row16 col16\" >1.000000</td>\n",
              "      <td id=\"T_6cb09_row16_col17\" class=\"data row16 col17\" >-0.641682</td>\n",
              "      <td id=\"T_6cb09_row16_col18\" class=\"data row16 col18\" >0.362687</td>\n",
              "      <td id=\"T_6cb09_row16_col19\" class=\"data row16 col19\" >0.025423</td>\n",
              "      <td id=\"T_6cb09_row16_col20\" class=\"data row16 col20\" >0.381556</td>\n",
              "      <td id=\"T_6cb09_row16_col21\" class=\"data row16 col21\" >0.002867</td>\n",
              "      <td id=\"T_6cb09_row16_col22\" class=\"data row16 col22\" >0.317326</td>\n",
              "      <td id=\"T_6cb09_row16_col23\" class=\"data row16 col23\" >0.075520</td>\n",
              "      <td id=\"T_6cb09_row16_col24\" class=\"data row16 col24\" >0.316196</td>\n",
              "      <td id=\"T_6cb09_row16_col25\" class=\"data row16 col25\" >0.077004</td>\n",
              "      <td id=\"T_6cb09_row16_col26\" class=\"data row16 col26\" >0.347998</td>\n",
              "      <td id=\"T_6cb09_row16_col27\" class=\"data row16 col27\" >-0.120638</td>\n",
              "      <td id=\"T_6cb09_row16_col28\" class=\"data row16 col28\" >-0.290172</td>\n",
              "      <td id=\"T_6cb09_row16_col29\" class=\"data row16 col29\" >-0.136872</td>\n",
              "      <td id=\"T_6cb09_row16_col30\" class=\"data row16 col30\" >0.136872</td>\n",
              "      <td id=\"T_6cb09_row16_col31\" class=\"data row16 col31\" >-0.086319</td>\n",
              "      <td id=\"T_6cb09_row16_col32\" class=\"data row16 col32\" >-0.085767</td>\n",
              "      <td id=\"T_6cb09_row16_col33\" class=\"data row16 col33\" >0.231690</td>\n",
              "      <td id=\"T_6cb09_row16_col34\" class=\"data row16 col34\" >-0.092200</td>\n",
              "    </tr>\n",
              "    <tr>\n",
              "      <th id=\"T_6cb09_level0_row17\" class=\"row_heading level0 row17\" >HasOnlineBackup_Yes</th>\n",
              "      <td id=\"T_6cb09_row17_col0\" class=\"data row17 col0\" >0.068258</td>\n",
              "      <td id=\"T_6cb09_row17_col1\" class=\"data row17 col1\" >0.007417</td>\n",
              "      <td id=\"T_6cb09_row17_col2\" class=\"data row17 col2\" >-0.007417</td>\n",
              "      <td id=\"T_6cb09_row17_col3\" class=\"data row17 col3\" >-0.134424</td>\n",
              "      <td id=\"T_6cb09_row17_col4\" class=\"data row17 col4\" >0.134424</td>\n",
              "      <td id=\"T_6cb09_row17_col5\" class=\"data row17 col5\" >-0.016453</td>\n",
              "      <td id=\"T_6cb09_row17_col6\" class=\"data row17 col6\" >0.016453</td>\n",
              "      <td id=\"T_6cb09_row17_col7\" class=\"data row17 col7\" >0.044911</td>\n",
              "      <td id=\"T_6cb09_row17_col8\" class=\"data row17 col8\" >-0.044911</td>\n",
              "      <td id=\"T_6cb09_row17_col9\" class=\"data row17 col9\" >-0.228463</td>\n",
              "      <td id=\"T_6cb09_row17_col10\" class=\"data row17 col10\" >0.203648</td>\n",
              "      <td id=\"T_6cb09_row17_col11\" class=\"data row17 col11\" >0.153641</td>\n",
              "      <td id=\"T_6cb09_row17_col12\" class=\"data row17 col12\" >0.167245</td>\n",
              "      <td id=\"T_6cb09_row17_col13\" class=\"data row17 col13\" >-0.378841</td>\n",
              "      <td id=\"T_6cb09_row17_col14\" class=\"data row17 col14\" >0.050617</td>\n",
              "      <td id=\"T_6cb09_row17_col15\" class=\"data row17 col15\" >0.287962</td>\n",
              "      <td id=\"T_6cb09_row17_col16\" class=\"data row17 col16\" >-0.641682</td>\n",
              "      <td id=\"T_6cb09_row17_col17\" class=\"data row17 col17\" >1.000000</td>\n",
              "      <td id=\"T_6cb09_row17_col18\" class=\"data row17 col18\" >0.022885</td>\n",
              "      <td id=\"T_6cb09_row17_col19\" class=\"data row17 col19\" >0.304005</td>\n",
              "      <td id=\"T_6cb09_row17_col20\" class=\"data row17 col20\" >0.049613</td>\n",
              "      <td id=\"T_6cb09_row17_col21\" class=\"data row17 col21\" >0.288625</td>\n",
              "      <td id=\"T_6cb09_row17_col22\" class=\"data row17 col22\" >0.037605</td>\n",
              "      <td id=\"T_6cb09_row17_col23\" class=\"data row17 col23\" >0.282359</td>\n",
              "      <td id=\"T_6cb09_row17_col24\" class=\"data row17 col24\" >0.036163</td>\n",
              "      <td id=\"T_6cb09_row17_col25\" class=\"data row17 col25\" >0.283408</td>\n",
              "      <td id=\"T_6cb09_row17_col26\" class=\"data row17 col26\" >-0.171758</td>\n",
              "      <td id=\"T_6cb09_row17_col27\" class=\"data row17 col27\" >0.087418</td>\n",
              "      <td id=\"T_6cb09_row17_col28\" class=\"data row17 col28\" >0.116962</td>\n",
              "      <td id=\"T_6cb09_row17_col29\" class=\"data row17 col29\" >-0.126721</td>\n",
              "      <td id=\"T_6cb09_row17_col30\" class=\"data row17 col30\" >0.126721</td>\n",
              "      <td id=\"T_6cb09_row17_col31\" class=\"data row17 col31\" >0.089711</td>\n",
              "      <td id=\"T_6cb09_row17_col32\" class=\"data row17 col32\" >0.095471</td>\n",
              "      <td id=\"T_6cb09_row17_col33\" class=\"data row17 col33\" >-0.006474</td>\n",
              "      <td id=\"T_6cb09_row17_col34\" class=\"data row17 col34\" >-0.175433</td>\n",
              "    </tr>\n",
              "    <tr>\n",
              "      <th id=\"T_6cb09_level0_row18\" class=\"row_heading level0 row18\" >HasDeviceProtection_No</th>\n",
              "      <td id=\"T_6cb09_row18_col0\" class=\"data row18 col0\" >0.103860</td>\n",
              "      <td id=\"T_6cb09_row18_col1\" class=\"data row18 col1\" >0.002778</td>\n",
              "      <td id=\"T_6cb09_row18_col2\" class=\"data row18 col2\" >-0.002778</td>\n",
              "      <td id=\"T_6cb09_row18_col3\" class=\"data row18 col3\" >0.150691</td>\n",
              "      <td id=\"T_6cb09_row18_col4\" class=\"data row18 col4\" >-0.150691</td>\n",
              "      <td id=\"T_6cb09_row18_col5\" class=\"data row18 col5\" >0.129790</td>\n",
              "      <td id=\"T_6cb09_row18_col6\" class=\"data row18 col6\" >-0.129790</td>\n",
              "      <td id=\"T_6cb09_row18_col7\" class=\"data row18 col7\" >0.079918</td>\n",
              "      <td id=\"T_6cb09_row18_col8\" class=\"data row18 col8\" >-0.079918</td>\n",
              "      <td id=\"T_6cb09_row18_col9\" class=\"data row18 col9\" >-0.021754</td>\n",
              "      <td id=\"T_6cb09_row18_col10\" class=\"data row18 col10\" >-0.026221</td>\n",
              "      <td id=\"T_6cb09_row18_col11\" class=\"data row18 col11\" >0.172593</td>\n",
              "      <td id=\"T_6cb09_row18_col12\" class=\"data row18 col12\" >0.219730</td>\n",
              "      <td id=\"T_6cb09_row18_col13\" class=\"data row18 col13\" >-0.464024</td>\n",
              "      <td id=\"T_6cb09_row18_col14\" class=\"data row18 col14\" >0.374850</td>\n",
              "      <td id=\"T_6cb09_row18_col15\" class=\"data row18 col15\" >0.007815</td>\n",
              "      <td id=\"T_6cb09_row18_col16\" class=\"data row18 col16\" >0.362687</td>\n",
              "      <td id=\"T_6cb09_row18_col17\" class=\"data row18 col17\" >0.022885</td>\n",
              "      <td id=\"T_6cb09_row18_col18\" class=\"data row18 col18\" >1.000000</td>\n",
              "      <td id=\"T_6cb09_row18_col19\" class=\"data row18 col19\" >-0.642023</td>\n",
              "      <td id=\"T_6cb09_row18_col20\" class=\"data row18 col20\" >0.419515</td>\n",
              "      <td id=\"T_6cb09_row18_col21\" class=\"data row18 col21\" >-0.041343</td>\n",
              "      <td id=\"T_6cb09_row18_col22\" class=\"data row18 col22\" >0.421987</td>\n",
              "      <td id=\"T_6cb09_row18_col23\" class=\"data row18 col23\" >-0.031921</td>\n",
              "      <td id=\"T_6cb09_row18_col24\" class=\"data row18 col24\" >0.432684</td>\n",
              "      <td id=\"T_6cb09_row18_col25\" class=\"data row18 col25\" >-0.041957</td>\n",
              "      <td id=\"T_6cb09_row18_col26\" class=\"data row18 col26\" >0.403712</td>\n",
              "      <td id=\"T_6cb09_row18_col27\" class=\"data row18 col27\" >-0.131051</td>\n",
              "      <td id=\"T_6cb09_row18_col28\" class=\"data row18 col28\" >-0.345012</td>\n",
              "      <td id=\"T_6cb09_row18_col29\" class=\"data row18 col29\" >-0.160245</td>\n",
              "      <td id=\"T_6cb09_row18_col30\" class=\"data row18 col30\" >0.160245</td>\n",
              "      <td id=\"T_6cb09_row18_col31\" class=\"data row18 col31\" >-0.073203</td>\n",
              "      <td id=\"T_6cb09_row18_col32\" class=\"data row18 col32\" >-0.110615</td>\n",
              "      <td id=\"T_6cb09_row18_col33\" class=\"data row18 col33\" >0.235134</td>\n",
              "      <td id=\"T_6cb09_row18_col34\" class=\"data row18 col34\" >-0.084610</td>\n",
              "    </tr>\n",
              "    <tr>\n",
              "      <th id=\"T_6cb09_level0_row19\" class=\"row_heading level0 row19\" >HasDeviceProtection_Yes</th>\n",
              "      <td id=\"T_6cb09_row19_col0\" class=\"data row19 col0\" >0.048119</td>\n",
              "      <td id=\"T_6cb09_row19_col1\" class=\"data row19 col1\" >0.002257</td>\n",
              "      <td id=\"T_6cb09_row19_col2\" class=\"data row19 col2\" >-0.002257</td>\n",
              "      <td id=\"T_6cb09_row19_col3\" class=\"data row19 col3\" >-0.153821</td>\n",
              "      <td id=\"T_6cb09_row19_col4\" class=\"data row19 col4\" >0.153821</td>\n",
              "      <td id=\"T_6cb09_row19_col5\" class=\"data row19 col5\" >-0.003817</td>\n",
              "      <td id=\"T_6cb09_row19_col6\" class=\"data row19 col6\" >0.003817</td>\n",
              "      <td id=\"T_6cb09_row19_col7\" class=\"data row19 col7\" >0.066884</td>\n",
              "      <td id=\"T_6cb09_row19_col8\" class=\"data row19 col8\" >-0.066884</td>\n",
              "      <td id=\"T_6cb09_row19_col9\" class=\"data row19 col9\" >-0.240876</td>\n",
              "      <td id=\"T_6cb09_row19_col10\" class=\"data row19 col10\" >0.202934</td>\n",
              "      <td id=\"T_6cb09_row19_col11\" class=\"data row19 col11\" >0.146525</td>\n",
              "      <td id=\"T_6cb09_row19_col12\" class=\"data row19 col12\" >0.176016</td>\n",
              "      <td id=\"T_6cb09_row19_col13\" class=\"data row19 col13\" >-0.381233</td>\n",
              "      <td id=\"T_6cb09_row19_col14\" class=\"data row19 col14\" >0.058149</td>\n",
              "      <td id=\"T_6cb09_row19_col15\" class=\"data row19 col15\" >0.281829</td>\n",
              "      <td id=\"T_6cb09_row19_col16\" class=\"data row19 col16\" >0.025423</td>\n",
              "      <td id=\"T_6cb09_row19_col17\" class=\"data row19 col17\" >0.304005</td>\n",
              "      <td id=\"T_6cb09_row19_col18\" class=\"data row19 col18\" >-0.642023</td>\n",
              "      <td id=\"T_6cb09_row19_col19\" class=\"data row19 col19\" >1.000000</td>\n",
              "      <td id=\"T_6cb09_row19_col20\" class=\"data row19 col20\" >0.010176</td>\n",
              "      <td id=\"T_6cb09_row19_col21\" class=\"data row19 col21\" >0.334200</td>\n",
              "      <td id=\"T_6cb09_row19_col22\" class=\"data row19 col22\" >-0.071468</td>\n",
              "      <td id=\"T_6cb09_row19_col23\" class=\"data row19 col23\" >0.393989</td>\n",
              "      <td id=\"T_6cb09_row19_col24\" class=\"data row19 col24\" >-0.085252</td>\n",
              "      <td id=\"T_6cb09_row19_col25\" class=\"data row19 col25\" >0.407060</td>\n",
              "      <td id=\"T_6cb09_row19_col26\" class=\"data row19 col26\" >-0.229315</td>\n",
              "      <td id=\"T_6cb09_row19_col27\" class=\"data row19 col27\" >0.098027</td>\n",
              "      <td id=\"T_6cb09_row19_col28\" class=\"data row19 col28\" >0.173755</td>\n",
              "      <td id=\"T_6cb09_row19_col29\" class=\"data row19 col29\" >-0.102178</td>\n",
              "      <td id=\"T_6cb09_row19_col30\" class=\"data row19 col30\" >0.102178</td>\n",
              "      <td id=\"T_6cb09_row19_col31\" class=\"data row19 col31\" >0.075785</td>\n",
              "      <td id=\"T_6cb09_row19_col32\" class=\"data row19 col32\" >0.121154</td>\n",
              "      <td id=\"T_6cb09_row19_col33\" class=\"data row19 col33\" >-0.009888</td>\n",
              "      <td id=\"T_6cb09_row19_col34\" class=\"data row19 col34\" >-0.183076</td>\n",
              "    </tr>\n",
              "    <tr>\n",
              "      <th id=\"T_6cb09_level0_row20\" class=\"row_heading level0 row20\" >HasTechSupportAccess_No</th>\n",
              "      <td id=\"T_6cb09_row20_col0\" class=\"data row20 col0\" >0.198516</td>\n",
              "      <td id=\"T_6cb09_row20_col1\" class=\"data row20 col1\" >-0.009920</td>\n",
              "      <td id=\"T_6cb09_row20_col2\" class=\"data row20 col2\" >0.009920</td>\n",
              "      <td id=\"T_6cb09_row20_col3\" class=\"data row20 col3\" >0.113977</td>\n",
              "      <td id=\"T_6cb09_row20_col4\" class=\"data row20 col4\" >-0.113977</td>\n",
              "      <td id=\"T_6cb09_row20_col5\" class=\"data row20 col5\" >0.177608</td>\n",
              "      <td id=\"T_6cb09_row20_col6\" class=\"data row20 col6\" >-0.177608</td>\n",
              "      <td id=\"T_6cb09_row20_col7\" class=\"data row20 col7\" >0.048450</td>\n",
              "      <td id=\"T_6cb09_row20_col8\" class=\"data row20 col8\" >-0.048450</td>\n",
              "      <td id=\"T_6cb09_row20_col9\" class=\"data row20 col9\" >-0.112158</td>\n",
              "      <td id=\"T_6cb09_row20_col10\" class=\"data row20 col10\" >0.084055</td>\n",
              "      <td id=\"T_6cb09_row20_col11\" class=\"data row20 col11\" >0.019661</td>\n",
              "      <td id=\"T_6cb09_row20_col12\" class=\"data row20 col12\" >0.410039</td>\n",
              "      <td id=\"T_6cb09_row20_col13\" class=\"data row20 col13\" >-0.517613</td>\n",
              "      <td id=\"T_6cb09_row20_col14\" class=\"data row20 col14\" >0.464516</td>\n",
              "      <td id=\"T_6cb09_row20_col15\" class=\"data row20 col15\" >-0.042409</td>\n",
              "      <td id=\"T_6cb09_row20_col16\" class=\"data row20 col16\" >0.381556</td>\n",
              "      <td id=\"T_6cb09_row20_col17\" class=\"data row20 col17\" >0.049613</td>\n",
              "      <td id=\"T_6cb09_row20_col18\" class=\"data row20 col18\" >0.419515</td>\n",
              "      <td id=\"T_6cb09_row20_col19\" class=\"data row20 col19\" >0.010176</td>\n",
              "      <td id=\"T_6cb09_row20_col20\" class=\"data row20 col20\" >1.000000</td>\n",
              "      <td id=\"T_6cb09_row20_col21\" class=\"data row20 col21\" >-0.631722</td>\n",
              "      <td id=\"T_6cb09_row20_col22\" class=\"data row20 col22\" >0.346061</td>\n",
              "      <td id=\"T_6cb09_row20_col23\" class=\"data row20 col23\" >0.089664</td>\n",
              "      <td id=\"T_6cb09_row20_col24\" class=\"data row20 col24\" >0.351128</td>\n",
              "      <td id=\"T_6cb09_row20_col25\" class=\"data row20 col25\" >0.084960</td>\n",
              "      <td id=\"T_6cb09_row20_col26\" class=\"data row20 col26\" >0.448182</td>\n",
              "      <td id=\"T_6cb09_row20_col27\" class=\"data row20 col27\" >-0.130816</td>\n",
              "      <td id=\"T_6cb09_row20_col28\" class=\"data row20 col28\" >-0.396833</td>\n",
              "      <td id=\"T_6cb09_row20_col29\" class=\"data row20 col29\" >-0.225381</td>\n",
              "      <td id=\"T_6cb09_row20_col30\" class=\"data row20 col30\" >0.225381</td>\n",
              "      <td id=\"T_6cb09_row20_col31\" class=\"data row20 col31\" >-0.091850</td>\n",
              "      <td id=\"T_6cb09_row20_col32\" class=\"data row20 col32\" >-0.100691</td>\n",
              "      <td id=\"T_6cb09_row20_col33\" class=\"data row20 col33\" >0.324600</td>\n",
              "      <td id=\"T_6cb09_row20_col34\" class=\"data row20 col34\" >-0.177119</td>\n",
              "    </tr>\n",
              "    <tr>\n",
              "      <th id=\"T_6cb09_level0_row21\" class=\"row_heading level0 row21\" >HasTechSupportAccess_Yes</th>\n",
              "      <td id=\"T_6cb09_row21_col0\" class=\"data row21 col0\" >-0.054669</td>\n",
              "      <td id=\"T_6cb09_row21_col1\" class=\"data row21 col1\" >0.016317</td>\n",
              "      <td id=\"T_6cb09_row21_col2\" class=\"data row21 col2\" >-0.016317</td>\n",
              "      <td id=\"T_6cb09_row21_col3\" class=\"data row21 col3\" >-0.121847</td>\n",
              "      <td id=\"T_6cb09_row21_col4\" class=\"data row21 col4\" >0.121847</td>\n",
              "      <td id=\"T_6cb09_row21_col5\" class=\"data row21 col5\" >-0.057694</td>\n",
              "      <td id=\"T_6cb09_row21_col6\" class=\"data row21 col6\" >0.057694</td>\n",
              "      <td id=\"T_6cb09_row21_col7\" class=\"data row21 col7\" >0.103995</td>\n",
              "      <td id=\"T_6cb09_row21_col8\" class=\"data row21 col8\" >-0.103995</td>\n",
              "      <td id=\"T_6cb09_row21_col9\" class=\"data row21 col9\" >-0.152463</td>\n",
              "      <td id=\"T_6cb09_row21_col10\" class=\"data row21 col10\" >0.091267</td>\n",
              "      <td id=\"T_6cb09_row21_col11\" class=\"data row21 col11\" >0.320295</td>\n",
              "      <td id=\"T_6cb09_row21_col12\" class=\"data row21 col12\" >-0.027020</td>\n",
              "      <td id=\"T_6cb09_row21_col13\" class=\"data row21 col13\" >-0.336280</td>\n",
              "      <td id=\"T_6cb09_row21_col14\" class=\"data row21 col14\" >-0.040901</td>\n",
              "      <td id=\"T_6cb09_row21_col15\" class=\"data row21 col15\" >0.350233</td>\n",
              "      <td id=\"T_6cb09_row21_col16\" class=\"data row21 col16\" >0.002867</td>\n",
              "      <td id=\"T_6cb09_row21_col17\" class=\"data row21 col17\" >0.288625</td>\n",
              "      <td id=\"T_6cb09_row21_col18\" class=\"data row21 col18\" >-0.041343</td>\n",
              "      <td id=\"T_6cb09_row21_col19\" class=\"data row21 col19\" >0.334200</td>\n",
              "      <td id=\"T_6cb09_row21_col20\" class=\"data row21 col20\" >-0.631722</td>\n",
              "      <td id=\"T_6cb09_row21_col21\" class=\"data row21 col21\" >1.000000</td>\n",
              "      <td id=\"T_6cb09_row21_col22\" class=\"data row21 col22\" >0.005294</td>\n",
              "      <td id=\"T_6cb09_row21_col23\" class=\"data row21 col23\" >0.278862</td>\n",
              "      <td id=\"T_6cb09_row21_col24\" class=\"data row21 col24\" >-0.003025</td>\n",
              "      <td id=\"T_6cb09_row21_col25\" class=\"data row21 col25\" >0.286757</td>\n",
              "      <td id=\"T_6cb09_row21_col26\" class=\"data row21 col26\" >-0.292306</td>\n",
              "      <td id=\"T_6cb09_row21_col27\" class=\"data row21 col27\" >0.103431</td>\n",
              "      <td id=\"T_6cb09_row21_col28\" class=\"data row21 col28\" >0.241757</td>\n",
              "      <td id=\"T_6cb09_row21_col29\" class=\"data row21 col29\" >-0.033950</td>\n",
              "      <td id=\"T_6cb09_row21_col30\" class=\"data row21 col30\" >0.033950</td>\n",
              "      <td id=\"T_6cb09_row21_col31\" class=\"data row21 col31\" >0.100456</td>\n",
              "      <td id=\"T_6cb09_row21_col32\" class=\"data row21 col32\" >0.116808</td>\n",
              "      <td id=\"T_6cb09_row21_col33\" class=\"data row21 col33\" >-0.110755</td>\n",
              "      <td id=\"T_6cb09_row21_col34\" class=\"data row21 col34\" >-0.089127</td>\n",
              "    </tr>\n",
              "    <tr>\n",
              "      <th id=\"T_6cb09_level0_row22\" class=\"row_heading level0 row22\" >HasOnlineTV_No</th>\n",
              "      <td id=\"T_6cb09_row22_col0\" class=\"data row22 col0\" >0.047982</td>\n",
              "      <td id=\"T_6cb09_row22_col1\" class=\"data row22 col1\" >-0.010010</td>\n",
              "      <td id=\"T_6cb09_row22_col2\" class=\"data row22 col2\" >0.010010</td>\n",
              "      <td id=\"T_6cb09_row22_col3\" class=\"data row22 col3\" >0.120020</td>\n",
              "      <td id=\"T_6cb09_row22_col4\" class=\"data row22 col4\" >-0.120020</td>\n",
              "      <td id=\"T_6cb09_row22_col5\" class=\"data row22 col5\" >0.104460</td>\n",
              "      <td id=\"T_6cb09_row22_col6\" class=\"data row22 col6\" >-0.104460</td>\n",
              "      <td id=\"T_6cb09_row22_col7\" class=\"data row22 col7\" >0.121914</td>\n",
              "      <td id=\"T_6cb09_row22_col8\" class=\"data row22 col8\" >-0.121914</td>\n",
              "      <td id=\"T_6cb09_row22_col9\" class=\"data row22 col9\" >0.007871</td>\n",
              "      <td id=\"T_6cb09_row22_col10\" class=\"data row22 col10\" >-0.081463</td>\n",
              "      <td id=\"T_6cb09_row22_col11\" class=\"data row22 col11\" >0.313197</td>\n",
              "      <td id=\"T_6cb09_row22_col12\" class=\"data row22 col12\" >0.054295</td>\n",
              "      <td id=\"T_6cb09_row22_col13\" class=\"data row22 col13\" >-0.426263</td>\n",
              "      <td id=\"T_6cb09_row22_col14\" class=\"data row22 col14\" >0.249184</td>\n",
              "      <td id=\"T_6cb09_row22_col15\" class=\"data row22 col15\" >0.112088</td>\n",
              "      <td id=\"T_6cb09_row22_col16\" class=\"data row22 col16\" >0.317326</td>\n",
              "      <td id=\"T_6cb09_row22_col17\" class=\"data row22 col17\" >0.037605</td>\n",
              "      <td id=\"T_6cb09_row22_col18\" class=\"data row22 col18\" >0.421987</td>\n",
              "      <td id=\"T_6cb09_row22_col19\" class=\"data row22 col19\" >-0.071468</td>\n",
              "      <td id=\"T_6cb09_row22_col20\" class=\"data row22 col20\" >0.346061</td>\n",
              "      <td id=\"T_6cb09_row22_col21\" class=\"data row22 col21\" >0.005294</td>\n",
              "      <td id=\"T_6cb09_row22_col22\" class=\"data row22 col22\" >1.000000</td>\n",
              "      <td id=\"T_6cb09_row22_col23\" class=\"data row22 col23\" >-0.644679</td>\n",
              "      <td id=\"T_6cb09_row22_col24\" class=\"data row22 col24\" >0.548721</td>\n",
              "      <td id=\"T_6cb09_row22_col25\" class=\"data row22 col25\" >-0.190063</td>\n",
              "      <td id=\"T_6cb09_row22_col26\" class=\"data row22 col26\" >0.288391</td>\n",
              "      <td id=\"T_6cb09_row22_col27\" class=\"data row22 col27\" >-0.087206</td>\n",
              "      <td id=\"T_6cb09_row22_col28\" class=\"data row22 col28\" >-0.252496</td>\n",
              "      <td id=\"T_6cb09_row22_col29\" class=\"data row22 col29\" >-0.035498</td>\n",
              "      <td id=\"T_6cb09_row22_col30\" class=\"data row22 col30\" >0.035498</td>\n",
              "      <td id=\"T_6cb09_row22_col31\" class=\"data row22 col31\" >-0.049145</td>\n",
              "      <td id=\"T_6cb09_row22_col32\" class=\"data row22 col32\" >-0.038721</td>\n",
              "      <td id=\"T_6cb09_row22_col33\" class=\"data row22 col33\" >0.092629</td>\n",
              "      <td id=\"T_6cb09_row22_col34\" class=\"data row22 col34\" >-0.018018</td>\n",
              "    </tr>\n",
              "    <tr>\n",
              "      <th id=\"T_6cb09_level0_row23\" class=\"row_heading level0 row23\" >HasOnlineTV_Yes</th>\n",
              "      <td id=\"T_6cb09_row23_col0\" class=\"data row23 col0\" >0.104599</td>\n",
              "      <td id=\"T_6cb09_row23_col1\" class=\"data row23 col1\" >0.015094</td>\n",
              "      <td id=\"T_6cb09_row23_col2\" class=\"data row23 col2\" >-0.015094</td>\n",
              "      <td id=\"T_6cb09_row23_col3\" class=\"data row23 col3\" >-0.117244</td>\n",
              "      <td id=\"T_6cb09_row23_col4\" class=\"data row23 col4\" >0.117244</td>\n",
              "      <td id=\"T_6cb09_row23_col5\" class=\"data row23 col5\" >0.023557</td>\n",
              "      <td id=\"T_6cb09_row23_col6\" class=\"data row23 col6\" >-0.023557</td>\n",
              "      <td id=\"T_6cb09_row23_col7\" class=\"data row23 col7\" >0.024230</td>\n",
              "      <td id=\"T_6cb09_row23_col8\" class=\"data row23 col8\" >-0.024230</td>\n",
              "      <td id=\"T_6cb09_row23_col9\" class=\"data row23 col9\" >-0.265267</td>\n",
              "      <td id=\"T_6cb09_row23_col10\" class=\"data row23 col10\" >0.253287</td>\n",
              "      <td id=\"T_6cb09_row23_col11\" class=\"data row23 col11\" >0.004206</td>\n",
              "      <td id=\"T_6cb09_row23_col12\" class=\"data row23 col12\" >0.341205</td>\n",
              "      <td id=\"T_6cb09_row23_col13\" class=\"data row23 col13\" >-0.416721</td>\n",
              "      <td id=\"T_6cb09_row23_col14\" class=\"data row23 col14\" >0.188343</td>\n",
              "      <td id=\"T_6cb09_row23_col15\" class=\"data row23 col15\" >0.170502</td>\n",
              "      <td id=\"T_6cb09_row23_col16\" class=\"data row23 col16\" >0.075520</td>\n",
              "      <td id=\"T_6cb09_row23_col17\" class=\"data row23 col17\" >0.282359</td>\n",
              "      <td id=\"T_6cb09_row23_col18\" class=\"data row23 col18\" >-0.031921</td>\n",
              "      <td id=\"T_6cb09_row23_col19\" class=\"data row23 col19\" >0.393989</td>\n",
              "      <td id=\"T_6cb09_row23_col20\" class=\"data row23 col20\" >0.089664</td>\n",
              "      <td id=\"T_6cb09_row23_col21\" class=\"data row23 col21\" >0.278862</td>\n",
              "      <td id=\"T_6cb09_row23_col22\" class=\"data row23 col22\" >-0.644679</td>\n",
              "      <td id=\"T_6cb09_row23_col23\" class=\"data row23 col23\" >1.000000</td>\n",
              "      <td id=\"T_6cb09_row23_col24\" class=\"data row23 col24\" >-0.193744</td>\n",
              "      <td id=\"T_6cb09_row23_col25\" class=\"data row23 col25\" >0.545690</td>\n",
              "      <td id=\"T_6cb09_row23_col26\" class=\"data row23 col26\" >-0.102323</td>\n",
              "      <td id=\"T_6cb09_row23_col27\" class=\"data row23 col27\" >0.049805</td>\n",
              "      <td id=\"T_6cb09_row23_col28\" class=\"data row23 col28\" >0.071820</td>\n",
              "      <td id=\"T_6cb09_row23_col29\" class=\"data row23 col29\" >-0.227384</td>\n",
              "      <td id=\"T_6cb09_row23_col30\" class=\"data row23 col30\" >0.227384</td>\n",
              "      <td id=\"T_6cb09_row23_col31\" class=\"data row23 col31\" >0.048788</td>\n",
              "      <td id=\"T_6cb09_row23_col32\" class=\"data row23 col32\" >0.044488</td>\n",
              "      <td id=\"T_6cb09_row23_col33\" class=\"data row23 col33\" >0.136864</td>\n",
              "      <td id=\"T_6cb09_row23_col34\" class=\"data row23 col34\" >-0.246866</td>\n",
              "    </tr>\n",
              "    <tr>\n",
              "      <th id=\"T_6cb09_level0_row24\" class=\"row_heading level0 row24\" >HasMovieSubscription_No</th>\n",
              "      <td id=\"T_6cb09_row24_col0\" class=\"data row24 col0\" >0.028863</td>\n",
              "      <td id=\"T_6cb09_row24_col1\" class=\"data row24 col1\" >-0.003862</td>\n",
              "      <td id=\"T_6cb09_row24_col2\" class=\"data row24 col2\" >0.003862</td>\n",
              "      <td id=\"T_6cb09_row24_col3\" class=\"data row24 col3\" >0.121143</td>\n",
              "      <td id=\"T_6cb09_row24_col4\" class=\"data row24 col4\" >-0.121143</td>\n",
              "      <td id=\"T_6cb09_row24_col5\" class=\"data row24 col5\" >0.093267</td>\n",
              "      <td id=\"T_6cb09_row24_col6\" class=\"data row24 col6\" >-0.093267</td>\n",
              "      <td id=\"T_6cb09_row24_col7\" class=\"data row24 col7\" >0.120504</td>\n",
              "      <td id=\"T_6cb09_row24_col8\" class=\"data row24 col8\" >-0.120504</td>\n",
              "      <td id=\"T_6cb09_row24_col9\" class=\"data row24 col9\" >0.011418</td>\n",
              "      <td id=\"T_6cb09_row24_col10\" class=\"data row24 col10\" >-0.084195</td>\n",
              "      <td id=\"T_6cb09_row24_col11\" class=\"data row24 col11\" >0.294971</td>\n",
              "      <td id=\"T_6cb09_row24_col12\" class=\"data row24 col12\" >0.069178</td>\n",
              "      <td id=\"T_6cb09_row24_col13\" class=\"data row24 col13\" >-0.423237</td>\n",
              "      <td id=\"T_6cb09_row24_col14\" class=\"data row24 col14\" >0.262652</td>\n",
              "      <td id=\"T_6cb09_row24_col15\" class=\"data row24 col15\" >0.094494</td>\n",
              "      <td id=\"T_6cb09_row24_col16\" class=\"data row24 col16\" >0.316196</td>\n",
              "      <td id=\"T_6cb09_row24_col17\" class=\"data row24 col17\" >0.036163</td>\n",
              "      <td id=\"T_6cb09_row24_col18\" class=\"data row24 col18\" >0.432684</td>\n",
              "      <td id=\"T_6cb09_row24_col19\" class=\"data row24 col19\" >-0.085252</td>\n",
              "      <td id=\"T_6cb09_row24_col20\" class=\"data row24 col20\" >0.351128</td>\n",
              "      <td id=\"T_6cb09_row24_col21\" class=\"data row24 col21\" >-0.003025</td>\n",
              "      <td id=\"T_6cb09_row24_col22\" class=\"data row24 col22\" >0.548721</td>\n",
              "      <td id=\"T_6cb09_row24_col23\" class=\"data row24 col23\" >-0.193744</td>\n",
              "      <td id=\"T_6cb09_row24_col24\" class=\"data row24 col24\" >1.000000</td>\n",
              "      <td id=\"T_6cb09_row24_col25\" class=\"data row24 col25\" >-0.644709</td>\n",
              "      <td id=\"T_6cb09_row24_col26\" class=\"data row24 col26\" >0.302029</td>\n",
              "      <td id=\"T_6cb09_row24_col27\" class=\"data row24 col27\" >-0.094357</td>\n",
              "      <td id=\"T_6cb09_row24_col28\" class=\"data row24 col28\" >-0.261586</td>\n",
              "      <td id=\"T_6cb09_row24_col29\" class=\"data row24 col29\" >-0.062183</td>\n",
              "      <td id=\"T_6cb09_row24_col30\" class=\"data row24 col30\" >0.062183</td>\n",
              "      <td id=\"T_6cb09_row24_col31\" class=\"data row24 col31\" >-0.034286</td>\n",
              "      <td id=\"T_6cb09_row24_col32\" class=\"data row24 col32\" >-0.051109</td>\n",
              "      <td id=\"T_6cb09_row24_col33\" class=\"data row24 col33\" >0.089562</td>\n",
              "      <td id=\"T_6cb09_row24_col34\" class=\"data row24 col34\" >-0.017055</td>\n",
              "    </tr>\n",
              "    <tr>\n",
              "      <th id=\"T_6cb09_level0_row25\" class=\"row_heading level0 row25\" >HasMovieSubscription_Yes</th>\n",
              "      <td id=\"T_6cb09_row25_col0\" class=\"data row25 col0\" >0.123656</td>\n",
              "      <td id=\"T_6cb09_row25_col1\" class=\"data row25 col1\" >0.008897</td>\n",
              "      <td id=\"T_6cb09_row25_col2\" class=\"data row25 col2\" >-0.008897</td>\n",
              "      <td id=\"T_6cb09_row25_col3\" class=\"data row25 col3\" >-0.118002</td>\n",
              "      <td id=\"T_6cb09_row25_col4\" class=\"data row25 col4\" >0.118002</td>\n",
              "      <td id=\"T_6cb09_row25_col5\" class=\"data row25 col5\" >0.034888</td>\n",
              "      <td id=\"T_6cb09_row25_col6\" class=\"data row25 col6\" >-0.034888</td>\n",
              "      <td id=\"T_6cb09_row25_col7\" class=\"data row25 col7\" >0.025785</td>\n",
              "      <td id=\"T_6cb09_row25_col8\" class=\"data row25 col8\" >-0.025785</td>\n",
              "      <td id=\"T_6cb09_row25_col9\" class=\"data row25 col9\" >-0.268384</td>\n",
              "      <td id=\"T_6cb09_row25_col10\" class=\"data row25 col10\" >0.255497</td>\n",
              "      <td id=\"T_6cb09_row25_col11\" class=\"data row25 col11\" >0.022925</td>\n",
              "      <td id=\"T_6cb09_row25_col12\" class=\"data row25 col12\" >0.325830</td>\n",
              "      <td id=\"T_6cb09_row25_col13\" class=\"data row25 col13\" >-0.419721</td>\n",
              "      <td id=\"T_6cb09_row25_col14\" class=\"data row25 col14\" >0.174920</td>\n",
              "      <td id=\"T_6cb09_row25_col15\" class=\"data row25 col15\" >0.188022</td>\n",
              "      <td id=\"T_6cb09_row25_col16\" class=\"data row25 col16\" >0.077004</td>\n",
              "      <td id=\"T_6cb09_row25_col17\" class=\"data row25 col17\" >0.283408</td>\n",
              "      <td id=\"T_6cb09_row25_col18\" class=\"data row25 col18\" >-0.041957</td>\n",
              "      <td id=\"T_6cb09_row25_col19\" class=\"data row25 col19\" >0.407060</td>\n",
              "      <td id=\"T_6cb09_row25_col20\" class=\"data row25 col20\" >0.084960</td>\n",
              "      <td id=\"T_6cb09_row25_col21\" class=\"data row25 col21\" >0.286757</td>\n",
              "      <td id=\"T_6cb09_row25_col22\" class=\"data row25 col22\" >-0.190063</td>\n",
              "      <td id=\"T_6cb09_row25_col23\" class=\"data row25 col23\" >0.545690</td>\n",
              "      <td id=\"T_6cb09_row25_col24\" class=\"data row25 col24\" >-0.644709</td>\n",
              "      <td id=\"T_6cb09_row25_col25\" class=\"data row25 col25\" >1.000000</td>\n",
              "      <td id=\"T_6cb09_row25_col26\" class=\"data row25 col26\" >-0.115392</td>\n",
              "      <td id=\"T_6cb09_row25_col27\" class=\"data row25 col27\" >0.056759</td>\n",
              "      <td id=\"T_6cb09_row25_col28\" class=\"data row25 col28\" >0.080435</td>\n",
              "      <td id=\"T_6cb09_row25_col29\" class=\"data row25 col29\" >-0.200340</td>\n",
              "      <td id=\"T_6cb09_row25_col30\" class=\"data row25 col30\" >0.200340</td>\n",
              "      <td id=\"T_6cb09_row25_col31\" class=\"data row25 col31\" >0.033751</td>\n",
              "      <td id=\"T_6cb09_row25_col32\" class=\"data row25 col32\" >0.056769</td>\n",
              "      <td id=\"T_6cb09_row25_col33\" class=\"data row25 col33\" >0.139856</td>\n",
              "      <td id=\"T_6cb09_row25_col34\" class=\"data row25 col34\" >-0.247463</td>\n",
              "    </tr>\n",
              "    <tr>\n",
              "      <th id=\"T_6cb09_level0_row26\" class=\"row_heading level0 row26\" >HasContractPhone_Month-to-month</th>\n",
              "      <td id=\"T_6cb09_row26_col0\" class=\"data row26 col0\" >0.143054</td>\n",
              "      <td id=\"T_6cb09_row26_col1\" class=\"data row26 col1\" >-0.000198</td>\n",
              "      <td id=\"T_6cb09_row26_col2\" class=\"data row26 col2\" >0.000198</td>\n",
              "      <td id=\"T_6cb09_row26_col3\" class=\"data row26 col3\" >0.276996</td>\n",
              "      <td id=\"T_6cb09_row26_col4\" class=\"data row26 col4\" >-0.276996</td>\n",
              "      <td id=\"T_6cb09_row26_col5\" class=\"data row26 col5\" >0.228322</td>\n",
              "      <td id=\"T_6cb09_row26_col6\" class=\"data row26 col6\" >-0.228322</td>\n",
              "      <td id=\"T_6cb09_row26_col7\" class=\"data row26 col7\" >0.005083</td>\n",
              "      <td id=\"T_6cb09_row26_col8\" class=\"data row26 col8\" >-0.005083</td>\n",
              "      <td id=\"T_6cb09_row26_col9\" class=\"data row26 col9\" >0.089108</td>\n",
              "      <td id=\"T_6cb09_row26_col10\" class=\"data row26 col10\" >-0.093057</td>\n",
              "      <td id=\"T_6cb09_row26_col11\" class=\"data row26 col11\" >-0.061922</td>\n",
              "      <td id=\"T_6cb09_row26_col12\" class=\"data row26 col12\" >0.242866</td>\n",
              "      <td id=\"T_6cb09_row26_col13\" class=\"data row26 col13\" >-0.221852</td>\n",
              "      <td id=\"T_6cb09_row26_col14\" class=\"data row26 col14\" >0.409763</td>\n",
              "      <td id=\"T_6cb09_row26_col15\" class=\"data row26 col15\" >-0.250423</td>\n",
              "      <td id=\"T_6cb09_row26_col16\" class=\"data row26 col16\" >0.347998</td>\n",
              "      <td id=\"T_6cb09_row26_col17\" class=\"data row26 col17\" >-0.171758</td>\n",
              "      <td id=\"T_6cb09_row26_col18\" class=\"data row26 col18\" >0.403712</td>\n",
              "      <td id=\"T_6cb09_row26_col19\" class=\"data row26 col19\" >-0.229315</td>\n",
              "      <td id=\"T_6cb09_row26_col20\" class=\"data row26 col20\" >0.448182</td>\n",
              "      <td id=\"T_6cb09_row26_col21\" class=\"data row26 col21\" >-0.292306</td>\n",
              "      <td id=\"T_6cb09_row26_col22\" class=\"data row26 col22\" >0.288391</td>\n",
              "      <td id=\"T_6cb09_row26_col23\" class=\"data row26 col23\" >-0.102323</td>\n",
              "      <td id=\"T_6cb09_row26_col24\" class=\"data row26 col24\" >0.302029</td>\n",
              "      <td id=\"T_6cb09_row26_col25\" class=\"data row26 col25\" >-0.115392</td>\n",
              "      <td id=\"T_6cb09_row26_col26\" class=\"data row26 col26\" >1.000000</td>\n",
              "      <td id=\"T_6cb09_row26_col27\" class=\"data row26 col27\" >-0.564340</td>\n",
              "      <td id=\"T_6cb09_row26_col28\" class=\"data row26 col28\" >-0.628808</td>\n",
              "      <td id=\"T_6cb09_row26_col29\" class=\"data row26 col29\" >-0.163515</td>\n",
              "      <td id=\"T_6cb09_row26_col30\" class=\"data row26 col30\" >0.163515</td>\n",
              "      <td id=\"T_6cb09_row26_col31\" class=\"data row26 col31\" >-0.177314</td>\n",
              "      <td id=\"T_6cb09_row26_col32\" class=\"data row26 col32\" >-0.203316</td>\n",
              "      <td id=\"T_6cb09_row26_col33\" class=\"data row26 col33\" >0.332151</td>\n",
              "      <td id=\"T_6cb09_row26_col34\" class=\"data row26 col34\" >-0.000062</td>\n",
              "    </tr>\n",
              "    <tr>\n",
              "      <th id=\"T_6cb09_level0_row27\" class=\"row_heading level0 row27\" >HasContractPhone_One year</th>\n",
              "      <td id=\"T_6cb09_row27_col0\" class=\"data row27 col0\" >-0.051876</td>\n",
              "      <td id=\"T_6cb09_row27_col1\" class=\"data row27 col1\" >-0.012321</td>\n",
              "      <td id=\"T_6cb09_row27_col2\" class=\"data row27 col2\" >0.012321</td>\n",
              "      <td id=\"T_6cb09_row27_col3\" class=\"data row27 col3\" >-0.076119</td>\n",
              "      <td id=\"T_6cb09_row27_col4\" class=\"data row27 col4\" >0.076119</td>\n",
              "      <td id=\"T_6cb09_row27_col5\" class=\"data row27 col5\" >-0.069361</td>\n",
              "      <td id=\"T_6cb09_row27_col6\" class=\"data row27 col6\" >0.069361</td>\n",
              "      <td id=\"T_6cb09_row27_col7\" class=\"data row27 col7\" >-0.002714</td>\n",
              "      <td id=\"T_6cb09_row27_col8\" class=\"data row27 col8\" >0.002714</td>\n",
              "      <td id=\"T_6cb09_row27_col9\" class=\"data row27 col9\" >0.005288</td>\n",
              "      <td id=\"T_6cb09_row27_col10\" class=\"data row27 col10\" >-0.003704</td>\n",
              "      <td id=\"T_6cb09_row27_col11\" class=\"data row27 col11\" >0.038872</td>\n",
              "      <td id=\"T_6cb09_row27_col12\" class=\"data row27 col12\" >-0.074171</td>\n",
              "      <td id=\"T_6cb09_row27_col13\" class=\"data row27 col13\" >0.044764</td>\n",
              "      <td id=\"T_6cb09_row27_col14\" class=\"data row27 col14\" >-0.124843</td>\n",
              "      <td id=\"T_6cb09_row27_col15\" class=\"data row27 col15\" >0.097011</td>\n",
              "      <td id=\"T_6cb09_row27_col16\" class=\"data row27 col16\" >-0.120638</td>\n",
              "      <td id=\"T_6cb09_row27_col17\" class=\"data row27 col17\" >0.087418</td>\n",
              "      <td id=\"T_6cb09_row27_col18\" class=\"data row27 col18\" >-0.131051</td>\n",
              "      <td id=\"T_6cb09_row27_col19\" class=\"data row27 col19\" >0.098027</td>\n",
              "      <td id=\"T_6cb09_row27_col20\" class=\"data row27 col20\" >-0.130816</td>\n",
              "      <td id=\"T_6cb09_row27_col21\" class=\"data row27 col21\" >0.103431</td>\n",
              "      <td id=\"T_6cb09_row27_col22\" class=\"data row27 col22\" >-0.087206</td>\n",
              "      <td id=\"T_6cb09_row27_col23\" class=\"data row27 col23\" >0.049805</td>\n",
              "      <td id=\"T_6cb09_row27_col24\" class=\"data row27 col24\" >-0.094357</td>\n",
              "      <td id=\"T_6cb09_row27_col25\" class=\"data row27 col25\" >0.056759</td>\n",
              "      <td id=\"T_6cb09_row27_col26\" class=\"data row27 col26\" >-0.564340</td>\n",
              "      <td id=\"T_6cb09_row27_col27\" class=\"data row27 col27\" >1.000000</td>\n",
              "      <td id=\"T_6cb09_row27_col28\" class=\"data row27 col28\" >-0.287049</td>\n",
              "      <td id=\"T_6cb09_row27_col29\" class=\"data row27 col29\" >0.048618</td>\n",
              "      <td id=\"T_6cb09_row27_col30\" class=\"data row27 col30\" >-0.048618</td>\n",
              "      <td id=\"T_6cb09_row27_col31\" class=\"data row27 col31\" >0.061868</td>\n",
              "      <td id=\"T_6cb09_row27_col32\" class=\"data row27 col32\" >0.068191</td>\n",
              "      <td id=\"T_6cb09_row27_col33\" class=\"data row27 col33\" >-0.112899</td>\n",
              "      <td id=\"T_6cb09_row27_col34\" class=\"data row27 col34\" >-0.000658</td>\n",
              "    </tr>\n",
              "    <tr>\n",
              "      <th id=\"T_6cb09_level0_row28\" class=\"row_heading level0 row28\" >HasContractPhone_Two year</th>\n",
              "      <td id=\"T_6cb09_row28_col0\" class=\"data row28 col0\" >-0.117132</td>\n",
              "      <td id=\"T_6cb09_row28_col1\" class=\"data row28 col1\" >0.011835</td>\n",
              "      <td id=\"T_6cb09_row28_col2\" class=\"data row28 col2\" >-0.011835</td>\n",
              "      <td id=\"T_6cb09_row28_col3\" class=\"data row28 col3\" >-0.249716</td>\n",
              "      <td id=\"T_6cb09_row28_col4\" class=\"data row28 col4\" >0.249716</td>\n",
              "      <td id=\"T_6cb09_row28_col5\" class=\"data row28 col5\" >-0.199604</td>\n",
              "      <td id=\"T_6cb09_row28_col6\" class=\"data row28 col6\" >0.199604</td>\n",
              "      <td id=\"T_6cb09_row28_col7\" class=\"data row28 col7\" >-0.003342</td>\n",
              "      <td id=\"T_6cb09_row28_col8\" class=\"data row28 col8\" >0.003342</td>\n",
              "      <td id=\"T_6cb09_row28_col9\" class=\"data row28 col9\" >-0.108377</td>\n",
              "      <td id=\"T_6cb09_row28_col10\" class=\"data row28 col10\" >0.111467</td>\n",
              "      <td id=\"T_6cb09_row28_col11\" class=\"data row28 col11\" >0.035238</td>\n",
              "      <td id=\"T_6cb09_row28_col12\" class=\"data row28 col12\" >-0.211949</td>\n",
              "      <td id=\"T_6cb09_row28_col13\" class=\"data row28 col13\" >0.215264</td>\n",
              "      <td id=\"T_6cb09_row28_col14\" class=\"data row28 col14\" >-0.357880</td>\n",
              "      <td id=\"T_6cb09_row28_col15\" class=\"data row28 col15\" >0.199205</td>\n",
              "      <td id=\"T_6cb09_row28_col16\" class=\"data row28 col16\" >-0.290172</td>\n",
              "      <td id=\"T_6cb09_row28_col17\" class=\"data row28 col17\" >0.116962</td>\n",
              "      <td id=\"T_6cb09_row28_col18\" class=\"data row28 col18\" >-0.345012</td>\n",
              "      <td id=\"T_6cb09_row28_col19\" class=\"data row28 col19\" >0.173755</td>\n",
              "      <td id=\"T_6cb09_row28_col20\" class=\"data row28 col20\" >-0.396833</td>\n",
              "      <td id=\"T_6cb09_row28_col21\" class=\"data row28 col21\" >0.241757</td>\n",
              "      <td id=\"T_6cb09_row28_col22\" class=\"data row28 col22\" >-0.252496</td>\n",
              "      <td id=\"T_6cb09_row28_col23\" class=\"data row28 col23\" >0.071820</td>\n",
              "      <td id=\"T_6cb09_row28_col24\" class=\"data row28 col24\" >-0.261586</td>\n",
              "      <td id=\"T_6cb09_row28_col25\" class=\"data row28 col25\" >0.080435</td>\n",
              "      <td id=\"T_6cb09_row28_col26\" class=\"data row28 col26\" >-0.628808</td>\n",
              "      <td id=\"T_6cb09_row28_col27\" class=\"data row28 col27\" >-0.287049</td>\n",
              "      <td id=\"T_6cb09_row28_col28\" class=\"data row28 col28\" >1.000000</td>\n",
              "      <td id=\"T_6cb09_row28_col29\" class=\"data row28 col29\" >0.143942</td>\n",
              "      <td id=\"T_6cb09_row28_col30\" class=\"data row28 col30\" >-0.143942</td>\n",
              "      <td id=\"T_6cb09_row28_col31\" class=\"data row28 col31\" >0.147474</td>\n",
              "      <td id=\"T_6cb09_row28_col32\" class=\"data row28 col32\" >0.171689</td>\n",
              "      <td id=\"T_6cb09_row28_col33\" class=\"data row28 col33\" >-0.279073</td>\n",
              "      <td id=\"T_6cb09_row28_col34\" class=\"data row28 col34\" >0.000692</td>\n",
              "    </tr>\n",
              "    <tr>\n",
              "      <th id=\"T_6cb09_level0_row29\" class=\"row_heading level0 row29\" >IsBillingPaperless_No</th>\n",
              "      <td id=\"T_6cb09_row29_col0\" class=\"data row29 col0\" >-0.151964</td>\n",
              "      <td id=\"T_6cb09_row29_col1\" class=\"data row29 col1\" >-0.015698</td>\n",
              "      <td id=\"T_6cb09_row29_col2\" class=\"data row29 col2\" >0.015698</td>\n",
              "      <td id=\"T_6cb09_row29_col3\" class=\"data row29 col3\" >-0.005293</td>\n",
              "      <td id=\"T_6cb09_row29_col4\" class=\"data row29 col4\" >0.005293</td>\n",
              "      <td id=\"T_6cb09_row29_col5\" class=\"data row29 col5\" >-0.100777</td>\n",
              "      <td id=\"T_6cb09_row29_col6\" class=\"data row29 col6\" >0.100777</td>\n",
              "      <td id=\"T_6cb09_row29_col7\" class=\"data row29 col7\" >0.021362</td>\n",
              "      <td id=\"T_6cb09_row29_col8\" class=\"data row29 col8\" >-0.021362</td>\n",
              "      <td id=\"T_6cb09_row29_col9\" class=\"data row29 col9\" >0.144875</td>\n",
              "      <td id=\"T_6cb09_row29_col10\" class=\"data row29 col10\" >-0.159193</td>\n",
              "      <td id=\"T_6cb09_row29_col11\" class=\"data row29 col11\" >0.069009</td>\n",
              "      <td id=\"T_6cb09_row29_col12\" class=\"data row29 col12\" >-0.323712</td>\n",
              "      <td id=\"T_6cb09_row29_col13\" class=\"data row29 col13\" >0.311281</td>\n",
              "      <td id=\"T_6cb09_row29_col14\" class=\"data row29 col14\" >-0.263364</td>\n",
              "      <td id=\"T_6cb09_row29_col15\" class=\"data row29 col15\" >0.007880</td>\n",
              "      <td id=\"T_6cb09_row29_col16\" class=\"data row29 col16\" >-0.136872</td>\n",
              "      <td id=\"T_6cb09_row29_col17\" class=\"data row29 col17\" >-0.126721</td>\n",
              "      <td id=\"T_6cb09_row29_col18\" class=\"data row29 col18\" >-0.160245</td>\n",
              "      <td id=\"T_6cb09_row29_col19\" class=\"data row29 col19\" >-0.102178</td>\n",
              "      <td id=\"T_6cb09_row29_col20\" class=\"data row29 col20\" >-0.225381</td>\n",
              "      <td id=\"T_6cb09_row29_col21\" class=\"data row29 col21\" >-0.033950</td>\n",
              "      <td id=\"T_6cb09_row29_col22\" class=\"data row29 col22\" >-0.035498</td>\n",
              "      <td id=\"T_6cb09_row29_col23\" class=\"data row29 col23\" >-0.227384</td>\n",
              "      <td id=\"T_6cb09_row29_col24\" class=\"data row29 col24\" >-0.062183</td>\n",
              "      <td id=\"T_6cb09_row29_col25\" class=\"data row29 col25\" >-0.200340</td>\n",
              "      <td id=\"T_6cb09_row29_col26\" class=\"data row29 col26\" >-0.163515</td>\n",
              "      <td id=\"T_6cb09_row29_col27\" class=\"data row29 col27\" >0.048618</td>\n",
              "      <td id=\"T_6cb09_row29_col28\" class=\"data row29 col28\" >0.143942</td>\n",
              "      <td id=\"T_6cb09_row29_col29\" class=\"data row29 col29\" >1.000000</td>\n",
              "      <td id=\"T_6cb09_row29_col30\" class=\"data row29 col30\" >-1.000000</td>\n",
              "      <td id=\"T_6cb09_row29_col31\" class=\"data row29 col31\" >0.002562</td>\n",
              "      <td id=\"T_6cb09_row29_col32\" class=\"data row29 col32\" >0.015190</td>\n",
              "      <td id=\"T_6cb09_row29_col33\" class=\"data row29 col33\" >-0.201908</td>\n",
              "      <td id=\"T_6cb09_row29_col34\" class=\"data row29 col34\" >0.210871</td>\n",
              "    </tr>\n",
              "    <tr>\n",
              "      <th id=\"T_6cb09_level0_row30\" class=\"row_heading level0 row30\" >IsBillingPaperless_Yes</th>\n",
              "      <td id=\"T_6cb09_row30_col0\" class=\"data row30 col0\" >0.151964</td>\n",
              "      <td id=\"T_6cb09_row30_col1\" class=\"data row30 col1\" >0.015698</td>\n",
              "      <td id=\"T_6cb09_row30_col2\" class=\"data row30 col2\" >-0.015698</td>\n",
              "      <td id=\"T_6cb09_row30_col3\" class=\"data row30 col3\" >0.005293</td>\n",
              "      <td id=\"T_6cb09_row30_col4\" class=\"data row30 col4\" >-0.005293</td>\n",
              "      <td id=\"T_6cb09_row30_col5\" class=\"data row30 col5\" >0.100777</td>\n",
              "      <td id=\"T_6cb09_row30_col6\" class=\"data row30 col6\" >-0.100777</td>\n",
              "      <td id=\"T_6cb09_row30_col7\" class=\"data row30 col7\" >-0.021362</td>\n",
              "      <td id=\"T_6cb09_row30_col8\" class=\"data row30 col8\" >0.021362</td>\n",
              "      <td id=\"T_6cb09_row30_col9\" class=\"data row30 col9\" >-0.144875</td>\n",
              "      <td id=\"T_6cb09_row30_col10\" class=\"data row30 col10\" >0.159193</td>\n",
              "      <td id=\"T_6cb09_row30_col11\" class=\"data row30 col11\" >-0.069009</td>\n",
              "      <td id=\"T_6cb09_row30_col12\" class=\"data row30 col12\" >0.323712</td>\n",
              "      <td id=\"T_6cb09_row30_col13\" class=\"data row30 col13\" >-0.311281</td>\n",
              "      <td id=\"T_6cb09_row30_col14\" class=\"data row30 col14\" >0.263364</td>\n",
              "      <td id=\"T_6cb09_row30_col15\" class=\"data row30 col15\" >-0.007880</td>\n",
              "      <td id=\"T_6cb09_row30_col16\" class=\"data row30 col16\" >0.136872</td>\n",
              "      <td id=\"T_6cb09_row30_col17\" class=\"data row30 col17\" >0.126721</td>\n",
              "      <td id=\"T_6cb09_row30_col18\" class=\"data row30 col18\" >0.160245</td>\n",
              "      <td id=\"T_6cb09_row30_col19\" class=\"data row30 col19\" >0.102178</td>\n",
              "      <td id=\"T_6cb09_row30_col20\" class=\"data row30 col20\" >0.225381</td>\n",
              "      <td id=\"T_6cb09_row30_col21\" class=\"data row30 col21\" >0.033950</td>\n",
              "      <td id=\"T_6cb09_row30_col22\" class=\"data row30 col22\" >0.035498</td>\n",
              "      <td id=\"T_6cb09_row30_col23\" class=\"data row30 col23\" >0.227384</td>\n",
              "      <td id=\"T_6cb09_row30_col24\" class=\"data row30 col24\" >0.062183</td>\n",
              "      <td id=\"T_6cb09_row30_col25\" class=\"data row30 col25\" >0.200340</td>\n",
              "      <td id=\"T_6cb09_row30_col26\" class=\"data row30 col26\" >0.163515</td>\n",
              "      <td id=\"T_6cb09_row30_col27\" class=\"data row30 col27\" >-0.048618</td>\n",
              "      <td id=\"T_6cb09_row30_col28\" class=\"data row30 col28\" >-0.143942</td>\n",
              "      <td id=\"T_6cb09_row30_col29\" class=\"data row30 col29\" >-1.000000</td>\n",
              "      <td id=\"T_6cb09_row30_col30\" class=\"data row30 col30\" >1.000000</td>\n",
              "      <td id=\"T_6cb09_row30_col31\" class=\"data row30 col31\" >-0.002562</td>\n",
              "      <td id=\"T_6cb09_row30_col32\" class=\"data row30 col32\" >-0.015190</td>\n",
              "      <td id=\"T_6cb09_row30_col33\" class=\"data row30 col33\" >0.201908</td>\n",
              "      <td id=\"T_6cb09_row30_col34\" class=\"data row30 col34\" >-0.210871</td>\n",
              "    </tr>\n",
              "    <tr>\n",
              "      <th id=\"T_6cb09_level0_row31\" class=\"row_heading level0 row31\" >PaymentMethod_Bank transfer (automatic)</th>\n",
              "      <td id=\"T_6cb09_row31_col0\" class=\"data row31 col0\" >-0.010942</td>\n",
              "      <td id=\"T_6cb09_row31_col1\" class=\"data row31 col1\" >0.009673</td>\n",
              "      <td id=\"T_6cb09_row31_col2\" class=\"data row31 col2\" >-0.009673</td>\n",
              "      <td id=\"T_6cb09_row31_col3\" class=\"data row31 col3\" >-0.113065</td>\n",
              "      <td id=\"T_6cb09_row31_col4\" class=\"data row31 col4\" >0.113065</td>\n",
              "      <td id=\"T_6cb09_row31_col5\" class=\"data row31 col5\" >-0.043363</td>\n",
              "      <td id=\"T_6cb09_row31_col6\" class=\"data row31 col6\" >0.043363</td>\n",
              "      <td id=\"T_6cb09_row31_col7\" class=\"data row31 col7\" >-0.014299</td>\n",
              "      <td id=\"T_6cb09_row31_col8\" class=\"data row31 col8\" >0.014299</td>\n",
              "      <td id=\"T_6cb09_row31_col9\" class=\"data row31 col9\" >-0.067763</td>\n",
              "      <td id=\"T_6cb09_row31_col10\" class=\"data row31 col10\" >0.077057</td>\n",
              "      <td id=\"T_6cb09_row31_col11\" class=\"data row31 col11\" >0.022233</td>\n",
              "      <td id=\"T_6cb09_row31_col12\" class=\"data row31 col12\" >-0.021800</td>\n",
              "      <td id=\"T_6cb09_row31_col13\" class=\"data row31 col13\" >0.000708</td>\n",
              "      <td id=\"T_6cb09_row31_col14\" class=\"data row31 col14\" >-0.073323</td>\n",
              "      <td id=\"T_6cb09_row31_col15\" class=\"data row31 col15\" >0.080191</td>\n",
              "      <td id=\"T_6cb09_row31_col16\" class=\"data row31 col16\" >-0.086319</td>\n",
              "      <td id=\"T_6cb09_row31_col17\" class=\"data row31 col17\" >0.089711</td>\n",
              "      <td id=\"T_6cb09_row31_col18\" class=\"data row31 col18\" >-0.073203</td>\n",
              "      <td id=\"T_6cb09_row31_col19\" class=\"data row31 col19\" >0.075785</td>\n",
              "      <td id=\"T_6cb09_row31_col20\" class=\"data row31 col20\" >-0.091850</td>\n",
              "      <td id=\"T_6cb09_row31_col21\" class=\"data row31 col21\" >0.100456</td>\n",
              "      <td id=\"T_6cb09_row31_col22\" class=\"data row31 col22\" >-0.049145</td>\n",
              "      <td id=\"T_6cb09_row31_col23\" class=\"data row31 col23\" >0.048788</td>\n",
              "      <td id=\"T_6cb09_row31_col24\" class=\"data row31 col24\" >-0.034286</td>\n",
              "      <td id=\"T_6cb09_row31_col25\" class=\"data row31 col25\" >0.033751</td>\n",
              "      <td id=\"T_6cb09_row31_col26\" class=\"data row31 col26\" >-0.177314</td>\n",
              "      <td id=\"T_6cb09_row31_col27\" class=\"data row31 col27\" >0.061868</td>\n",
              "      <td id=\"T_6cb09_row31_col28\" class=\"data row31 col28\" >0.147474</td>\n",
              "      <td id=\"T_6cb09_row31_col29\" class=\"data row31 col29\" >0.002562</td>\n",
              "      <td id=\"T_6cb09_row31_col30\" class=\"data row31 col30\" >-0.002562</td>\n",
              "      <td id=\"T_6cb09_row31_col31\" class=\"data row31 col31\" >1.000000</td>\n",
              "      <td id=\"T_6cb09_row31_col32\" class=\"data row31 col32\" >-0.278619</td>\n",
              "      <td id=\"T_6cb09_row31_col33\" class=\"data row31 col33\" >-0.378957</td>\n",
              "      <td id=\"T_6cb09_row31_col34\" class=\"data row31 col34\" >-0.286538</td>\n",
              "    </tr>\n",
              "    <tr>\n",
              "      <th id=\"T_6cb09_level0_row32\" class=\"row_heading level0 row32\" >PaymentMethod_Credit card (automatic)</th>\n",
              "      <td id=\"T_6cb09_row32_col0\" class=\"data row32 col0\" >-0.027889</td>\n",
              "      <td id=\"T_6cb09_row32_col1\" class=\"data row32 col1\" >0.006924</td>\n",
              "      <td id=\"T_6cb09_row32_col2\" class=\"data row32 col2\" >-0.006924</td>\n",
              "      <td id=\"T_6cb09_row32_col3\" class=\"data row32 col3\" >-0.077583</td>\n",
              "      <td id=\"T_6cb09_row32_col4\" class=\"data row32 col4\" >0.077583</td>\n",
              "      <td id=\"T_6cb09_row32_col5\" class=\"data row32 col5\" >-0.060437</td>\n",
              "      <td id=\"T_6cb09_row32_col6\" class=\"data row32 col6\" >0.060437</td>\n",
              "      <td id=\"T_6cb09_row32_col7\" class=\"data row32 col7\" >0.006566</td>\n",
              "      <td id=\"T_6cb09_row32_col8\" class=\"data row32 col8\" >-0.006566</td>\n",
              "      <td id=\"T_6cb09_row32_col9\" class=\"data row32 col9\" >-0.066625</td>\n",
              "      <td id=\"T_6cb09_row32_col10\" class=\"data row32 col10\" >0.063327</td>\n",
              "      <td id=\"T_6cb09_row32_col11\" class=\"data row32 col11\" >0.054794</td>\n",
              "      <td id=\"T_6cb09_row32_col12\" class=\"data row32 col12\" >-0.046813</td>\n",
              "      <td id=\"T_6cb09_row32_col13\" class=\"data row32 col13\" >-0.006599</td>\n",
              "      <td id=\"T_6cb09_row32_col14\" class=\"data row32 col14\" >-0.109635</td>\n",
              "      <td id=\"T_6cb09_row32_col15\" class=\"data row32 col15\" >0.126853</td>\n",
              "      <td id=\"T_6cb09_row32_col16\" class=\"data row32 col16\" >-0.085767</td>\n",
              "      <td id=\"T_6cb09_row32_col17\" class=\"data row32 col17\" >0.095471</td>\n",
              "      <td id=\"T_6cb09_row32_col18\" class=\"data row32 col18\" >-0.110615</td>\n",
              "      <td id=\"T_6cb09_row32_col19\" class=\"data row32 col19\" >0.121154</td>\n",
              "      <td id=\"T_6cb09_row32_col20\" class=\"data row32 col20\" >-0.100691</td>\n",
              "      <td id=\"T_6cb09_row32_col21\" class=\"data row32 col21\" >0.116808</td>\n",
              "      <td id=\"T_6cb09_row32_col22\" class=\"data row32 col22\" >-0.038721</td>\n",
              "      <td id=\"T_6cb09_row32_col23\" class=\"data row32 col23\" >0.044488</td>\n",
              "      <td id=\"T_6cb09_row32_col24\" class=\"data row32 col24\" >-0.051109</td>\n",
              "      <td id=\"T_6cb09_row32_col25\" class=\"data row32 col25\" >0.056769</td>\n",
              "      <td id=\"T_6cb09_row32_col26\" class=\"data row32 col26\" >-0.203316</td>\n",
              "      <td id=\"T_6cb09_row32_col27\" class=\"data row32 col27\" >0.068191</td>\n",
              "      <td id=\"T_6cb09_row32_col28\" class=\"data row32 col28\" >0.171689</td>\n",
              "      <td id=\"T_6cb09_row32_col29\" class=\"data row32 col29\" >0.015190</td>\n",
              "      <td id=\"T_6cb09_row32_col30\" class=\"data row32 col30\" >-0.015190</td>\n",
              "      <td id=\"T_6cb09_row32_col31\" class=\"data row32 col31\" >-0.278619</td>\n",
              "      <td id=\"T_6cb09_row32_col32\" class=\"data row32 col32\" >1.000000</td>\n",
              "      <td id=\"T_6cb09_row32_col33\" class=\"data row32 col33\" >-0.375604</td>\n",
              "      <td id=\"T_6cb09_row32_col34\" class=\"data row32 col34\" >-0.284002</td>\n",
              "    </tr>\n",
              "    <tr>\n",
              "      <th id=\"T_6cb09_level0_row33\" class=\"row_heading level0 row33\" >PaymentMethod_Electronic check</th>\n",
              "      <td id=\"T_6cb09_row33_col0\" class=\"data row33 col0\" >0.169778</td>\n",
              "      <td id=\"T_6cb09_row33_col1\" class=\"data row33 col1\" >-0.003415</td>\n",
              "      <td id=\"T_6cb09_row33_col2\" class=\"data row33 col2\" >0.003415</td>\n",
              "      <td id=\"T_6cb09_row33_col3\" class=\"data row33 col3\" >0.085955</td>\n",
              "      <td id=\"T_6cb09_row33_col4\" class=\"data row33 col4\" >-0.085955</td>\n",
              "      <td id=\"T_6cb09_row33_col5\" class=\"data row33 col5\" >0.146189</td>\n",
              "      <td id=\"T_6cb09_row33_col6\" class=\"data row33 col6\" >-0.146189</td>\n",
              "      <td id=\"T_6cb09_row33_col7\" class=\"data row33 col7\" >-0.002906</td>\n",
              "      <td id=\"T_6cb09_row33_col8\" class=\"data row33 col8\" >0.002906</td>\n",
              "      <td id=\"T_6cb09_row33_col9\" class=\"data row33 col9\" >-0.076164</td>\n",
              "      <td id=\"T_6cb09_row33_col10\" class=\"data row33 col10\" >0.078672</td>\n",
              "      <td id=\"T_6cb09_row33_col11\" class=\"data row33 col11\" >-0.103545</td>\n",
              "      <td id=\"T_6cb09_row33_col12\" class=\"data row33 col12\" >0.324208</td>\n",
              "      <td id=\"T_6cb09_row33_col13\" class=\"data row33 col13\" >-0.272103</td>\n",
              "      <td id=\"T_6cb09_row33_col14\" class=\"data row33 col14\" >0.322423</td>\n",
              "      <td id=\"T_6cb09_row33_col15\" class=\"data row33 col15\" >-0.108539</td>\n",
              "      <td id=\"T_6cb09_row33_col16\" class=\"data row33 col16\" >0.231690</td>\n",
              "      <td id=\"T_6cb09_row33_col17\" class=\"data row33 col17\" >-0.006474</td>\n",
              "      <td id=\"T_6cb09_row33_col18\" class=\"data row33 col18\" >0.235134</td>\n",
              "      <td id=\"T_6cb09_row33_col19\" class=\"data row33 col19\" >-0.009888</td>\n",
              "      <td id=\"T_6cb09_row33_col20\" class=\"data row33 col20\" >0.324600</td>\n",
              "      <td id=\"T_6cb09_row33_col21\" class=\"data row33 col21\" >-0.110755</td>\n",
              "      <td id=\"T_6cb09_row33_col22\" class=\"data row33 col22\" >0.092629</td>\n",
              "      <td id=\"T_6cb09_row33_col23\" class=\"data row33 col23\" >0.136864</td>\n",
              "      <td id=\"T_6cb09_row33_col24\" class=\"data row33 col24\" >0.089562</td>\n",
              "      <td id=\"T_6cb09_row33_col25\" class=\"data row33 col25\" >0.139856</td>\n",
              "      <td id=\"T_6cb09_row33_col26\" class=\"data row33 col26\" >0.332151</td>\n",
              "      <td id=\"T_6cb09_row33_col27\" class=\"data row33 col27\" >-0.112899</td>\n",
              "      <td id=\"T_6cb09_row33_col28\" class=\"data row33 col28\" >-0.279073</td>\n",
              "      <td id=\"T_6cb09_row33_col29\" class=\"data row33 col29\" >-0.201908</td>\n",
              "      <td id=\"T_6cb09_row33_col30\" class=\"data row33 col30\" >0.201908</td>\n",
              "      <td id=\"T_6cb09_row33_col31\" class=\"data row33 col31\" >-0.378957</td>\n",
              "      <td id=\"T_6cb09_row33_col32\" class=\"data row33 col32\" >-0.375604</td>\n",
              "      <td id=\"T_6cb09_row33_col33\" class=\"data row33 col33\" >1.000000</td>\n",
              "      <td id=\"T_6cb09_row33_col34\" class=\"data row33 col34\" >-0.386280</td>\n",
              "    </tr>\n",
              "    <tr>\n",
              "      <th id=\"T_6cb09_level0_row34\" class=\"row_heading level0 row34\" >PaymentMethod_Mailed check</th>\n",
              "      <td id=\"T_6cb09_row34_col0\" class=\"data row34 col0\" >-0.153740</td>\n",
              "      <td id=\"T_6cb09_row34_col1\" class=\"data row34 col1\" >-0.012525</td>\n",
              "      <td id=\"T_6cb09_row34_col2\" class=\"data row34 col2\" >0.012525</td>\n",
              "      <td id=\"T_6cb09_row34_col3\" class=\"data row34 col3\" >0.091035</td>\n",
              "      <td id=\"T_6cb09_row34_col4\" class=\"data row34 col4\" >-0.091035</td>\n",
              "      <td id=\"T_6cb09_row34_col5\" class=\"data row34 col5\" >-0.062937</td>\n",
              "      <td id=\"T_6cb09_row34_col6\" class=\"data row34 col6\" >0.062937</td>\n",
              "      <td id=\"T_6cb09_row34_col7\" class=\"data row34 col7\" >0.010971</td>\n",
              "      <td id=\"T_6cb09_row34_col8\" class=\"data row34 col8\" >-0.010971</td>\n",
              "      <td id=\"T_6cb09_row34_col9\" class=\"data row34 col9\" >0.218782</td>\n",
              "      <td id=\"T_6cb09_row34_col10\" class=\"data row34 col10\" >-0.227568</td>\n",
              "      <td id=\"T_6cb09_row34_col11\" class=\"data row34 col11\" >0.041168</td>\n",
              "      <td id=\"T_6cb09_row34_col12\" class=\"data row34 col12\" >-0.299027</td>\n",
              "      <td id=\"T_6cb09_row34_col13\" class=\"data row34 col13\" >0.313550</td>\n",
              "      <td id=\"T_6cb09_row34_col14\" class=\"data row34 col14\" >-0.184181</td>\n",
              "      <td id=\"T_6cb09_row34_col15\" class=\"data row34 col15\" >-0.081472</td>\n",
              "      <td id=\"T_6cb09_row34_col16\" class=\"data row34 col16\" >-0.092200</td>\n",
              "      <td id=\"T_6cb09_row34_col17\" class=\"data row34 col17\" >-0.175433</td>\n",
              "      <td id=\"T_6cb09_row34_col18\" class=\"data row34 col18\" >-0.084610</td>\n",
              "      <td id=\"T_6cb09_row34_col19\" class=\"data row34 col19\" >-0.183076</td>\n",
              "      <td id=\"T_6cb09_row34_col20\" class=\"data row34 col20\" >-0.177119</td>\n",
              "      <td id=\"T_6cb09_row34_col21\" class=\"data row34 col21\" >-0.089127</td>\n",
              "      <td id=\"T_6cb09_row34_col22\" class=\"data row34 col22\" >-0.018018</td>\n",
              "      <td id=\"T_6cb09_row34_col23\" class=\"data row34 col23\" >-0.246866</td>\n",
              "      <td id=\"T_6cb09_row34_col24\" class=\"data row34 col24\" >-0.017055</td>\n",
              "      <td id=\"T_6cb09_row34_col25\" class=\"data row34 col25\" >-0.247463</td>\n",
              "      <td id=\"T_6cb09_row34_col26\" class=\"data row34 col26\" >-0.000062</td>\n",
              "      <td id=\"T_6cb09_row34_col27\" class=\"data row34 col27\" >-0.000658</td>\n",
              "      <td id=\"T_6cb09_row34_col28\" class=\"data row34 col28\" >0.000692</td>\n",
              "      <td id=\"T_6cb09_row34_col29\" class=\"data row34 col29\" >0.210871</td>\n",
              "      <td id=\"T_6cb09_row34_col30\" class=\"data row34 col30\" >-0.210871</td>\n",
              "      <td id=\"T_6cb09_row34_col31\" class=\"data row34 col31\" >-0.286538</td>\n",
              "      <td id=\"T_6cb09_row34_col32\" class=\"data row34 col32\" >-0.284002</td>\n",
              "      <td id=\"T_6cb09_row34_col33\" class=\"data row34 col33\" >-0.386280</td>\n",
              "      <td id=\"T_6cb09_row34_col34\" class=\"data row34 col34\" >1.000000</td>\n",
              "    </tr>\n",
              "  </tbody>\n",
              "</table>\n"
            ]
          },
          "metadata": {},
          "execution_count": 368
        }
      ]
    },
    {
      "cell_type": "markdown",
      "source": [
        "# Все преобразования выше оформил в отдельную функцию"
      ],
      "metadata": {
        "id": "lBG_eIVcDV6M"
      }
    },
    {
      "cell_type": "code",
      "source": [
        "def my_preprocess(data):\n",
        "  new_data = data.copy()\n",
        "  new_data[num_cols[2]] = new_data[num_cols[2]].apply(lambda x: str_to_float(x))\n",
        "\n",
        "  ser = pd.get_dummies(new_data[cat_cols]).corr()['HasInternetService_No']\n",
        "  the_same_cols = list(ser[ser == 1].index)[1:] + ['HasMultiplePhoneNumbers_No phone service']\n",
        "\n",
        "  cat_data = pd.get_dummies(data[cat_cols]).drop(the_same_cols, axis=1)\n",
        "  new_data = pd.concat([new_data, cat_data], axis=1)\n",
        "  new_data.drop(cat_cols, axis=1, inplace=True)\n",
        "\n",
        "  return new_data"
      ],
      "metadata": {
        "id": "mv4w-y555bIy"
      },
      "execution_count": null,
      "outputs": []
    },
    {
      "cell_type": "markdown",
      "source": [
        "Видно, что число классов несбалансировано -> используем метрику roc_auc"
      ],
      "metadata": {
        "id": "kxImBayFZsBB"
      }
    },
    {
      "cell_type": "code",
      "source": [
        "data['Churn'].value_counts()"
      ],
      "metadata": {
        "colab": {
          "base_uri": "https://localhost:8080/"
        },
        "id": "AhY_mCxSz4dO",
        "outputId": "44a2f2b2-709c-4966-be17-9e95a5b03203"
      },
      "execution_count": null,
      "outputs": [
        {
          "output_type": "execute_result",
          "data": {
            "text/plain": [
              "0    3898\n",
              "1    1384\n",
              "Name: Churn, dtype: int64"
            ]
          },
          "metadata": {},
          "execution_count": 370
        }
      ]
    },
    {
      "cell_type": "markdown",
      "source": [
        "# Логистическая Регрессия на кросс валидации"
      ],
      "metadata": {
        "id": "IZOwOY9PF5kl"
      }
    },
    {
      "cell_type": "code",
      "source": [
        "from sklearn.metrics import roc_auc_score\n",
        "from sklearn.model_selection import GridSearchCV"
      ],
      "metadata": {
        "id": "_vrb6iTNZ3kS"
      },
      "execution_count": null,
      "outputs": []
    },
    {
      "cell_type": "markdown",
      "source": [
        "X_new - датасет с one_hot_encoding"
      ],
      "metadata": {
        "id": "ChPqmNFvlUGK"
      }
    },
    {
      "cell_type": "code",
      "source": [
        "new_data = my_preprocess(data)"
      ],
      "metadata": {
        "id": "CVdDmhIA7PFg"
      },
      "execution_count": null,
      "outputs": []
    },
    {
      "cell_type": "code",
      "source": [
        "X_new = new_data.loc[:, new_data.columns != 'Churn']\n",
        "y_new = new_data['Churn']"
      ],
      "metadata": {
        "id": "N1fgXt1F73bL"
      },
      "execution_count": null,
      "outputs": []
    },
    {
      "cell_type": "code",
      "source": [
        "X_new_train, X_new_test, y_new_train, y_new_test = train_test_split(X_new, y_new, test_size=0.2, random_state=42)"
      ],
      "metadata": {
        "id": "lqoRqdNm0bgN"
      },
      "execution_count": null,
      "outputs": []
    },
    {
      "cell_type": "markdown",
      "source": [
        "ищу оптимальные параметры c помощью GridSearch"
      ],
      "metadata": {
        "id": "HJHWewSo0Q22"
      }
    },
    {
      "cell_type": "code",
      "source": [
        "def linear_model_score(X, y, my_model, param_grid):\n",
        "  my_grid = GridSearchCV(my_model, param_grid, scoring='roc_auc', cv=10, n_jobs=-1)\n",
        "  my_grid.fit(X, y)\n",
        "\n",
        "  return (my_grid.best_params_, my_grid.best_score_, my_grid.best_estimator_)"
      ],
      "metadata": {
        "id": "C0L-azh4aYzC"
      },
      "execution_count": null,
      "outputs": []
    },
    {
      "cell_type": "code",
      "source": [
        "params = linear_model_score(X_new_train, y_new_train, LogisticRegression(), {'C': [0.001, 0.01, 0.1, 1, 10, 100], 'penalty':['l1', 'l2']})"
      ],
      "metadata": {
        "id": "WTu-hffXpmyr"
      },
      "execution_count": null,
      "outputs": []
    },
    {
      "cell_type": "code",
      "source": [
        "print(params[0], params[1])"
      ],
      "metadata": {
        "colab": {
          "base_uri": "https://localhost:8080/"
        },
        "id": "Rcz41MesstAR",
        "outputId": "207e010e-b9e3-470f-d930-f96791b0f93d"
      },
      "execution_count": null,
      "outputs": [
        {
          "output_type": "stream",
          "name": "stdout",
          "text": [
            "{'C': 0.1, 'penalty': 'l2'} 0.8475988346406351\n"
          ]
        }
      ]
    },
    {
      "cell_type": "code",
      "source": [
        "roc_auc_score(y_new_test, params[2].predict_proba(X_new_test)[:, 1])"
      ],
      "metadata": {
        "colab": {
          "base_uri": "https://localhost:8080/"
        },
        "id": "2gKkZOvaD___",
        "outputId": "9d70f398-588f-41e5-dfb4-f28d48cfa315"
      },
      "execution_count": null,
      "outputs": [
        {
          "output_type": "execute_result",
          "data": {
            "text/plain": [
              "0.8224988686842567"
            ]
          },
          "metadata": {},
          "execution_count": 377
        }
      ]
    },
    {
      "cell_type": "markdown",
      "source": [
        "пробую нормировать признаки"
      ],
      "metadata": {
        "id": "BANSos65tOka"
      }
    },
    {
      "cell_type": "code",
      "source": [
        "my_scaler = StandardScaler()"
      ],
      "metadata": {
        "id": "RXQvbK6ItYYk"
      },
      "execution_count": null,
      "outputs": []
    },
    {
      "cell_type": "code",
      "source": [
        "X_new_train_scaled = X_new_train.copy(deep=True)"
      ],
      "metadata": {
        "id": "SMwnsdchtoC-"
      },
      "execution_count": null,
      "outputs": []
    },
    {
      "cell_type": "code",
      "source": [
        "X_new_train_scaled[num_cols] = my_scaler.fit_transform(X_new_train[num_cols])"
      ],
      "metadata": {
        "id": "5xAOd7EGtN9Y"
      },
      "execution_count": null,
      "outputs": []
    },
    {
      "cell_type": "code",
      "source": [
        "norm_params = linear_model_score(X_new_train_scaled, y_new_train, LogisticRegression(), {'C': [0.001, 0.01, 0.1, 1, 10, 100], 'penalty':['l1', 'l2']})"
      ],
      "metadata": {
        "id": "i8VdoIY7txX5"
      },
      "execution_count": null,
      "outputs": []
    },
    {
      "cell_type": "code",
      "source": [
        "print(norm_params[0], norm_params[1])\n",
        "\n",
        "X_new_test_scaled = X_new_test.copy()\n",
        "X_new_test_scaled[num_cols] = my_scaler.transform(X_new_test[num_cols])\n",
        "print(roc_auc_score(y_new_test, norm_params[2].predict_proba(X_new_test_scaled)[:, 1]))"
      ],
      "metadata": {
        "colab": {
          "base_uri": "https://localhost:8080/"
        },
        "id": "G8JHq9NW1OUF",
        "outputId": "6bcdc034-aee3-47e4-965b-b9c33f1eb94e"
      },
      "execution_count": null,
      "outputs": [
        {
          "output_type": "stream",
          "name": "stdout",
          "text": [
            "{'C': 100, 'penalty': 'l2'} 0.8490988501880784\n",
            "0.8267932508935085\n"
          ]
        }
      ]
    },
    {
      "cell_type": "markdown",
      "source": [
        "как видно, нормализация признаков уменьшила коэффициент регуляризации (то есть увеличила С)\n",
        "\n",
        "Скор тоже увеличился 0.822 -> 0.826"
      ],
      "metadata": {
        "id": "2eeWWxWa12M7"
      }
    },
    {
      "cell_type": "markdown",
      "source": [
        "# Пробую KNN"
      ],
      "metadata": {
        "id": "HS3WCy3fJXal"
      }
    },
    {
      "cell_type": "markdown",
      "source": [
        "подберу гиперпараметры с помощью GridSearcCV, попробую разные нормализаторы"
      ],
      "metadata": {
        "id": "kjpAVuSoJeFe"
      }
    },
    {
      "cell_type": "code",
      "source": [
        "from sklearn.preprocessing import StandardScaler, MinMaxScaler\n",
        "from sklearn.model_selection import GridSearchCV\n",
        "from sklearn.neighbors import KNeighborsClassifier"
      ],
      "metadata": {
        "id": "kP1o5k_NLJPL"
      },
      "execution_count": null,
      "outputs": []
    },
    {
      "cell_type": "code",
      "source": [
        "X_train, X_test, y_train, y_test = train_test_split(X_new, y, test_size = 0.25, random_state=42, shuffle=True)"
      ],
      "metadata": {
        "id": "9xynfGnFJlG0"
      },
      "execution_count": null,
      "outputs": []
    },
    {
      "cell_type": "code",
      "source": [
        "parameters = {'n_neighbors': np.arange(40, 80, 3), \n",
        "              'metric': ['cosine', 'euclidean'], \n",
        "              'weights': ['uniform', 'distance', 'manhatten']}"
      ],
      "metadata": {
        "id": "QlZqW9CyLHEX"
      },
      "execution_count": null,
      "outputs": []
    },
    {
      "cell_type": "code",
      "source": [
        "my_grid = GridSearchCV(KNeighborsClassifier(), parameters, scoring='roc_auc', cv=5, n_jobs=-1)"
      ],
      "metadata": {
        "id": "nE-yjI4jMROv"
      },
      "execution_count": null,
      "outputs": []
    },
    {
      "cell_type": "markdown",
      "source": [
        "пробую StandardScaler"
      ],
      "metadata": {
        "id": "FjO5ekszP2D5"
      }
    },
    {
      "cell_type": "code",
      "source": [
        "my_scaler = StandardScaler()\n",
        "my_scaler.fit(X_train[num_cols])\n",
        "X_train_st_scaled = X_train.copy()\n",
        "X_train_st_scaled[num_cols] = my_scaler.transform(X_train[num_cols])\n",
        "\n",
        "my_grid.fit(X_train_st_scaled, y_train)"
      ],
      "metadata": {
        "id": "K6oCHVeHP1MT"
      },
      "execution_count": null,
      "outputs": []
    },
    {
      "cell_type": "code",
      "source": [
        "print(my_grid.best_score_, my_grid.best_params_)\n",
        "\n",
        "X_test_st_scaled = X_test.copy()\n",
        "X_test_st_scaled[num_cols] = my_scaler.transform(X_test[num_cols])\n",
        "y_pred = my_grid.best_estimator_.predict_proba(X_test_st_scaled)[:, 1]\n",
        "print('test_score:', roc_auc_score(y_test, y_pred))"
      ],
      "metadata": {
        "colab": {
          "base_uri": "https://localhost:8080/"
        },
        "id": "XLWbDXSQQpL5",
        "outputId": "0c39b2db-38df-4b51-90e2-e97bd9eee35c"
      },
      "execution_count": null,
      "outputs": [
        {
          "output_type": "stream",
          "name": "stdout",
          "text": [
            "0.8424603217355825 {'metric': 'euclidean', 'n_neighbors': 64, 'weights': 'uniform'}\n",
            "test_score: 0.8126059243976127\n"
          ]
        }
      ]
    },
    {
      "cell_type": "markdown",
      "source": [
        "пробую MinMaxScaler"
      ],
      "metadata": {
        "id": "3lF4mNfbR54N"
      }
    },
    {
      "cell_type": "code",
      "source": [
        "my_scaler = MinMaxScaler()\n",
        "my_scaler.fit(X_train[num_cols])\n",
        "X_train_st_scaled = X_train.copy()\n",
        "X_train_st_scaled[num_cols] = my_scaler.transform(X_train[num_cols])\n",
        "\n",
        "my_grid.fit(X_train_st_scaled, y_train)"
      ],
      "metadata": {
        "id": "oEoIkiGtR9ZN"
      },
      "execution_count": null,
      "outputs": []
    },
    {
      "cell_type": "code",
      "source": [
        "print(my_grid.best_score_, my_grid.best_params_)\n",
        "\n",
        "X_test_st_scaled = X_test.copy()\n",
        "X_test_st_scaled[num_cols] = my_scaler.transform(X_test[num_cols])\n",
        "y_pred = my_grid.best_estimator_.predict_proba(X_test_st_scaled)[:, 1]\n",
        "print('test_score:', roc_auc_score(y_test, y_pred))"
      ],
      "metadata": {
        "colab": {
          "base_uri": "https://localhost:8080/"
        },
        "id": "ftrfMV3fSRQ6",
        "outputId": "03da2160-43a0-4a36-e904-4c91fcf2b84a"
      },
      "execution_count": null,
      "outputs": [
        {
          "output_type": "stream",
          "name": "stdout",
          "text": [
            "0.8363147253107165 {'metric': 'cosine', 'n_neighbors': 40, 'weights': 'uniform'}\n",
            "test_score: 0.8031448800137548\n"
          ]
        }
      ]
    },
    {
      "cell_type": "markdown",
      "source": [
        "StandardScaler и KNN очень неплохо себя показали: 0.8126059243976127"
      ],
      "metadata": {
        "id": "7oXQazYRSoys"
      }
    },
    {
      "cell_type": "markdown",
      "source": [
        "# Пробую SVM"
      ],
      "metadata": {
        "id": "wFZnCvBjSY9D"
      }
    },
    {
      "cell_type": "markdown",
      "source": [
        "попробую поэкспериментировать с ядрами"
      ],
      "metadata": {
        "id": "9_KHt5StSc0A"
      }
    },
    {
      "cell_type": "code",
      "source": [
        "from sklearn.svm import SVC"
      ],
      "metadata": {
        "id": "-i5cnyblSh50"
      },
      "execution_count": null,
      "outputs": []
    },
    {
      "cell_type": "code",
      "source": [
        "my_svm = SVC()"
      ],
      "metadata": {
        "id": "zw1TasBRUv4_"
      },
      "execution_count": null,
      "outputs": []
    },
    {
      "cell_type": "code",
      "source": [
        "svm_params = {'C': [100, 10, 1, 0.1, 0.01, 0.001], \n",
        "          'kernel': ['linear', 'poly', 'rbf', 'sigmoid'],\n",
        "          'degree': np.arange(1, 5), \n",
        "          'probability': [True]       \n",
        "          }\n",
        "\n",
        "svm_grid = GridSearchCV(my_svm, svm_params, scoring='roc_auc', cv=5, n_jobs=-1)"
      ],
      "metadata": {
        "id": "yEEyky80VBV8"
      },
      "execution_count": null,
      "outputs": []
    },
    {
      "cell_type": "code",
      "source": [
        "svm_grid.fit(X_train_st_scaled, y_train)"
      ],
      "metadata": {
        "id": "LP0_3MJwXPhq"
      },
      "execution_count": null,
      "outputs": []
    },
    {
      "cell_type": "code",
      "source": [
        "best_params_copy = dict({'C': 0.1, 'degree': 1, 'kernel': 'linear', 'probability': True})\n",
        "best_score_copy = 0.8403102016014904"
      ],
      "metadata": {
        "id": "BKaWCzH0hQBF"
      },
      "execution_count": null,
      "outputs": []
    },
    {
      "cell_type": "code",
      "source": [
        "print(svm_grid.best_score_, svm_grid.best_params_)\n",
        "\n",
        "y_pred = svm_grid.best_estimator_.predict_proba(X_test_st_scaled)[:, 1]\n",
        "print('test_score:', roc_auc_score(y_test, y_pred))"
      ],
      "metadata": {
        "colab": {
          "base_uri": "https://localhost:8080/"
        },
        "id": "8n4Bf2ueXvR8",
        "outputId": "1e29b456-de24-4e38-f309-eab8fad97959"
      },
      "execution_count": null,
      "outputs": [
        {
          "output_type": "stream",
          "name": "stdout",
          "text": [
            "0.8403102016014904 {'C': 0.1, 'degree': 1, 'kernel': 'linear', 'probability': True}\n",
            "test_score: 0.8174369980104635\n"
          ]
        }
      ]
    },
    {
      "cell_type": "markdown",
      "source": [
        "в целом SVM оказался почти не хуже лог регрессии"
      ],
      "metadata": {
        "id": "cBXGCG1jbUt0"
      }
    },
    {
      "cell_type": "markdown",
      "source": [
        "# Пробую Decision Trees"
      ],
      "metadata": {
        "id": "I9UIbiYGaFhN"
      }
    },
    {
      "cell_type": "code",
      "source": [
        "from sklearn.ensemble import RandomForestClassifier"
      ],
      "metadata": {
        "id": "vBZNwtTjekqk"
      },
      "execution_count": null,
      "outputs": []
    },
    {
      "cell_type": "code",
      "source": [
        "from sklearn.model_selection import KFold\n",
        "from tqdm.notebook import tqdm"
      ],
      "metadata": {
        "id": "jPcyIYWUesvO"
      },
      "execution_count": null,
      "outputs": []
    },
    {
      "cell_type": "code",
      "source": [
        "def RForest_score(X_train, y_train, max_trees):\n",
        "  values = np.arange(max_trees) + 1\n",
        "\n",
        "  kf = KFold(n_splits=5, shuffle=True, random_state=1234)\n",
        "\n",
        "  global_scores = []\n",
        "\n",
        "  for train_indices, val_indices in tqdm(kf.split(X_train), total=5):\n",
        "      scores = []\n",
        "      \n",
        "      X_train_kf = X_train.iloc[train_indices, :]\n",
        "      y_train_kf = y_train.iloc[train_indices, :]\n",
        "      \n",
        "      X_val_kf = X_train.iloc[val_indices, :]\n",
        "      y_val_kf = y_train.iloc[val_indices, :]\n",
        "      \n",
        "      forest = RandomForestClassifier(n_estimators=max_trees)\n",
        "      forest.fit(X_train_kf, y_train_kf)\n",
        "      trees = forest.estimators_\n",
        "      \n",
        "      for number_of_trees in tqdm(values, leave=False):\n",
        "          thinned_forest = RandomForestClassifier(n_estimators=number_of_trees)\n",
        "          \n",
        "          thinned_forest.n_classes_ = 2\n",
        "          thinned_forest.estimators_ = trees[:number_of_trees]\n",
        "\n",
        "          scores.append(roc_auc_score(y_val_kf, thinned_forest.predict_proba(X_val_kf)[:, 1]))\n",
        "      \n",
        "      scores = np.array(scores)\n",
        "      \n",
        "      global_scores.append(scores)\n",
        "\n",
        "  global_scores = np.stack(global_scores, axis=0)\n",
        "  return global_scores"
      ],
      "metadata": {
        "id": "sF_i62HbcSI-"
      },
      "execution_count": null,
      "outputs": []
    },
    {
      "cell_type": "markdown",
      "source": [
        "# Рисую график"
      ],
      "metadata": {
        "id": "eQhIBfo-fe9z"
      }
    },
    {
      "cell_type": "code",
      "source": [
        "def scores_plot(global_scores, max_trees):\n",
        "  mean_cross_val_score = global_scores.mean(axis=0)\n",
        "  std_cross_val_score = global_scores.std(axis=0)\n",
        "\n",
        "  values = np.arange(max_trees) + 1\n",
        "\n",
        "  plt.figure(figsize=(15,8))\n",
        "  plt.grid(True)\n",
        "  plt.title('Quality of random forest')\n",
        "\n",
        "  plt.plot(values, mean_cross_val_score, label='mean values', color='red', lw=3)\n",
        "  plt.fill_between(values, \n",
        "                  mean_cross_val_score - 2 * std_cross_val_score, \n",
        "                  mean_cross_val_score + 2 * std_cross_val_score, \n",
        "                  color='green', \n",
        "                  label='filled area between errors',\n",
        "                  alpha=0.5)\n",
        "  legend_box = plt.legend(framealpha=1).get_frame()\n",
        "  legend_box.set_facecolor(\"white\")\n",
        "  legend_box.set_edgecolor(\"black\")\n",
        "  plt.xlabel('number of trees')\n",
        "  plt.ylabel('roc-auc')\n",
        "\n",
        "  plt.show()"
      ],
      "metadata": {
        "id": "Odd_nBKPfd-8"
      },
      "execution_count": null,
      "outputs": []
    },
    {
      "cell_type": "code",
      "source": [
        "score = RForest_score(X_train, y_train, 100)"
      ],
      "metadata": {
        "id": "xOMEeBjZjDDM"
      },
      "execution_count": null,
      "outputs": []
    },
    {
      "cell_type": "code",
      "source": [
        "scores_plot(score, 100)"
      ],
      "metadata": {
        "colab": {
          "base_uri": "https://localhost:8080/",
          "height": 513
        },
        "id": "k03px7sflETz",
        "outputId": "ecc215ab-c405-4fd3-a479-483330496a5c"
      },
      "execution_count": null,
      "outputs": [
        {
          "output_type": "display_data",
          "data": {
            "text/plain": [
              "<Figure size 1080x576 with 1 Axes>"
            ],
            "image/png": "[encoded data removed]"
          },
          "metadata": {
            "needs_background": "light"
          }
        }
      ]
    },
    {
      "cell_type": "markdown",
      "source": [
        "Попробую снова воспользоваться скэйлером и посмотреть результат"
      ],
      "metadata": {
        "id": "HFM-lKsBlheG"
      }
    },
    {
      "cell_type": "code",
      "source": [
        "X_train_scaled = X_train.copy()"
      ],
      "metadata": {
        "id": "02FPRdfQlgPJ"
      },
      "execution_count": null,
      "outputs": []
    },
    {
      "cell_type": "code",
      "source": [
        "X_train_scaled[num_cols] = StandardScaler().fit_transform(X_train_scaled[num_cols])"
      ],
      "metadata": {
        "id": "fUTS_Y-2l1SR"
      },
      "execution_count": null,
      "outputs": []
    },
    {
      "cell_type": "code",
      "source": [
        "max_trees = 150\n",
        "score = RForest_score(X_train_scaled, y_train, max_trees)"
      ],
      "metadata": {
        "id": "q9BwSsWNma3f"
      },
      "execution_count": null,
      "outputs": []
    },
    {
      "cell_type": "code",
      "source": [
        "scores_plot(score, max_trees)"
      ],
      "metadata": {
        "colab": {
          "base_uri": "https://localhost:8080/",
          "height": 513
        },
        "id": "MlJeYzbqmzSD",
        "outputId": "c9de64cf-078b-4a6b-e5c1-b988337db5a3"
      },
      "execution_count": null,
      "outputs": [
        {
          "output_type": "display_data",
          "data": {
            "text/plain": [
              "<Figure size 1080x576 with 1 Axes>"
            ],
            "image/png": "[encoded data removed]"
          },
          "metadata": {
            "needs_background": "light"
          }
        }
      ]
    },
    {
      "cell_type": "markdown",
      "source": [
        "как и ожидалось, нормировка признаков никак не повлияла на качество случайного леса"
      ],
      "metadata": {
        "id": "ffKrNFVum_uk"
      }
    },
    {
      "cell_type": "markdown",
      "source": [
        "# Обучим случайный лес со 100 деревьями и посмотрим на качество"
      ],
      "metadata": {
        "id": "TdIy7T3EnJRh"
      }
    },
    {
      "cell_type": "code",
      "source": [
        "my_forest = RandomForestClassifier(n_estimators=100)\n",
        "my_forest.fit(X_train, y_train)"
      ],
      "metadata": {
        "id": "Odo7KV2UnIWo"
      },
      "execution_count": null,
      "outputs": []
    },
    {
      "cell_type": "code",
      "source": [
        "print(roc_auc_score(y_test, my_forest.predict_proba(X_test)[:, 1]))"
      ],
      "metadata": {
        "colab": {
          "base_uri": "https://localhost:8080/"
        },
        "id": "RocMdpsonauO",
        "outputId": "5efcf11c-3cf5-4559-fb63-3f72a08eb038"
      },
      "execution_count": null,
      "outputs": [
        {
          "output_type": "stream",
          "name": "stdout",
          "text": [
            "0.798650001228109\n"
          ]
        }
      ]
    },
    {
      "cell_type": "markdown",
      "source": [
        "качество оказалось весьма небольшим, возможно, потому что обучил случайный лес на разреженной таблице данных после OneHotEncoding"
      ],
      "metadata": {
        "id": "GeYPskP7n1JF"
      }
    },
    {
      "cell_type": "markdown",
      "source": [
        "# Пробую CatBoost"
      ],
      "metadata": {
        "id": "gzexyv7ooUcA"
      }
    },
    {
      "cell_type": "code",
      "source": [
        "!pip install catboost"
      ],
      "metadata": {
        "id": "DefhY5zKrMT-"
      },
      "execution_count": null,
      "outputs": []
    },
    {
      "cell_type": "code",
      "source": [
        "import catboost"
      ],
      "metadata": {
        "id": "w-SCg6qpoT2K"
      },
      "execution_count": 36,
      "outputs": []
    },
    {
      "cell_type": "code",
      "source": [
        "from catboost import CatBoostClassifier"
      ],
      "metadata": {
        "id": "7CIGDUa3bqjU"
      },
      "execution_count": 35,
      "outputs": []
    },
    {
      "cell_type": "code",
      "source": [
        "X_origin, y_origin = X, y"
      ],
      "metadata": {
        "id": "oTb2uzI8rZMc"
      },
      "execution_count": null,
      "outputs": []
    },
    {
      "cell_type": "code",
      "source": [
        "X_train_origin, X_test_origin, y_train_origin, y_test_origin = train_test_split(X_origin, y_origin, test_size=0.2, random_state=42)"
      ],
      "metadata": {
        "id": "wZNmQgI4rT8y"
      },
      "execution_count": null,
      "outputs": []
    },
    {
      "cell_type": "code",
      "source": [
        "categorical_indicies = np.arange(3, X_origin.shape[1])"
      ],
      "metadata": {
        "id": "qtzcugiqsNz-"
      },
      "execution_count": null,
      "outputs": []
    },
    {
      "cell_type": "code",
      "source": [
        "cat_boost_model = CatBoostClassifier(n_estimators=200, cat_features=categorical_indicies)"
      ],
      "metadata": {
        "id": "GKiS39fwrohg"
      },
      "execution_count": 37,
      "outputs": []
    },
    {
      "cell_type": "code",
      "source": [
        "cat_boost_model.fit(X_train_origin, y_train_origin)"
      ],
      "metadata": {
        "id": "9adhV9eXspx-"
      },
      "execution_count": null,
      "outputs": []
    },
    {
      "cell_type": "code",
      "source": [
        "y_pred = cat_boost_model.predict_proba(X_test_origin)[:, 1]\n",
        "print('test_score', roc_auc_score(y_test_origin, y_pred))"
      ],
      "metadata": {
        "colab": {
          "base_uri": "https://localhost:8080/"
        },
        "id": "QjlyU_jRs2XT",
        "outputId": "c36e2072-9676-42d4-a12e-1551ad55aad6"
      },
      "execution_count": null,
      "outputs": [
        {
          "output_type": "stream",
          "name": "stdout",
          "text": [
            "test_score 0.8228013224850159\n"
          ]
        }
      ]
    },
    {
      "cell_type": "markdown",
      "source": [
        "в целом очень неплохой скор на тесте (сразу из коробки)"
      ],
      "metadata": {
        "id": "0G1GuqvQt8eG"
      }
    },
    {
      "cell_type": "markdown",
      "source": [
        "в самом конце ноутбука подберу лучшие гиперпараметры для CatBoost "
      ],
      "metadata": {
        "id": "vhUKzjhcsR7U"
      }
    },
    {
      "cell_type": "markdown",
      "source": [
        "# Стекинг Моделей"
      ],
      "metadata": {
        "id": "cU2qcVT8uRep"
      }
    },
    {
      "cell_type": "markdown",
      "source": [
        "попробую объединить все модели, что я подобрал выше, то есть:\n",
        "\n",
        "LogReg, KNN, SVM, RForest"
      ],
      "metadata": {
        "id": "ioLyY2GCuUrA"
      }
    },
    {
      "cell_type": "code",
      "source": [
        "from sklearn.model_selection import cross_val_predict"
      ],
      "metadata": {
        "id": "4dqgBp_ZxUs4"
      },
      "execution_count": null,
      "outputs": []
    },
    {
      "cell_type": "code",
      "source": [
        "def compute_meta_feature(model, X_train, X_test, y_train, cv):\n",
        "    try:\n",
        "        train_answers = cross_val_predict(model, X_train, y_train, cv=cv, method='predict_proba')[:, 1]\n",
        "        model.fit(X_train, y_train)\n",
        "        return train_answers, model.predict_proba(X_test)[:, 1]\n",
        "    \n",
        "    except Exception:\n",
        "        train_answers = cross_val_predict(model, X_train, y_train, cv=cv, method='predict')[:, 1]\n",
        "        model.fit(X_train, y_train)\n",
        "        return train_answers, model.predict(X_test)[:, 1]"
      ],
      "metadata": {
        "id": "x7_R1frruhBc"
      },
      "execution_count": null,
      "outputs": []
    },
    {
      "cell_type": "markdown",
      "source": [
        "обязательно надо не забыть нормировать признаки через Standard Scaler\n",
        "\n",
        "именно на нем Knn дал хороший результат"
      ],
      "metadata": {
        "id": "sd-_upi12Rf7"
      }
    },
    {
      "cell_type": "code",
      "source": [
        "models = []\n",
        "models.append(KNeighborsClassifier(metric='euclidean', n_neighbors=64, weights='uniform'))\n",
        "models.append(LogisticRegression(C=100, penalty='l2'))\n",
        "models.append(SVC(C=0.1, degree= 1, kernel='linear', probability=True))\n",
        "models.append(RandomForestClassifier(n_estimators=100, n_jobs=-1))"
      ],
      "metadata": {
        "id": "WNa9EY7sxSQ6"
      },
      "execution_count": null,
      "outputs": []
    },
    {
      "cell_type": "code",
      "source": [
        "meta_features_train = np.zeros((X_new_train.shape[0], 0))\n",
        "meta_features_test = np.zeros((X_new_test.shape[0], 0))"
      ],
      "metadata": {
        "id": "yoDLdS5R6M9a"
      },
      "execution_count": null,
      "outputs": []
    },
    {
      "cell_type": "code",
      "source": [
        "for model in models:\n",
        "    train, test = compute_meta_feature(model, X_new_train_scaled, X_new_test_scaled, y_new_train, 5)\n",
        "    meta_features_train = np.append(meta_features_train, train.reshape((train.size, 1)), axis=1)\n",
        "    meta_features_test = np.append(meta_features_test, test.reshape((test.size, 1)), axis=1)"
      ],
      "metadata": {
        "id": "I87g7wU56Ub-"
      },
      "execution_count": null,
      "outputs": []
    },
    {
      "cell_type": "code",
      "source": [
        "data.shape, meta_features_train.shape, y_new_train.shape"
      ],
      "metadata": {
        "colab": {
          "base_uri": "https://localhost:8080/"
        },
        "id": "U9AFAqDc72bd",
        "outputId": "ac292ecc-27cc-49af-a789-5804f886b79e"
      },
      "execution_count": null,
      "outputs": [
        {
          "output_type": "execute_result",
          "data": {
            "text/plain": [
              "((5282, 20), (4225, 9), (4225,))"
            ]
          },
          "metadata": {},
          "execution_count": 311
        }
      ]
    },
    {
      "cell_type": "code",
      "source": [
        "stacking_model = LogisticRegression()\n",
        "stacking_model.fit(meta_features_train, y_new_train)\n",
        "\n",
        "y_train_predicted = stacking_model.predict_proba(meta_features_train)[:, 1]\n",
        "y_test_predicted = stacking_model.predict_proba(meta_features_test)[:, 1]"
      ],
      "metadata": {
        "id": "UTY0przd7r4P"
      },
      "execution_count": null,
      "outputs": []
    },
    {
      "cell_type": "code",
      "source": [
        "test_auc = roc_auc_score(y_new_test, y_test_predicted)"
      ],
      "metadata": {
        "id": "WyBQROSe8Pp9"
      },
      "execution_count": null,
      "outputs": []
    },
    {
      "cell_type": "code",
      "source": [
        "print(test_auc)"
      ],
      "metadata": {
        "colab": {
          "base_uri": "https://localhost:8080/"
        },
        "id": "b3EotbCA8Z6s",
        "outputId": "c2b14d42-194a-4808-cc40-7f95c8de79b3"
      },
      "execution_count": null,
      "outputs": [
        {
          "output_type": "stream",
          "name": "stdout",
          "text": [
            "0.8264977235156675\n"
          ]
        }
      ]
    },
    {
      "cell_type": "markdown",
      "source": [
        "Пока нет видимого результата"
      ],
      "metadata": {
        "id": "XbQAaFEF9ZsK"
      }
    },
    {
      "cell_type": "markdown",
      "metadata": {
        "id": "BlTeVy7fEEZR"
      },
      "source": [
        "## Пробую настроить XGBoost"
      ]
    },
    {
      "cell_type": "markdown",
      "source": [
        "в этом препроцессинге не удалаяю одинаковые колонки после OneHotEncoding"
      ],
      "metadata": {
        "id": "OMmfV9BDGo8q"
      }
    },
    {
      "cell_type": "code",
      "source": [
        "def my_preprocess2(data):\n",
        "  new_data = data.copy(deep=True)\n",
        "  new_data[num_cols[2]] = new_data[num_cols[2]].apply(lambda x: str_to_float(x))\n",
        "\n",
        "  cat_data = pd.get_dummies(data[cat_cols])\n",
        "  new_data = pd.concat([new_data, cat_data], axis=1)\n",
        "  new_data.drop(cat_cols, axis=1, inplace=True)\n",
        "\n",
        "  return new_data"
      ],
      "metadata": {
        "id": "SRURnzazMyVY"
      },
      "execution_count": 79,
      "outputs": []
    },
    {
      "cell_type": "code",
      "source": [
        "import xgboost"
      ],
      "metadata": {
        "id": "-5aWG6pwGOS4"
      },
      "execution_count": null,
      "outputs": []
    },
    {
      "cell_type": "code",
      "source": [
        "def auc_boost_plot(X_train, X_test, y_train, y_test):\n",
        "  score = []\n",
        "  for i in range(1, 100, 3):\n",
        "    my_boost = xgboost.XGBClassifier(n_estimators=i)\n",
        "    my_boost.fit(X_train, y_train)\n",
        "    score += [roc_auc_score(y_test, my_boost.predict_proba(X_test)[:, 1])]\n",
        "\n",
        "  max_score = np.max(np.array(score))\n",
        "  print(max_score, np.arange(1, 100, 3)[np.where(np.array(score) == max_score)])\n",
        "\n",
        "  plt.plot(np.arange(1, 100, 3), score)"
      ],
      "metadata": {
        "id": "qlhCAhYyGhuC"
      },
      "execution_count": null,
      "outputs": []
    },
    {
      "cell_type": "code",
      "source": [
        "auc_boost_plot(X_new_train, X_new_test, y_train, y_test)"
      ],
      "metadata": {
        "colab": {
          "base_uri": "https://localhost:8080/",
          "height": 282
        },
        "id": "XA06Uwy0Khfr",
        "outputId": "0db31659-36bb-44e5-9f9f-13ca79bedf75"
      },
      "execution_count": null,
      "outputs": [
        {
          "output_type": "stream",
          "name": "stdout",
          "text": [
            "0.827670597796474 [40]\n"
          ]
        },
        {
          "output_type": "display_data",
          "data": {
            "text/plain": [
              "<Figure size 432x288 with 1 Axes>"
            ],
            "image/png": "[encoded data removed]"
          },
          "metadata": {
            "needs_background": "light"
          }
        }
      ]
    },
    {
      "cell_type": "code",
      "source": [
        "def auc_grid(X, y, min_tree_cnt, max_tree_cnt, step, lr):\n",
        "  my_boost = xgboost.XGBClassifier()\n",
        "  grid = {'n_estimators': np.arange(min_tree_cnt, max_tree_cnt, step), 'learning_rate': [lr]}\n",
        "  my_grid = GridSearchCV(my_boost, grid, scoring='roc_auc', cv=5, n_jobs=-1)\n",
        "\n",
        "  my_grid.fit(X, y)\n",
        "  print(my_grid.best_params_, my_grid.best_score_)\n",
        "\n",
        "  plt.plot(np.arange(min_tree_cnt, max_tree_cnt, step), my_grid.cv_results_['mean_test_score'])\n",
        "\n",
        "  return my_grid.best_estimator_"
      ],
      "metadata": {
        "id": "aXfkgt_kQ6EL"
      },
      "execution_count": null,
      "outputs": []
    },
    {
      "cell_type": "markdown",
      "source": [
        "нормализация сделала даже чуть хуже (это нормально для деревьев)"
      ],
      "metadata": {
        "id": "RXvnzb4UcuHx"
      }
    },
    {
      "cell_type": "code",
      "source": [
        "data1 = my_preprocess2(data)\n",
        "X1 = data1.loc[:, data1.columns != 'Churn']\n",
        "y1 = data1['Churn']"
      ],
      "metadata": {
        "id": "_0T59eLlNE-m"
      },
      "execution_count": null,
      "outputs": []
    },
    {
      "cell_type": "code",
      "source": [
        "X_tr, X_te, y_tr, y_te = train_test_split(X1, y1, test_size=0.2, random_state=42)"
      ],
      "metadata": {
        "id": "75oCBjt0IW2e"
      },
      "execution_count": null,
      "outputs": []
    },
    {
      "cell_type": "markdown",
      "source": [
        "попробую маленький шаг градиентного бустинга"
      ],
      "metadata": {
        "id": "xHDi-iBffEVP"
      }
    },
    {
      "cell_type": "code",
      "source": [
        "#auc_grid(X, y, min_tree_cnt, max_tree_cnt, step, lr)\n",
        "my_boost = auc_grid(X_tr, y_tr, 1, 500, 30, 0.01)"
      ],
      "metadata": {
        "colab": {
          "base_uri": "https://localhost:8080/",
          "height": 282
        },
        "id": "UzGKA8HzR36E",
        "outputId": "5b9e65cb-50eb-4d61-829b-c638e849d9d2"
      },
      "execution_count": null,
      "outputs": [
        {
          "output_type": "stream",
          "name": "stdout",
          "text": [
            "{'learning_rate': 0.01, 'n_estimators': 421} 0.8506575750258702\n"
          ]
        },
        {
          "output_type": "display_data",
          "data": {
            "text/plain": [
              "<Figure size 432x288 with 1 Axes>"
            ],
            "image/png": "[encoded data removed]"
          },
          "metadata": {
            "needs_background": "light"
          }
        }
      ]
    },
    {
      "cell_type": "code",
      "source": [
        "#X_te[num_cols] = my_scaler.transform(X_te[num_cols])\n",
        "roc_auc_score(y_te, my_boost.predict_proba(X_te)[:, 1])"
      ],
      "metadata": {
        "colab": {
          "base_uri": "https://localhost:8080/"
        },
        "id": "1wuqWduESd4c",
        "outputId": "03d4366e-eed2-465c-c204-c5e94eccc061"
      },
      "execution_count": null,
      "outputs": [
        {
          "output_type": "execute_result",
          "data": {
            "text/plain": [
              "0.8264423121323223"
            ]
          },
          "metadata": {},
          "execution_count": 389
        }
      ]
    },
    {
      "cell_type": "markdown",
      "source": [
        "пробую шаг ещё поменьше (не дало результата)"
      ],
      "metadata": {
        "id": "fCx_zrTJfLq8"
      }
    },
    {
      "cell_type": "code",
      "source": [
        "#auc_grid(X, y, min_tree_cnt, max_tree_cnt, step, lr)\n",
        "my_boost = auc_grid(X_tr, y_tr, 940, 1200, 20, 0.001)"
      ],
      "metadata": {
        "colab": {
          "base_uri": "https://localhost:8080/",
          "height": 282
        },
        "id": "FnluZJ8jfSI-",
        "outputId": "ab5722ef-6f38-497a-d306-3a147ed34855"
      },
      "execution_count": null,
      "outputs": [
        {
          "output_type": "stream",
          "name": "stdout",
          "text": [
            "{'learning_rate': 0.001, 'n_estimators': 1180} 0.8452192912152112\n"
          ]
        },
        {
          "output_type": "display_data",
          "data": {
            "text/plain": [
              "<Figure size 432x288 with 1 Axes>"
            ],
            "image/png": "[encoded data removed]"
          },
          "metadata": {
            "needs_background": "light"
          }
        }
      ]
    },
    {
      "cell_type": "code",
      "source": [
        "roc_auc_score(y_te, my_boost.predict_proba(X_te)[:, 1])"
      ],
      "metadata": {
        "colab": {
          "base_uri": "https://localhost:8080/"
        },
        "id": "FgfUm-eRfT3X",
        "outputId": "4716e2c7-73c6-4f22-b94a-9ae96135e8b2"
      },
      "execution_count": null,
      "outputs": [
        {
          "output_type": "execute_result",
          "data": {
            "text/plain": [
              "0.8162720144808415"
            ]
          },
          "metadata": {},
          "execution_count": 532
        }
      ]
    },
    {
      "cell_type": "markdown",
      "source": [
        "# Пробую залить решение на кэгл\n",
        "\n",
        "по этогу лучший мой результат - градиентный бустинг с обычным шагом (примерно 22 дерева)\n",
        "\n",
        "На кросс валидации - 0.85, на тесте  - 0.827\n",
        "\n",
        "данные - ван хот енкодинг (не убираю одинаковый столбцы после OHE)\n",
        "\n",
        "данные не нормализую "
      ],
      "metadata": {
        "id": "0Be8DzDiiBgy"
      }
    },
    {
      "cell_type": "code",
      "source": [
        "#auc_grid(X, y, min_tree_cnt, max_tree_cnt, step, lr)\n",
        "my_boost = auc_grid(X_tr, y_tr, 1, 100, 3, 0.2)"
      ],
      "metadata": {
        "colab": {
          "base_uri": "https://localhost:8080/",
          "height": 282
        },
        "id": "MmPuniWaiA_g",
        "outputId": "5e4846df-2d2e-4c64-f43f-69de44911092"
      },
      "execution_count": null,
      "outputs": [
        {
          "output_type": "stream",
          "name": "stdout",
          "text": [
            "{'learning_rate': 0.2, 'n_estimators': 22} 0.8498411281264374\n"
          ]
        },
        {
          "output_type": "display_data",
          "data": {
            "text/plain": [
              "<Figure size 432x288 with 1 Axes>"
            ],
            "image/png": "[encoded data removed]"
          },
          "metadata": {
            "needs_background": "light"
          }
        }
      ]
    },
    {
      "cell_type": "code",
      "source": [
        "roc_auc_score(y_te, my_boost.predict_proba(X_te)[:, 1])"
      ],
      "metadata": {
        "colab": {
          "base_uri": "https://localhost:8080/"
        },
        "id": "CZ6D5CO_i2zw",
        "outputId": "5f52633b-6119-48d6-8d42-0fcf2064886d"
      },
      "execution_count": null,
      "outputs": [
        {
          "output_type": "execute_result",
          "data": {
            "text/plain": [
              "0.8244844432541257"
            ]
          },
          "metadata": {},
          "execution_count": 538
        }
      ]
    },
    {
      "cell_type": "markdown",
      "source": [
        "# загружаю kaggle_test"
      ],
      "metadata": {
        "id": "rcs0rC0cj52B"
      }
    },
    {
      "cell_type": "code",
      "source": [
        "files.upload()"
      ],
      "metadata": {
        "id": "VNG5qv9nj9aa"
      },
      "execution_count": null,
      "outputs": []
    },
    {
      "cell_type": "code",
      "source": [
        "!ls"
      ],
      "metadata": {
        "colab": {
          "base_uri": "https://localhost:8080/"
        },
        "id": "3gl40HkpkDRk",
        "outputId": "2d186e74-1d74-4487-df3a-c5686e04e592"
      },
      "execution_count": null,
      "outputs": [
        {
          "output_type": "stream",
          "name": "stdout",
          "text": [
            "sample_data  test.csv  train.csv\n"
          ]
        }
      ]
    },
    {
      "cell_type": "code",
      "source": [
        "best_boost = xgboost.XGBClassifier(n_estimators=22, learning_rate=0.2)"
      ],
      "metadata": {
        "id": "aXQiXhlAnzjH"
      },
      "execution_count": null,
      "outputs": []
    },
    {
      "cell_type": "code",
      "source": [
        "best_boost.fit(X1, y1)"
      ],
      "metadata": {
        "colab": {
          "base_uri": "https://localhost:8080/"
        },
        "id": "9PeW9IB0pP3e",
        "outputId": "0ae30a0c-240f-4a7b-f105-3352ea644607"
      },
      "execution_count": null,
      "outputs": [
        {
          "output_type": "execute_result",
          "data": {
            "text/plain": [
              "XGBClassifier(learning_rate=0.2, n_estimators=22)"
            ]
          },
          "metadata": {},
          "execution_count": 89
        }
      ]
    },
    {
      "cell_type": "code",
      "source": [
        "data_test = pd.read_csv('test.csv')"
      ],
      "metadata": {
        "id": "QfFLrO1ckE3L"
      },
      "execution_count": 77,
      "outputs": []
    },
    {
      "cell_type": "code",
      "source": [
        "def submit(best_model, kaggle_test, my_preprocess, filename):\n",
        "  kaggle_preprocessed = my_preprocess(kaggle_test)\n",
        "  kaggle_pred = best_model.predict_proba(kaggle_preprocessed)[:, 1]\n",
        "  kagle_submit = pd.DataFrame({'Id': np.arange(kaggle_test.shape[0]), \n",
        "                             'Churn': kaggle_pred})\n",
        "  kagle_submit.to_csv(filename, index=False)"
      ],
      "metadata": {
        "id": "P_nL230RoDLF"
      },
      "execution_count": 75,
      "outputs": []
    },
    {
      "cell_type": "code",
      "source": [
        "submit(best_boost, data_test, my_preprocess2, 'grad_boost2.csv')"
      ],
      "metadata": {
        "id": "-qVYMvRdo_BH"
      },
      "execution_count": null,
      "outputs": []
    },
    {
      "cell_type": "markdown",
      "source": [
        "# Попробую сделать сабмит для Лог. регрессии\n",
        "\n",
        "лучший результат - OHE с удалёнными одинаковыми столбцами\n",
        "\n",
        "данные не нормализую\n",
        "\n",
        "на тесте - 0.8491, на отложенной 0.8271"
      ],
      "metadata": {
        "id": "1zj4tGIoxNpQ"
      }
    },
    {
      "cell_type": "markdown",
      "source": [
        "X_new - полная обучающая выборка с препроцессингом"
      ],
      "metadata": {
        "id": "bVwH9hCiA91a"
      }
    },
    {
      "cell_type": "code",
      "source": [
        "best_LogReg = LogisticRegression(C=10, penalty='l2')"
      ],
      "metadata": {
        "id": "chDcXe6wxUTK"
      },
      "execution_count": null,
      "outputs": []
    },
    {
      "cell_type": "code",
      "source": [
        "best_LogReg.fit(X_new, y.values)"
      ],
      "metadata": {
        "id": "ScbTG9Dzy2O4"
      },
      "execution_count": null,
      "outputs": []
    },
    {
      "cell_type": "code",
      "source": [
        "submit(best_LogReg, data_test, my_preprocess, 'log_reg_sumbit.csv')"
      ],
      "metadata": {
        "id": "2H1R0AGdyoVV"
      },
      "execution_count": null,
      "outputs": []
    },
    {
      "cell_type": "markdown",
      "source": [
        "# Сабмит для stacking model:"
      ],
      "metadata": {
        "id": "NB9JtGYG90Fp"
      }
    },
    {
      "cell_type": "markdown",
      "source": [
        "**получаю метапризнаки из полной обучающей выборки X_new**\n",
        "\n",
        "надо не забыть нормировать её"
      ],
      "metadata": {
        "id": "VNBED2BsBjws"
      }
    },
    {
      "cell_type": "code",
      "source": [
        "def compute_all_meta_feature(model, X_train, X_test, y_train, cv):\n",
        "    train_answers = cross_val_predict(model, X_train, y_train, cv=cv, method='predict_proba')[:, 1]\n",
        "    model.fit(X_train, y_train)\n",
        "    return train_answers, model.predict_proba(X_test)[:, 1]"
      ],
      "metadata": {
        "id": "DJQ0eAua9zqK"
      },
      "execution_count": null,
      "outputs": []
    },
    {
      "cell_type": "markdown",
      "source": [
        "нормирую полную обучающую выборку (и kagle_test тоже)"
      ],
      "metadata": {
        "id": "um5zy0ujF_sv"
      }
    },
    {
      "cell_type": "code",
      "source": [
        "scaler = StandardScaler()\n",
        "scaler.fit(X_new[num_cols])"
      ],
      "metadata": {
        "colab": {
          "base_uri": "https://localhost:8080/"
        },
        "id": "5HbHEtCbGGzo",
        "outputId": "25e52f2e-a9c1-4ff6-b036-02a90ab4a2be"
      },
      "execution_count": null,
      "outputs": [
        {
          "output_type": "execute_result",
          "data": {
            "text/plain": [
              "StandardScaler()"
            ]
          },
          "metadata": {},
          "execution_count": 416
        }
      ]
    },
    {
      "cell_type": "code",
      "source": [
        "X_new_scaled = X_new.copy()\n",
        "X_new_scaled[num_cols] = scaler.transform(X_new[num_cols])"
      ],
      "metadata": {
        "id": "tvImI18iGSWU"
      },
      "execution_count": null,
      "outputs": []
    },
    {
      "cell_type": "code",
      "source": [
        "all_meta_features_train = np.zeros((X_new.shape[0], 0))\n",
        "\n",
        "meta_features_test = np.zeros((data_test.shape[0], 0))"
      ],
      "metadata": {
        "id": "Wr5yZSzSEsrq"
      },
      "execution_count": null,
      "outputs": []
    },
    {
      "cell_type": "markdown",
      "source": [
        "нормирую тестовую выборку с кэгла"
      ],
      "metadata": {
        "id": "5Boh-KolP90_"
      }
    },
    {
      "cell_type": "code",
      "source": [
        "data_test_scaled = data_test.copy()\n",
        "data_test_scaled = my_preprocess(data_test)\n",
        "data_test_scaled[num_cols] = scaler.transform(data_test_scaled[num_cols])"
      ],
      "metadata": {
        "id": "0vInI-eqKaz2"
      },
      "execution_count": null,
      "outputs": []
    },
    {
      "cell_type": "code",
      "source": [
        "for model in models:\n",
        "    train, test = compute_all_meta_feature(model, X_new_scaled, data_test_scaled, y_new, 5)\n",
        "    all_meta_features_train = np.append(all_meta_features_train, train.reshape((train.size, 1)), axis=1)\n",
        "    meta_features_test = np.append(meta_features_test, test.reshape((test.size, 1)), axis=1)"
      ],
      "metadata": {
        "id": "RP2O5WxgE0If"
      },
      "execution_count": null,
      "outputs": []
    },
    {
      "cell_type": "code",
      "source": [
        "all_meta_features_train.shape"
      ],
      "metadata": {
        "colab": {
          "base_uri": "https://localhost:8080/"
        },
        "id": "tAQk7spZGygK",
        "outputId": "870752e9-1fbd-4950-fcf1-860d2a791c03"
      },
      "execution_count": null,
      "outputs": [
        {
          "output_type": "execute_result",
          "data": {
            "text/plain": [
              "(5282, 4)"
            ]
          },
          "metadata": {},
          "execution_count": 423
        }
      ]
    },
    {
      "cell_type": "code",
      "source": [
        "final_stacking_model = LogisticRegression()"
      ],
      "metadata": {
        "id": "uOftI0tQHNUW"
      },
      "execution_count": null,
      "outputs": []
    },
    {
      "cell_type": "code",
      "source": [
        "final_stacking_model.fit(all_meta_features_train, y_new)"
      ],
      "metadata": {
        "colab": {
          "base_uri": "https://localhost:8080/"
        },
        "id": "4dgIKAQ3HabN",
        "outputId": "7048afab-10e6-4018-85d7-012251992c3e"
      },
      "execution_count": null,
      "outputs": [
        {
          "output_type": "execute_result",
          "data": {
            "text/plain": [
              "LogisticRegression()"
            ]
          },
          "metadata": {},
          "execution_count": 425
        }
      ]
    },
    {
      "cell_type": "markdown",
      "source": [
        "не забывают нормировать kaggle test обученным скейлером"
      ],
      "metadata": {
        "id": "OHQYFbpJHktH"
      }
    },
    {
      "cell_type": "code",
      "source": [
        "def stacking_submit(best_model, data_test, my_preprocess, filename, fitted_scal, num_cols):\n",
        "  kaggle_pred = best_model.predict_proba(data_test)[:, 1]\n",
        "  kagle_submit = pd.DataFrame({'Id': np.arange(data_test.shape[0]), \n",
        "                             'Churn': kaggle_pred})\n",
        "  kagle_submit.to_csv(filename, index=False)"
      ],
      "metadata": {
        "id": "OWCp2uV_IJS0"
      },
      "execution_count": null,
      "outputs": []
    },
    {
      "cell_type": "code",
      "source": [
        "stacking_submit(final_stacking_model, meta_features_test, my_preprocess, 'stacking_submit.csv', scaler, num_cols)"
      ],
      "metadata": {
        "id": "3BM_DH7HIvsC"
      },
      "execution_count": null,
      "outputs": []
    },
    {
      "cell_type": "markdown",
      "source": [
        "Ура! Стэкинг моделей дал результат! \n",
        "\n",
        "Если обычная ЛогРегрессия дала на кэгле 0.84, то стэкинг ЛогРегрессии, KNN, SVM, RForest дал 0.847"
      ],
      "metadata": {
        "id": "63rizl9NNERp"
      }
    },
    {
      "cell_type": "code",
      "source": [
        "from IPython.display import Image\n",
        "Image('kaggle_result_stacking.jpg')"
      ],
      "metadata": {
        "colab": {
          "base_uri": "https://localhost:8080/",
          "height": 222
        },
        "id": "YL3EEBhnMe1n",
        "outputId": "df15c083-04c7-4888-d39e-636ce5d1455f"
      },
      "execution_count": null,
      "outputs": [
        {
          "output_type": "execute_result",
          "data": {
            "image/jpeg": "[encoded data removed]",
            "text/plain": [
              "<IPython.core.display.Image object>"
            ]
          },
          "metadata": {},
          "execution_count": 430
        }
      ]
    },
    {
      "cell_type": "markdown",
      "metadata": {
        "id": "dDMXbvNZEEZV"
      },
      "source": [
        "# Результат XGBoost"
      ]
    },
    {
      "cell_type": "code",
      "execution_count": null,
      "metadata": {
        "id": "G_P4wFNaEEZW"
      },
      "outputs": [],
      "source": [
        "best_model = xgboost.XGBClassifier(n_estimators=22, learning_rate=0.2)"
      ]
    },
    {
      "cell_type": "code",
      "source": [
        "Image('kaggle_best_result.jpg')"
      ],
      "metadata": {
        "colab": {
          "base_uri": "https://localhost:8080/",
          "height": 168
        },
        "id": "dKjeyTtMO8yx",
        "outputId": "d78d666d-fac3-4547-accc-55d0c5c38cce"
      },
      "execution_count": null,
      "outputs": [
        {
          "output_type": "execute_result",
          "data": {
            "image/jpeg": "[encoded data removed]",
            "text/plain": [
              "<IPython.core.display.Image object>"
            ]
          },
          "metadata": {},
          "execution_count": 431
        }
      ]
    },
    {
      "cell_type": "markdown",
      "source": [
        "# Напоследок более детально поработаю с CatBoost'ом:"
      ],
      "metadata": {
        "id": "xjAiiwt_nspW"
      }
    },
    {
      "cell_type": "code",
      "source": [
        "from sklearn.metrics import roc_curve"
      ],
      "metadata": {
        "id": "YPDpvUUKn_Nw"
      },
      "execution_count": 41,
      "outputs": []
    },
    {
      "cell_type": "code",
      "source": [
        "from catboost import Pool\n",
        "from catboost import cv"
      ],
      "metadata": {
        "id": "5QUE2geMn3ki"
      },
      "execution_count": 38,
      "outputs": []
    },
    {
      "cell_type": "code",
      "source": [
        "def print_cv_summary(cv_data):\n",
        "    cv_data.head(10)\n",
        "\n",
        "    best_value = cv_data['test-AUC-mean'].max()\n",
        "    best_iter = cv_data['test-AUC-mean'].values.argmax()\n",
        "\n",
        "    print('Best validation AUC score : {:.4f}±{:.4f} on step {}'.format(\n",
        "        best_value,\n",
        "        cv_data['test-AUC-mean'][best_iter],\n",
        "        best_iter)\n",
        "    )"
      ],
      "metadata": {
        "id": "s6HRTmPdnsRs"
      },
      "execution_count": 39,
      "outputs": []
    },
    {
      "cell_type": "code",
      "source": [
        "def boosting(data, cat_features):\n",
        "    # признаки и целевой признак\n",
        "    features = data.drop('Churn', axis=1)\n",
        "    target = data['Churn']\n",
        "    \n",
        "    # разделение на выборки\n",
        "    features_train, features_valid, target_train, target_valid = train_test_split(\n",
        "    features, target, test_size=0.25, random_state=12345) \n",
        "    \n",
        "    # масштабирование\n",
        "    scaler = StandardScaler()\n",
        "    scaler.fit(features_train[num_cols]) \n",
        "    features_train[num_cols] = scaler.transform(features_train[num_cols])\n",
        "    features_valid[num_cols] = scaler.transform(features_valid[num_cols])\n",
        "    \n",
        "    # Pool\n",
        "    train_pool = Pool(data=features_train, label=target_train, cat_features=cat_features, has_header=True)\n",
        "    \n",
        "    # Создание модели для подбора гиперпараметров\n",
        "    model = CatBoostClassifier(\n",
        "    eval_metric='AUC',\n",
        "    iterations=100,\n",
        "    random_seed=63,\n",
        "    class_weights=(1,3))\n",
        "    \n",
        "    # Подбор гиперпараметров\n",
        "    grid = {\n",
        "    'learning_rate': [0.03, 0.1, 0.5],\n",
        "    'depth':[4, 6, 10, 12],\n",
        "    'l2_leaf_reg': [5, 7, 9, 11, 13]\n",
        "    }\n",
        "    grid_search_results = model.grid_search(grid, train_pool, shuffle=False, verbose=3, plot=True)\n",
        "    \n",
        "    #Кросс-валидация:\n",
        "    \n",
        "        #Параметры:\n",
        "    params = {\n",
        "    'depth': grid_search_results['params']['depth'],\n",
        "    'l2_leaf_reg': grid_search_results['params']['l2_leaf_reg'],\n",
        "    'learning_rate': grid_search_results['params']['learning_rate'],\n",
        "    'loss_function': 'Logloss',\n",
        "    'iterations': 100,\n",
        "    'custom_loss': 'AUC'\n",
        "    }\n",
        "        #Сама кросс-валидация:\n",
        "    cv_data = cv(\n",
        "    params = params,\n",
        "    pool = train_pool,\n",
        "    fold_count=5,\n",
        "    shuffle=True,\n",
        "    partition_random_seed=20,\n",
        "    plot=True,\n",
        "    stratified=False,\n",
        "    verbose=False\n",
        "    )    \n",
        "    \n",
        "    print_cv_summary(cv_data)\n",
        "    \n",
        "    # Сама модель\n",
        "    model = CatBoostClassifier(\n",
        "    depth =grid_search_results['params']['depth'],\n",
        "    l2_leaf_reg=grid_search_results['params']['l2_leaf_reg'],\n",
        "    learning_rate=grid_search_results['params']['learning_rate'],\n",
        "    loss_function='Logloss',\n",
        "    eval_metric='AUC',\n",
        "    iterations=100,\n",
        "    random_seed=63,\n",
        "    class_weights=(1,3))\n",
        "    \n",
        "    # Обучение\n",
        "    model.fit(features_train, target_train, cat_features=cat_features, verbose=10)\n",
        "    \n",
        "    # Расчеты\n",
        "    pred_valid = model.predict_proba(features_valid)\n",
        "    probabilities_one_valid = pred_valid[:, 1]\n",
        "    roc_auc = roc_auc_score(target_valid, probabilities_one_valid)\n",
        "    fpr, tpr, thresholds = roc_curve(target_valid, probabilities_one_valid)\n",
        "    \n",
        "    #График\n",
        "    plt.figure(figsize=(16, 8))\n",
        "    plt.plot([0, 1], [0, 1], linestyle='--')\n",
        "    plt.plot(fpr, tpr)\n",
        "    plt.xlim([0.0, 1.0])\n",
        "    plt.ylim([0.0, 1.0])\n",
        "    plt.xlabel('False Positive Rate')\n",
        "    plt.ylabel('True Positive Rate')\n",
        "    plt.title('ROC-кривая')\n",
        "    plt.show()\n",
        "    \n",
        "    return roc_auc, model"
      ],
      "metadata": {
        "id": "TEHMaZWOn2ax"
      },
      "execution_count": 43,
      "outputs": []
    },
    {
      "cell_type": "code",
      "source": [
        "auc, model = boosting(data, cat_cols)"
      ],
      "metadata": {
        "id": "PGowryrvoF1w"
      },
      "execution_count": null,
      "outputs": []
    },
    {
      "cell_type": "markdown",
      "source": [
        "отличный результат!"
      ],
      "metadata": {
        "id": "74r9BCm5phTL"
      }
    },
    {
      "cell_type": "code",
      "source": [
        "auc"
      ],
      "metadata": {
        "colab": {
          "base_uri": "https://localhost:8080/"
        },
        "id": "pajc5sG5pVRj",
        "outputId": "86230d29-fae3-4cd7-eec0-bc3c9c5c470f"
      },
      "execution_count": 48,
      "outputs": [
        {
          "output_type": "execute_result",
          "data": {
            "text/plain": [
              "0.843585868127716"
            ]
          },
          "metadata": {},
          "execution_count": 48
        }
      ]
    },
    {
      "cell_type": "code",
      "source": [
        "cat_imp = pd.Series(model.get_feature_importance(),\n",
        "                         data.drop(['Churn'], axis=1).columns)\n",
        "fig, ax = plt.subplots(figsize=(10,7))\n",
        "cat_imp.plot.bar(ax=ax)\n",
        "ax.set_title(\"Важность признаков\")\n",
        "ax.set_ylabel('Важность, %')\n",
        "fig.tight_layout()"
      ],
      "metadata": {
        "colab": {
          "base_uri": "https://localhost:8080/",
          "height": 513
        },
        "id": "Zp-Xna_Epaeb",
        "outputId": "004324be-3e70-412d-dd67-29bfffc0429a"
      },
      "execution_count": 51,
      "outputs": [
        {
          "output_type": "display_data",
          "data": {
            "text/plain": [
              "<Figure size 720x504 with 1 Axes>"
            ],
            "image/png": "[encoded data removed]"
          },
          "metadata": {
            "needs_background": "light"
          }
        }
      ]
    },
    {
      "cell_type": "markdown",
      "source": [
        "# Попробую обучить модель без наименее важный признаков"
      ],
      "metadata": {
        "id": "OxdZ8Mjqpq9p"
      }
    },
    {
      "cell_type": "code",
      "source": [
        "data_new = data.drop(['Sex', 'IsSeniorCitizen', 'HasPartner', 'HasChild', 'HasDeviceProtection','HasPhoneService'], axis=1)"
      ],
      "metadata": {
        "id": "fjfXNlYmpqof"
      },
      "execution_count": 54,
      "outputs": []
    },
    {
      "cell_type": "code",
      "source": [
        "cat_cols_new = ['HasMultiplePhoneNumbers',\n",
        " 'HasInternetService',\n",
        " 'HasOnlineSecurityService',\n",
        " 'HasOnlineBackup',\n",
        " 'HasTechSupportAccess',\n",
        " 'HasOnlineTV',\n",
        " 'HasMovieSubscription',\n",
        " 'HasContractPhone',\n",
        " 'IsBillingPaperless',\n",
        " 'PaymentMethod']"
      ],
      "metadata": {
        "id": "vMBXpz7cqaac"
      },
      "execution_count": 64,
      "outputs": []
    },
    {
      "cell_type": "code",
      "source": [
        "auc_new, model_new = boosting(data_new, cat_cols_new)"
      ],
      "metadata": {
        "id": "jzgpHcxYqNhw"
      },
      "execution_count": null,
      "outputs": []
    },
    {
      "cell_type": "code",
      "source": [
        "auc_new"
      ],
      "metadata": {
        "colab": {
          "base_uri": "https://localhost:8080/"
        },
        "id": "EAABkDUlqUBG",
        "outputId": "536450fe-6cfb-4ca8-df0e-539a880b68ed"
      },
      "execution_count": 67,
      "outputs": [
        {
          "output_type": "execute_result",
          "data": {
            "text/plain": [
              "0.8424397002330122"
            ]
          },
          "metadata": {},
          "execution_count": 67
        }
      ]
    },
    {
      "cell_type": "code",
      "source": [
        "model_new.get_params()"
      ],
      "metadata": {
        "colab": {
          "base_uri": "https://localhost:8080/"
        },
        "id": "9Q5GO_llrzVm",
        "outputId": "5c371774-8d1e-40f2-aa63-e4aa675de0b2"
      },
      "execution_count": 74,
      "outputs": [
        {
          "output_type": "execute_result",
          "data": {
            "text/plain": [
              "{'iterations': 100,\n",
              " 'learning_rate': 0.5,\n",
              " 'depth': 4,\n",
              " 'l2_leaf_reg': 11,\n",
              " 'loss_function': 'Logloss',\n",
              " 'random_seed': 63,\n",
              " 'class_weights': (1, 3),\n",
              " 'eval_metric': 'AUC'}"
            ]
          },
          "metadata": {},
          "execution_count": 74
        }
      ]
    }
  ],
  "metadata": {
    "colab": {
      "collapsed_sections": [],
      "provenance": []
    },
    "kernelspec": {
      "display_name": "Python 3 (ipykernel)",
      "language": "python",
      "name": "python3"
    },
    "language_info": {
      "codemirror_mode": {
        "name": "ipython",
        "version": 3
      },
      "file_extension": ".py",
      "mimetype": "text/x-python",
      "name": "python",
      "nbconvert_exporter": "python",
      "pygments_lexer": "ipython3",
      "version": "3.9.12"
    }
  },
  "nbformat": 4,
  "nbformat_minor": 0
}